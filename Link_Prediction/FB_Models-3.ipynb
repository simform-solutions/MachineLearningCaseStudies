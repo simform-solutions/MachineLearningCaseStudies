{
 "cells": [
  {
   "cell_type": "markdown",
   "metadata": {
    "colab_type": "text",
    "id": "naWvqMEMHglO"
   },
   "source": [
    "<p style=\"font-size:32px;text-align:center\"> <b>Social network Graph Link Prediction - Facebook Challenge</b> </p>"
   ]
  },
  {
   "cell_type": "code",
   "execution_count": 95,
   "metadata": {
    "colab": {},
    "colab_type": "code",
    "id": "9wb9N5RzHglP"
   },
   "outputs": [],
   "source": [
    "#Importing Libraries\n",
    "# please do go through this python notebook: \n",
    "import warnings\n",
    "warnings.filterwarnings(\"ignore\")\n",
    "\n",
    "import csv\n",
    "import pandas as pd#pandas to create small dataframes \n",
    "import datetime #Convert to unix time\n",
    "import time #Convert to unix time\n",
    "# if numpy is not installed already : pip3 install numpy\n",
    "import numpy as np#Do aritmetic operations on arrays\n",
    "# matplotlib: used to plot graphs\n",
    "import matplotlib\n",
    "import matplotlib.pylab as plt\n",
    "import seaborn as sns#Plots\n",
    "from matplotlib import rcParams#Size of plots  \n",
    "from sklearn.cluster import MiniBatchKMeans, KMeans#Clustering\n",
    "import math\n",
    "import pickle\n",
    "import os\n",
    "# to install xgboost: pip3 install xgboost\n",
    "import xgboost as xgb\n",
    "\n",
    "import warnings\n",
    "import networkx as nx\n",
    "import pdb\n",
    "import pickle\n",
    "from pandas import HDFStore,DataFrame\n",
    "from pandas import read_hdf\n",
    "from scipy.sparse.linalg import svds, eigs\n",
    "import gc\n",
    "from tqdm import tqdm\n",
    "from sklearn.ensemble import RandomForestClassifier\n",
    "from sklearn.metrics import f1_score\n",
    "import pickle\n",
    "def savefile(obj,filename):\n",
    "    pickle.dump(obj,open(filename+\".p\",\"wb\"))\n",
    "def openfile(filename):\n",
    "    temp = pickle.load(open(filename+\".p\",\"rb\"))\n",
    "    return temp"
   ]
  },
  {
   "cell_type": "code",
   "execution_count": 0,
   "metadata": {
    "colab": {},
    "colab_type": "code",
    "id": "XC4OJFKkHglU"
   },
   "outputs": [],
   "source": [
    "#reading\n",
    "from pandas import read_hdf\n",
    "df_final_train = read_hdf('data/fea_sample/storage_sample_stage4.h5', 'train_df',mode='r')\n",
    "df_final_test = read_hdf('data/fea_sample/storage_sample_stage4.h5', 'test_df',mode='r')"
   ]
  },
  {
   "cell_type": "code",
   "execution_count": 0,
   "metadata": {
    "colab": {},
    "colab_type": "code",
    "id": "5Gm-BHRkHglW",
    "outputId": "d2c2294c-113e-4fdb-d3e5-dc167dcf5fbc"
   },
   "outputs": [
    {
     "data": {
      "text/plain": [
       "Index(['source_node', 'destination_node', 'indicator_link',\n",
       "       'jaccard_followers', 'jaccard_followees', 'cosine_followers',\n",
       "       'cosine_followees', 'num_followers_s', 'num_followees_s',\n",
       "       'num_followees_d', 'inter_followers', 'inter_followees', 'adar_index',\n",
       "       'follows_back', 'same_comp', 'shortest_path', 'weight_in', 'weight_out',\n",
       "       'weight_f1', 'weight_f2', 'weight_f3', 'weight_f4', 'page_rank_s',\n",
       "       'page_rank_d', 'katz_s', 'katz_d', 'hubs_s', 'hubs_d', 'authorities_s',\n",
       "       'authorities_d', 'svd_u_s_1', 'svd_u_s_2', 'svd_u_s_3', 'svd_u_s_4',\n",
       "       'svd_u_s_5', 'svd_u_s_6', 'svd_u_d_1', 'svd_u_d_2', 'svd_u_d_3',\n",
       "       'svd_u_d_4', 'svd_u_d_5', 'svd_u_d_6', 'svd_v_s_1', 'svd_v_s_2',\n",
       "       'svd_v_s_3', 'svd_v_s_4', 'svd_v_s_5', 'svd_v_s_6', 'svd_v_d_1',\n",
       "       'svd_v_d_2', 'svd_v_d_3', 'svd_v_d_4', 'svd_v_d_5', 'svd_v_d_6'],\n",
       "      dtype='object')"
      ]
     },
     "execution_count": 3,
     "metadata": {
      "tags": []
     },
     "output_type": "execute_result"
    }
   ],
   "source": [
    "df_final_train.columns"
   ]
  },
  {
   "cell_type": "code",
   "execution_count": 0,
   "metadata": {
    "colab": {},
    "colab_type": "code",
    "id": "XRW7VZ4AHglc"
   },
   "outputs": [],
   "source": [
    "y_train = df_final_train.indicator_link\n",
    "y_test = df_final_test.indicator_link"
   ]
  },
  {
   "cell_type": "code",
   "execution_count": 0,
   "metadata": {
    "colab": {},
    "colab_type": "code",
    "id": "4lj9M_qtHglf"
   },
   "outputs": [],
   "source": [
    "df_final_train.drop(['source_node', 'destination_node','indicator_link'],axis=1,inplace=True)\n",
    "df_final_test.drop(['source_node', 'destination_node','indicator_link'],axis=1,inplace=True)"
   ]
  },
  {
   "cell_type": "code",
   "execution_count": 0,
   "metadata": {
    "colab": {},
    "colab_type": "code",
    "id": "lIEc91uVHgli",
    "outputId": "31f04b72-ebe5-4b13-ccca-a5ae3bc4f09c"
   },
   "outputs": [
    {
     "name": "stdout",
     "output_type": "stream",
     "text": [
      "Estimators =  10 Train Score 0.9063252121775113 test Score 0.8745605278006858\n",
      "Estimators =  50 Train Score 0.9205725512208812 test Score 0.9125653355634538\n",
      "Estimators =  100 Train Score 0.9238690848446947 test Score 0.9141199714153599\n",
      "Estimators =  250 Train Score 0.9239789348046863 test Score 0.9188007232664732\n",
      "Estimators =  450 Train Score 0.9237190618658074 test Score 0.9161507685828595\n"
     ]
    },
    {
     "data": {
      "text/plain": [
       "Text(0.5,1,'Estimators vs score at depth of 5')"
      ]
     },
     "execution_count": 6,
     "metadata": {
      "tags": []
     },
     "output_type": "execute_result"
    },
    {
     "data": {
      "image/png": "[encoded data removed]",
      "text/plain": [
       "<Figure size 432x288 with 1 Axes>"
      ]
     },
     "metadata": {
      "tags": []
     },
     "output_type": "display_data"
    }
   ],
   "source": [
    "estimators = [10,50,100,250,450]\n",
    "train_scores = []\n",
    "test_scores = []\n",
    "for i in estimators:\n",
    "    clf = RandomForestClassifier(bootstrap=True, class_weight=None, criterion='gini',\n",
    "            max_depth=5, max_features='auto', max_leaf_nodes=None,\n",
    "            min_impurity_decrease=0.0, min_impurity_split=None,\n",
    "            min_samples_leaf=52, min_samples_split=120,\n",
    "            min_weight_fraction_leaf=0.0, n_estimators=i, n_jobs=-1,random_state=25,verbose=0,warm_start=False)\n",
    "    clf.fit(df_final_train,y_train)\n",
    "    train_sc = f1_score(y_train,clf.predict(df_final_train))\n",
    "    test_sc = f1_score(y_test,clf.predict(df_final_test))\n",
    "    test_scores.append(test_sc)\n",
    "    train_scores.append(train_sc)\n",
    "    print('Estimators = ',i,'Train Score',train_sc,'test Score',test_sc)\n",
    "plt.plot(estimators,train_scores,label='Train Score')\n",
    "plt.plot(estimators,test_scores,label='Test Score')\n",
    "plt.xlabel('Estimators')\n",
    "plt.ylabel('Score')\n",
    "plt.title('Estimators vs score at depth of 5')"
   ]
  },
  {
   "cell_type": "code",
   "execution_count": 0,
   "metadata": {
    "colab": {},
    "colab_type": "code",
    "id": "nZxhrTdQHglm",
    "outputId": "53382b8e-148d-4c22-8066-d9807fb27012"
   },
   "outputs": [
    {
     "name": "stdout",
     "output_type": "stream",
     "text": [
      "depth =  3 Train Score 0.8916120853581238 test Score 0.8687934859875491\n",
      "depth =  9 Train Score 0.9572226298198419 test Score 0.9222953031452904\n",
      "depth =  11 Train Score 0.9623451340902863 test Score 0.9252318758281279\n",
      "depth =  15 Train Score 0.9634267621927706 test Score 0.9231288356496615\n",
      "depth =  20 Train Score 0.9631629153051491 test Score 0.9235051024711141\n",
      "depth =  35 Train Score 0.9634333127085721 test Score 0.9235601652753184\n",
      "depth =  50 Train Score 0.9634333127085721 test Score 0.9235601652753184\n",
      "depth =  70 Train Score 0.9634333127085721 test Score 0.9235601652753184\n",
      "depth =  130 Train Score 0.9634333127085721 test Score 0.9235601652753184\n"
     ]
    },
    {
     "data": {
      "image/png": "[encoded data removed]",
      "text/plain": [
       "<Figure size 432x288 with 1 Axes>"
      ]
     },
     "metadata": {
      "tags": []
     },
     "output_type": "display_data"
    }
   ],
   "source": [
    "depths = [3,9,11,15,20,35,50,70,130]\n",
    "train_scores = []\n",
    "test_scores = []\n",
    "for i in depths:\n",
    "    clf = RandomForestClassifier(bootstrap=True, class_weight=None, criterion='gini',\n",
    "            max_depth=i, max_features='auto', max_leaf_nodes=None,\n",
    "            min_impurity_decrease=0.0, min_impurity_split=None,\n",
    "            min_samples_leaf=52, min_samples_split=120,\n",
    "            min_weight_fraction_leaf=0.0, n_estimators=115, n_jobs=-1,random_state=25,verbose=0,warm_start=False)\n",
    "    clf.fit(df_final_train,y_train)\n",
    "    train_sc = f1_score(y_train,clf.predict(df_final_train))\n",
    "    test_sc = f1_score(y_test,clf.predict(df_final_test))\n",
    "    test_scores.append(test_sc)\n",
    "    train_scores.append(train_sc)\n",
    "    print('depth = ',i,'Train Score',train_sc,'test Score',test_sc)\n",
    "plt.plot(depths,train_scores,label='Train Score')\n",
    "plt.plot(depths,test_scores,label='Test Score')\n",
    "plt.xlabel('Depth')\n",
    "plt.ylabel('Score')\n",
    "plt.title('Depth vs score at depth of 5 at estimators = 115')\n",
    "plt.show()"
   ]
  },
  {
   "cell_type": "code",
   "execution_count": 0,
   "metadata": {
    "colab": {},
    "colab_type": "code",
    "id": "MrG1Lfl3Hglq",
    "outputId": "7b6e3c97-8d66-455d-cd79-213f824719cc"
   },
   "outputs": [
    {
     "name": "stdout",
     "output_type": "stream",
     "text": [
      "mean test scores [0.96225043 0.96215493 0.96057081 0.96194015 0.96330005]\n",
      "mean train scores [0.96294922 0.96266735 0.96115674 0.96263457 0.96430539]\n"
     ]
    }
   ],
   "source": [
    "from sklearn.metrics import f1_score\n",
    "from sklearn.ensemble import RandomForestClassifier\n",
    "from sklearn.metrics import f1_score\n",
    "from sklearn.model_selection import RandomizedSearchCV\n",
    "from scipy.stats import randint as sp_randint\n",
    "from scipy.stats import uniform\n",
    "\n",
    "param_dist = {\"n_estimators\":sp_randint(105,125),\n",
    "              \"max_depth\": sp_randint(10,15),\n",
    "              \"min_samples_split\": sp_randint(110,190),\n",
    "              \"min_samples_leaf\": sp_randint(25,65)}\n",
    "\n",
    "clf = RandomForestClassifier(random_state=25,n_jobs=-1)\n",
    "\n",
    "rf_random = RandomizedSearchCV(clf, param_distributions=param_dist,\n",
    "                                   n_iter=5,cv=10,scoring='f1',random_state=25)\n",
    "\n",
    "rf_random.fit(df_final_train,y_train)\n",
    "print('mean test scores',rf_random.cv_results_['mean_test_score'])\n",
    "print('mean train scores',rf_random.cv_results_['mean_train_score'])"
   ]
  },
  {
   "cell_type": "code",
   "execution_count": 0,
   "metadata": {
    "colab": {},
    "colab_type": "code",
    "id": "hme3j_diHglu",
    "outputId": "581ccc02-7770-4a94-d003-257af4e81570"
   },
   "outputs": [
    {
     "name": "stdout",
     "output_type": "stream",
     "text": [
      "RandomForestClassifier(bootstrap=True, class_weight=None, criterion='gini',\n",
      "            max_depth=14, max_features='auto', max_leaf_nodes=None,\n",
      "            min_impurity_decrease=0.0, min_impurity_split=None,\n",
      "            min_samples_leaf=28, min_samples_split=111,\n",
      "            min_weight_fraction_leaf=0.0, n_estimators=121, n_jobs=-1,\n",
      "            oob_score=False, random_state=25, verbose=0, warm_start=False)\n"
     ]
    }
   ],
   "source": [
    "print(rf_random.best_estimator_)"
   ]
  },
  {
   "cell_type": "code",
   "execution_count": 70,
   "metadata": {
    "colab": {},
    "colab_type": "code",
    "id": "qu4KIEweHglx"
   },
   "outputs": [],
   "source": [
    "clf = RandomForestClassifier(bootstrap=True, class_weight=None, criterion='gini',\n",
    "            max_depth=14, max_features='auto', max_leaf_nodes=None,\n",
    "            min_impurity_decrease=0.0, min_impurity_split=None,\n",
    "            min_samples_leaf=28, min_samples_split=111,\n",
    "            min_weight_fraction_leaf=0.0, n_estimators=121, n_jobs=-1,\n",
    "            oob_score=False, random_state=25, verbose=0, warm_start=False)"
   ]
  },
  {
   "cell_type": "code",
   "execution_count": 0,
   "metadata": {
    "colab": {},
    "colab_type": "code",
    "id": "Dax83GfLHgl1"
   },
   "outputs": [],
   "source": [
    "clf.fit(df_final_train,y_train)\n",
    "y_train_pred = clf.predict(df_final_train)\n",
    "y_test_pred = clf.predict(df_final_test)"
   ]
  },
  {
   "cell_type": "code",
   "execution_count": 0,
   "metadata": {
    "colab": {},
    "colab_type": "code",
    "id": "PTtAp1iTHgl4",
    "outputId": "e2e3d725-3c4d-4374-d303-8f294b570977"
   },
   "outputs": [
    {
     "name": "stdout",
     "output_type": "stream",
     "text": [
      "Train f1 score 0.9652533106548414\n",
      "Test f1 score 0.9241678239279553\n"
     ]
    }
   ],
   "source": [
    "from sklearn.metrics import f1_score\n",
    "print('Train f1 score',f1_score(y_train,y_train_pred))\n",
    "print('Test f1 score',f1_score(y_test,y_test_pred))"
   ]
  },
  {
   "cell_type": "code",
   "execution_count": 79,
   "metadata": {
    "colab": {},
    "colab_type": "code",
    "id": "5XfUkZYQHgl7"
   },
   "outputs": [],
   "source": [
    "from sklearn.metrics import confusion_matrix\n",
    "def plot_confusion_matrix(test_y, predict_y):\n",
    "    C = confusion_matrix(test_y, predict_y)\n",
    "    \n",
    "    A =(((C.T)/(C.sum(axis=1))).T)\n",
    "    \n",
    "    B =(C/C.sum(axis=0))\n",
    "    plt.figure(figsize=(20,4))\n",
    "    \n",
    "    labels = [0,1]\n",
    "    # representing A in heatmap format\n",
    "    cmap=sns.light_palette(\"blue\")\n",
    "    plt.subplot(1, 3, 1)\n",
    "    sns.heatmap(C, annot=True, cmap=cmap, fmt=\".3f\", xticklabels=labels, yticklabels=labels)\n",
    "    plt.xlabel('Predicted Class')\n",
    "    plt.ylabel('Original Class')\n",
    "    plt.title(\"Confusion matrix\")\n",
    "    \n",
    "    plt.subplot(1, 3, 2)\n",
    "    sns.heatmap(B, annot=True, cmap=cmap, fmt=\".3f\", xticklabels=labels, yticklabels=labels)\n",
    "    plt.xlabel('Predicted Class')\n",
    "    plt.ylabel('Original Class')\n",
    "    plt.title(\"Precision matrix\")\n",
    "    \n",
    "    plt.subplot(1, 3, 3)\n",
    "    # representing B in heatmap format\n",
    "    sns.heatmap(A, annot=True, cmap=cmap, fmt=\".3f\", xticklabels=labels, yticklabels=labels)\n",
    "    plt.xlabel('Predicted Class')\n",
    "    plt.ylabel('Original Class')\n",
    "    plt.title(\"Recall matrix\")\n",
    "    \n",
    "    plt.show()"
   ]
  },
  {
   "cell_type": "code",
   "execution_count": 0,
   "metadata": {
    "colab": {},
    "colab_type": "code",
    "id": "s6t11dhTHgl-",
    "outputId": "189de3be-1c99-4653-f56f-12b18b0f4db7"
   },
   "outputs": [
    {
     "name": "stdout",
     "output_type": "stream",
     "text": [
      "Train confusion_matrix\n"
     ]
    },
    {
     "data": {
      "image/png": "[encoded data removed]",
      "text/plain": [
       "<Figure size 1440x288 with 6 Axes>"
      ]
     },
     "metadata": {
      "tags": []
     },
     "output_type": "display_data"
    },
    {
     "name": "stdout",
     "output_type": "stream",
     "text": [
      "Test confusion_matrix\n"
     ]
    },
    {
     "data": {
      "image/png": "[encoded data removed]",
      "text/plain": [
       "<Figure size 1440x288 with 6 Axes>"
      ]
     },
     "metadata": {
      "tags": []
     },
     "output_type": "display_data"
    }
   ],
   "source": [
    "print('Train confusion_matrix')\n",
    "plot_confusion_matrix(y_train,y_train_pred)\n",
    "print('Test confusion_matrix')\n",
    "plot_confusion_matrix(y_test,y_test_pred)"
   ]
  },
  {
   "cell_type": "code",
   "execution_count": 0,
   "metadata": {
    "colab": {},
    "colab_type": "code",
    "id": "61TF-VLeHgmD",
    "outputId": "795f1b39-61c7-470f-e2d0-1fe6dc7ac5fd"
   },
   "outputs": [
    {
     "data": {
      "image/png": "[encoded data removed]",
      "text/plain": [
       "<Figure size 432x288 with 1 Axes>"
      ]
     },
     "metadata": {
      "tags": []
     },
     "output_type": "display_data"
    }
   ],
   "source": [
    "from sklearn.metrics import roc_curve, auc\n",
    "fpr,tpr,ths = roc_curve(y_test,y_test_pred)\n",
    "auc_sc = auc(fpr, tpr)\n",
    "plt.plot(fpr, tpr, color='navy',label='ROC curve (area = %0.2f)' % auc_sc)\n",
    "plt.xlabel('False Positive Rate')\n",
    "plt.ylabel('True Positive Rate')\n",
    "plt.title('Receiver operating characteristic with test data')\n",
    "plt.legend()\n",
    "plt.show()"
   ]
  },
  {
   "cell_type": "code",
   "execution_count": 0,
   "metadata": {
    "colab": {},
    "colab_type": "code",
    "id": "HEZ7uvN6HgmK",
    "outputId": "6f762256-54fc-4e2f-865b-22342033eb2c",
    "scrolled": false
   },
   "outputs": [
    {
     "data": {
      "image/png": "[encoded data removed]",
      "text/plain": [
       "<Figure size 720x864 with 1 Axes>"
      ]
     },
     "metadata": {
      "tags": []
     },
     "output_type": "display_data"
    }
   ],
   "source": [
    "features = df_final_train.columns\n",
    "importances = clf.feature_importances_\n",
    "indices = (np.argsort(importances))[-25:]\n",
    "plt.figure(figsize=(10,12))\n",
    "plt.title('Feature Importances')\n",
    "plt.barh(range(len(indices)), importances[indices], color='r', align='center')\n",
    "plt.yticks(range(len(indices)), [features[i] for i in indices])\n",
    "plt.xlabel('Relative Importance')\n",
    "plt.show()"
   ]
  },
  {
   "cell_type": "markdown",
   "metadata": {},
   "source": [
    "### Following Embeddings :"
   ]
  },
  {
   "cell_type": "code",
   "execution_count": 42,
   "metadata": {},
   "outputs": [],
   "source": [
    "from pandas import read_hdf\n",
    "df_final_train = read_hdf('fea_sample/storage_sample_stage4.h5', 'train_df',mode='r')\n",
    "df_final_test = read_hdf('fea_sample/storage_sample_stage4.h5', 'test_df',mode='r')"
   ]
  },
  {
   "cell_type": "code",
   "execution_count": 45,
   "metadata": {},
   "outputs": [
    {
     "data": {
      "text/plain": [
       "(100002, 54)"
      ]
     },
     "execution_count": 45,
     "metadata": {},
     "output_type": "execute_result"
    }
   ],
   "source": [
    "df_final_train.shape"
   ]
  },
  {
   "cell_type": "code",
   "execution_count": 51,
   "metadata": {},
   "outputs": [
    {
     "data": {
      "text/html": [
       "<div>\n",
       "<style scoped>\n",
       "    .dataframe tbody tr th:only-of-type {\n",
       "        vertical-align: middle;\n",
       "    }\n",
       "\n",
       "    .dataframe tbody tr th {\n",
       "        vertical-align: top;\n",
       "    }\n",
       "\n",
       "    .dataframe thead th {\n",
       "        text-align: right;\n",
       "    }\n",
       "</style>\n",
       "<table border=\"1\" class=\"dataframe\">\n",
       "  <thead>\n",
       "    <tr style=\"text-align: right;\">\n",
       "      <th></th>\n",
       "      <th>source_node</th>\n",
       "      <th>destination_node</th>\n",
       "      <th>indicator_link</th>\n",
       "      <th>jaccard_followers</th>\n",
       "      <th>jaccard_followees</th>\n",
       "      <th>cosine_followers</th>\n",
       "      <th>cosine_followees</th>\n",
       "      <th>num_followers_s</th>\n",
       "      <th>num_followees_s</th>\n",
       "      <th>num_followees_d</th>\n",
       "      <th>...</th>\n",
       "      <th>svd_v_s_3</th>\n",
       "      <th>svd_v_s_4</th>\n",
       "      <th>svd_v_s_5</th>\n",
       "      <th>svd_v_s_6</th>\n",
       "      <th>svd_v_d_1</th>\n",
       "      <th>svd_v_d_2</th>\n",
       "      <th>svd_v_d_3</th>\n",
       "      <th>svd_v_d_4</th>\n",
       "      <th>svd_v_d_5</th>\n",
       "      <th>svd_v_d_6</th>\n",
       "    </tr>\n",
       "  </thead>\n",
       "  <tbody>\n",
       "    <tr>\n",
       "      <th>0</th>\n",
       "      <td>273084</td>\n",
       "      <td>1505602</td>\n",
       "      <td>1</td>\n",
       "      <td>0</td>\n",
       "      <td>0.000000</td>\n",
       "      <td>0.000000</td>\n",
       "      <td>0.000000</td>\n",
       "      <td>6</td>\n",
       "      <td>15</td>\n",
       "      <td>8</td>\n",
       "      <td>...</td>\n",
       "      <td>1.983691e-06</td>\n",
       "      <td>1.545075e-13</td>\n",
       "      <td>8.108434e-13</td>\n",
       "      <td>1.719702e-14</td>\n",
       "      <td>-1.355368e-12</td>\n",
       "      <td>4.675307e-13</td>\n",
       "      <td>1.128591e-06</td>\n",
       "      <td>6.616550e-14</td>\n",
       "      <td>9.771077e-13</td>\n",
       "      <td>4.159752e-14</td>\n",
       "    </tr>\n",
       "    <tr>\n",
       "      <th>1</th>\n",
       "      <td>832016</td>\n",
       "      <td>1543415</td>\n",
       "      <td>1</td>\n",
       "      <td>0</td>\n",
       "      <td>0.187135</td>\n",
       "      <td>0.028382</td>\n",
       "      <td>0.343828</td>\n",
       "      <td>94</td>\n",
       "      <td>61</td>\n",
       "      <td>142</td>\n",
       "      <td>...</td>\n",
       "      <td>-6.236048e-11</td>\n",
       "      <td>1.345726e-02</td>\n",
       "      <td>3.703479e-12</td>\n",
       "      <td>2.251737e-10</td>\n",
       "      <td>1.245101e-12</td>\n",
       "      <td>-1.636948e-10</td>\n",
       "      <td>-3.112650e-10</td>\n",
       "      <td>6.738902e-02</td>\n",
       "      <td>2.607801e-11</td>\n",
       "      <td>2.372904e-09</td>\n",
       "    </tr>\n",
       "    <tr>\n",
       "      <th>2</th>\n",
       "      <td>1325247</td>\n",
       "      <td>760242</td>\n",
       "      <td>1</td>\n",
       "      <td>0</td>\n",
       "      <td>0.369565</td>\n",
       "      <td>0.156957</td>\n",
       "      <td>0.566038</td>\n",
       "      <td>28</td>\n",
       "      <td>41</td>\n",
       "      <td>22</td>\n",
       "      <td>...</td>\n",
       "      <td>-2.380564e-19</td>\n",
       "      <td>-7.021227e-19</td>\n",
       "      <td>1.940403e-19</td>\n",
       "      <td>-3.365389e-19</td>\n",
       "      <td>-1.238370e-18</td>\n",
       "      <td>1.438175e-19</td>\n",
       "      <td>-1.852863e-19</td>\n",
       "      <td>-5.901864e-19</td>\n",
       "      <td>1.629341e-19</td>\n",
       "      <td>-2.572452e-19</td>\n",
       "    </tr>\n",
       "    <tr>\n",
       "      <th>3</th>\n",
       "      <td>1368400</td>\n",
       "      <td>1006992</td>\n",
       "      <td>1</td>\n",
       "      <td>0</td>\n",
       "      <td>0.000000</td>\n",
       "      <td>0.000000</td>\n",
       "      <td>0.000000</td>\n",
       "      <td>11</td>\n",
       "      <td>5</td>\n",
       "      <td>7</td>\n",
       "      <td>...</td>\n",
       "      <td>6.058498e-11</td>\n",
       "      <td>1.514614e-11</td>\n",
       "      <td>1.513483e-12</td>\n",
       "      <td>4.498061e-13</td>\n",
       "      <td>-9.818087e-10</td>\n",
       "      <td>3.454672e-11</td>\n",
       "      <td>5.213635e-08</td>\n",
       "      <td>9.595823e-13</td>\n",
       "      <td>3.047045e-10</td>\n",
       "      <td>1.246592e-13</td>\n",
       "    </tr>\n",
       "    <tr>\n",
       "      <th>4</th>\n",
       "      <td>140165</td>\n",
       "      <td>1708748</td>\n",
       "      <td>1</td>\n",
       "      <td>0</td>\n",
       "      <td>0.000000</td>\n",
       "      <td>0.000000</td>\n",
       "      <td>0.000000</td>\n",
       "      <td>1</td>\n",
       "      <td>11</td>\n",
       "      <td>3</td>\n",
       "      <td>...</td>\n",
       "      <td>1.197283e-07</td>\n",
       "      <td>1.999809e-14</td>\n",
       "      <td>3.360247e-13</td>\n",
       "      <td>1.407670e-14</td>\n",
       "      <td>0.000000e+00</td>\n",
       "      <td>0.000000e+00</td>\n",
       "      <td>0.000000e+00</td>\n",
       "      <td>0.000000e+00</td>\n",
       "      <td>0.000000e+00</td>\n",
       "      <td>0.000000e+00</td>\n",
       "    </tr>\n",
       "  </tbody>\n",
       "</table>\n",
       "<p>5 rows × 54 columns</p>\n",
       "</div>"
      ],
      "text/plain": [
       "   source_node  destination_node  indicator_link  jaccard_followers  \\\n",
       "0       273084           1505602               1                  0   \n",
       "1       832016           1543415               1                  0   \n",
       "2      1325247            760242               1                  0   \n",
       "3      1368400           1006992               1                  0   \n",
       "4       140165           1708748               1                  0   \n",
       "\n",
       "   jaccard_followees  cosine_followers  cosine_followees  num_followers_s  \\\n",
       "0           0.000000          0.000000          0.000000                6   \n",
       "1           0.187135          0.028382          0.343828               94   \n",
       "2           0.369565          0.156957          0.566038               28   \n",
       "3           0.000000          0.000000          0.000000               11   \n",
       "4           0.000000          0.000000          0.000000                1   \n",
       "\n",
       "   num_followees_s  num_followees_d      ...          svd_v_s_3     svd_v_s_4  \\\n",
       "0               15                8      ...       1.983691e-06  1.545075e-13   \n",
       "1               61              142      ...      -6.236048e-11  1.345726e-02   \n",
       "2               41               22      ...      -2.380564e-19 -7.021227e-19   \n",
       "3                5                7      ...       6.058498e-11  1.514614e-11   \n",
       "4               11                3      ...       1.197283e-07  1.999809e-14   \n",
       "\n",
       "      svd_v_s_5     svd_v_s_6     svd_v_d_1     svd_v_d_2     svd_v_d_3  \\\n",
       "0  8.108434e-13  1.719702e-14 -1.355368e-12  4.675307e-13  1.128591e-06   \n",
       "1  3.703479e-12  2.251737e-10  1.245101e-12 -1.636948e-10 -3.112650e-10   \n",
       "2  1.940403e-19 -3.365389e-19 -1.238370e-18  1.438175e-19 -1.852863e-19   \n",
       "3  1.513483e-12  4.498061e-13 -9.818087e-10  3.454672e-11  5.213635e-08   \n",
       "4  3.360247e-13  1.407670e-14  0.000000e+00  0.000000e+00  0.000000e+00   \n",
       "\n",
       "      svd_v_d_4     svd_v_d_5     svd_v_d_6  \n",
       "0  6.616550e-14  9.771077e-13  4.159752e-14  \n",
       "1  6.738902e-02  2.607801e-11  2.372904e-09  \n",
       "2 -5.901864e-19  1.629341e-19 -2.572452e-19  \n",
       "3  9.595823e-13  3.047045e-10  1.246592e-13  \n",
       "4  0.000000e+00  0.000000e+00  0.000000e+00  \n",
       "\n",
       "[5 rows x 54 columns]"
      ]
     },
     "execution_count": 51,
     "metadata": {},
     "output_type": "execute_result"
    }
   ],
   "source": [
    "df_final_train.head()"
   ]
  },
  {
   "cell_type": "markdown",
   "metadata": {},
   "source": [
    "## Loading of embedding in word2vec format :"
   ]
  },
  {
   "cell_type": "code",
   "execution_count": 52,
   "metadata": {},
   "outputs": [],
   "source": [
    "import node2vec\n",
    "from gensim.models import Word2Vec\n",
    "from gensim.models import KeyedVectors\n",
    "from gensim.test.utils import datapath\n",
    "from tqdm import tqdm"
   ]
  },
  {
   "cell_type": "code",
   "execution_count": 53,
   "metadata": {},
   "outputs": [],
   "source": [
    "model = KeyedVectors.load_word2vec_format('node2vec/emb/new_pos.emd')"
   ]
  },
  {
   "cell_type": "code",
   "execution_count": 54,
   "metadata": {},
   "outputs": [
    {
     "data": {
      "text/plain": [
       "[('1390118', 0.9838650226593018),\n",
       " ('1491709', 0.9837545156478882),\n",
       " ('513824', 0.9834704399108887),\n",
       " ('1722322', 0.9826036095619202),\n",
       " ('1825785', 0.9823707342147827),\n",
       " ('1088342', 0.9823421239852905),\n",
       " ('526117', 0.9822683334350586),\n",
       " ('1657740', 0.9822132587432861),\n",
       " ('1283924', 0.9821736216545105),\n",
       " ('125010', 0.9819611310958862)]"
      ]
     },
     "execution_count": 54,
     "metadata": {},
     "output_type": "execute_result"
    }
   ],
   "source": [
    "model.most_similar('273084')"
   ]
  },
  {
   "cell_type": "code",
   "execution_count": 55,
   "metadata": {},
   "outputs": [],
   "source": [
    "df_final_train = df_final_train[['source_node','destination_node','indicator_link']]\n",
    "df_final_test = df_final_test[['source_node','destination_node','indicator_link']]"
   ]
  },
  {
   "cell_type": "code",
   "execution_count": 56,
   "metadata": {},
   "outputs": [
    {
     "data": {
      "text/plain": [
       "array([ 273084, 1505602,       1])"
      ]
     },
     "execution_count": 56,
     "metadata": {},
     "output_type": "execute_result"
    }
   ],
   "source": [
    "df_final_train.values[0]"
   ]
  },
  {
   "cell_type": "markdown",
   "metadata": {},
   "source": [
    "## Creating edge embedding from node embeddings for train and test data :"
   ]
  },
  {
   "cell_type": "code",
   "execution_count": 57,
   "metadata": {},
   "outputs": [
    {
     "name": "stderr",
     "output_type": "stream",
     "text": [
      "100%|██████████| 100002/100002 [00:01<00:00, 75071.07it/s]\n"
     ]
    }
   ],
   "source": [
    "edge_vectors = []\n",
    "for i in tqdm(df_final_train.values) :\n",
    "    ver1 = i[0]\n",
    "    ver2 = i[1]\n",
    "    cnt = 0\n",
    "    vertex = [ver1,ver2]\n",
    "    edge_vec = np.zeros(128)\n",
    "    \n",
    "    for j in vertex :\n",
    "        try :\n",
    "            wvec = model.get_vector(str(j))\n",
    "            edge_vec += wvec\n",
    "            cnt +=1\n",
    "        except :\n",
    "            pass\n",
    "    edge_vec /=cnt\n",
    "    edge_vectors.append(edge_vec)\n",
    "            \n"
   ]
  },
  {
   "cell_type": "code",
   "execution_count": 58,
   "metadata": {},
   "outputs": [],
   "source": [
    "edge_vectors = np.array(edge_vectors)"
   ]
  },
  {
   "cell_type": "code",
   "execution_count": 59,
   "metadata": {},
   "outputs": [
    {
     "name": "stderr",
     "output_type": "stream",
     "text": [
      "100%|██████████| 50002/50002 [00:00<00:00, 75564.69it/s]\n"
     ]
    }
   ],
   "source": [
    "edge_vectors_test = []\n",
    "for i in tqdm(df_final_test.values) :\n",
    "    ver1 = i[0]\n",
    "    ver2 = i[1]\n",
    "    cnt = 0\n",
    "    vertex = [ver1,ver2]\n",
    "    edge_vec = np.zeros(128)\n",
    "    \n",
    "    for j in vertex :\n",
    "        try :\n",
    "            wvec = model.get_vector(str(j))\n",
    "            edge_vec += wvec\n",
    "            cnt +=1\n",
    "        except :\n",
    "            pass\n",
    "    edge_vec /=cnt\n",
    "    edge_vectors_test.append(edge_vec)"
   ]
  },
  {
   "cell_type": "code",
   "execution_count": 60,
   "metadata": {},
   "outputs": [],
   "source": [
    "edge_vectors_test = np.array(edge_vectors_test)"
   ]
  },
  {
   "cell_type": "code",
   "execution_count": 61,
   "metadata": {},
   "outputs": [
    {
     "data": {
      "text/html": [
       "<div>\n",
       "<style scoped>\n",
       "    .dataframe tbody tr th:only-of-type {\n",
       "        vertical-align: middle;\n",
       "    }\n",
       "\n",
       "    .dataframe tbody tr th {\n",
       "        vertical-align: top;\n",
       "    }\n",
       "\n",
       "    .dataframe thead th {\n",
       "        text-align: right;\n",
       "    }\n",
       "</style>\n",
       "<table border=\"1\" class=\"dataframe\">\n",
       "  <thead>\n",
       "    <tr style=\"text-align: right;\">\n",
       "      <th></th>\n",
       "      <th>3</th>\n",
       "      <th>4</th>\n",
       "      <th>5</th>\n",
       "      <th>6</th>\n",
       "      <th>7</th>\n",
       "      <th>8</th>\n",
       "      <th>9</th>\n",
       "      <th>10</th>\n",
       "      <th>11</th>\n",
       "      <th>12</th>\n",
       "      <th>...</th>\n",
       "      <th>121</th>\n",
       "      <th>122</th>\n",
       "      <th>123</th>\n",
       "      <th>124</th>\n",
       "      <th>125</th>\n",
       "      <th>126</th>\n",
       "      <th>127</th>\n",
       "      <th>128</th>\n",
       "      <th>129</th>\n",
       "      <th>130</th>\n",
       "    </tr>\n",
       "  </thead>\n",
       "  <tbody>\n",
       "    <tr>\n",
       "      <th>0</th>\n",
       "      <td>0.009304</td>\n",
       "      <td>0.013118</td>\n",
       "      <td>-0.018205</td>\n",
       "      <td>0.015060</td>\n",
       "      <td>-0.010961</td>\n",
       "      <td>0.031516</td>\n",
       "      <td>0.027247</td>\n",
       "      <td>-0.015310</td>\n",
       "      <td>0.021423</td>\n",
       "      <td>0.007341</td>\n",
       "      <td>...</td>\n",
       "      <td>-0.005579</td>\n",
       "      <td>-0.008659</td>\n",
       "      <td>-0.014272</td>\n",
       "      <td>0.014509</td>\n",
       "      <td>-0.001722</td>\n",
       "      <td>-0.010319</td>\n",
       "      <td>0.007635</td>\n",
       "      <td>-0.014597</td>\n",
       "      <td>0.003602</td>\n",
       "      <td>0.000186</td>\n",
       "    </tr>\n",
       "    <tr>\n",
       "      <th>1</th>\n",
       "      <td>0.014441</td>\n",
       "      <td>0.011100</td>\n",
       "      <td>-0.017075</td>\n",
       "      <td>0.016919</td>\n",
       "      <td>-0.007768</td>\n",
       "      <td>0.026488</td>\n",
       "      <td>0.022953</td>\n",
       "      <td>-0.017018</td>\n",
       "      <td>0.023200</td>\n",
       "      <td>0.015034</td>\n",
       "      <td>...</td>\n",
       "      <td>-0.001648</td>\n",
       "      <td>-0.007612</td>\n",
       "      <td>-0.012861</td>\n",
       "      <td>0.018484</td>\n",
       "      <td>0.000736</td>\n",
       "      <td>-0.013461</td>\n",
       "      <td>0.005466</td>\n",
       "      <td>-0.008630</td>\n",
       "      <td>0.005699</td>\n",
       "      <td>-0.004435</td>\n",
       "    </tr>\n",
       "    <tr>\n",
       "      <th>2</th>\n",
       "      <td>0.010821</td>\n",
       "      <td>0.001990</td>\n",
       "      <td>-0.007127</td>\n",
       "      <td>0.005882</td>\n",
       "      <td>-0.009277</td>\n",
       "      <td>0.025136</td>\n",
       "      <td>0.014601</td>\n",
       "      <td>-0.007524</td>\n",
       "      <td>0.010576</td>\n",
       "      <td>0.008099</td>\n",
       "      <td>...</td>\n",
       "      <td>-0.004804</td>\n",
       "      <td>-0.003567</td>\n",
       "      <td>-0.007878</td>\n",
       "      <td>0.003806</td>\n",
       "      <td>-0.002835</td>\n",
       "      <td>-0.009189</td>\n",
       "      <td>0.005472</td>\n",
       "      <td>-0.009448</td>\n",
       "      <td>0.005556</td>\n",
       "      <td>0.005362</td>\n",
       "    </tr>\n",
       "    <tr>\n",
       "      <th>3</th>\n",
       "      <td>0.004034</td>\n",
       "      <td>0.001537</td>\n",
       "      <td>-0.002309</td>\n",
       "      <td>0.007524</td>\n",
       "      <td>0.000309</td>\n",
       "      <td>0.008979</td>\n",
       "      <td>0.007008</td>\n",
       "      <td>-0.009467</td>\n",
       "      <td>0.007156</td>\n",
       "      <td>0.003869</td>\n",
       "      <td>...</td>\n",
       "      <td>-0.004793</td>\n",
       "      <td>-0.003733</td>\n",
       "      <td>-0.001927</td>\n",
       "      <td>0.002474</td>\n",
       "      <td>0.000703</td>\n",
       "      <td>-0.005334</td>\n",
       "      <td>0.000125</td>\n",
       "      <td>-0.001977</td>\n",
       "      <td>0.000346</td>\n",
       "      <td>-0.000660</td>\n",
       "    </tr>\n",
       "    <tr>\n",
       "      <th>4</th>\n",
       "      <td>0.001925</td>\n",
       "      <td>0.003343</td>\n",
       "      <td>-0.005143</td>\n",
       "      <td>0.004659</td>\n",
       "      <td>-0.001998</td>\n",
       "      <td>0.007819</td>\n",
       "      <td>0.008267</td>\n",
       "      <td>-0.005833</td>\n",
       "      <td>0.005259</td>\n",
       "      <td>0.000695</td>\n",
       "      <td>...</td>\n",
       "      <td>0.000812</td>\n",
       "      <td>-0.000655</td>\n",
       "      <td>-0.001371</td>\n",
       "      <td>0.002236</td>\n",
       "      <td>0.001224</td>\n",
       "      <td>-0.003747</td>\n",
       "      <td>0.002190</td>\n",
       "      <td>-0.002461</td>\n",
       "      <td>0.001857</td>\n",
       "      <td>0.002140</td>\n",
       "    </tr>\n",
       "  </tbody>\n",
       "</table>\n",
       "<p>5 rows × 128 columns</p>\n",
       "</div>"
      ],
      "text/plain": [
       "        3         4         5         6         7         8         9    \\\n",
       "0  0.009304  0.013118 -0.018205  0.015060 -0.010961  0.031516  0.027247   \n",
       "1  0.014441  0.011100 -0.017075  0.016919 -0.007768  0.026488  0.022953   \n",
       "2  0.010821  0.001990 -0.007127  0.005882 -0.009277  0.025136  0.014601   \n",
       "3  0.004034  0.001537 -0.002309  0.007524  0.000309  0.008979  0.007008   \n",
       "4  0.001925  0.003343 -0.005143  0.004659 -0.001998  0.007819  0.008267   \n",
       "\n",
       "        10        11        12     ...          121       122       123  \\\n",
       "0 -0.015310  0.021423  0.007341    ...    -0.005579 -0.008659 -0.014272   \n",
       "1 -0.017018  0.023200  0.015034    ...    -0.001648 -0.007612 -0.012861   \n",
       "2 -0.007524  0.010576  0.008099    ...    -0.004804 -0.003567 -0.007878   \n",
       "3 -0.009467  0.007156  0.003869    ...    -0.004793 -0.003733 -0.001927   \n",
       "4 -0.005833  0.005259  0.000695    ...     0.000812 -0.000655 -0.001371   \n",
       "\n",
       "        124       125       126       127       128       129       130  \n",
       "0  0.014509 -0.001722 -0.010319  0.007635 -0.014597  0.003602  0.000186  \n",
       "1  0.018484  0.000736 -0.013461  0.005466 -0.008630  0.005699 -0.004435  \n",
       "2  0.003806 -0.002835 -0.009189  0.005472 -0.009448  0.005556  0.005362  \n",
       "3  0.002474  0.000703 -0.005334  0.000125 -0.001977  0.000346 -0.000660  \n",
       "4  0.002236  0.001224 -0.003747  0.002190 -0.002461  0.001857  0.002140  \n",
       "\n",
       "[5 rows x 128 columns]"
      ]
     },
     "execution_count": 61,
     "metadata": {},
     "output_type": "execute_result"
    }
   ],
   "source": [
    "train_embedding = pd.DataFrame(edge_vectors,columns=[i+3 for i in range(0,128)])\n",
    "train_embedding.head()"
   ]
  },
  {
   "cell_type": "code",
   "execution_count": 62,
   "metadata": {},
   "outputs": [
    {
     "data": {
      "text/html": [
       "<div>\n",
       "<style scoped>\n",
       "    .dataframe tbody tr th:only-of-type {\n",
       "        vertical-align: middle;\n",
       "    }\n",
       "\n",
       "    .dataframe tbody tr th {\n",
       "        vertical-align: top;\n",
       "    }\n",
       "\n",
       "    .dataframe thead th {\n",
       "        text-align: right;\n",
       "    }\n",
       "</style>\n",
       "<table border=\"1\" class=\"dataframe\">\n",
       "  <thead>\n",
       "    <tr style=\"text-align: right;\">\n",
       "      <th></th>\n",
       "      <th>3</th>\n",
       "      <th>4</th>\n",
       "      <th>5</th>\n",
       "      <th>6</th>\n",
       "      <th>7</th>\n",
       "      <th>8</th>\n",
       "      <th>9</th>\n",
       "      <th>10</th>\n",
       "      <th>11</th>\n",
       "      <th>12</th>\n",
       "      <th>...</th>\n",
       "      <th>121</th>\n",
       "      <th>122</th>\n",
       "      <th>123</th>\n",
       "      <th>124</th>\n",
       "      <th>125</th>\n",
       "      <th>126</th>\n",
       "      <th>127</th>\n",
       "      <th>128</th>\n",
       "      <th>129</th>\n",
       "      <th>130</th>\n",
       "    </tr>\n",
       "  </thead>\n",
       "  <tbody>\n",
       "    <tr>\n",
       "      <th>0</th>\n",
       "      <td>0.005124</td>\n",
       "      <td>0.010396</td>\n",
       "      <td>-0.010522</td>\n",
       "      <td>0.001952</td>\n",
       "      <td>-0.007559</td>\n",
       "      <td>0.011917</td>\n",
       "      <td>0.012621</td>\n",
       "      <td>-0.003690</td>\n",
       "      <td>0.011073</td>\n",
       "      <td>0.000297</td>\n",
       "      <td>...</td>\n",
       "      <td>-0.000623</td>\n",
       "      <td>-0.001019</td>\n",
       "      <td>-0.006794</td>\n",
       "      <td>0.004154</td>\n",
       "      <td>-0.003695</td>\n",
       "      <td>-0.005639</td>\n",
       "      <td>0.011552</td>\n",
       "      <td>-0.004947</td>\n",
       "      <td>0.002586</td>\n",
       "      <td>-0.004375</td>\n",
       "    </tr>\n",
       "    <tr>\n",
       "      <th>1</th>\n",
       "      <td>0.010145</td>\n",
       "      <td>0.006070</td>\n",
       "      <td>-0.006198</td>\n",
       "      <td>0.010113</td>\n",
       "      <td>-0.003824</td>\n",
       "      <td>0.016162</td>\n",
       "      <td>0.013778</td>\n",
       "      <td>-0.002677</td>\n",
       "      <td>0.012616</td>\n",
       "      <td>0.001864</td>\n",
       "      <td>...</td>\n",
       "      <td>0.003625</td>\n",
       "      <td>-0.000494</td>\n",
       "      <td>-0.008509</td>\n",
       "      <td>0.004441</td>\n",
       "      <td>-0.003612</td>\n",
       "      <td>-0.006989</td>\n",
       "      <td>0.005485</td>\n",
       "      <td>-0.005047</td>\n",
       "      <td>0.000125</td>\n",
       "      <td>0.002170</td>\n",
       "    </tr>\n",
       "    <tr>\n",
       "      <th>2</th>\n",
       "      <td>0.005932</td>\n",
       "      <td>-0.000263</td>\n",
       "      <td>-0.002085</td>\n",
       "      <td>0.004394</td>\n",
       "      <td>-0.000516</td>\n",
       "      <td>0.007332</td>\n",
       "      <td>0.009457</td>\n",
       "      <td>-0.005056</td>\n",
       "      <td>0.013390</td>\n",
       "      <td>0.004597</td>\n",
       "      <td>...</td>\n",
       "      <td>-0.005471</td>\n",
       "      <td>-0.003684</td>\n",
       "      <td>-0.001354</td>\n",
       "      <td>0.004698</td>\n",
       "      <td>0.000645</td>\n",
       "      <td>-0.003521</td>\n",
       "      <td>-0.003008</td>\n",
       "      <td>0.000949</td>\n",
       "      <td>-0.001897</td>\n",
       "      <td>0.006375</td>\n",
       "    </tr>\n",
       "    <tr>\n",
       "      <th>3</th>\n",
       "      <td>0.004337</td>\n",
       "      <td>0.001516</td>\n",
       "      <td>-0.002693</td>\n",
       "      <td>0.002332</td>\n",
       "      <td>0.000112</td>\n",
       "      <td>0.010922</td>\n",
       "      <td>0.009336</td>\n",
       "      <td>-0.009098</td>\n",
       "      <td>0.010318</td>\n",
       "      <td>0.004062</td>\n",
       "      <td>...</td>\n",
       "      <td>0.000883</td>\n",
       "      <td>0.002027</td>\n",
       "      <td>-0.005416</td>\n",
       "      <td>0.000077</td>\n",
       "      <td>0.004971</td>\n",
       "      <td>-0.007080</td>\n",
       "      <td>0.000834</td>\n",
       "      <td>-0.002728</td>\n",
       "      <td>-0.002319</td>\n",
       "      <td>0.000597</td>\n",
       "    </tr>\n",
       "    <tr>\n",
       "      <th>4</th>\n",
       "      <td>0.002354</td>\n",
       "      <td>0.004463</td>\n",
       "      <td>-0.004045</td>\n",
       "      <td>0.000599</td>\n",
       "      <td>-0.000433</td>\n",
       "      <td>0.009144</td>\n",
       "      <td>0.003973</td>\n",
       "      <td>-0.005632</td>\n",
       "      <td>0.008239</td>\n",
       "      <td>0.002475</td>\n",
       "      <td>...</td>\n",
       "      <td>0.000779</td>\n",
       "      <td>-0.000837</td>\n",
       "      <td>-0.000160</td>\n",
       "      <td>0.006120</td>\n",
       "      <td>-0.001252</td>\n",
       "      <td>-0.003041</td>\n",
       "      <td>0.002102</td>\n",
       "      <td>-0.000264</td>\n",
       "      <td>0.003801</td>\n",
       "      <td>0.002498</td>\n",
       "    </tr>\n",
       "  </tbody>\n",
       "</table>\n",
       "<p>5 rows × 128 columns</p>\n",
       "</div>"
      ],
      "text/plain": [
       "        3         4         5         6         7         8         9    \\\n",
       "0  0.005124  0.010396 -0.010522  0.001952 -0.007559  0.011917  0.012621   \n",
       "1  0.010145  0.006070 -0.006198  0.010113 -0.003824  0.016162  0.013778   \n",
       "2  0.005932 -0.000263 -0.002085  0.004394 -0.000516  0.007332  0.009457   \n",
       "3  0.004337  0.001516 -0.002693  0.002332  0.000112  0.010922  0.009336   \n",
       "4  0.002354  0.004463 -0.004045  0.000599 -0.000433  0.009144  0.003973   \n",
       "\n",
       "        10        11        12     ...          121       122       123  \\\n",
       "0 -0.003690  0.011073  0.000297    ...    -0.000623 -0.001019 -0.006794   \n",
       "1 -0.002677  0.012616  0.001864    ...     0.003625 -0.000494 -0.008509   \n",
       "2 -0.005056  0.013390  0.004597    ...    -0.005471 -0.003684 -0.001354   \n",
       "3 -0.009098  0.010318  0.004062    ...     0.000883  0.002027 -0.005416   \n",
       "4 -0.005632  0.008239  0.002475    ...     0.000779 -0.000837 -0.000160   \n",
       "\n",
       "        124       125       126       127       128       129       130  \n",
       "0  0.004154 -0.003695 -0.005639  0.011552 -0.004947  0.002586 -0.004375  \n",
       "1  0.004441 -0.003612 -0.006989  0.005485 -0.005047  0.000125  0.002170  \n",
       "2  0.004698  0.000645 -0.003521 -0.003008  0.000949 -0.001897  0.006375  \n",
       "3  0.000077  0.004971 -0.007080  0.000834 -0.002728 -0.002319  0.000597  \n",
       "4  0.006120 -0.001252 -0.003041  0.002102 -0.000264  0.003801  0.002498  \n",
       "\n",
       "[5 rows x 128 columns]"
      ]
     },
     "execution_count": 62,
     "metadata": {},
     "output_type": "execute_result"
    }
   ],
   "source": [
    "test_embedding = pd.DataFrame(edge_vectors_test,columns=[i+3 for i in range(0,128)])\n",
    "test_embedding.head()"
   ]
  },
  {
   "cell_type": "code",
   "execution_count": 63,
   "metadata": {},
   "outputs": [
    {
     "data": {
      "text/html": [
       "<div>\n",
       "<style scoped>\n",
       "    .dataframe tbody tr th:only-of-type {\n",
       "        vertical-align: middle;\n",
       "    }\n",
       "\n",
       "    .dataframe tbody tr th {\n",
       "        vertical-align: top;\n",
       "    }\n",
       "\n",
       "    .dataframe thead th {\n",
       "        text-align: right;\n",
       "    }\n",
       "</style>\n",
       "<table border=\"1\" class=\"dataframe\">\n",
       "  <thead>\n",
       "    <tr style=\"text-align: right;\">\n",
       "      <th></th>\n",
       "      <th>3</th>\n",
       "      <th>4</th>\n",
       "      <th>5</th>\n",
       "      <th>6</th>\n",
       "      <th>7</th>\n",
       "      <th>8</th>\n",
       "      <th>9</th>\n",
       "      <th>10</th>\n",
       "      <th>11</th>\n",
       "      <th>12</th>\n",
       "      <th>...</th>\n",
       "      <th>121</th>\n",
       "      <th>122</th>\n",
       "      <th>123</th>\n",
       "      <th>124</th>\n",
       "      <th>125</th>\n",
       "      <th>126</th>\n",
       "      <th>127</th>\n",
       "      <th>128</th>\n",
       "      <th>129</th>\n",
       "      <th>130</th>\n",
       "    </tr>\n",
       "  </thead>\n",
       "  <tbody>\n",
       "    <tr>\n",
       "      <th>0</th>\n",
       "      <td>0.009304</td>\n",
       "      <td>0.013118</td>\n",
       "      <td>-0.018205</td>\n",
       "      <td>0.015060</td>\n",
       "      <td>-0.010961</td>\n",
       "      <td>0.031516</td>\n",
       "      <td>0.027247</td>\n",
       "      <td>-0.015310</td>\n",
       "      <td>0.021423</td>\n",
       "      <td>0.007341</td>\n",
       "      <td>...</td>\n",
       "      <td>-0.005579</td>\n",
       "      <td>-0.008659</td>\n",
       "      <td>-0.014272</td>\n",
       "      <td>0.014509</td>\n",
       "      <td>-0.001722</td>\n",
       "      <td>-0.010319</td>\n",
       "      <td>0.007635</td>\n",
       "      <td>-0.014597</td>\n",
       "      <td>0.003602</td>\n",
       "      <td>0.000186</td>\n",
       "    </tr>\n",
       "    <tr>\n",
       "      <th>1</th>\n",
       "      <td>0.014441</td>\n",
       "      <td>0.011100</td>\n",
       "      <td>-0.017075</td>\n",
       "      <td>0.016919</td>\n",
       "      <td>-0.007768</td>\n",
       "      <td>0.026488</td>\n",
       "      <td>0.022953</td>\n",
       "      <td>-0.017018</td>\n",
       "      <td>0.023200</td>\n",
       "      <td>0.015034</td>\n",
       "      <td>...</td>\n",
       "      <td>-0.001648</td>\n",
       "      <td>-0.007612</td>\n",
       "      <td>-0.012861</td>\n",
       "      <td>0.018484</td>\n",
       "      <td>0.000736</td>\n",
       "      <td>-0.013461</td>\n",
       "      <td>0.005466</td>\n",
       "      <td>-0.008630</td>\n",
       "      <td>0.005699</td>\n",
       "      <td>-0.004435</td>\n",
       "    </tr>\n",
       "    <tr>\n",
       "      <th>2</th>\n",
       "      <td>0.010821</td>\n",
       "      <td>0.001990</td>\n",
       "      <td>-0.007127</td>\n",
       "      <td>0.005882</td>\n",
       "      <td>-0.009277</td>\n",
       "      <td>0.025136</td>\n",
       "      <td>0.014601</td>\n",
       "      <td>-0.007524</td>\n",
       "      <td>0.010576</td>\n",
       "      <td>0.008099</td>\n",
       "      <td>...</td>\n",
       "      <td>-0.004804</td>\n",
       "      <td>-0.003567</td>\n",
       "      <td>-0.007878</td>\n",
       "      <td>0.003806</td>\n",
       "      <td>-0.002835</td>\n",
       "      <td>-0.009189</td>\n",
       "      <td>0.005472</td>\n",
       "      <td>-0.009448</td>\n",
       "      <td>0.005556</td>\n",
       "      <td>0.005362</td>\n",
       "    </tr>\n",
       "    <tr>\n",
       "      <th>3</th>\n",
       "      <td>0.004034</td>\n",
       "      <td>0.001537</td>\n",
       "      <td>-0.002309</td>\n",
       "      <td>0.007524</td>\n",
       "      <td>0.000309</td>\n",
       "      <td>0.008979</td>\n",
       "      <td>0.007008</td>\n",
       "      <td>-0.009467</td>\n",
       "      <td>0.007156</td>\n",
       "      <td>0.003869</td>\n",
       "      <td>...</td>\n",
       "      <td>-0.004793</td>\n",
       "      <td>-0.003733</td>\n",
       "      <td>-0.001927</td>\n",
       "      <td>0.002474</td>\n",
       "      <td>0.000703</td>\n",
       "      <td>-0.005334</td>\n",
       "      <td>0.000125</td>\n",
       "      <td>-0.001977</td>\n",
       "      <td>0.000346</td>\n",
       "      <td>-0.000660</td>\n",
       "    </tr>\n",
       "    <tr>\n",
       "      <th>4</th>\n",
       "      <td>0.001925</td>\n",
       "      <td>0.003343</td>\n",
       "      <td>-0.005143</td>\n",
       "      <td>0.004659</td>\n",
       "      <td>-0.001998</td>\n",
       "      <td>0.007819</td>\n",
       "      <td>0.008267</td>\n",
       "      <td>-0.005833</td>\n",
       "      <td>0.005259</td>\n",
       "      <td>0.000695</td>\n",
       "      <td>...</td>\n",
       "      <td>0.000812</td>\n",
       "      <td>-0.000655</td>\n",
       "      <td>-0.001371</td>\n",
       "      <td>0.002236</td>\n",
       "      <td>0.001224</td>\n",
       "      <td>-0.003747</td>\n",
       "      <td>0.002190</td>\n",
       "      <td>-0.002461</td>\n",
       "      <td>0.001857</td>\n",
       "      <td>0.002140</td>\n",
       "    </tr>\n",
       "  </tbody>\n",
       "</table>\n",
       "<p>5 rows × 128 columns</p>\n",
       "</div>"
      ],
      "text/plain": [
       "        3         4         5         6         7         8         9    \\\n",
       "0  0.009304  0.013118 -0.018205  0.015060 -0.010961  0.031516  0.027247   \n",
       "1  0.014441  0.011100 -0.017075  0.016919 -0.007768  0.026488  0.022953   \n",
       "2  0.010821  0.001990 -0.007127  0.005882 -0.009277  0.025136  0.014601   \n",
       "3  0.004034  0.001537 -0.002309  0.007524  0.000309  0.008979  0.007008   \n",
       "4  0.001925  0.003343 -0.005143  0.004659 -0.001998  0.007819  0.008267   \n",
       "\n",
       "        10        11        12     ...          121       122       123  \\\n",
       "0 -0.015310  0.021423  0.007341    ...    -0.005579 -0.008659 -0.014272   \n",
       "1 -0.017018  0.023200  0.015034    ...    -0.001648 -0.007612 -0.012861   \n",
       "2 -0.007524  0.010576  0.008099    ...    -0.004804 -0.003567 -0.007878   \n",
       "3 -0.009467  0.007156  0.003869    ...    -0.004793 -0.003733 -0.001927   \n",
       "4 -0.005833  0.005259  0.000695    ...     0.000812 -0.000655 -0.001371   \n",
       "\n",
       "        124       125       126       127       128       129       130  \n",
       "0  0.014509 -0.001722 -0.010319  0.007635 -0.014597  0.003602  0.000186  \n",
       "1  0.018484  0.000736 -0.013461  0.005466 -0.008630  0.005699 -0.004435  \n",
       "2  0.003806 -0.002835 -0.009189  0.005472 -0.009448  0.005556  0.005362  \n",
       "3  0.002474  0.000703 -0.005334  0.000125 -0.001977  0.000346 -0.000660  \n",
       "4  0.002236  0.001224 -0.003747  0.002190 -0.002461  0.001857  0.002140  \n",
       "\n",
       "[5 rows x 128 columns]"
      ]
     },
     "execution_count": 63,
     "metadata": {},
     "output_type": "execute_result"
    }
   ],
   "source": [
    "train_embedding.fillna(0,inplace=True)\n",
    "train_embedding.head()"
   ]
  },
  {
   "cell_type": "code",
   "execution_count": 64,
   "metadata": {
    "scrolled": true
   },
   "outputs": [
    {
     "data": {
      "text/html": [
       "<div>\n",
       "<style scoped>\n",
       "    .dataframe tbody tr th:only-of-type {\n",
       "        vertical-align: middle;\n",
       "    }\n",
       "\n",
       "    .dataframe tbody tr th {\n",
       "        vertical-align: top;\n",
       "    }\n",
       "\n",
       "    .dataframe thead th {\n",
       "        text-align: right;\n",
       "    }\n",
       "</style>\n",
       "<table border=\"1\" class=\"dataframe\">\n",
       "  <thead>\n",
       "    <tr style=\"text-align: right;\">\n",
       "      <th></th>\n",
       "      <th>3</th>\n",
       "      <th>4</th>\n",
       "      <th>5</th>\n",
       "      <th>6</th>\n",
       "      <th>7</th>\n",
       "      <th>8</th>\n",
       "      <th>9</th>\n",
       "      <th>10</th>\n",
       "      <th>11</th>\n",
       "      <th>12</th>\n",
       "      <th>...</th>\n",
       "      <th>121</th>\n",
       "      <th>122</th>\n",
       "      <th>123</th>\n",
       "      <th>124</th>\n",
       "      <th>125</th>\n",
       "      <th>126</th>\n",
       "      <th>127</th>\n",
       "      <th>128</th>\n",
       "      <th>129</th>\n",
       "      <th>130</th>\n",
       "    </tr>\n",
       "  </thead>\n",
       "  <tbody>\n",
       "    <tr>\n",
       "      <th>0</th>\n",
       "      <td>0.005124</td>\n",
       "      <td>0.010396</td>\n",
       "      <td>-0.010522</td>\n",
       "      <td>0.001952</td>\n",
       "      <td>-0.007559</td>\n",
       "      <td>0.011917</td>\n",
       "      <td>0.012621</td>\n",
       "      <td>-0.003690</td>\n",
       "      <td>0.011073</td>\n",
       "      <td>0.000297</td>\n",
       "      <td>...</td>\n",
       "      <td>-0.000623</td>\n",
       "      <td>-0.001019</td>\n",
       "      <td>-0.006794</td>\n",
       "      <td>0.004154</td>\n",
       "      <td>-0.003695</td>\n",
       "      <td>-0.005639</td>\n",
       "      <td>0.011552</td>\n",
       "      <td>-0.004947</td>\n",
       "      <td>0.002586</td>\n",
       "      <td>-0.004375</td>\n",
       "    </tr>\n",
       "    <tr>\n",
       "      <th>1</th>\n",
       "      <td>0.010145</td>\n",
       "      <td>0.006070</td>\n",
       "      <td>-0.006198</td>\n",
       "      <td>0.010113</td>\n",
       "      <td>-0.003824</td>\n",
       "      <td>0.016162</td>\n",
       "      <td>0.013778</td>\n",
       "      <td>-0.002677</td>\n",
       "      <td>0.012616</td>\n",
       "      <td>0.001864</td>\n",
       "      <td>...</td>\n",
       "      <td>0.003625</td>\n",
       "      <td>-0.000494</td>\n",
       "      <td>-0.008509</td>\n",
       "      <td>0.004441</td>\n",
       "      <td>-0.003612</td>\n",
       "      <td>-0.006989</td>\n",
       "      <td>0.005485</td>\n",
       "      <td>-0.005047</td>\n",
       "      <td>0.000125</td>\n",
       "      <td>0.002170</td>\n",
       "    </tr>\n",
       "    <tr>\n",
       "      <th>2</th>\n",
       "      <td>0.005932</td>\n",
       "      <td>-0.000263</td>\n",
       "      <td>-0.002085</td>\n",
       "      <td>0.004394</td>\n",
       "      <td>-0.000516</td>\n",
       "      <td>0.007332</td>\n",
       "      <td>0.009457</td>\n",
       "      <td>-0.005056</td>\n",
       "      <td>0.013390</td>\n",
       "      <td>0.004597</td>\n",
       "      <td>...</td>\n",
       "      <td>-0.005471</td>\n",
       "      <td>-0.003684</td>\n",
       "      <td>-0.001354</td>\n",
       "      <td>0.004698</td>\n",
       "      <td>0.000645</td>\n",
       "      <td>-0.003521</td>\n",
       "      <td>-0.003008</td>\n",
       "      <td>0.000949</td>\n",
       "      <td>-0.001897</td>\n",
       "      <td>0.006375</td>\n",
       "    </tr>\n",
       "    <tr>\n",
       "      <th>3</th>\n",
       "      <td>0.004337</td>\n",
       "      <td>0.001516</td>\n",
       "      <td>-0.002693</td>\n",
       "      <td>0.002332</td>\n",
       "      <td>0.000112</td>\n",
       "      <td>0.010922</td>\n",
       "      <td>0.009336</td>\n",
       "      <td>-0.009098</td>\n",
       "      <td>0.010318</td>\n",
       "      <td>0.004062</td>\n",
       "      <td>...</td>\n",
       "      <td>0.000883</td>\n",
       "      <td>0.002027</td>\n",
       "      <td>-0.005416</td>\n",
       "      <td>0.000077</td>\n",
       "      <td>0.004971</td>\n",
       "      <td>-0.007080</td>\n",
       "      <td>0.000834</td>\n",
       "      <td>-0.002728</td>\n",
       "      <td>-0.002319</td>\n",
       "      <td>0.000597</td>\n",
       "    </tr>\n",
       "    <tr>\n",
       "      <th>4</th>\n",
       "      <td>0.002354</td>\n",
       "      <td>0.004463</td>\n",
       "      <td>-0.004045</td>\n",
       "      <td>0.000599</td>\n",
       "      <td>-0.000433</td>\n",
       "      <td>0.009144</td>\n",
       "      <td>0.003973</td>\n",
       "      <td>-0.005632</td>\n",
       "      <td>0.008239</td>\n",
       "      <td>0.002475</td>\n",
       "      <td>...</td>\n",
       "      <td>0.000779</td>\n",
       "      <td>-0.000837</td>\n",
       "      <td>-0.000160</td>\n",
       "      <td>0.006120</td>\n",
       "      <td>-0.001252</td>\n",
       "      <td>-0.003041</td>\n",
       "      <td>0.002102</td>\n",
       "      <td>-0.000264</td>\n",
       "      <td>0.003801</td>\n",
       "      <td>0.002498</td>\n",
       "    </tr>\n",
       "  </tbody>\n",
       "</table>\n",
       "<p>5 rows × 128 columns</p>\n",
       "</div>"
      ],
      "text/plain": [
       "        3         4         5         6         7         8         9    \\\n",
       "0  0.005124  0.010396 -0.010522  0.001952 -0.007559  0.011917  0.012621   \n",
       "1  0.010145  0.006070 -0.006198  0.010113 -0.003824  0.016162  0.013778   \n",
       "2  0.005932 -0.000263 -0.002085  0.004394 -0.000516  0.007332  0.009457   \n",
       "3  0.004337  0.001516 -0.002693  0.002332  0.000112  0.010922  0.009336   \n",
       "4  0.002354  0.004463 -0.004045  0.000599 -0.000433  0.009144  0.003973   \n",
       "\n",
       "        10        11        12     ...          121       122       123  \\\n",
       "0 -0.003690  0.011073  0.000297    ...    -0.000623 -0.001019 -0.006794   \n",
       "1 -0.002677  0.012616  0.001864    ...     0.003625 -0.000494 -0.008509   \n",
       "2 -0.005056  0.013390  0.004597    ...    -0.005471 -0.003684 -0.001354   \n",
       "3 -0.009098  0.010318  0.004062    ...     0.000883  0.002027 -0.005416   \n",
       "4 -0.005632  0.008239  0.002475    ...     0.000779 -0.000837 -0.000160   \n",
       "\n",
       "        124       125       126       127       128       129       130  \n",
       "0  0.004154 -0.003695 -0.005639  0.011552 -0.004947  0.002586 -0.004375  \n",
       "1  0.004441 -0.003612 -0.006989  0.005485 -0.005047  0.000125  0.002170  \n",
       "2  0.004698  0.000645 -0.003521 -0.003008  0.000949 -0.001897  0.006375  \n",
       "3  0.000077  0.004971 -0.007080  0.000834 -0.002728 -0.002319  0.000597  \n",
       "4  0.006120 -0.001252 -0.003041  0.002102 -0.000264  0.003801  0.002498  \n",
       "\n",
       "[5 rows x 128 columns]"
      ]
     },
     "execution_count": 64,
     "metadata": {},
     "output_type": "execute_result"
    }
   ],
   "source": [
    "test_embedding.fillna(0,inplace=True)\n",
    "test_embedding.head()"
   ]
  },
  {
   "cell_type": "markdown",
   "metadata": {},
   "source": [
    "### Concating train and test data to their respective embeddings :"
   ]
  },
  {
   "cell_type": "code",
   "execution_count": 65,
   "metadata": {},
   "outputs": [
    {
     "data": {
      "text/html": [
       "<div>\n",
       "<style scoped>\n",
       "    .dataframe tbody tr th:only-of-type {\n",
       "        vertical-align: middle;\n",
       "    }\n",
       "\n",
       "    .dataframe tbody tr th {\n",
       "        vertical-align: top;\n",
       "    }\n",
       "\n",
       "    .dataframe thead th {\n",
       "        text-align: right;\n",
       "    }\n",
       "</style>\n",
       "<table border=\"1\" class=\"dataframe\">\n",
       "  <thead>\n",
       "    <tr style=\"text-align: right;\">\n",
       "      <th></th>\n",
       "      <th>source_node</th>\n",
       "      <th>destination_node</th>\n",
       "      <th>indicator_link</th>\n",
       "      <th>3</th>\n",
       "      <th>4</th>\n",
       "      <th>5</th>\n",
       "      <th>6</th>\n",
       "      <th>7</th>\n",
       "      <th>8</th>\n",
       "      <th>9</th>\n",
       "      <th>...</th>\n",
       "      <th>121</th>\n",
       "      <th>122</th>\n",
       "      <th>123</th>\n",
       "      <th>124</th>\n",
       "      <th>125</th>\n",
       "      <th>126</th>\n",
       "      <th>127</th>\n",
       "      <th>128</th>\n",
       "      <th>129</th>\n",
       "      <th>130</th>\n",
       "    </tr>\n",
       "  </thead>\n",
       "  <tbody>\n",
       "    <tr>\n",
       "      <th>0</th>\n",
       "      <td>273084</td>\n",
       "      <td>1505602</td>\n",
       "      <td>1</td>\n",
       "      <td>0.009304</td>\n",
       "      <td>0.013118</td>\n",
       "      <td>-0.018205</td>\n",
       "      <td>0.015060</td>\n",
       "      <td>-0.010961</td>\n",
       "      <td>0.031516</td>\n",
       "      <td>0.027247</td>\n",
       "      <td>...</td>\n",
       "      <td>-0.005579</td>\n",
       "      <td>-0.008659</td>\n",
       "      <td>-0.014272</td>\n",
       "      <td>0.014509</td>\n",
       "      <td>-0.001722</td>\n",
       "      <td>-0.010319</td>\n",
       "      <td>0.007635</td>\n",
       "      <td>-0.014597</td>\n",
       "      <td>0.003602</td>\n",
       "      <td>0.000186</td>\n",
       "    </tr>\n",
       "    <tr>\n",
       "      <th>1</th>\n",
       "      <td>832016</td>\n",
       "      <td>1543415</td>\n",
       "      <td>1</td>\n",
       "      <td>0.014441</td>\n",
       "      <td>0.011100</td>\n",
       "      <td>-0.017075</td>\n",
       "      <td>0.016919</td>\n",
       "      <td>-0.007768</td>\n",
       "      <td>0.026488</td>\n",
       "      <td>0.022953</td>\n",
       "      <td>...</td>\n",
       "      <td>-0.001648</td>\n",
       "      <td>-0.007612</td>\n",
       "      <td>-0.012861</td>\n",
       "      <td>0.018484</td>\n",
       "      <td>0.000736</td>\n",
       "      <td>-0.013461</td>\n",
       "      <td>0.005466</td>\n",
       "      <td>-0.008630</td>\n",
       "      <td>0.005699</td>\n",
       "      <td>-0.004435</td>\n",
       "    </tr>\n",
       "    <tr>\n",
       "      <th>2</th>\n",
       "      <td>1325247</td>\n",
       "      <td>760242</td>\n",
       "      <td>1</td>\n",
       "      <td>0.010821</td>\n",
       "      <td>0.001990</td>\n",
       "      <td>-0.007127</td>\n",
       "      <td>0.005882</td>\n",
       "      <td>-0.009277</td>\n",
       "      <td>0.025136</td>\n",
       "      <td>0.014601</td>\n",
       "      <td>...</td>\n",
       "      <td>-0.004804</td>\n",
       "      <td>-0.003567</td>\n",
       "      <td>-0.007878</td>\n",
       "      <td>0.003806</td>\n",
       "      <td>-0.002835</td>\n",
       "      <td>-0.009189</td>\n",
       "      <td>0.005472</td>\n",
       "      <td>-0.009448</td>\n",
       "      <td>0.005556</td>\n",
       "      <td>0.005362</td>\n",
       "    </tr>\n",
       "    <tr>\n",
       "      <th>3</th>\n",
       "      <td>1368400</td>\n",
       "      <td>1006992</td>\n",
       "      <td>1</td>\n",
       "      <td>0.004034</td>\n",
       "      <td>0.001537</td>\n",
       "      <td>-0.002309</td>\n",
       "      <td>0.007524</td>\n",
       "      <td>0.000309</td>\n",
       "      <td>0.008979</td>\n",
       "      <td>0.007008</td>\n",
       "      <td>...</td>\n",
       "      <td>-0.004793</td>\n",
       "      <td>-0.003733</td>\n",
       "      <td>-0.001927</td>\n",
       "      <td>0.002474</td>\n",
       "      <td>0.000703</td>\n",
       "      <td>-0.005334</td>\n",
       "      <td>0.000125</td>\n",
       "      <td>-0.001977</td>\n",
       "      <td>0.000346</td>\n",
       "      <td>-0.000660</td>\n",
       "    </tr>\n",
       "    <tr>\n",
       "      <th>4</th>\n",
       "      <td>140165</td>\n",
       "      <td>1708748</td>\n",
       "      <td>1</td>\n",
       "      <td>0.001925</td>\n",
       "      <td>0.003343</td>\n",
       "      <td>-0.005143</td>\n",
       "      <td>0.004659</td>\n",
       "      <td>-0.001998</td>\n",
       "      <td>0.007819</td>\n",
       "      <td>0.008267</td>\n",
       "      <td>...</td>\n",
       "      <td>0.000812</td>\n",
       "      <td>-0.000655</td>\n",
       "      <td>-0.001371</td>\n",
       "      <td>0.002236</td>\n",
       "      <td>0.001224</td>\n",
       "      <td>-0.003747</td>\n",
       "      <td>0.002190</td>\n",
       "      <td>-0.002461</td>\n",
       "      <td>0.001857</td>\n",
       "      <td>0.002140</td>\n",
       "    </tr>\n",
       "  </tbody>\n",
       "</table>\n",
       "<p>5 rows × 131 columns</p>\n",
       "</div>"
      ],
      "text/plain": [
       "   source_node  destination_node  indicator_link         3         4  \\\n",
       "0       273084           1505602               1  0.009304  0.013118   \n",
       "1       832016           1543415               1  0.014441  0.011100   \n",
       "2      1325247            760242               1  0.010821  0.001990   \n",
       "3      1368400           1006992               1  0.004034  0.001537   \n",
       "4       140165           1708748               1  0.001925  0.003343   \n",
       "\n",
       "          5         6         7         8         9    ...          121  \\\n",
       "0 -0.018205  0.015060 -0.010961  0.031516  0.027247    ...    -0.005579   \n",
       "1 -0.017075  0.016919 -0.007768  0.026488  0.022953    ...    -0.001648   \n",
       "2 -0.007127  0.005882 -0.009277  0.025136  0.014601    ...    -0.004804   \n",
       "3 -0.002309  0.007524  0.000309  0.008979  0.007008    ...    -0.004793   \n",
       "4 -0.005143  0.004659 -0.001998  0.007819  0.008267    ...     0.000812   \n",
       "\n",
       "        122       123       124       125       126       127       128  \\\n",
       "0 -0.008659 -0.014272  0.014509 -0.001722 -0.010319  0.007635 -0.014597   \n",
       "1 -0.007612 -0.012861  0.018484  0.000736 -0.013461  0.005466 -0.008630   \n",
       "2 -0.003567 -0.007878  0.003806 -0.002835 -0.009189  0.005472 -0.009448   \n",
       "3 -0.003733 -0.001927  0.002474  0.000703 -0.005334  0.000125 -0.001977   \n",
       "4 -0.000655 -0.001371  0.002236  0.001224 -0.003747  0.002190 -0.002461   \n",
       "\n",
       "        129       130  \n",
       "0  0.003602  0.000186  \n",
       "1  0.005699 -0.004435  \n",
       "2  0.005556  0.005362  \n",
       "3  0.000346 -0.000660  \n",
       "4  0.001857  0.002140  \n",
       "\n",
       "[5 rows x 131 columns]"
      ]
     },
     "execution_count": 65,
     "metadata": {},
     "output_type": "execute_result"
    }
   ],
   "source": [
    "df_train = pd.concat([df_final_train,train_embedding],axis=1)\n",
    "df_train.head()"
   ]
  },
  {
   "cell_type": "code",
   "execution_count": 66,
   "metadata": {},
   "outputs": [
    {
     "data": {
      "text/html": [
       "<div>\n",
       "<style scoped>\n",
       "    .dataframe tbody tr th:only-of-type {\n",
       "        vertical-align: middle;\n",
       "    }\n",
       "\n",
       "    .dataframe tbody tr th {\n",
       "        vertical-align: top;\n",
       "    }\n",
       "\n",
       "    .dataframe thead th {\n",
       "        text-align: right;\n",
       "    }\n",
       "</style>\n",
       "<table border=\"1\" class=\"dataframe\">\n",
       "  <thead>\n",
       "    <tr style=\"text-align: right;\">\n",
       "      <th></th>\n",
       "      <th>source_node</th>\n",
       "      <th>destination_node</th>\n",
       "      <th>indicator_link</th>\n",
       "      <th>3</th>\n",
       "      <th>4</th>\n",
       "      <th>5</th>\n",
       "      <th>6</th>\n",
       "      <th>7</th>\n",
       "      <th>8</th>\n",
       "      <th>9</th>\n",
       "      <th>...</th>\n",
       "      <th>121</th>\n",
       "      <th>122</th>\n",
       "      <th>123</th>\n",
       "      <th>124</th>\n",
       "      <th>125</th>\n",
       "      <th>126</th>\n",
       "      <th>127</th>\n",
       "      <th>128</th>\n",
       "      <th>129</th>\n",
       "      <th>130</th>\n",
       "    </tr>\n",
       "  </thead>\n",
       "  <tbody>\n",
       "    <tr>\n",
       "      <th>0</th>\n",
       "      <td>848424</td>\n",
       "      <td>784690</td>\n",
       "      <td>1</td>\n",
       "      <td>0.005124</td>\n",
       "      <td>0.010396</td>\n",
       "      <td>-0.010522</td>\n",
       "      <td>0.001952</td>\n",
       "      <td>-0.007559</td>\n",
       "      <td>0.011917</td>\n",
       "      <td>0.012621</td>\n",
       "      <td>...</td>\n",
       "      <td>-0.000623</td>\n",
       "      <td>-0.001019</td>\n",
       "      <td>-0.006794</td>\n",
       "      <td>0.004154</td>\n",
       "      <td>-0.003695</td>\n",
       "      <td>-0.005639</td>\n",
       "      <td>0.011552</td>\n",
       "      <td>-0.004947</td>\n",
       "      <td>0.002586</td>\n",
       "      <td>-0.004375</td>\n",
       "    </tr>\n",
       "    <tr>\n",
       "      <th>1</th>\n",
       "      <td>483294</td>\n",
       "      <td>1255532</td>\n",
       "      <td>1</td>\n",
       "      <td>0.010145</td>\n",
       "      <td>0.006070</td>\n",
       "      <td>-0.006198</td>\n",
       "      <td>0.010113</td>\n",
       "      <td>-0.003824</td>\n",
       "      <td>0.016162</td>\n",
       "      <td>0.013778</td>\n",
       "      <td>...</td>\n",
       "      <td>0.003625</td>\n",
       "      <td>-0.000494</td>\n",
       "      <td>-0.008509</td>\n",
       "      <td>0.004441</td>\n",
       "      <td>-0.003612</td>\n",
       "      <td>-0.006989</td>\n",
       "      <td>0.005485</td>\n",
       "      <td>-0.005047</td>\n",
       "      <td>0.000125</td>\n",
       "      <td>0.002170</td>\n",
       "    </tr>\n",
       "    <tr>\n",
       "      <th>2</th>\n",
       "      <td>626190</td>\n",
       "      <td>1729265</td>\n",
       "      <td>1</td>\n",
       "      <td>0.005932</td>\n",
       "      <td>-0.000263</td>\n",
       "      <td>-0.002085</td>\n",
       "      <td>0.004394</td>\n",
       "      <td>-0.000516</td>\n",
       "      <td>0.007332</td>\n",
       "      <td>0.009457</td>\n",
       "      <td>...</td>\n",
       "      <td>-0.005471</td>\n",
       "      <td>-0.003684</td>\n",
       "      <td>-0.001354</td>\n",
       "      <td>0.004698</td>\n",
       "      <td>0.000645</td>\n",
       "      <td>-0.003521</td>\n",
       "      <td>-0.003008</td>\n",
       "      <td>0.000949</td>\n",
       "      <td>-0.001897</td>\n",
       "      <td>0.006375</td>\n",
       "    </tr>\n",
       "    <tr>\n",
       "      <th>3</th>\n",
       "      <td>947219</td>\n",
       "      <td>425228</td>\n",
       "      <td>1</td>\n",
       "      <td>0.004337</td>\n",
       "      <td>0.001516</td>\n",
       "      <td>-0.002693</td>\n",
       "      <td>0.002332</td>\n",
       "      <td>0.000112</td>\n",
       "      <td>0.010922</td>\n",
       "      <td>0.009336</td>\n",
       "      <td>...</td>\n",
       "      <td>0.000883</td>\n",
       "      <td>0.002027</td>\n",
       "      <td>-0.005416</td>\n",
       "      <td>0.000077</td>\n",
       "      <td>0.004971</td>\n",
       "      <td>-0.007080</td>\n",
       "      <td>0.000834</td>\n",
       "      <td>-0.002728</td>\n",
       "      <td>-0.002319</td>\n",
       "      <td>0.000597</td>\n",
       "    </tr>\n",
       "    <tr>\n",
       "      <th>4</th>\n",
       "      <td>991374</td>\n",
       "      <td>975044</td>\n",
       "      <td>1</td>\n",
       "      <td>0.002354</td>\n",
       "      <td>0.004463</td>\n",
       "      <td>-0.004045</td>\n",
       "      <td>0.000599</td>\n",
       "      <td>-0.000433</td>\n",
       "      <td>0.009144</td>\n",
       "      <td>0.003973</td>\n",
       "      <td>...</td>\n",
       "      <td>0.000779</td>\n",
       "      <td>-0.000837</td>\n",
       "      <td>-0.000160</td>\n",
       "      <td>0.006120</td>\n",
       "      <td>-0.001252</td>\n",
       "      <td>-0.003041</td>\n",
       "      <td>0.002102</td>\n",
       "      <td>-0.000264</td>\n",
       "      <td>0.003801</td>\n",
       "      <td>0.002498</td>\n",
       "    </tr>\n",
       "  </tbody>\n",
       "</table>\n",
       "<p>5 rows × 131 columns</p>\n",
       "</div>"
      ],
      "text/plain": [
       "   source_node  destination_node  indicator_link         3         4  \\\n",
       "0       848424            784690               1  0.005124  0.010396   \n",
       "1       483294           1255532               1  0.010145  0.006070   \n",
       "2       626190           1729265               1  0.005932 -0.000263   \n",
       "3       947219            425228               1  0.004337  0.001516   \n",
       "4       991374            975044               1  0.002354  0.004463   \n",
       "\n",
       "          5         6         7         8         9    ...          121  \\\n",
       "0 -0.010522  0.001952 -0.007559  0.011917  0.012621    ...    -0.000623   \n",
       "1 -0.006198  0.010113 -0.003824  0.016162  0.013778    ...     0.003625   \n",
       "2 -0.002085  0.004394 -0.000516  0.007332  0.009457    ...    -0.005471   \n",
       "3 -0.002693  0.002332  0.000112  0.010922  0.009336    ...     0.000883   \n",
       "4 -0.004045  0.000599 -0.000433  0.009144  0.003973    ...     0.000779   \n",
       "\n",
       "        122       123       124       125       126       127       128  \\\n",
       "0 -0.001019 -0.006794  0.004154 -0.003695 -0.005639  0.011552 -0.004947   \n",
       "1 -0.000494 -0.008509  0.004441 -0.003612 -0.006989  0.005485 -0.005047   \n",
       "2 -0.003684 -0.001354  0.004698  0.000645 -0.003521 -0.003008  0.000949   \n",
       "3  0.002027 -0.005416  0.000077  0.004971 -0.007080  0.000834 -0.002728   \n",
       "4 -0.000837 -0.000160  0.006120 -0.001252 -0.003041  0.002102 -0.000264   \n",
       "\n",
       "        129       130  \n",
       "0  0.002586 -0.004375  \n",
       "1  0.000125  0.002170  \n",
       "2 -0.001897  0.006375  \n",
       "3 -0.002319  0.000597  \n",
       "4  0.003801  0.002498  \n",
       "\n",
       "[5 rows x 131 columns]"
      ]
     },
     "execution_count": 66,
     "metadata": {},
     "output_type": "execute_result"
    }
   ],
   "source": [
    "df_test = pd.concat([df_final_test,test_embedding],axis=1)\n",
    "df_test.head()"
   ]
  },
  {
   "cell_type": "markdown",
   "metadata": {},
   "source": [
    "## Training :"
   ]
  },
  {
   "cell_type": "code",
   "execution_count": 67,
   "metadata": {},
   "outputs": [],
   "source": [
    "y_train = df_train.indicator_link.values\n",
    "y_test = df_test.indicator_link.values"
   ]
  },
  {
   "cell_type": "code",
   "execution_count": 68,
   "metadata": {},
   "outputs": [],
   "source": [
    "df_train.drop(['source_node','destination_node','indicator_link'],axis=1,inplace=True)\n",
    "df_test.drop(['source_node','destination_node','indicator_link'],axis=1,inplace=True)"
   ]
  },
  {
   "cell_type": "code",
   "execution_count": 69,
   "metadata": {},
   "outputs": [
    {
     "data": {
      "text/html": [
       "<div>\n",
       "<style scoped>\n",
       "    .dataframe tbody tr th:only-of-type {\n",
       "        vertical-align: middle;\n",
       "    }\n",
       "\n",
       "    .dataframe tbody tr th {\n",
       "        vertical-align: top;\n",
       "    }\n",
       "\n",
       "    .dataframe thead th {\n",
       "        text-align: right;\n",
       "    }\n",
       "</style>\n",
       "<table border=\"1\" class=\"dataframe\">\n",
       "  <thead>\n",
       "    <tr style=\"text-align: right;\">\n",
       "      <th></th>\n",
       "      <th>3</th>\n",
       "      <th>4</th>\n",
       "      <th>5</th>\n",
       "      <th>6</th>\n",
       "      <th>7</th>\n",
       "      <th>8</th>\n",
       "      <th>9</th>\n",
       "      <th>10</th>\n",
       "      <th>11</th>\n",
       "      <th>12</th>\n",
       "      <th>...</th>\n",
       "      <th>121</th>\n",
       "      <th>122</th>\n",
       "      <th>123</th>\n",
       "      <th>124</th>\n",
       "      <th>125</th>\n",
       "      <th>126</th>\n",
       "      <th>127</th>\n",
       "      <th>128</th>\n",
       "      <th>129</th>\n",
       "      <th>130</th>\n",
       "    </tr>\n",
       "  </thead>\n",
       "  <tbody>\n",
       "    <tr>\n",
       "      <th>0</th>\n",
       "      <td>0.009304</td>\n",
       "      <td>0.013118</td>\n",
       "      <td>-0.018205</td>\n",
       "      <td>0.015060</td>\n",
       "      <td>-0.010961</td>\n",
       "      <td>0.031516</td>\n",
       "      <td>0.027247</td>\n",
       "      <td>-0.015310</td>\n",
       "      <td>0.021423</td>\n",
       "      <td>0.007341</td>\n",
       "      <td>...</td>\n",
       "      <td>-0.005579</td>\n",
       "      <td>-0.008659</td>\n",
       "      <td>-0.014272</td>\n",
       "      <td>0.014509</td>\n",
       "      <td>-0.001722</td>\n",
       "      <td>-0.010319</td>\n",
       "      <td>0.007635</td>\n",
       "      <td>-0.014597</td>\n",
       "      <td>0.003602</td>\n",
       "      <td>0.000186</td>\n",
       "    </tr>\n",
       "    <tr>\n",
       "      <th>1</th>\n",
       "      <td>0.014441</td>\n",
       "      <td>0.011100</td>\n",
       "      <td>-0.017075</td>\n",
       "      <td>0.016919</td>\n",
       "      <td>-0.007768</td>\n",
       "      <td>0.026488</td>\n",
       "      <td>0.022953</td>\n",
       "      <td>-0.017018</td>\n",
       "      <td>0.023200</td>\n",
       "      <td>0.015034</td>\n",
       "      <td>...</td>\n",
       "      <td>-0.001648</td>\n",
       "      <td>-0.007612</td>\n",
       "      <td>-0.012861</td>\n",
       "      <td>0.018484</td>\n",
       "      <td>0.000736</td>\n",
       "      <td>-0.013461</td>\n",
       "      <td>0.005466</td>\n",
       "      <td>-0.008630</td>\n",
       "      <td>0.005699</td>\n",
       "      <td>-0.004435</td>\n",
       "    </tr>\n",
       "    <tr>\n",
       "      <th>2</th>\n",
       "      <td>0.010821</td>\n",
       "      <td>0.001990</td>\n",
       "      <td>-0.007127</td>\n",
       "      <td>0.005882</td>\n",
       "      <td>-0.009277</td>\n",
       "      <td>0.025136</td>\n",
       "      <td>0.014601</td>\n",
       "      <td>-0.007524</td>\n",
       "      <td>0.010576</td>\n",
       "      <td>0.008099</td>\n",
       "      <td>...</td>\n",
       "      <td>-0.004804</td>\n",
       "      <td>-0.003567</td>\n",
       "      <td>-0.007878</td>\n",
       "      <td>0.003806</td>\n",
       "      <td>-0.002835</td>\n",
       "      <td>-0.009189</td>\n",
       "      <td>0.005472</td>\n",
       "      <td>-0.009448</td>\n",
       "      <td>0.005556</td>\n",
       "      <td>0.005362</td>\n",
       "    </tr>\n",
       "    <tr>\n",
       "      <th>3</th>\n",
       "      <td>0.004034</td>\n",
       "      <td>0.001537</td>\n",
       "      <td>-0.002309</td>\n",
       "      <td>0.007524</td>\n",
       "      <td>0.000309</td>\n",
       "      <td>0.008979</td>\n",
       "      <td>0.007008</td>\n",
       "      <td>-0.009467</td>\n",
       "      <td>0.007156</td>\n",
       "      <td>0.003869</td>\n",
       "      <td>...</td>\n",
       "      <td>-0.004793</td>\n",
       "      <td>-0.003733</td>\n",
       "      <td>-0.001927</td>\n",
       "      <td>0.002474</td>\n",
       "      <td>0.000703</td>\n",
       "      <td>-0.005334</td>\n",
       "      <td>0.000125</td>\n",
       "      <td>-0.001977</td>\n",
       "      <td>0.000346</td>\n",
       "      <td>-0.000660</td>\n",
       "    </tr>\n",
       "    <tr>\n",
       "      <th>4</th>\n",
       "      <td>0.001925</td>\n",
       "      <td>0.003343</td>\n",
       "      <td>-0.005143</td>\n",
       "      <td>0.004659</td>\n",
       "      <td>-0.001998</td>\n",
       "      <td>0.007819</td>\n",
       "      <td>0.008267</td>\n",
       "      <td>-0.005833</td>\n",
       "      <td>0.005259</td>\n",
       "      <td>0.000695</td>\n",
       "      <td>...</td>\n",
       "      <td>0.000812</td>\n",
       "      <td>-0.000655</td>\n",
       "      <td>-0.001371</td>\n",
       "      <td>0.002236</td>\n",
       "      <td>0.001224</td>\n",
       "      <td>-0.003747</td>\n",
       "      <td>0.002190</td>\n",
       "      <td>-0.002461</td>\n",
       "      <td>0.001857</td>\n",
       "      <td>0.002140</td>\n",
       "    </tr>\n",
       "  </tbody>\n",
       "</table>\n",
       "<p>5 rows × 128 columns</p>\n",
       "</div>"
      ],
      "text/plain": [
       "        3         4         5         6         7         8         9    \\\n",
       "0  0.009304  0.013118 -0.018205  0.015060 -0.010961  0.031516  0.027247   \n",
       "1  0.014441  0.011100 -0.017075  0.016919 -0.007768  0.026488  0.022953   \n",
       "2  0.010821  0.001990 -0.007127  0.005882 -0.009277  0.025136  0.014601   \n",
       "3  0.004034  0.001537 -0.002309  0.007524  0.000309  0.008979  0.007008   \n",
       "4  0.001925  0.003343 -0.005143  0.004659 -0.001998  0.007819  0.008267   \n",
       "\n",
       "        10        11        12     ...          121       122       123  \\\n",
       "0 -0.015310  0.021423  0.007341    ...    -0.005579 -0.008659 -0.014272   \n",
       "1 -0.017018  0.023200  0.015034    ...    -0.001648 -0.007612 -0.012861   \n",
       "2 -0.007524  0.010576  0.008099    ...    -0.004804 -0.003567 -0.007878   \n",
       "3 -0.009467  0.007156  0.003869    ...    -0.004793 -0.003733 -0.001927   \n",
       "4 -0.005833  0.005259  0.000695    ...     0.000812 -0.000655 -0.001371   \n",
       "\n",
       "        124       125       126       127       128       129       130  \n",
       "0  0.014509 -0.001722 -0.010319  0.007635 -0.014597  0.003602  0.000186  \n",
       "1  0.018484  0.000736 -0.013461  0.005466 -0.008630  0.005699 -0.004435  \n",
       "2  0.003806 -0.002835 -0.009189  0.005472 -0.009448  0.005556  0.005362  \n",
       "3  0.002474  0.000703 -0.005334  0.000125 -0.001977  0.000346 -0.000660  \n",
       "4  0.002236  0.001224 -0.003747  0.002190 -0.002461  0.001857  0.002140  \n",
       "\n",
       "[5 rows x 128 columns]"
      ]
     },
     "execution_count": 69,
     "metadata": {},
     "output_type": "execute_result"
    }
   ],
   "source": [
    "df_train.head()"
   ]
  },
  {
   "cell_type": "markdown",
   "metadata": {},
   "source": [
    "## XGBoost :"
   ]
  },
  {
   "cell_type": "code",
   "execution_count": 80,
   "metadata": {},
   "outputs": [],
   "source": [
    "clf = xgb.XGBClassifier()"
   ]
  },
  {
   "cell_type": "code",
   "execution_count": 81,
   "metadata": {},
   "outputs": [],
   "source": [
    "clf.fit(df_train,y_train)\n",
    "y_train_pred = clf.predict(df_train)\n",
    "y_test_pred = clf.predict(df_test)"
   ]
  },
  {
   "cell_type": "code",
   "execution_count": 82,
   "metadata": {},
   "outputs": [
    {
     "name": "stdout",
     "output_type": "stream",
     "text": [
      "Train f1 score 0.9505905174873053\n",
      "Test f1 score 0.9467658190532342\n"
     ]
    }
   ],
   "source": [
    "from sklearn.metrics import f1_score\n",
    "print('Train f1 score',f1_score(y_train,y_train_pred))\n",
    "print('Test f1 score',f1_score(y_test,y_test_pred))"
   ]
  },
  {
   "cell_type": "code",
   "execution_count": 83,
   "metadata": {},
   "outputs": [
    {
     "name": "stdout",
     "output_type": "stream",
     "text": [
      "Train confusion_matrix\n"
     ]
    },
    {
     "data": {
      "image/png": "[encoded data removed]",
      "text/plain": [
       "<Figure size 1440x288 with 6 Axes>"
      ]
     },
     "metadata": {
      "needs_background": "light"
     },
     "output_type": "display_data"
    },
    {
     "name": "stdout",
     "output_type": "stream",
     "text": [
      "Test confusion_matrix\n"
     ]
    },
    {
     "data": {
      "image/png": "[encoded data removed]",
      "text/plain": [
       "<Figure size 1440x288 with 6 Axes>"
      ]
     },
     "metadata": {
      "needs_background": "light"
     },
     "output_type": "display_data"
    }
   ],
   "source": [
    "print('Train confusion_matrix')\n",
    "plot_confusion_matrix(y_train,y_train_pred)\n",
    "print('Test confusion_matrix')\n",
    "plot_confusion_matrix(y_test,y_test_pred)"
   ]
  },
  {
   "cell_type": "code",
   "execution_count": 84,
   "metadata": {},
   "outputs": [
    {
     "data": {
      "image/png": "[encoded data removed]",
      "text/plain": [
       "<Figure size 432x288 with 1 Axes>"
      ]
     },
     "metadata": {
      "needs_background": "light"
     },
     "output_type": "display_data"
    }
   ],
   "source": [
    "from sklearn.metrics import roc_curve, auc\n",
    "fpr,tpr,ths = roc_curve(y_test,y_test_pred)\n",
    "auc_sc = auc(fpr, tpr)\n",
    "plt.plot(fpr, tpr, color='navy',label='ROC curve (area = %0.2f)' % auc_sc)\n",
    "plt.xlabel('False Positive Rate')\n",
    "plt.ylabel('True Positive Rate')\n",
    "plt.title('Receiver operating characteristic with test data')\n",
    "plt.legend()\n",
    "plt.show()"
   ]
  },
  {
   "cell_type": "markdown",
   "metadata": {},
   "source": [
    "## Random Forest Classifier :"
   ]
  },
  {
   "cell_type": "code",
   "execution_count": 85,
   "metadata": {},
   "outputs": [],
   "source": [
    "clf = RandomForestClassifier(bootstrap=True, class_weight=None, criterion='gini',\n",
    "            max_depth=14, max_features='auto', max_leaf_nodes=None,\n",
    "            min_impurity_decrease=0.0, min_impurity_split=None,\n",
    "            min_samples_leaf=28, min_samples_split=111,\n",
    "            min_weight_fraction_leaf=0.0, n_estimators=121, n_jobs=-1,\n",
    "            oob_score=False, random_state=25, verbose=0, warm_start=False)"
   ]
  },
  {
   "cell_type": "code",
   "execution_count": 86,
   "metadata": {},
   "outputs": [],
   "source": [
    "clf.fit(df_train,y_train)\n",
    "y_train_pred = clf.predict(df_train)\n",
    "y_test_pred = clf.predict(df_test)"
   ]
  },
  {
   "cell_type": "code",
   "execution_count": 87,
   "metadata": {},
   "outputs": [
    {
     "name": "stdout",
     "output_type": "stream",
     "text": [
      "Train f1 score 0.9391056315562312\n",
      "Test f1 score 0.9377783624302333\n"
     ]
    }
   ],
   "source": [
    "from sklearn.metrics import f1_score\n",
    "print('Train f1 score',f1_score(y_train,y_train_pred))\n",
    "print('Test f1 score',f1_score(y_test,y_test_pred))"
   ]
  },
  {
   "cell_type": "code",
   "execution_count": 88,
   "metadata": {},
   "outputs": [
    {
     "name": "stdout",
     "output_type": "stream",
     "text": [
      "Train confusion_matrix\n"
     ]
    },
    {
     "data": {
      "image/png": "[encoded data removed]",
      "text/plain": [
       "<Figure size 1440x288 with 6 Axes>"
      ]
     },
     "metadata": {
      "needs_background": "light"
     },
     "output_type": "display_data"
    },
    {
     "name": "stdout",
     "output_type": "stream",
     "text": [
      "Test confusion_matrix\n"
     ]
    },
    {
     "data": {
      "image/png": "[encoded data removed]",
      "text/plain": [
       "<Figure size 1440x288 with 6 Axes>"
      ]
     },
     "metadata": {
      "needs_background": "light"
     },
     "output_type": "display_data"
    }
   ],
   "source": [
    "print('Train confusion_matrix')\n",
    "plot_confusion_matrix(y_train,y_train_pred)\n",
    "print('Test confusion_matrix')\n",
    "plot_confusion_matrix(y_test,y_test_pred)"
   ]
  },
  {
   "cell_type": "code",
   "execution_count": 89,
   "metadata": {},
   "outputs": [
    {
     "data": {
      "image/png": "[encoded data removed]",
      "text/plain": [
       "<Figure size 432x288 with 1 Axes>"
      ]
     },
     "metadata": {
      "needs_background": "light"
     },
     "output_type": "display_data"
    }
   ],
   "source": [
    "from sklearn.metrics import roc_curve, auc\n",
    "fpr,tpr,ths = roc_curve(y_test,y_test_pred)\n",
    "auc_sc = auc(fpr, tpr)\n",
    "plt.plot(fpr, tpr, color='navy',label='ROC curve (area = %0.2f)' % auc_sc)\n",
    "plt.xlabel('False Positive Rate')\n",
    "plt.ylabel('True Positive Rate')\n",
    "plt.title('Receiver operating characteristic with test data')\n",
    "plt.legend()\n",
    "plt.show()"
   ]
  },
  {
   "cell_type": "markdown",
   "metadata": {},
   "source": [
    "## Lightgbm Classifier :"
   ]
  },
  {
   "cell_type": "code",
   "execution_count": 91,
   "metadata": {},
   "outputs": [],
   "source": [
    "import lightgbm as lgb"
   ]
  },
  {
   "cell_type": "code",
   "execution_count": 92,
   "metadata": {},
   "outputs": [],
   "source": [
    "clf = lgb.LGBMClassifier()"
   ]
  },
  {
   "cell_type": "code",
   "execution_count": 93,
   "metadata": {},
   "outputs": [],
   "source": [
    "clf.fit(df_train,y_train)\n",
    "y_train_pred = clf.predict(df_train)\n",
    "y_test_pred = clf.predict(df_test)"
   ]
  },
  {
   "cell_type": "code",
   "execution_count": 94,
   "metadata": {},
   "outputs": [
    {
     "name": "stdout",
     "output_type": "stream",
     "text": [
      "Train f1 score 0.9705699522125957\n",
      "Test f1 score 0.956696101492307\n"
     ]
    }
   ],
   "source": [
    "from sklearn.metrics import f1_score\n",
    "print('Train f1 score',f1_score(y_train,y_train_pred))\n",
    "print('Test f1 score',f1_score(y_test,y_test_pred))"
   ]
  },
  {
   "cell_type": "markdown",
   "metadata": {},
   "source": [
    "## Lightgbm with Hyperparameter Tuning:"
   ]
  },
  {
   "cell_type": "code",
   "execution_count": 96,
   "metadata": {},
   "outputs": [
    {
     "name": "stdout",
     "output_type": "stream",
     "text": [
      "Fitting 3 folds for each of 63 candidates, totalling 189 fits\n"
     ]
    },
    {
     "name": "stderr",
     "output_type": "stream",
     "text": [
      "[Parallel(n_jobs=-1)]: Using backend LokyBackend with 4 concurrent workers.\n",
      "[Parallel(n_jobs=-1)]: Done  42 tasks      | elapsed:  2.0min\n",
      "[Parallel(n_jobs=-1)]: Done 189 out of 189 | elapsed: 17.9min finished\n"
     ]
    },
    {
     "name": "stdout",
     "output_type": "stream",
     "text": [
      "LGBMClassifier(boosting_type='gbdt', class_weight=None, colsample_bytree=1.0,\n",
      "        importance_type='split', learning_rate=0.1, max_depth=4,\n",
      "        min_child_samples=20, min_child_weight=0.001, min_split_gain=0.0,\n",
      "        n_estimators=1000, n_jobs=-1, num_leaves=31, objective=None,\n",
      "        random_state=None, reg_alpha=0.0, reg_lambda=0.0, silent=True,\n",
      "        subsample=1.0, subsample_for_bin=200000, subsample_freq=0)\n",
      "0.9957226698497961\n"
     ]
    }
   ],
   "source": [
    "from sklearn.metrics import accuracy_score\n",
    "from sklearn.model_selection import GridSearchCV \n",
    "from sklearn.model_selection import cross_val_score\n",
    "    \n",
    "clf = lgb.LGBMClassifier()\n",
    "param_grid = {'max_depth': [2, 3, 4, 5, 6, 7, 8, 9, 10], 'n_estimators' : [5, 10, 50, 100, 200, 500, 1000] }\n",
    "#Using GridSearchCV\n",
    "model = GridSearchCV(clf, param_grid, scoring = 'f1', cv=3 , verbose=1 ,n_jobs=-1)\n",
    "model.fit(df_train,y_train)\n",
    "savefile(model,\"lightgbm_gridsearch\")\n",
    "print(model.best_estimator_)\n",
    "print(model.score(df_train,y_train))   \n",
    "# weight = model.coef_\n",
    "    \n",
    " "
   ]
  },
  {
   "cell_type": "code",
   "execution_count": 97,
   "metadata": {},
   "outputs": [
    {
     "name": "stdout",
     "output_type": "stream",
     "text": [
      "{'max_depth': 4, 'n_estimators': 1000}\n"
     ]
    },
    {
     "data": {
      "image/png": "[encoded data removed]",
      "text/plain": [
       "<Figure size 432x288 with 4 Axes>"
      ]
     },
     "metadata": {
      "needs_background": "light"
     },
     "output_type": "display_data"
    },
    {
     "data": {
      "text/html": [
       "<div>\n",
       "<style scoped>\n",
       "    .dataframe tbody tr th:only-of-type {\n",
       "        vertical-align: middle;\n",
       "    }\n",
       "\n",
       "    .dataframe tbody tr th {\n",
       "        vertical-align: top;\n",
       "    }\n",
       "\n",
       "    .dataframe thead th {\n",
       "        text-align: right;\n",
       "    }\n",
       "</style>\n",
       "<table border=\"1\" class=\"dataframe\">\n",
       "  <thead>\n",
       "    <tr style=\"text-align: right;\">\n",
       "      <th>param_n_estimators</th>\n",
       "      <th>5</th>\n",
       "      <th>10</th>\n",
       "      <th>50</th>\n",
       "      <th>100</th>\n",
       "      <th>200</th>\n",
       "      <th>500</th>\n",
       "      <th>1000</th>\n",
       "    </tr>\n",
       "    <tr>\n",
       "      <th>param_max_depth</th>\n",
       "      <th></th>\n",
       "      <th></th>\n",
       "      <th></th>\n",
       "      <th></th>\n",
       "      <th></th>\n",
       "      <th></th>\n",
       "      <th></th>\n",
       "    </tr>\n",
       "  </thead>\n",
       "  <tbody>\n",
       "    <tr>\n",
       "      <th>2</th>\n",
       "      <td>0.937096</td>\n",
       "      <td>0.937062</td>\n",
       "      <td>0.938342</td>\n",
       "      <td>0.942232</td>\n",
       "      <td>0.948549</td>\n",
       "      <td>0.956678</td>\n",
       "      <td>0.961345</td>\n",
       "    </tr>\n",
       "    <tr>\n",
       "      <th>3</th>\n",
       "      <td>0.937339</td>\n",
       "      <td>0.937350</td>\n",
       "      <td>0.940025</td>\n",
       "      <td>0.946625</td>\n",
       "      <td>0.953889</td>\n",
       "      <td>0.961879</td>\n",
       "      <td>0.966514</td>\n",
       "    </tr>\n",
       "    <tr>\n",
       "      <th>4</th>\n",
       "      <td>0.937380</td>\n",
       "      <td>0.937436</td>\n",
       "      <td>0.942148</td>\n",
       "      <td>0.950327</td>\n",
       "      <td>0.957716</td>\n",
       "      <td>0.964638</td>\n",
       "      <td>0.967986</td>\n",
       "    </tr>\n",
       "    <tr>\n",
       "      <th>5</th>\n",
       "      <td>0.937733</td>\n",
       "      <td>0.937857</td>\n",
       "      <td>0.944362</td>\n",
       "      <td>0.952486</td>\n",
       "      <td>0.959656</td>\n",
       "      <td>0.964663</td>\n",
       "      <td>0.966130</td>\n",
       "    </tr>\n",
       "    <tr>\n",
       "      <th>6</th>\n",
       "      <td>0.937892</td>\n",
       "      <td>0.938309</td>\n",
       "      <td>0.945874</td>\n",
       "      <td>0.954703</td>\n",
       "      <td>0.960721</td>\n",
       "      <td>0.964854</td>\n",
       "      <td>0.966253</td>\n",
       "    </tr>\n",
       "    <tr>\n",
       "      <th>7</th>\n",
       "      <td>0.938470</td>\n",
       "      <td>0.938607</td>\n",
       "      <td>0.947605</td>\n",
       "      <td>0.955769</td>\n",
       "      <td>0.961349</td>\n",
       "      <td>0.965233</td>\n",
       "      <td>0.966338</td>\n",
       "    </tr>\n",
       "    <tr>\n",
       "      <th>8</th>\n",
       "      <td>0.938820</td>\n",
       "      <td>0.939036</td>\n",
       "      <td>0.948234</td>\n",
       "      <td>0.955981</td>\n",
       "      <td>0.961702</td>\n",
       "      <td>0.965256</td>\n",
       "      <td>0.966336</td>\n",
       "    </tr>\n",
       "    <tr>\n",
       "      <th>9</th>\n",
       "      <td>0.938695</td>\n",
       "      <td>0.939010</td>\n",
       "      <td>0.948931</td>\n",
       "      <td>0.956786</td>\n",
       "      <td>0.961693</td>\n",
       "      <td>0.964909</td>\n",
       "      <td>0.965767</td>\n",
       "    </tr>\n",
       "    <tr>\n",
       "      <th>10</th>\n",
       "      <td>0.938569</td>\n",
       "      <td>0.938960</td>\n",
       "      <td>0.948785</td>\n",
       "      <td>0.956561</td>\n",
       "      <td>0.962280</td>\n",
       "      <td>0.965091</td>\n",
       "      <td>0.965995</td>\n",
       "    </tr>\n",
       "  </tbody>\n",
       "</table>\n",
       "</div>"
      ],
      "text/plain": [
       "param_n_estimators      5         10        50        100       200   \\\n",
       "param_max_depth                                                        \n",
       "2                   0.937096  0.937062  0.938342  0.942232  0.948549   \n",
       "3                   0.937339  0.937350  0.940025  0.946625  0.953889   \n",
       "4                   0.937380  0.937436  0.942148  0.950327  0.957716   \n",
       "5                   0.937733  0.937857  0.944362  0.952486  0.959656   \n",
       "6                   0.937892  0.938309  0.945874  0.954703  0.960721   \n",
       "7                   0.938470  0.938607  0.947605  0.955769  0.961349   \n",
       "8                   0.938820  0.939036  0.948234  0.955981  0.961702   \n",
       "9                   0.938695  0.939010  0.948931  0.956786  0.961693   \n",
       "10                  0.938569  0.938960  0.948785  0.956561  0.962280   \n",
       "\n",
       "param_n_estimators      500       1000  \n",
       "param_max_depth                         \n",
       "2                   0.956678  0.961345  \n",
       "3                   0.961879  0.966514  \n",
       "4                   0.964638  0.967986  \n",
       "5                   0.964663  0.966130  \n",
       "6                   0.964854  0.966253  \n",
       "7                   0.965233  0.966338  \n",
       "8                   0.965256  0.966336  \n",
       "9                   0.964909  0.965767  \n",
       "10                  0.965091  0.965995  "
      ]
     },
     "execution_count": 97,
     "metadata": {},
     "output_type": "execute_result"
    }
   ],
   "source": [
    "gsv = openfile('lightgbm_gridsearch')\n",
    "print (gsv.best_params_)\n",
    "# print (pd.DataFrame(gsv.cv_results_))\n",
    "pvt = pd.pivot_table(pd.DataFrame(gsv.cv_results_),values='mean_test_score', index='param_max_depth', columns='param_n_estimators')\n",
    "pvt2 = pd.pivot_table(pd.DataFrame(gsv.cv_results_),values='mean_train_score', index='param_max_depth', columns='param_n_estimators')\n",
    "sns.heatmap(pvt)\n",
    "# sns.heatmap(pvt2)\n",
    "\n",
    "plt.subplot(1,2 ,1)\n",
    "plt.title('Train')\n",
    "sns.heatmap(pvt2,annot=True,fmt=\".2f\")\n",
    "\n",
    "plt.subplot(1,2, 2)\n",
    "plt.title('CV')\n",
    "sns.heatmap(pvt,annot=True,fmt=\".2f\")\n",
    "\n",
    "plt.subplots_adjust(top=0.92, bottom=0.08, left=0.10, right=2, hspace=0.25,\n",
    "                    wspace=0.35)\n",
    "plt.show()\n",
    "pvt.head(10)"
   ]
  },
  {
   "cell_type": "code",
   "execution_count": 99,
   "metadata": {},
   "outputs": [
    {
     "data": {
      "image/png": "[encoded data removed]",
      "text/plain": [
       "<Figure size 432x288 with 1 Axes>"
      ]
     },
     "metadata": {
      "needs_background": "light"
     },
     "output_type": "display_data"
    }
   ],
   "source": [
    "gsv = openfile('lightgbm_gridsearch')\n",
    "\n",
    "x1=[]\n",
    "y1=[]\n",
    "x2=[]\n",
    "y2=[]\n",
    "gsv.cv_results_\n",
    "means = gsv.cv_results_['mean_test_score']\n",
    "means_train = gsv.cv_results_['mean_train_score']\n",
    "stds = gsv.cv_results_['std_test_score']\n",
    "for mean, mean_train ,  std, params in zip(means, means_train,stds, gsv.cv_results_['params']):\n",
    "\n",
    "    if params['n_estimators'] == 1000:\n",
    "        x1.append(params['max_depth'])\n",
    "        y1.append(mean)\n",
    "        x2.append(params['max_depth'])\n",
    "        y2.append(mean_train)\n",
    "\n",
    "        \n",
    "\n",
    "plt.xlabel(\"Max Depth\",fontsize=15)\n",
    "plt.ylabel(\"F1\")\n",
    "plt.title('F1 v/s Max Depth')\n",
    "\n",
    "plt.plot(x1,y1,'b',label=\"Test\")\n",
    "plt.plot(x2,y2,'r',label=\"Train\")\n",
    "plt.legend()\n",
    "plt.show()"
   ]
  },
  {
   "cell_type": "code",
   "execution_count": 100,
   "metadata": {},
   "outputs": [
    {
     "data": {
      "image/png": "[encoded data removed]",
      "text/plain": [
       "<Figure size 432x288 with 1 Axes>"
      ]
     },
     "metadata": {
      "needs_background": "light"
     },
     "output_type": "display_data"
    }
   ],
   "source": [
    "gsv = openfile('lightgbm_gridsearch')\n",
    "\n",
    "x1=[]\n",
    "y1=[]\n",
    "x2=[]\n",
    "y2=[]\n",
    "gsv.cv_results_\n",
    "means = gsv.cv_results_['mean_test_score']\n",
    "means_train = gsv.cv_results_['mean_train_score']\n",
    "stds = gsv.cv_results_['std_test_score']\n",
    "for mean, mean_train ,  std, params in zip(means, means_train,stds, gsv.cv_results_['params']):\n",
    "\n",
    "    if params['max_depth'] == 10:\n",
    "        x1.append(params['n_estimators'])\n",
    "        y1.append(mean)\n",
    "        x2.append(params['n_estimators'])\n",
    "        y2.append(mean_train)\n",
    "\n",
    "        \n",
    "\n",
    "plt.xlabel(\"Estimators\",fontsize=15)\n",
    "plt.ylabel(\"F1\")\n",
    "plt.title('F1 v/s Estimators')\n",
    "\n",
    "plt.plot(x1,y1,'b',label=\"Test\")\n",
    "plt.plot(x2,y2,'r',label=\"Train\")\n",
    "plt.legend()\n",
    "plt.show()"
   ]
  },
  {
   "cell_type": "code",
   "execution_count": 101,
   "metadata": {},
   "outputs": [
    {
     "name": "stdout",
     "output_type": "stream",
     "text": [
      "\n",
      "The accuracy of the RF for max_depth = 4.000000 is 96.886125%\n"
     ]
    }
   ],
   "source": [
    "import xgboost as xgb\n",
    "from sklearn.metrics import accuracy_score\n",
    "\n",
    "clf = lgb.LGBMClassifier(  max_depth=4 , n_estimators=1000 , n_jobs=-1)\n",
    "\n",
    "# fitting the model\n",
    "clf.fit(df_train,y_train)\n",
    "\n",
    "# predict the response\n",
    "pred = clf.predict(df_test)\n",
    "\n",
    "# evaluate accuracy\n",
    "acc = accuracy_score(y_test, pred) * 100\n",
    "print('\\nThe accuracy of the RF for max_depth = %f is %f%%' % (4, acc))"
   ]
  },
  {
   "cell_type": "code",
   "execution_count": 102,
   "metadata": {},
   "outputs": [],
   "source": [
    "y_train_pred = clf.predict(df_train)\n",
    "y_test_pred = clf.predict(df_test)"
   ]
  },
  {
   "cell_type": "code",
   "execution_count": 103,
   "metadata": {},
   "outputs": [
    {
     "name": "stdout",
     "output_type": "stream",
     "text": [
      "Train f1 score 0.9957226698497961\n",
      "Test f1 score 0.9694975022039377\n"
     ]
    }
   ],
   "source": [
    "from sklearn.metrics import f1_score\n",
    "print('Train f1 score',f1_score(y_train,y_train_pred))\n",
    "print('Test f1 score',f1_score(y_test,y_test_pred))"
   ]
  },
  {
   "cell_type": "code",
   "execution_count": 104,
   "metadata": {},
   "outputs": [
    {
     "name": "stdout",
     "output_type": "stream",
     "text": [
      "Train confusion_matrix\n"
     ]
    },
    {
     "data": {
      "image/png": "[encoded data removed]",
      "text/plain": [
       "<Figure size 1440x288 with 6 Axes>"
      ]
     },
     "metadata": {
      "needs_background": "light"
     },
     "output_type": "display_data"
    },
    {
     "name": "stdout",
     "output_type": "stream",
     "text": [
      "Test confusion_matrix\n"
     ]
    },
    {
     "data": {
      "image/png": "[encoded data removed]",
      "text/plain": [
       "<Figure size 1440x288 with 6 Axes>"
      ]
     },
     "metadata": {
      "needs_background": "light"
     },
     "output_type": "display_data"
    }
   ],
   "source": [
    "print('Train confusion_matrix')\n",
    "plot_confusion_matrix(y_train,y_train_pred)\n",
    "print('Test confusion_matrix')\n",
    "plot_confusion_matrix(y_test,y_test_pred)"
   ]
  },
  {
   "cell_type": "code",
   "execution_count": 105,
   "metadata": {},
   "outputs": [
    {
     "data": {
      "image/png": "[encoded data removed]",
      "text/plain": [
       "<Figure size 432x288 with 1 Axes>"
      ]
     },
     "metadata": {
      "needs_background": "light"
     },
     "output_type": "display_data"
    }
   ],
   "source": [
    "from sklearn.metrics import roc_curve, auc\n",
    "fpr,tpr,ths = roc_curve(y_test,y_test_pred)\n",
    "auc_sc = auc(fpr, tpr)\n",
    "plt.plot(fpr, tpr, color='navy',label='ROC curve (area = %0.2f)' % auc_sc)\n",
    "plt.xlabel('False Positive Rate')\n",
    "plt.ylabel('True Positive Rate')\n",
    "plt.title('Receiver operating characteristic with test data')\n",
    "plt.legend()\n",
    "plt.show()"
   ]
  },
  {
   "cell_type": "markdown",
   "metadata": {},
   "source": [
    "## Conclusion:"
   ]
  },
  {
   "cell_type": "markdown",
   "metadata": {},
   "source": [
    "- For link prediction we can create manual features which includes various algorithms like PageRank , Kartz , Hitz score ,etc to get the information of graph. \n",
    "- To solve this problem , used Networkx library to create a graph from the data of connected edges .\n",
    "- Two types of graph are there : Directed and Undirected . Our problem consists the information of followers which means it is a directed graph .\n",
    "- In networkx , there are many functions which we can use to create manual features . Here we added addtional 52 features with the help of networkx . Because the information of  edges is not so important if we dont know the information of entire graph . So these additional features contain information like connected neighbours , nearest neighbours , etc . \n",
    "- In 2016 , node2vec paper was published (works similar as word2vec) which describes the generation of Random Walks based on the data of connected graphs . In node2vec , we have to decide the length of random walk and also number of random walks . Then it feeds the data of random walks into word2vec . It is same as feeding sentence in word2vec and than the algorithm creates embedding of words based on the context of word . Similarly node2vec creates embedding of nodes based on data of edges . \n",
    "- So instead of using manual features , used embedding and trained the model . \n",
    "- Lightgbm was performing better than XGBoost and also it is fast as compare to XGBoost . So used Lightgbm for hyperparameter tuning . \n",
    "- Got F1 score of 0.9694 for embedding features ."
   ]
  },
  {
   "cell_type": "code",
   "execution_count": 106,
   "metadata": {},
   "outputs": [
    {
     "data": {
      "text/html": [
       "<div>\n",
       "<style scoped>\n",
       "    .dataframe tbody tr th:only-of-type {\n",
       "        vertical-align: middle;\n",
       "    }\n",
       "\n",
       "    .dataframe tbody tr th {\n",
       "        vertical-align: top;\n",
       "    }\n",
       "\n",
       "    .dataframe thead th {\n",
       "        text-align: right;\n",
       "    }\n",
       "</style>\n",
       "<table border=\"1\" class=\"dataframe\">\n",
       "  <thead>\n",
       "    <tr style=\"text-align: right;\">\n",
       "      <th></th>\n",
       "      <th>Feature</th>\n",
       "      <th>Model</th>\n",
       "      <th>F1</th>\n",
       "      <th>F1_Test</th>\n",
       "    </tr>\n",
       "  </thead>\n",
       "  <tbody>\n",
       "    <tr>\n",
       "      <th>0</th>\n",
       "      <td>Manual</td>\n",
       "      <td>RF</td>\n",
       "      <td>0.965</td>\n",
       "      <td>0.9200</td>\n",
       "    </tr>\n",
       "    <tr>\n",
       "      <th>1</th>\n",
       "      <td>Embedding</td>\n",
       "      <td>XGBoost</td>\n",
       "      <td>0.950</td>\n",
       "      <td>0.9460</td>\n",
       "    </tr>\n",
       "    <tr>\n",
       "      <th>2</th>\n",
       "      <td>Embedding</td>\n",
       "      <td>RF</td>\n",
       "      <td>0.930</td>\n",
       "      <td>0.9377</td>\n",
       "    </tr>\n",
       "    <tr>\n",
       "      <th>3</th>\n",
       "      <td>Embedding</td>\n",
       "      <td>Lightgbm</td>\n",
       "      <td>0.970</td>\n",
       "      <td>0.9560</td>\n",
       "    </tr>\n",
       "    <tr>\n",
       "      <th>4</th>\n",
       "      <td>Embedding</td>\n",
       "      <td>Lightgbm-tuned</td>\n",
       "      <td>0.990</td>\n",
       "      <td>0.9690</td>\n",
       "    </tr>\n",
       "  </tbody>\n",
       "</table>\n",
       "</div>"
      ],
      "text/plain": [
       "     Feature           Model     F1  F1_Test\n",
       "0     Manual              RF  0.965   0.9200\n",
       "1  Embedding         XGBoost  0.950   0.9460\n",
       "2  Embedding              RF  0.930   0.9377\n",
       "3  Embedding        Lightgbm  0.970   0.9560\n",
       "4  Embedding  Lightgbm-tuned  0.990   0.9690"
      ]
     },
     "execution_count": 106,
     "metadata": {},
     "output_type": "execute_result"
    }
   ],
   "source": [
    "models = pd.DataFrame({'Feature': ['Manual', \"Embedding\" ,\"Embedding\" ,  \"Embedding\",\"Embedding\" ],'Model':['RF','XGBoost','RF','Lightgbm','Lightgbm-tuned']\\\n",
    "                       ,'F1': [0.965,0.95,0.93,0.97,0.99], 'F1_Test':[0.92,0.946,0.9377,0.956,0.969] }, \\\n",
    "                      columns = [\"Feature\", \"Model\",\"F1\", \"F1_Test\"])\n",
    "models"
   ]
  },
  {
   "cell_type": "code",
   "execution_count": null,
   "metadata": {},
   "outputs": [],
   "source": []
  },
  {
   "cell_type": "code",
   "execution_count": null,
   "metadata": {},
   "outputs": [],
   "source": []
  }
 ],
 "metadata": {
  "colab": {
   "collapsed_sections": [],
   "name": "FB_Models.ipynb",
   "provenance": [],
   "version": "0.3.2"
  },
  "kernelspec": {
   "display_name": "Python 3",
   "language": "python",
   "name": "python3"
  },
  "language_info": {
   "codemirror_mode": {
    "name": "ipython",
    "version": 3
   },
   "file_extension": ".py",
   "mimetype": "text/x-python",
   "name": "python",
   "nbconvert_exporter": "python",
   "pygments_lexer": "ipython3",
   "version": "3.6.7"
  }
 },
 "nbformat": 4,
 "nbformat_minor": 1
}
