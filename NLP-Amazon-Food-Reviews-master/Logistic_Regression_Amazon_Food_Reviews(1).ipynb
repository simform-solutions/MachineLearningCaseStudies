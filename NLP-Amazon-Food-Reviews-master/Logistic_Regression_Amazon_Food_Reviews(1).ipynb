{
 "cells": [
  {
   "cell_type": "code",
   "execution_count": 1,
   "metadata": {},
   "outputs": [],
   "source": [
    "%matplotlib inline\n",
    "import warnings\n",
    "warnings.filterwarnings(\"ignore\")\n",
    "\n",
    "import sqlite3\n",
    "import pandas as pd\n",
    "import numpy as np\n",
    "import nltk\n",
    "import string\n",
    "import matplotlib.pyplot as plt\n",
    "import seaborn as sns\n",
    "from sklearn.feature_extraction.text import TfidfTransformer\n",
    "from sklearn.feature_extraction.text import TfidfVectorizer\n",
    "\n",
    "from sklearn.feature_extraction.text import CountVectorizer\n",
    "from sklearn.metrics import confusion_matrix\n",
    "from sklearn import metrics\n",
    "from sklearn.metrics import roc_curve, auc\n",
    "from nltk.stem.porter import PorterStemmer\n",
    "\n",
    "import re\n",
    "# Tutorial about Python regular expressions: https://pymotw.com/2/re/\n",
    "import string\n",
    "from nltk.corpus import stopwords\n",
    "from nltk.stem import PorterStemmer\n",
    "from nltk.stem.wordnet import WordNetLemmatizer\n",
    "\n",
    "from gensim.models import Word2Vec\n",
    "from gensim.models import KeyedVectors\n",
    "import pickle\n",
    "def savefile(obj,filename):\n",
    "    pickle.dump(obj,open(filename+\".p\",\"wb\"))\n",
    "def openfile(filename):\n",
    "    temp = pickle.load(open(filename+\".p\",\"rb\"))\n",
    "    return temp\n",
    "from tqdm import tqdm\n",
    "import os"
   ]
  },
  {
   "cell_type": "code",
   "execution_count": 2,
   "metadata": {},
   "outputs": [],
   "source": [
    "if os.path.isfile('final.sqlite'):\n",
    "    conn = sqlite3.connect('final.sqlite')\n",
    "    final = pd.read_sql_query(\"\"\" SELECT * FROM Reviews WHERE Score != 3 \"\"\", conn)\n",
    "    conn.close()\n",
    "else:\n",
    "    print(\"Please the above cell\")"
   ]
  },
  {
   "cell_type": "code",
   "execution_count": 3,
   "metadata": {},
   "outputs": [
    {
     "name": "stdout",
     "output_type": "stream",
     "text": [
      "(364171, 12)\n"
     ]
    },
    {
     "data": {
      "text/html": [
       "<div>\n",
       "<style scoped>\n",
       "    .dataframe tbody tr th:only-of-type {\n",
       "        vertical-align: middle;\n",
       "    }\n",
       "\n",
       "    .dataframe tbody tr th {\n",
       "        vertical-align: top;\n",
       "    }\n",
       "\n",
       "    .dataframe thead th {\n",
       "        text-align: right;\n",
       "    }\n",
       "</style>\n",
       "<table border=\"1\" class=\"dataframe\">\n",
       "  <thead>\n",
       "    <tr style=\"text-align: right;\">\n",
       "      <th></th>\n",
       "      <th>index</th>\n",
       "      <th>Id</th>\n",
       "      <th>ProductId</th>\n",
       "      <th>UserId</th>\n",
       "      <th>ProfileName</th>\n",
       "      <th>HelpfulnessNumerator</th>\n",
       "      <th>HelpfulnessDenominator</th>\n",
       "      <th>Score</th>\n",
       "      <th>Time</th>\n",
       "      <th>Summary</th>\n",
       "      <th>Text</th>\n",
       "      <th>CleanedText</th>\n",
       "    </tr>\n",
       "  </thead>\n",
       "  <tbody>\n",
       "    <tr>\n",
       "      <th>0</th>\n",
       "      <td>138706</td>\n",
       "      <td>150524</td>\n",
       "      <td>0006641040</td>\n",
       "      <td>ACITT7DI6IDDL</td>\n",
       "      <td>shari zychinski</td>\n",
       "      <td>0</td>\n",
       "      <td>0</td>\n",
       "      <td>1</td>\n",
       "      <td>939340800</td>\n",
       "      <td>EVERY book is educational</td>\n",
       "      <td>this witty little book makes my son laugh at l...</td>\n",
       "      <td>witti littl book make son laugh loud recit car...</td>\n",
       "    </tr>\n",
       "    <tr>\n",
       "      <th>1</th>\n",
       "      <td>138688</td>\n",
       "      <td>150506</td>\n",
       "      <td>0006641040</td>\n",
       "      <td>A2IW4PEEKO2R0U</td>\n",
       "      <td>Tracy</td>\n",
       "      <td>1</td>\n",
       "      <td>1</td>\n",
       "      <td>1</td>\n",
       "      <td>1194739200</td>\n",
       "      <td>Love the book, miss the hard cover version</td>\n",
       "      <td>I grew up reading these Sendak books, and watc...</td>\n",
       "      <td>grew read sendak book watch realli rosi movi i...</td>\n",
       "    </tr>\n",
       "    <tr>\n",
       "      <th>2</th>\n",
       "      <td>138689</td>\n",
       "      <td>150507</td>\n",
       "      <td>0006641040</td>\n",
       "      <td>A1S4A3IQ2MU7V4</td>\n",
       "      <td>sally sue \"sally sue\"</td>\n",
       "      <td>1</td>\n",
       "      <td>1</td>\n",
       "      <td>1</td>\n",
       "      <td>1191456000</td>\n",
       "      <td>chicken soup with rice months</td>\n",
       "      <td>This is a fun way for children to learn their ...</td>\n",
       "      <td>fun way children learn month year learn poem t...</td>\n",
       "    </tr>\n",
       "    <tr>\n",
       "      <th>3</th>\n",
       "      <td>138690</td>\n",
       "      <td>150508</td>\n",
       "      <td>0006641040</td>\n",
       "      <td>AZGXZ2UUK6X</td>\n",
       "      <td>Catherine Hallberg \"(Kate)\"</td>\n",
       "      <td>1</td>\n",
       "      <td>1</td>\n",
       "      <td>1</td>\n",
       "      <td>1076025600</td>\n",
       "      <td>a good swingy rhythm for reading aloud</td>\n",
       "      <td>This is a great little book to read aloud- it ...</td>\n",
       "      <td>great littl book read nice rhythm well good re...</td>\n",
       "    </tr>\n",
       "    <tr>\n",
       "      <th>4</th>\n",
       "      <td>138691</td>\n",
       "      <td>150509</td>\n",
       "      <td>0006641040</td>\n",
       "      <td>A3CMRKGE0P909G</td>\n",
       "      <td>Teresa</td>\n",
       "      <td>3</td>\n",
       "      <td>4</td>\n",
       "      <td>1</td>\n",
       "      <td>1018396800</td>\n",
       "      <td>A great way to learn the months</td>\n",
       "      <td>This is a book of poetry about the months of t...</td>\n",
       "      <td>book poetri month year goe month cute littl po...</td>\n",
       "    </tr>\n",
       "  </tbody>\n",
       "</table>\n",
       "</div>"
      ],
      "text/plain": [
       "    index      Id   ProductId          UserId                  ProfileName  \\\n",
       "0  138706  150524  0006641040   ACITT7DI6IDDL              shari zychinski   \n",
       "1  138688  150506  0006641040  A2IW4PEEKO2R0U                        Tracy   \n",
       "2  138689  150507  0006641040  A1S4A3IQ2MU7V4        sally sue \"sally sue\"   \n",
       "3  138690  150508  0006641040     AZGXZ2UUK6X  Catherine Hallberg \"(Kate)\"   \n",
       "4  138691  150509  0006641040  A3CMRKGE0P909G                       Teresa   \n",
       "\n",
       "   HelpfulnessNumerator  HelpfulnessDenominator  Score        Time  \\\n",
       "0                     0                       0      1   939340800   \n",
       "1                     1                       1      1  1194739200   \n",
       "2                     1                       1      1  1191456000   \n",
       "3                     1                       1      1  1076025600   \n",
       "4                     3                       4      1  1018396800   \n",
       "\n",
       "                                      Summary  \\\n",
       "0                   EVERY book is educational   \n",
       "1  Love the book, miss the hard cover version   \n",
       "2               chicken soup with rice months   \n",
       "3      a good swingy rhythm for reading aloud   \n",
       "4             A great way to learn the months   \n",
       "\n",
       "                                                Text  \\\n",
       "0  this witty little book makes my son laugh at l...   \n",
       "1  I grew up reading these Sendak books, and watc...   \n",
       "2  This is a fun way for children to learn their ...   \n",
       "3  This is a great little book to read aloud- it ...   \n",
       "4  This is a book of poetry about the months of t...   \n",
       "\n",
       "                                         CleanedText  \n",
       "0  witti littl book make son laugh loud recit car...  \n",
       "1  grew read sendak book watch realli rosi movi i...  \n",
       "2  fun way children learn month year learn poem t...  \n",
       "3  great littl book read nice rhythm well good re...  \n",
       "4  book poetri month year goe month cute littl po...  "
      ]
     },
     "execution_count": 3,
     "metadata": {},
     "output_type": "execute_result"
    }
   ],
   "source": [
    "print (final.shape)\n",
    "final.head(5)"
   ]
  },
  {
   "cell_type": "code",
   "execution_count": 4,
   "metadata": {},
   "outputs": [
    {
     "name": "stdout",
     "output_type": "stream",
     "text": [
      "(364171, 12)\n",
      "(364171,)\n"
     ]
    },
    {
     "data": {
      "text/html": [
       "<div>\n",
       "<style scoped>\n",
       "    .dataframe tbody tr th:only-of-type {\n",
       "        vertical-align: middle;\n",
       "    }\n",
       "\n",
       "    .dataframe tbody tr th {\n",
       "        vertical-align: top;\n",
       "    }\n",
       "\n",
       "    .dataframe thead th {\n",
       "        text-align: right;\n",
       "    }\n",
       "</style>\n",
       "<table border=\"1\" class=\"dataframe\">\n",
       "  <thead>\n",
       "    <tr style=\"text-align: right;\">\n",
       "      <th></th>\n",
       "      <th>index</th>\n",
       "      <th>Id</th>\n",
       "      <th>ProductId</th>\n",
       "      <th>UserId</th>\n",
       "      <th>ProfileName</th>\n",
       "      <th>HelpfulnessNumerator</th>\n",
       "      <th>HelpfulnessDenominator</th>\n",
       "      <th>Score</th>\n",
       "      <th>Time</th>\n",
       "      <th>Summary</th>\n",
       "      <th>Text</th>\n",
       "      <th>CleanedText</th>\n",
       "    </tr>\n",
       "  </thead>\n",
       "  <tbody>\n",
       "    <tr>\n",
       "      <th>0</th>\n",
       "      <td>138706</td>\n",
       "      <td>150524</td>\n",
       "      <td>0006641040</td>\n",
       "      <td>ACITT7DI6IDDL</td>\n",
       "      <td>shari zychinski</td>\n",
       "      <td>0</td>\n",
       "      <td>0</td>\n",
       "      <td>1</td>\n",
       "      <td>1999-10-08</td>\n",
       "      <td>EVERY book is educational</td>\n",
       "      <td>this witty little book makes my son laugh at l...</td>\n",
       "      <td>witti littl book make son laugh loud recit car...</td>\n",
       "    </tr>\n",
       "    <tr>\n",
       "      <th>30</th>\n",
       "      <td>138683</td>\n",
       "      <td>150501</td>\n",
       "      <td>0006641040</td>\n",
       "      <td>AJ46FKXOVC7NR</td>\n",
       "      <td>Nicholas A Mesiano</td>\n",
       "      <td>2</td>\n",
       "      <td>2</td>\n",
       "      <td>1</td>\n",
       "      <td>1999-10-25</td>\n",
       "      <td>This whole series is great way to spend time w...</td>\n",
       "      <td>I can remember seeing the show when it aired o...</td>\n",
       "      <td>rememb see show air televis year ago child sis...</td>\n",
       "    </tr>\n",
       "    <tr>\n",
       "      <th>424</th>\n",
       "      <td>417839</td>\n",
       "      <td>451856</td>\n",
       "      <td>B00004CXX9</td>\n",
       "      <td>AIUWLEQ1ADEG5</td>\n",
       "      <td>Elizabeth Medina</td>\n",
       "      <td>0</td>\n",
       "      <td>0</td>\n",
       "      <td>1</td>\n",
       "      <td>1999-12-02</td>\n",
       "      <td>Entertainingl Funny!</td>\n",
       "      <td>Beetlejuice is a well written movie ..... ever...</td>\n",
       "      <td>beetlejuic well written movi everyth excel act...</td>\n",
       "    </tr>\n",
       "    <tr>\n",
       "      <th>330</th>\n",
       "      <td>346055</td>\n",
       "      <td>374359</td>\n",
       "      <td>B00004CI84</td>\n",
       "      <td>A344SMIA5JECGM</td>\n",
       "      <td>Vincent P. Ross</td>\n",
       "      <td>1</td>\n",
       "      <td>2</td>\n",
       "      <td>1</td>\n",
       "      <td>1999-12-06</td>\n",
       "      <td>A modern day fairy tale</td>\n",
       "      <td>A twist of rumplestiskin captured on film, sta...</td>\n",
       "      <td>twist rumplestiskin captur film star michael k...</td>\n",
       "    </tr>\n",
       "    <tr>\n",
       "      <th>423</th>\n",
       "      <td>417838</td>\n",
       "      <td>451855</td>\n",
       "      <td>B00004CXX9</td>\n",
       "      <td>AJH6LUC1UT1ON</td>\n",
       "      <td>The Phantom of the Opera</td>\n",
       "      <td>0</td>\n",
       "      <td>0</td>\n",
       "      <td>1</td>\n",
       "      <td>2000-01-03</td>\n",
       "      <td>FANTASTIC!</td>\n",
       "      <td>Beetlejuice is an excellent and funny movie. K...</td>\n",
       "      <td>beetlejuic excel funni movi keaton hilari wack...</td>\n",
       "    </tr>\n",
       "  </tbody>\n",
       "</table>\n",
       "</div>"
      ],
      "text/plain": [
       "      index      Id   ProductId          UserId               ProfileName  \\\n",
       "0    138706  150524  0006641040   ACITT7DI6IDDL           shari zychinski   \n",
       "30   138683  150501  0006641040   AJ46FKXOVC7NR        Nicholas A Mesiano   \n",
       "424  417839  451856  B00004CXX9   AIUWLEQ1ADEG5          Elizabeth Medina   \n",
       "330  346055  374359  B00004CI84  A344SMIA5JECGM           Vincent P. Ross   \n",
       "423  417838  451855  B00004CXX9   AJH6LUC1UT1ON  The Phantom of the Opera   \n",
       "\n",
       "     HelpfulnessNumerator  HelpfulnessDenominator  Score       Time  \\\n",
       "0                       0                       0      1 1999-10-08   \n",
       "30                      2                       2      1 1999-10-25   \n",
       "424                     0                       0      1 1999-12-02   \n",
       "330                     1                       2      1 1999-12-06   \n",
       "423                     0                       0      1 2000-01-03   \n",
       "\n",
       "                                               Summary  \\\n",
       "0                            EVERY book is educational   \n",
       "30   This whole series is great way to spend time w...   \n",
       "424                               Entertainingl Funny!   \n",
       "330                            A modern day fairy tale   \n",
       "423                                         FANTASTIC!   \n",
       "\n",
       "                                                  Text  \\\n",
       "0    this witty little book makes my son laugh at l...   \n",
       "30   I can remember seeing the show when it aired o...   \n",
       "424  Beetlejuice is a well written movie ..... ever...   \n",
       "330  A twist of rumplestiskin captured on film, sta...   \n",
       "423  Beetlejuice is an excellent and funny movie. K...   \n",
       "\n",
       "                                           CleanedText  \n",
       "0    witti littl book make son laugh loud recit car...  \n",
       "30   rememb see show air televis year ago child sis...  \n",
       "424  beetlejuic well written movi everyth excel act...  \n",
       "330  twist rumplestiskin captur film star michael k...  \n",
       "423  beetlejuic excel funni movi keaton hilari wack...  "
      ]
     },
     "execution_count": 4,
     "metadata": {},
     "output_type": "execute_result"
    }
   ],
   "source": [
    "\n",
    "\n",
    "final[\"Time\"] = pd.to_datetime(final[\"Time\"] , unit = \"s\")\n",
    "reviews_timesorted = final.sort_values(by = \"Time\")\n",
    "print (reviews_timesorted.shape)\n",
    "reviews_timesorted_score = reviews_timesorted[\"Score\"]\n",
    "print (reviews_timesorted_score.shape)\n",
    "reviews_timesorted.head(5)"
   ]
  },
  {
   "cell_type": "code",
   "execution_count": 5,
   "metadata": {},
   "outputs": [
    {
     "name": "stdout",
     "output_type": "stream",
     "text": [
      "(100000, 12)\n",
      "(100000,)\n"
     ]
    },
    {
     "data": {
      "text/html": [
       "<div>\n",
       "<style scoped>\n",
       "    .dataframe tbody tr th:only-of-type {\n",
       "        vertical-align: middle;\n",
       "    }\n",
       "\n",
       "    .dataframe tbody tr th {\n",
       "        vertical-align: top;\n",
       "    }\n",
       "\n",
       "    .dataframe thead th {\n",
       "        text-align: right;\n",
       "    }\n",
       "</style>\n",
       "<table border=\"1\" class=\"dataframe\">\n",
       "  <thead>\n",
       "    <tr style=\"text-align: right;\">\n",
       "      <th></th>\n",
       "      <th>index</th>\n",
       "      <th>Id</th>\n",
       "      <th>ProductId</th>\n",
       "      <th>UserId</th>\n",
       "      <th>ProfileName</th>\n",
       "      <th>HelpfulnessNumerator</th>\n",
       "      <th>HelpfulnessDenominator</th>\n",
       "      <th>Score</th>\n",
       "      <th>Time</th>\n",
       "      <th>Summary</th>\n",
       "      <th>Text</th>\n",
       "      <th>CleanedText</th>\n",
       "    </tr>\n",
       "  </thead>\n",
       "  <tbody>\n",
       "    <tr>\n",
       "      <th>0</th>\n",
       "      <td>138706</td>\n",
       "      <td>150524</td>\n",
       "      <td>0006641040</td>\n",
       "      <td>ACITT7DI6IDDL</td>\n",
       "      <td>shari zychinski</td>\n",
       "      <td>0</td>\n",
       "      <td>0</td>\n",
       "      <td>1</td>\n",
       "      <td>1999-10-08</td>\n",
       "      <td>EVERY book is educational</td>\n",
       "      <td>this witty little book makes my son laugh at l...</td>\n",
       "      <td>witti littl book make son laugh loud recit car...</td>\n",
       "    </tr>\n",
       "    <tr>\n",
       "      <th>30</th>\n",
       "      <td>138683</td>\n",
       "      <td>150501</td>\n",
       "      <td>0006641040</td>\n",
       "      <td>AJ46FKXOVC7NR</td>\n",
       "      <td>Nicholas A Mesiano</td>\n",
       "      <td>2</td>\n",
       "      <td>2</td>\n",
       "      <td>1</td>\n",
       "      <td>1999-10-25</td>\n",
       "      <td>This whole series is great way to spend time w...</td>\n",
       "      <td>I can remember seeing the show when it aired o...</td>\n",
       "      <td>rememb see show air televis year ago child sis...</td>\n",
       "    </tr>\n",
       "    <tr>\n",
       "      <th>424</th>\n",
       "      <td>417839</td>\n",
       "      <td>451856</td>\n",
       "      <td>B00004CXX9</td>\n",
       "      <td>AIUWLEQ1ADEG5</td>\n",
       "      <td>Elizabeth Medina</td>\n",
       "      <td>0</td>\n",
       "      <td>0</td>\n",
       "      <td>1</td>\n",
       "      <td>1999-12-02</td>\n",
       "      <td>Entertainingl Funny!</td>\n",
       "      <td>Beetlejuice is a well written movie ..... ever...</td>\n",
       "      <td>beetlejuic well written movi everyth excel act...</td>\n",
       "    </tr>\n",
       "    <tr>\n",
       "      <th>330</th>\n",
       "      <td>346055</td>\n",
       "      <td>374359</td>\n",
       "      <td>B00004CI84</td>\n",
       "      <td>A344SMIA5JECGM</td>\n",
       "      <td>Vincent P. Ross</td>\n",
       "      <td>1</td>\n",
       "      <td>2</td>\n",
       "      <td>1</td>\n",
       "      <td>1999-12-06</td>\n",
       "      <td>A modern day fairy tale</td>\n",
       "      <td>A twist of rumplestiskin captured on film, sta...</td>\n",
       "      <td>twist rumplestiskin captur film star michael k...</td>\n",
       "    </tr>\n",
       "    <tr>\n",
       "      <th>423</th>\n",
       "      <td>417838</td>\n",
       "      <td>451855</td>\n",
       "      <td>B00004CXX9</td>\n",
       "      <td>AJH6LUC1UT1ON</td>\n",
       "      <td>The Phantom of the Opera</td>\n",
       "      <td>0</td>\n",
       "      <td>0</td>\n",
       "      <td>1</td>\n",
       "      <td>2000-01-03</td>\n",
       "      <td>FANTASTIC!</td>\n",
       "      <td>Beetlejuice is an excellent and funny movie. K...</td>\n",
       "      <td>beetlejuic excel funni movi keaton hilari wack...</td>\n",
       "    </tr>\n",
       "  </tbody>\n",
       "</table>\n",
       "</div>"
      ],
      "text/plain": [
       "      index      Id   ProductId          UserId               ProfileName  \\\n",
       "0    138706  150524  0006641040   ACITT7DI6IDDL           shari zychinski   \n",
       "30   138683  150501  0006641040   AJ46FKXOVC7NR        Nicholas A Mesiano   \n",
       "424  417839  451856  B00004CXX9   AIUWLEQ1ADEG5          Elizabeth Medina   \n",
       "330  346055  374359  B00004CI84  A344SMIA5JECGM           Vincent P. Ross   \n",
       "423  417838  451855  B00004CXX9   AJH6LUC1UT1ON  The Phantom of the Opera   \n",
       "\n",
       "     HelpfulnessNumerator  HelpfulnessDenominator  Score       Time  \\\n",
       "0                       0                       0      1 1999-10-08   \n",
       "30                      2                       2      1 1999-10-25   \n",
       "424                     0                       0      1 1999-12-02   \n",
       "330                     1                       2      1 1999-12-06   \n",
       "423                     0                       0      1 2000-01-03   \n",
       "\n",
       "                                               Summary  \\\n",
       "0                            EVERY book is educational   \n",
       "30   This whole series is great way to spend time w...   \n",
       "424                               Entertainingl Funny!   \n",
       "330                            A modern day fairy tale   \n",
       "423                                         FANTASTIC!   \n",
       "\n",
       "                                                  Text  \\\n",
       "0    this witty little book makes my son laugh at l...   \n",
       "30   I can remember seeing the show when it aired o...   \n",
       "424  Beetlejuice is a well written movie ..... ever...   \n",
       "330  A twist of rumplestiskin captured on film, sta...   \n",
       "423  Beetlejuice is an excellent and funny movie. K...   \n",
       "\n",
       "                                           CleanedText  \n",
       "0    witti littl book make son laugh loud recit car...  \n",
       "30   rememb see show air televis year ago child sis...  \n",
       "424  beetlejuic well written movi everyth excel act...  \n",
       "330  twist rumplestiskin captur film star michael k...  \n",
       "423  beetlejuic excel funni movi keaton hilari wack...  "
      ]
     },
     "execution_count": 5,
     "metadata": {},
     "output_type": "execute_result"
    }
   ],
   "source": [
    "\n",
    "reviews_100k = reviews_timesorted.head(100000)\n",
    "print (reviews_100k.shape)\n",
    "\n",
    "\n",
    "reviews_100k_score = reviews_100k[\"Score\"]\n",
    "print (reviews_100k_score.shape)\n",
    "\n",
    "reviews_100k.head()\n",
    "\n"
   ]
  },
  {
   "cell_type": "code",
   "execution_count": 6,
   "metadata": {},
   "outputs": [
    {
     "name": "stdout",
     "output_type": "stream",
     "text": [
      "No of +ve reviews 87729\n",
      "No of -ve reviews 12271\n"
     ]
    }
   ],
   "source": [
    "\n",
    "pos_reviews = reviews_100k[reviews_100k[\"Score\"] == 1]\n",
    "print (\"No of +ve reviews\" , len(pos_reviews))\n",
    "neg_reviews = reviews_100k[reviews_100k[\"Score\"] == 0]\n",
    "print (\"No of -ve reviews\" , len(neg_reviews))\n"
   ]
  },
  {
   "cell_type": "code",
   "execution_count": 7,
   "metadata": {},
   "outputs": [
    {
     "name": "stdout",
     "output_type": "stream",
     "text": [
      "(70000, 12)\n",
      "(70000,)\n",
      "(30000, 12)\n",
      "(30000,)\n"
     ]
    }
   ],
   "source": [
    "from sklearn import model_selection\n",
    "\n",
    "reviews_train, reviews_test, reviews_score_train , reviews_score_test = model_selection.train_test_split(reviews_100k, reviews_100k_score, test_size=0.3, random_state=0)\n",
    "print (reviews_train.shape)\n",
    "print (reviews_score_train.shape)\n",
    "print (reviews_test.shape)\n",
    "print (reviews_score_test.shape)"
   ]
  },
  {
   "cell_type": "markdown",
   "metadata": {},
   "source": [
    "# BoW :"
   ]
  },
  {
   "cell_type": "code",
   "execution_count": 28,
   "metadata": {},
   "outputs": [
    {
     "name": "stdout",
     "output_type": "stream",
     "text": [
      "the type of count vectorizer  <class 'scipy.sparse.csr.csr_matrix'>\n",
      "(70000, 31572)\n",
      "(30000, 31572)\n"
     ]
    }
   ],
   "source": [
    "count_vect = CountVectorizer() #in scikit-learn\n",
    "reviews_train_bow = count_vect.fit_transform(reviews_train['CleanedText'].values)\n",
    "# reviews_cv_bow = count_vect.transform(reviews_cv['CleanedText'].values)\n",
    "reviews_test_bow = count_vect.transform(reviews_test['CleanedText'].values)\n",
    "\n",
    "print(\"the type of count vectorizer \",type(reviews_train_bow))\n",
    "print (reviews_train_bow.shape)\n",
    "# print (reviews_cv_bow.shape)\n",
    "print (reviews_test_bow.shape)"
   ]
  },
  {
   "cell_type": "code",
   "execution_count": 29,
   "metadata": {},
   "outputs": [
    {
     "name": "stdout",
     "output_type": "stream",
     "text": [
      "(70000, 31572)\n",
      "(30000, 31572)\n"
     ]
    },
    {
     "name": "stderr",
     "output_type": "stream",
     "text": [
      "/anaconda3/envs/yolo/lib/python3.6/site-packages/sklearn/utils/validation.py:590: DataConversionWarning: Data with input dtype int64 was converted to float64 by StandardScaler.\n",
      "  warnings.warn(msg, DataConversionWarning)\n",
      "/anaconda3/envs/yolo/lib/python3.6/site-packages/sklearn/utils/validation.py:590: DataConversionWarning: Data with input dtype int64 was converted to float64 by StandardScaler.\n",
      "  warnings.warn(msg, DataConversionWarning)\n",
      "/anaconda3/envs/yolo/lib/python3.6/site-packages/sklearn/utils/validation.py:590: DataConversionWarning: Data with input dtype int64 was converted to float64 by StandardScaler.\n",
      "  warnings.warn(msg, DataConversionWarning)\n",
      "/anaconda3/envs/yolo/lib/python3.6/site-packages/sklearn/utils/validation.py:590: DataConversionWarning: Data with input dtype int64 was converted to float64 by StandardScaler.\n",
      "  warnings.warn(msg, DataConversionWarning)\n"
     ]
    }
   ],
   "source": [
    "#This scaler can also be applied to sparse CSR or CSC matrices by passing \n",
    "#with_mean=False to avoid breaking the sparsity structure of the data.\n",
    "\n",
    "from sklearn.preprocessing import StandardScaler\n",
    "\n",
    "reviews_std_train_bow = StandardScaler(with_mean = False).fit_transform(reviews_train_bow)\n",
    "reviews_std_test_bow = StandardScaler(with_mean = False).fit_transform(reviews_test_bow)\n",
    "\n",
    "print (reviews_std_train_bow.shape)\n",
    "print (reviews_std_test_bow.shape)"
   ]
  },
  {
   "cell_type": "code",
   "execution_count": 16,
   "metadata": {
    "scrolled": false
   },
   "outputs": [
    {
     "name": "stdout",
     "output_type": "stream",
     "text": [
      "Fitting 5 folds for each of 10 candidates, totalling 50 fits\n"
     ]
    },
    {
     "name": "stderr",
     "output_type": "stream",
     "text": [
      "[Parallel(n_jobs=-1)]: Using backend LokyBackend with 4 concurrent workers.\n",
      "[Parallel(n_jobs=-1)]: Done  42 tasks      | elapsed: 122.5min\n",
      "[Parallel(n_jobs=-1)]: Done  50 out of  50 | elapsed: 140.6min finished\n"
     ]
    },
    {
     "name": "stdout",
     "output_type": "stream",
     "text": [
      "LogisticRegression(C=0.01, class_weight='balanced', dual=False,\n",
      "          fit_intercept=True, intercept_scaling=1, max_iter=100,\n",
      "          multi_class='warn', n_jobs=None, penalty='l1', random_state=None,\n",
      "          solver='warn', tol=0.0001, verbose=0, warm_start=False)\n",
      "0.8953328332898942\n"
     ]
    }
   ],
   "source": [
    "from sklearn.linear_model import LogisticRegression\n",
    "from sklearn.metrics import accuracy_score\n",
    "from sklearn.model_selection import GridSearchCV , TimeSeriesSplit\n",
    "from sklearn.model_selection import cross_val_score\n",
    "    \n",
    "    \n",
    "# tuned_parameters = [{'C': [1000,500,100,50,10,5,1,0.5,0.1,0.05,0.01,0.005,0.001,0.0005,0.0001]} , { 'penalty' : ['l1' , 'l2'] }]\n",
    "clf = LogisticRegression(class_weight = 'balanced' )\n",
    "param_grid = {'C': [10**-4, 10**-2, 10**0, 10**2, 10**4] , 'penalty' : ['l1' , 'l2'] }\n",
    "#Using GridSearchCV\n",
    "model = GridSearchCV(clf, param_grid, scoring = 'roc_auc', cv=5 , verbose=1 ,n_jobs=-1)\n",
    "model.fit(reviews_std_train_bow, reviews_score_train)\n",
    "savefile(model,\"GridSearch_BoW_Logistic_Regression\")\n",
    "print(model.best_estimator_)\n",
    "print(model.score(reviews_train_bow, reviews_score_train))    \n",
    "# weight = model.coef_\n",
    "    \n",
    " "
   ]
  },
  {
   "cell_type": "code",
   "execution_count": 28,
   "metadata": {},
   "outputs": [
    {
     "name": "stdout",
     "output_type": "stream",
     "text": [
      "0.500 (+/-0.000) for {'C': 0.0001, 'penalty': 'l1'}\n",
      "0.924 (+/-0.004) for {'C': 0.0001, 'penalty': 'l2'}\n",
      "0.930 (+/-0.004) for {'C': 0.01, 'penalty': 'l1'}\n",
      "0.879 (+/-0.009) for {'C': 0.01, 'penalty': 'l2'}\n",
      "0.840 (+/-0.014) for {'C': 1, 'penalty': 'l1'}\n",
      "0.816 (+/-0.015) for {'C': 1, 'penalty': 'l2'}\n",
      "0.805 (+/-0.013) for {'C': 100, 'penalty': 'l1'}\n",
      "0.802 (+/-0.015) for {'C': 100, 'penalty': 'l2'}\n",
      "0.802 (+/-0.013) for {'C': 10000, 'penalty': 'l1'}\n",
      "0.798 (+/-0.017) for {'C': 10000, 'penalty': 'l2'}\n"
     ]
    },
    {
     "data": {
      "image/png": "[encoded data removed]",
      "text/plain": [
       "<Figure size 432x288 with 1 Axes>"
      ]
     },
     "metadata": {
      "needs_background": "light"
     },
     "output_type": "display_data"
    }
   ],
   "source": [
    "gsv = openfile(\"GridSearch_BoW_Logistic_Regression\")\n",
    "\n",
    "gsv.cv_results_\n",
    "\n",
    "x1 = []\n",
    "y1 = []\n",
    "x2 = []\n",
    "y2 = []\n",
    "\n",
    "means = gsv.cv_results_['mean_test_score']\n",
    "stds = gsv.cv_results_['std_test_score']\n",
    "for mean, std, params in zip(means, stds, gsv.cv_results_['params']):\n",
    "    print(\"%0.3f (+/-%0.03f) for %r\"\n",
    "          % (mean, std * 2, params))\n",
    "    if params['penalty'] == 'l1':\n",
    "        x1.append(params['C'])\n",
    "        y1.append(mean)\n",
    "    else:\n",
    "        x2.append(params['C'])\n",
    "        y2.append(mean)\n",
    "        \n",
    "# plt.xlim(-10,1010)\n",
    "# plt.ylim(0.5,1)\n",
    "plt.xlabel(\"C\",fontsize=15)\n",
    "plt.ylabel(\"Misclassification Error\")\n",
    "plt.title('Misclassification Error v/s C')\n",
    "plt.plot(x1,y1,'b',label=\"L1\")\n",
    "plt.plot(x2,y2,'r',label=\"L2\")\n",
    "plt.legend()\n",
    "plt.show()\n",
    "\n"
   ]
  },
  {
   "cell_type": "code",
   "execution_count": 30,
   "metadata": {
    "scrolled": true
   },
   "outputs": [
    {
     "name": "stderr",
     "output_type": "stream",
     "text": [
      "/anaconda3/envs/yolo/lib/python3.6/site-packages/sklearn/linear_model/logistic.py:1296: UserWarning: 'n_jobs' > 1 does not have any effect when 'solver' is set to 'liblinear'. Got 'n_jobs' = 4.\n",
      "  \" = {}.\".format(effective_n_jobs(self.n_jobs)))\n"
     ]
    },
    {
     "name": "stdout",
     "output_type": "stream",
     "text": [
      "\n",
      "The accuracy of the Logistic Regression for C = 0.010000 is 92.481429%\n",
      "4505\n"
     ]
    }
   ],
   "source": [
    "from sklearn.linear_model import LogisticRegression\n",
    "from sklearn.metrics import accuracy_score\n",
    "model = LogisticRegression(C = 0.01 , penalty= 'l1' , class_weight = 'balanced' , n_jobs = -1)\n",
    "\n",
    "# fitting the model\n",
    "model.fit(reviews_std_train_bow , reviews_score_train)\n",
    "\n",
    "# predict the response\n",
    "pred = model.predict(reviews_std_train_bow)\n",
    "\n",
    "# evaluate accuracy\n",
    "acc = accuracy_score(reviews_score_train, pred) * 100\n",
    "print('\\nThe accuracy of the Logistic Regression for C = %f is %f%%' % (0.01, acc))\n",
    "weight = model.coef_\n",
    "print (np.count_nonzero(model.coef_))"
   ]
  },
  {
   "cell_type": "code",
   "execution_count": 26,
   "metadata": {},
   "outputs": [
    {
     "name": "stdout",
     "output_type": "stream",
     "text": [
      "[[ 8040   566]\n",
      " [ 2960 58434]]\n"
     ]
    },
    {
     "data": {
      "image/png": "[encoded data removed]",
      "text/plain": [
       "<Figure size 432x288 with 2 Axes>"
      ]
     },
     "metadata": {
      "needs_background": "light"
     },
     "output_type": "display_data"
    }
   ],
   "source": [
    "from sklearn.metrics import confusion_matrix\n",
    "conf_matrix = confusion_matrix(reviews_score_train, pred)\n",
    "print (conf_matrix)\n",
    "class_label = [\"negative\", \"positive\"]\n",
    "df_cm = pd.DataFrame(conf_matrix, index = class_label, columns = class_label)\n",
    "sns.heatmap(df_cm, annot = True, fmt = \"d\")\n",
    "plt.title(\"Confusiion Matrix\")\n",
    "plt.xlabel(\"Predicted Label\")\n",
    "plt.ylabel(\"True Label\")\n",
    "plt.show()"
   ]
  },
  {
   "cell_type": "code",
   "execution_count": 27,
   "metadata": {},
   "outputs": [
    {
     "name": "stdout",
     "output_type": "stream",
     "text": [
      "              precision    recall  f1-score   support\n",
      "\n",
      "           0       0.73      0.93      0.82      8606\n",
      "           1       0.99      0.95      0.97     61394\n",
      "\n",
      "   micro avg       0.95      0.95      0.95     70000\n",
      "   macro avg       0.86      0.94      0.90     70000\n",
      "weighted avg       0.96      0.95      0.95     70000\n",
      "\n"
     ]
    }
   ],
   "source": [
    "from sklearn.metrics import classification_report\n",
    "print (classification_report(reviews_score_train, pred))"
   ]
  },
  {
   "cell_type": "markdown",
   "metadata": {},
   "source": [
    "### Feature-Extraction :"
   ]
  },
  {
   "cell_type": "code",
   "execution_count": 29,
   "metadata": {},
   "outputs": [
    {
     "name": "stdout",
     "output_type": "stream",
     "text": [
      "(1, 31572)\n",
      "31572\n"
     ]
    }
   ],
   "source": [
    "log_prob_reviews = model.coef_\n",
    "bow_features = count_vect.get_feature_names()\n",
    "\n",
    "print (log_prob_reviews.shape)\n",
    "print (len(bow_features))\n"
   ]
  },
  {
   "cell_type": "code",
   "execution_count": 30,
   "metadata": {},
   "outputs": [
    {
     "name": "stdout",
     "output_type": "stream",
     "text": [
      "(31572, 1)\n"
     ]
    }
   ],
   "source": [
    "feature_prob = pd.DataFrame(log_prob_reviews, columns = bow_features)\n",
    "feature_prob_transpose = feature_prob.T\n",
    "print (feature_prob_transpose.shape)\n",
    "\n",
    "\n"
   ]
  },
  {
   "cell_type": "code",
   "execution_count": 32,
   "metadata": {},
   "outputs": [
    {
     "name": "stdout",
     "output_type": "stream",
     "text": [
      "\n",
      "\n",
      "  25 Positive Features:-\n",
      " great      0.195041\n",
      "love       0.150351\n",
      "best       0.145029\n",
      "delici     0.115989\n",
      "good       0.094601\n",
      "excel      0.094002\n",
      "perfect    0.093896\n",
      "favorit    0.085513\n",
      "nice       0.079817\n",
      "wonder     0.075264\n",
      "find       0.071845\n",
      "tasti      0.068664\n",
      "easi       0.068468\n",
      "thank      0.064608\n",
      "amaz       0.059321\n",
      "keep       0.058510\n",
      "alway      0.057533\n",
      "high       0.056456\n",
      "yummi      0.056208\n",
      "addict     0.055264\n",
      "awesom     0.054811\n",
      "make       0.054662\n",
      "happi      0.054542\n",
      "snack      0.053879\n",
      "enjoy      0.052018\n",
      "Name: 0, dtype: float64\n",
      "\n",
      "\n",
      "  25 Negative Features:-\n",
      " disappoint   -0.153719\n",
      "worst        -0.103367\n",
      "terribl      -0.094337\n",
      "horribl      -0.083549\n",
      "bad          -0.078929\n",
      "return       -0.078390\n",
      "money        -0.078067\n",
      "aw           -0.077202\n",
      "thought      -0.074718\n",
      "unfortun     -0.071501\n",
      "would        -0.071446\n",
      "stale        -0.070457\n",
      "bland        -0.068163\n",
      "wast         -0.067319\n",
      "threw        -0.065734\n",
      "weak         -0.063315\n",
      "didnt        -0.057026\n",
      "mayb         -0.056424\n",
      "sorri        -0.055066\n",
      "hope         -0.054135\n",
      "tast         -0.053449\n",
      "receiv       -0.052917\n",
      "tasteless    -0.052521\n",
      "disgust      -0.050711\n",
      "poor         -0.049927\n",
      "Name: 0, dtype: float64\n"
     ]
    }
   ],
   "source": [
    "print(\"\\n\\n  25 Positive Features:-\\n\",feature_prob_transpose[0].sort_values(ascending = False)[0:25])\n",
    "neg_prob = feature_prob_transpose[feature_prob_transpose[0] < 0]\n",
    "print(\"\\n\\n  25 Negative Features:-\\n\",neg_prob[0].sort_values(ascending = True )[0:25])\n"
   ]
  },
  {
   "cell_type": "markdown",
   "metadata": {},
   "source": [
    "## Perturbation Test :"
   ]
  },
  {
   "cell_type": "code",
   "execution_count": 136,
   "metadata": {},
   "outputs": [],
   "source": [
    "from scipy.sparse import find\n",
    "from scipy.sparse import csr_matrix\n",
    "\n",
    "reviews_std_train_bow_collinear = reviews_std_train_bow\n",
    "\n",
    "epsilon = np.random.normal(loc=0.0, scale=0.001, size=(find(reviews_std_train_bow_collinear)[0].size)) \n",
    "# epsilon = np.random.uniform(low=-0.0001, high=0.0001, size=(find(reviews_std_train_bow_collinear)[0].size,))\n",
    "\n",
    "index_0 , index_1 , index_2 = find(reviews_std_train_bow_collinear)\n",
    "reviews_std_train_bow_collinear[index_0,index_1] = epsilon + reviews_std_train_bow_collinear[index_0,index_1]"
   ]
  },
  {
   "cell_type": "code",
   "execution_count": 137,
   "metadata": {},
   "outputs": [
    {
     "name": "stderr",
     "output_type": "stream",
     "text": [
      "/anaconda3/envs/yolo/lib/python3.6/site-packages/sklearn/linear_model/logistic.py:1296: UserWarning: 'n_jobs' > 1 does not have any effect when 'solver' is set to 'liblinear'. Got 'n_jobs' = 4.\n",
      "  \" = {}.\".format(effective_n_jobs(self.n_jobs)))\n"
     ]
    },
    {
     "name": "stdout",
     "output_type": "stream",
     "text": [
      "\n",
      "The accuracy of the Logistic Regression for C = 1.000000 is 94.961429%\n",
      "31572\n"
     ]
    }
   ],
   "source": [
    "\n",
    "model = LogisticRegression(C = 0.0001 , penalty= 'l2' , class_weight = 'balanced' , n_jobs = -1)\n",
    "\n",
    "# fitting the model\n",
    "model.fit(reviews_std_train_bow_collinear , reviews_score_train)\n",
    "\n",
    "# predict the response\n",
    "pred = model.predict(reviews_std_train_bow_collinear)\n",
    "\n",
    "# evaluate accuracy\n",
    "acc = accuracy_score(reviews_score_train, pred) * 100\n",
    "print('\\nThe accuracy of the Logistic Regression for C = %f is %f%%' % (1.0, acc))\n",
    "\n",
    "weight_dash = model.coef_\n",
    "print (np.count_nonzero(weight_dash))"
   ]
  },
  {
   "cell_type": "code",
   "execution_count": 138,
   "metadata": {},
   "outputs": [],
   "source": [
    "\n",
    "weights_diff = (abs(weight - weight_dash)/weight) * 100\n"
   ]
  },
  {
   "cell_type": "code",
   "execution_count": 139,
   "metadata": {},
   "outputs": [
    {
     "name": "stdout",
     "output_type": "stream",
     "text": [
      "13\n"
     ]
    }
   ],
   "source": [
    "print(weights_diff[np.where(weights_diff > 10)].size)"
   ]
  },
  {
   "cell_type": "markdown",
   "metadata": {},
   "source": [
    "There are 13 features passes 10% threshold and hence they are collinear"
   ]
  },
  {
   "cell_type": "markdown",
   "metadata": {},
   "source": [
    "### Testing Sparsity :"
   ]
  },
  {
   "cell_type": "code",
   "execution_count": 85,
   "metadata": {},
   "outputs": [
    {
     "name": "stderr",
     "output_type": "stream",
     "text": [
      "/anaconda3/envs/yolo/lib/python3.6/site-packages/sklearn/linear_model/logistic.py:1296: UserWarning: 'n_jobs' > 1 does not have any effect when 'solver' is set to 'liblinear'. Got 'n_jobs' = 4.\n",
      "  \" = {}.\".format(effective_n_jobs(self.n_jobs)))\n"
     ]
    },
    {
     "name": "stdout",
     "output_type": "stream",
     "text": [
      "\n",
      "The error of the Logistic Regression for C = 1000.000000 is 2.060000%\n",
      "\n",
      "The accuracy of the Logistic Regression for C = 1000.000000 is 97.940000%\n",
      "\n",
      " Non-Zero weights  20529\n"
     ]
    },
    {
     "name": "stderr",
     "output_type": "stream",
     "text": [
      "/anaconda3/envs/yolo/lib/python3.6/site-packages/sklearn/svm/base.py:922: ConvergenceWarning: Liblinear failed to converge, increase the number of iterations.\n",
      "  \"the number of iterations.\", ConvergenceWarning)\n"
     ]
    }
   ],
   "source": [
    "model = LogisticRegression(C = 1000.0 , penalty= 'l1' , class_weight = 'balanced' , n_jobs = -1)\n",
    "\n",
    "# fitting the model\n",
    "model.fit(reviews_std_train_bow , reviews_score_train)\n",
    "\n",
    "# predict the response\n",
    "pred = model.predict(reviews_std_train_bow)\n",
    "\n",
    "# evaluate accuracy\n",
    "acc = accuracy_score(reviews_score_train, pred)\n",
    "error_1000 = 1 - acc\n",
    "print ('\\nThe error of the Logistic Regression for C = %f is %f%%' % (1000.0, error_1000*100))\n",
    "print('\\nThe accuracy of the Logistic Regression for C = %f is %f%%' % (1000.0, acc*100))\n",
    "print (\"\\n Non-Zero weights \" , np.count_nonzero(model.coef_))"
   ]
  },
  {
   "cell_type": "code",
   "execution_count": 86,
   "metadata": {},
   "outputs": [
    {
     "name": "stderr",
     "output_type": "stream",
     "text": [
      "/anaconda3/envs/yolo/lib/python3.6/site-packages/sklearn/linear_model/logistic.py:1296: UserWarning: 'n_jobs' > 1 does not have any effect when 'solver' is set to 'liblinear'. Got 'n_jobs' = 4.\n",
      "  \" = {}.\".format(effective_n_jobs(self.n_jobs)))\n"
     ]
    },
    {
     "name": "stdout",
     "output_type": "stream",
     "text": [
      "\n",
      "The error of the Logistic Regression for C = 100.000000 is 2.085714%\n",
      "\n",
      "The accuracy of the Logistic Regression for C = 100.000000 is 97.914286%\n",
      "\n",
      " Non-Zero weights  17630\n"
     ]
    },
    {
     "name": "stderr",
     "output_type": "stream",
     "text": [
      "/anaconda3/envs/yolo/lib/python3.6/site-packages/sklearn/svm/base.py:922: ConvergenceWarning: Liblinear failed to converge, increase the number of iterations.\n",
      "  \"the number of iterations.\", ConvergenceWarning)\n"
     ]
    }
   ],
   "source": [
    "model = LogisticRegression(C = 100.0 , penalty= 'l1' , class_weight = 'balanced' , n_jobs = -1)\n",
    "\n",
    "# fitting the model\n",
    "model.fit(reviews_std_train_bow , reviews_score_train)\n",
    "\n",
    "# predict the response\n",
    "pred = model.predict(reviews_std_train_bow)\n",
    "\n",
    "# evaluate accuracy\n",
    "acc = accuracy_score(reviews_score_train, pred)\n",
    "error_100 = 1 - acc\n",
    "print ('\\nThe error of the Logistic Regression for C = %f is %f%%' % (100.0, error_100*100))\n",
    "print('\\nThe accuracy of the Logistic Regression for C = %f is %f%%' % (100.0, acc*100))\n",
    "print (\"\\n Non-Zero weights \" , np.count_nonzero(model.coef_))"
   ]
  },
  {
   "cell_type": "code",
   "execution_count": 87,
   "metadata": {},
   "outputs": [
    {
     "name": "stderr",
     "output_type": "stream",
     "text": [
      "/anaconda3/envs/yolo/lib/python3.6/site-packages/sklearn/linear_model/logistic.py:1296: UserWarning: 'n_jobs' > 1 does not have any effect when 'solver' is set to 'liblinear'. Got 'n_jobs' = 4.\n",
      "  \" = {}.\".format(effective_n_jobs(self.n_jobs)))\n"
     ]
    },
    {
     "name": "stdout",
     "output_type": "stream",
     "text": [
      "\n",
      "The error of the Logistic Regression for C = 10.000000 is 2.068571%\n",
      "\n",
      "The accuracy of the Logistic Regression for C = 10.000000 is 97.931429%\n",
      "\n",
      " Non-Zero weights  15981\n"
     ]
    },
    {
     "name": "stderr",
     "output_type": "stream",
     "text": [
      "/anaconda3/envs/yolo/lib/python3.6/site-packages/sklearn/svm/base.py:922: ConvergenceWarning: Liblinear failed to converge, increase the number of iterations.\n",
      "  \"the number of iterations.\", ConvergenceWarning)\n"
     ]
    }
   ],
   "source": [
    "model = LogisticRegression(C = 10.0 , penalty= 'l1' , class_weight = 'balanced' , n_jobs = -1)\n",
    "\n",
    "# fitting the model\n",
    "model.fit(reviews_std_train_bow , reviews_score_train)\n",
    "\n",
    "# predict the response\n",
    "pred = model.predict(reviews_std_train_bow)\n",
    "\n",
    "# evaluate accuracy\n",
    "acc = accuracy_score(reviews_score_train, pred)\n",
    "error_10 = 1 - acc\n",
    "print ('\\nThe error of the Logistic Regression for C = %f is %f%%' % (10.0, error_10*100))\n",
    "print('\\nThe accuracy of the Logistic Regression for C = %f is %f%%' % (10.0, acc*100))\n",
    "print (\"\\n Non-Zero weights \" , np.count_nonzero(model.coef_))"
   ]
  },
  {
   "cell_type": "code",
   "execution_count": 93,
   "metadata": {},
   "outputs": [
    {
     "name": "stderr",
     "output_type": "stream",
     "text": [
      "/anaconda3/envs/yolo/lib/python3.6/site-packages/sklearn/linear_model/logistic.py:1296: UserWarning: 'n_jobs' > 1 does not have any effect when 'solver' is set to 'liblinear'. Got 'n_jobs' = 4.\n",
      "  \" = {}.\".format(effective_n_jobs(self.n_jobs)))\n"
     ]
    },
    {
     "name": "stdout",
     "output_type": "stream",
     "text": [
      "\n",
      "The error of the Logistic Regression for C = 1.000000 is 2.164286%\n",
      "\n",
      "The accuracy of the Logistic Regression for C = 1.000000 is 97.835714%\n",
      "\n",
      " Non-Zero weights  12661\n"
     ]
    }
   ],
   "source": [
    "model = LogisticRegression(C = 1.0 , penalty= 'l1' , class_weight = 'balanced' , n_jobs = -1)\n",
    "\n",
    "# fitting the model\n",
    "model.fit(reviews_std_train_bow , reviews_score_train)\n",
    "\n",
    "# predict the response\n",
    "pred = model.predict(reviews_std_train_bow)\n",
    "\n",
    "# evaluate accuracy\n",
    "acc = accuracy_score(reviews_score_train, pred)\n",
    "error_1 = 1 - acc\n",
    "print ('\\nThe error of the Logistic Regression for C = %f is %f%%' % (1.0, error_1*100))\n",
    "print('\\nThe accuracy of the Logistic Regression for C = %f is %f%%' % (1.0, acc*100))\n",
    "print (\"\\n Non-Zero weights \" , np.count_nonzero(model.coef_))"
   ]
  },
  {
   "cell_type": "code",
   "execution_count": 94,
   "metadata": {},
   "outputs": [
    {
     "name": "stderr",
     "output_type": "stream",
     "text": [
      "/anaconda3/envs/yolo/lib/python3.6/site-packages/sklearn/linear_model/logistic.py:1296: UserWarning: 'n_jobs' > 1 does not have any effect when 'solver' is set to 'liblinear'. Got 'n_jobs' = 4.\n",
      "  \" = {}.\".format(effective_n_jobs(self.n_jobs)))\n"
     ]
    },
    {
     "name": "stdout",
     "output_type": "stream",
     "text": [
      "\n",
      "The error of the Logistic Regression for C = 0.100000 is 3.074286%\n",
      "\n",
      "The accuracy of the Logistic Regression for C = 0.100000 is 96.925714%\n",
      "\n",
      " Non-Zero weights  10802\n"
     ]
    }
   ],
   "source": [
    "model = LogisticRegression(C = 0.1 , penalty= 'l1' , class_weight = 'balanced' , n_jobs = -1)\n",
    "\n",
    "# fitting the model\n",
    "model.fit(reviews_std_train_bow , reviews_score_train)\n",
    "\n",
    "# predict the response\n",
    "pred = model.predict(reviews_std_train_bow)\n",
    "\n",
    "# evaluate accuracy\n",
    "acc = accuracy_score(reviews_score_train, pred)\n",
    "error = 1 - acc\n",
    "print ('\\nThe error of the Logistic Regression for C = %f is %f%%' % (0.1, error*100))\n",
    "print('\\nThe accuracy of the Logistic Regression for C = %f is %f%%' % (0.1, acc*100))\n",
    "print (\"\\n Non-Zero weights \" , np.count_nonzero(model.coef_))"
   ]
  },
  {
   "cell_type": "code",
   "execution_count": 102,
   "metadata": {},
   "outputs": [
    {
     "name": "stderr",
     "output_type": "stream",
     "text": [
      "/anaconda3/envs/yolo/lib/python3.6/site-packages/sklearn/linear_model/logistic.py:1296: UserWarning: 'n_jobs' > 1 does not have any effect when 'solver' is set to 'liblinear'. Got 'n_jobs' = 4.\n",
      "  \" = {}.\".format(effective_n_jobs(self.n_jobs)))\n"
     ]
    },
    {
     "name": "stdout",
     "output_type": "stream",
     "text": [
      "\n",
      "The error of the Logistic Regression for C = 0.100000 is 7.520000%\n",
      "\n",
      "The accuracy of the Logistic Regression for C = 0.100000 is 92.480000%\n",
      "\n",
      " Non-Zero weights  4503\n"
     ]
    }
   ],
   "source": [
    "model = LogisticRegression(C = 0.01 , penalty= 'l1' , class_weight = 'balanced' , n_jobs = -1)\n",
    "\n",
    "# fitting the model\n",
    "model.fit(reviews_std_train_bow , reviews_score_train)\n",
    "\n",
    "# predict the response\n",
    "pred = model.predict(reviews_std_train_bow)\n",
    "\n",
    "# evaluate accuracy\n",
    "acc = accuracy_score(reviews_score_train, pred)\n",
    "error = 1 - acc\n",
    "print ('\\nThe error of the Logistic Regression for C = %f is %f%%' % (0.1, error*100))\n",
    "print('\\nThe accuracy of the Logistic Regression for C = %f is %f%%' % (0.1, acc*100))\n",
    "print (\"\\n Non-Zero weights \" , np.count_nonzero(model.coef_))"
   ]
  },
  {
   "cell_type": "markdown",
   "metadata": {},
   "source": [
    "###  Randomized Search CV :"
   ]
  },
  {
   "cell_type": "code",
   "execution_count": 11,
   "metadata": {
    "scrolled": false
   },
   "outputs": [
    {
     "name": "stdout",
     "output_type": "stream",
     "text": [
      "Fitting 5 folds for each of 10 candidates, totalling 50 fits\n"
     ]
    },
    {
     "name": "stderr",
     "output_type": "stream",
     "text": [
      "[Parallel(n_jobs=-1)]: Using backend LokyBackend with 4 concurrent workers.\n",
      "[Parallel(n_jobs=-1)]: Done  42 tasks      | elapsed: 113.3min\n",
      "[Parallel(n_jobs=-1)]: Done  50 out of  50 | elapsed: 131.8min finished\n"
     ]
    },
    {
     "name": "stdout",
     "output_type": "stream",
     "text": [
      "LogisticRegression(C=0.01, class_weight='balanced', dual=False,\n",
      "          fit_intercept=True, intercept_scaling=1, max_iter=100,\n",
      "          multi_class='warn', n_jobs=None, penalty='l1', random_state=None,\n",
      "          solver='warn', tol=0.0001, verbose=0, warm_start=False)\n",
      "0.8953326118486108\n"
     ]
    }
   ],
   "source": [
    "from sklearn.linear_model import LogisticRegression\n",
    "from sklearn.metrics import accuracy_score\n",
    "from sklearn.model_selection import RandomizedSearchCV , TimeSeriesSplit\n",
    "from sklearn.model_selection import cross_val_score\n",
    "    \n",
    "    \n",
    "param_grid = {'C': [10**-4, 10**-2, 10**0, 10**2, 10**4] , 'penalty' : ['l1' , 'l2'] }\n",
    "clf = LogisticRegression(class_weight = 'balanced' )\n",
    "\n",
    "#Using GridSearchCV\n",
    "model = RandomizedSearchCV(clf, param_grid, scoring = 'roc_auc', cv=5 , verbose=1 , n_jobs=-1)\n",
    "model.fit(reviews_std_train_bow, reviews_score_train)\n",
    "savefile(model,\"RandomSearch_BoW_Logistic_Regression_roc_auc_score\")\n",
    "\n",
    "print(model.best_estimator_)\n",
    "print(model.score(reviews_train_bow, reviews_score_train))  "
   ]
  },
  {
   "cell_type": "code",
   "execution_count": 34,
   "metadata": {},
   "outputs": [
    {
     "name": "stdout",
     "output_type": "stream",
     "text": [
      "0.500 (+/-0.000) for {'penalty': 'l1', 'C': 0.0001}\n",
      "0.924 (+/-0.004) for {'penalty': 'l2', 'C': 0.0001}\n",
      "0.930 (+/-0.004) for {'penalty': 'l1', 'C': 0.01}\n",
      "0.879 (+/-0.009) for {'penalty': 'l2', 'C': 0.01}\n",
      "0.840 (+/-0.014) for {'penalty': 'l1', 'C': 1}\n",
      "0.816 (+/-0.015) for {'penalty': 'l2', 'C': 1}\n",
      "0.805 (+/-0.008) for {'penalty': 'l1', 'C': 100}\n",
      "0.802 (+/-0.015) for {'penalty': 'l2', 'C': 100}\n",
      "0.798 (+/-0.011) for {'penalty': 'l1', 'C': 10000}\n",
      "0.798 (+/-0.017) for {'penalty': 'l2', 'C': 10000}\n"
     ]
    },
    {
     "data": {
      "image/png": "[encoded data removed]",
      "text/plain": [
       "<Figure size 432x288 with 1 Axes>"
      ]
     },
     "metadata": {
      "needs_background": "light"
     },
     "output_type": "display_data"
    }
   ],
   "source": [
    "gsv = openfile(\"RandomSearch_BoW_Logistic_Regression_roc_auc_score\")\n",
    "x1=[]\n",
    "y1=[]\n",
    "x2=[]\n",
    "y2=[]\n",
    "gsv.cv_results_\n",
    "means = gsv.cv_results_['mean_test_score']\n",
    "stds = gsv.cv_results_['std_test_score']\n",
    "for mean, std, params in zip(means, stds, gsv.cv_results_['params']):\n",
    "    print(\"%0.3f (+/-%0.03f) for %r\"\n",
    "          % (mean, std * 2, params))\n",
    "    if params['penalty'] == 'l1':\n",
    "        x1.append(params['C'])\n",
    "        y1.append(mean)\n",
    "    else:\n",
    "        x2.append(params['C'])\n",
    "        y2.append(mean)\n",
    "        \n",
    "# plt.xlim(-10,1010)\n",
    "# plt.ylim(0.5,1)\n",
    "plt.xlabel(\"C\",fontsize=15)\n",
    "plt.ylabel(\"Misclassification Error\")\n",
    "plt.title('Misclassification Error v/s C')\n",
    "plt.plot(x1,y1,'b',label=\"L1\")\n",
    "plt.plot(x2,y2,'r',label=\"L2\")\n",
    "plt.legend()\n",
    "plt.show()"
   ]
  },
  {
   "cell_type": "code",
   "execution_count": 12,
   "metadata": {},
   "outputs": [
    {
     "name": "stdout",
     "output_type": "stream",
     "text": [
      "LogisticRegression(C=0.01, class_weight='balanced', dual=False,\n",
      "          fit_intercept=True, intercept_scaling=1, max_iter=100,\n",
      "          multi_class='warn', n_jobs=None, penalty='l1', random_state=None,\n",
      "          solver='warn', tol=0.0001, verbose=0, warm_start=False)\n"
     ]
    }
   ],
   "source": [
    "rsv = openfile('RandomSearch_BoW_Logistic_Regression_roc_auc_score')\n",
    "print (rsv.best_estimator_)"
   ]
  },
  {
   "cell_type": "code",
   "execution_count": 14,
   "metadata": {},
   "outputs": [
    {
     "name": "stdout",
     "output_type": "stream",
     "text": [
      "\n",
      "The Test accuracy of the Logistic Regression for C = 0.010000 is 91.700000%\n",
      "\n",
      " Non-Zero weights  1616\n"
     ]
    },
    {
     "name": "stderr",
     "output_type": "stream",
     "text": [
      "/anaconda3/envs/yolo/lib/python3.6/site-packages/sklearn/linear_model/logistic.py:1296: UserWarning: 'n_jobs' > 1 does not have any effect when 'solver' is set to 'liblinear'. Got 'n_jobs' = 4.\n",
      "  \" = {}.\".format(effective_n_jobs(self.n_jobs)))\n"
     ]
    }
   ],
   "source": [
    "model = LogisticRegression(C = 0.01 , penalty= 'l1' , class_weight = 'balanced' , n_jobs = -1)\n",
    "\n",
    "# fitting the model\n",
    "model.fit(reviews_std_test_bow , reviews_score_test)\n",
    "\n",
    "# predict the response\n",
    "pred = model.predict(reviews_std_test_bow)\n",
    "\n",
    "# evaluate accuracy\n",
    "acc = accuracy_score(reviews_score_test, pred)\n",
    "error = 1 - acc\n",
    "\n",
    "print('\\nThe Test accuracy of the Logistic Regression for C = %f is %f%%' % (0.01, acc*100))\n",
    "print (\"\\n Non-Zero weights \" , np.count_nonzero(model.coef_))"
   ]
  },
  {
   "cell_type": "code",
   "execution_count": 15,
   "metadata": {},
   "outputs": [
    {
     "name": "stdout",
     "output_type": "stream",
     "text": [
      "[[ 3378   287]\n",
      " [ 2203 24132]]\n"
     ]
    },
    {
     "data": {
      "image/png": "[encoded data removed]",
      "text/plain": [
       "<Figure size 432x288 with 2 Axes>"
      ]
     },
     "metadata": {
      "needs_background": "light"
     },
     "output_type": "display_data"
    }
   ],
   "source": [
    "from sklearn.metrics import confusion_matrix\n",
    "conf_matrix = confusion_matrix(reviews_score_test, pred)\n",
    "print (conf_matrix)\n",
    "class_label = [\"negative\", \"positive\"]\n",
    "df_cm = pd.DataFrame(conf_matrix, index = class_label, columns = class_label)\n",
    "sns.heatmap(df_cm, annot = True, fmt = \"d\")\n",
    "plt.title(\"Confusiion Matrix\")\n",
    "plt.xlabel(\"Predicted Label\")\n",
    "plt.ylabel(\"True Label\")\n",
    "plt.show()"
   ]
  },
  {
   "cell_type": "code",
   "execution_count": 16,
   "metadata": {},
   "outputs": [
    {
     "name": "stdout",
     "output_type": "stream",
     "text": [
      "              precision    recall  f1-score   support\n",
      "\n",
      "           0       0.61      0.92      0.73      3665\n",
      "           1       0.99      0.92      0.95     26335\n",
      "\n",
      "   micro avg       0.92      0.92      0.92     30000\n",
      "   macro avg       0.80      0.92      0.84     30000\n",
      "weighted avg       0.94      0.92      0.92     30000\n",
      "\n"
     ]
    }
   ],
   "source": [
    "from sklearn.metrics import classification_report\n",
    "print (classification_report(reviews_score_test, pred))"
   ]
  },
  {
   "cell_type": "markdown",
   "metadata": {},
   "source": [
    "# Tf-idf"
   ]
  },
  {
   "cell_type": "code",
   "execution_count": 30,
   "metadata": {},
   "outputs": [],
   "source": [
    "from sklearn.feature_extraction.text import TfidfTransformer\n",
    "from sklearn.feature_extraction.text import TfidfVectorizer\n",
    "tf_idf_vect = TfidfVectorizer(ngram_range=(1,2))\n",
    "reviews_train_tfidf = tf_idf_vect.fit_transform(reviews_train['CleanedText'].values)\n",
    "\n",
    "reviews_test_tfidf = tf_idf_vect.transform(reviews_test['CleanedText'].values)"
   ]
  },
  {
   "cell_type": "code",
   "execution_count": 31,
   "metadata": {},
   "outputs": [
    {
     "name": "stdout",
     "output_type": "stream",
     "text": [
      "(70000, 932590)\n",
      "(30000, 932590)\n"
     ]
    }
   ],
   "source": [
    "from sklearn.preprocessing import StandardScaler\n",
    "\n",
    "reviews_std_train_tfidf = StandardScaler(with_mean = False).fit_transform(reviews_train_tfidf)\n",
    "reviews_std_test_tfidf = StandardScaler(with_mean = False).fit_transform(reviews_test_tfidf)\n",
    "\n",
    "print (reviews_std_train_tfidf.shape)\n",
    "print (reviews_std_test_tfidf.shape)"
   ]
  },
  {
   "cell_type": "code",
   "execution_count": 32,
   "metadata": {},
   "outputs": [
    {
     "name": "stdout",
     "output_type": "stream",
     "text": [
      "Fitting 5 folds for each of 10 candidates, totalling 50 fits\n"
     ]
    },
    {
     "name": "stderr",
     "output_type": "stream",
     "text": [
      "[Parallel(n_jobs=-1)]: Using backend LokyBackend with 4 concurrent workers.\n",
      "[Parallel(n_jobs=-1)]: Done  42 tasks      | elapsed:  3.2min\n",
      "[Parallel(n_jobs=-1)]: Done  50 out of  50 | elapsed:  4.1min finished\n"
     ]
    },
    {
     "name": "stdout",
     "output_type": "stream",
     "text": [
      "LogisticRegression(C=1, class_weight='balanced', dual=False,\n",
      "          fit_intercept=True, intercept_scaling=1, max_iter=100,\n",
      "          multi_class='warn', n_jobs=None, penalty='l1', random_state=None,\n",
      "          solver='warn', tol=0.0001, verbose=0, warm_start=False)\n",
      "0.9312697991692598\n"
     ]
    }
   ],
   "source": [
    "from sklearn.linear_model import LogisticRegression\n",
    "from sklearn.metrics import accuracy_score\n",
    "from sklearn.model_selection import GridSearchCV , TimeSeriesSplit\n",
    "from sklearn.model_selection import cross_val_score\n",
    "    \n",
    "    \n",
    "# tuned_parameters = [{'C': [1000,500,100,50,10,5,1,0.5,0.1,0.05,0.01,0.005,0.001,0.0005,0.0001]} , { 'penalty' : ['l1' , 'l2'] }]\n",
    "clf = LogisticRegression(class_weight = 'balanced' )\n",
    "param_grid = {'C': [10**-4, 10**-2, 10**0, 10**2, 10**4] , 'penalty' : ['l1' , 'l2'] }\n",
    "#Using GridSearchCV\n",
    "model = GridSearchCV(clf, param_grid, scoring = 'roc_auc', cv=5 , verbose=1 ,n_jobs=-1)\n",
    "model.fit(reviews_std_train_tfidf, reviews_score_train)\n",
    "savefile(model,\"GridSearch_tfidf_Logistic_Regression\")\n",
    "print(model.best_estimator_)\n",
    "print(model.score(reviews_train_tfidf, reviews_score_train))    \n",
    "# weight = model.coef_\n",
    "    \n",
    " "
   ]
  },
  {
   "cell_type": "code",
   "execution_count": 33,
   "metadata": {},
   "outputs": [
    {
     "name": "stdout",
     "output_type": "stream",
     "text": [
      "0.500 (+/-0.000) for {'C': 0.0001, 'penalty': 'l1'}\n",
      "0.888 (+/-0.007) for {'C': 0.0001, 'penalty': 'l2'}\n",
      "0.932 (+/-0.006) for {'C': 0.01, 'penalty': 'l1'}\n",
      "0.884 (+/-0.007) for {'C': 0.01, 'penalty': 'l2'}\n",
      "0.932 (+/-0.005) for {'C': 1, 'penalty': 'l1'}\n",
      "0.882 (+/-0.007) for {'C': 1, 'penalty': 'l2'}\n",
      "0.929 (+/-0.004) for {'C': 100, 'penalty': 'l1'}\n",
      "0.880 (+/-0.007) for {'C': 100, 'penalty': 'l2'}\n",
      "0.870 (+/-0.015) for {'C': 10000, 'penalty': 'l1'}\n",
      "0.880 (+/-0.007) for {'C': 10000, 'penalty': 'l2'}\n"
     ]
    },
    {
     "data": {
      "image/png": "[encoded data removed]",
      "text/plain": [
       "<Figure size 432x288 with 1 Axes>"
      ]
     },
     "metadata": {
      "needs_background": "light"
     },
     "output_type": "display_data"
    }
   ],
   "source": [
    "gsv = openfile(\"GridSearch_tfidf_Logistic_Regression\")\n",
    "x1=[]\n",
    "y1=[]\n",
    "x2=[]\n",
    "y2=[]\n",
    "gsv.cv_results_\n",
    "\n",
    "means = gsv.cv_results_['mean_test_score']\n",
    "stds = gsv.cv_results_['std_test_score']\n",
    "for mean, std, params in zip(means, stds, gsv.cv_results_['params']):\n",
    "    print(\"%0.3f (+/-%0.03f) for %r\"\n",
    "          % (mean, std * 2, params))\n",
    "    if params['penalty'] == 'l1':\n",
    "        x1.append(params['C'])\n",
    "        y1.append(mean)\n",
    "    else:\n",
    "        x2.append(params['C'])\n",
    "        y2.append(mean)\n",
    "        \n",
    "# plt.xlim(-10,1010)\n",
    "# plt.ylim(0.5,1)\n",
    "plt.xlabel(\"C\",fontsize=15)\n",
    "plt.ylabel(\"Misclassification Error\")\n",
    "plt.title('Misclassification Error v/s C')\n",
    "plt.plot(x1,y1,'b',label=\"L1\")\n",
    "plt.plot(x2,y2,'r',label=\"L2\")\n",
    "plt.legend()\n",
    "plt.show()"
   ]
  },
  {
   "cell_type": "code",
   "execution_count": null,
   "metadata": {},
   "outputs": [],
   "source": [
    "from sklearn.linear_model import LogisticRegression\n",
    "from sklearn.metrics import accuracy_score\n",
    "from sklearn.model_selection import GridSearchCV , TimeSeriesSplit\n",
    "from sklearn.model_selection import cross_val_score\n",
    "    \n",
    "    \n",
    "tuned_parameters = [{'C': [1000,500,100,50,10,5,1,0.5,0.1,0.05,0.01,0.005,0.001,0.0005,0.0001]} , { 'penalty' : ['l1' , 'l2'] }]\n",
    "clf = LogisticRegression(class_weight = 'balanced' , n_jobs = -1)\n",
    "\n",
    "#Using GridSearchCV\n",
    "model1 = GridSearchCV(clf, tuned_parameters, scoring = 'f1', cv=5 , verbose=1)\n",
    "model1.fit(reviews_std_train_tfidf, reviews_score_train)\n",
    "savefile(model1,\"GridSearch_tfidf_Logistic_Regression_f1_score\")\n",
    "print(model1.best_estimator_)\n",
    "print(model1.score(reviews_train_tfidf, reviews_score_train))    \n",
    "# weight = model.coef_\n",
    "    \n",
    " "
   ]
  },
  {
   "cell_type": "code",
   "execution_count": 36,
   "metadata": {},
   "outputs": [
    {
     "name": "stderr",
     "output_type": "stream",
     "text": [
      "/anaconda3/envs/yolo/lib/python3.6/site-packages/sklearn/linear_model/logistic.py:1296: UserWarning: 'n_jobs' > 1 does not have any effect when 'solver' is set to 'liblinear'. Got 'n_jobs' = 4.\n",
      "  \" = {}.\".format(effective_n_jobs(self.n_jobs)))\n"
     ]
    },
    {
     "name": "stdout",
     "output_type": "stream",
     "text": [
      "\n",
      "The accuracy of the Logistic Regression for C = 1.000000 is 99.998571%\n",
      "55278\n"
     ]
    }
   ],
   "source": [
    "from sklearn.linear_model import LogisticRegression\n",
    "from sklearn.metrics import accuracy_score\n",
    "model = LogisticRegression(C = 1 , penalty= 'l1' , class_weight = 'balanced' , n_jobs = -1)\n",
    "\n",
    "# fitting the model\n",
    "model.fit(reviews_std_train_tfidf , reviews_score_train)\n",
    "\n",
    "# predict the response\n",
    "pred = model.predict(reviews_std_train_tfidf)\n",
    "\n",
    "# evaluate accuracy\n",
    "acc = accuracy_score(reviews_score_train, pred) * 100\n",
    "print('\\nThe accuracy of the Logistic Regression for C = %f is %f%%' % (1, acc))\n",
    "weight = model.coef_\n",
    "print (np.count_nonzero(model.coef_))"
   ]
  },
  {
   "cell_type": "code",
   "execution_count": null,
   "metadata": {},
   "outputs": [],
   "source": []
  },
  {
   "cell_type": "code",
   "execution_count": 37,
   "metadata": {},
   "outputs": [
    {
     "name": "stdout",
     "output_type": "stream",
     "text": [
      "[[ 8606     0]\n",
      " [    1 61393]]\n"
     ]
    },
    {
     "data": {
      "image/png": "[encoded data removed]",
      "text/plain": [
       "<Figure size 432x288 with 2 Axes>"
      ]
     },
     "metadata": {
      "needs_background": "light"
     },
     "output_type": "display_data"
    }
   ],
   "source": [
    "from sklearn.metrics import confusion_matrix\n",
    "conf_matrix = confusion_matrix(reviews_score_train, pred)\n",
    "print (conf_matrix)\n",
    "class_label = [\"negative\", \"positive\"]\n",
    "df_cm = pd.DataFrame(conf_matrix, index = class_label, columns = class_label)\n",
    "sns.heatmap(df_cm, annot = True, fmt = \"d\")\n",
    "plt.title(\"Confusiion Matrix\")\n",
    "plt.xlabel(\"Predicted Label\")\n",
    "plt.ylabel(\"True Label\")\n",
    "plt.show()"
   ]
  },
  {
   "cell_type": "code",
   "execution_count": 38,
   "metadata": {},
   "outputs": [
    {
     "name": "stdout",
     "output_type": "stream",
     "text": [
      "              precision    recall  f1-score   support\n",
      "\n",
      "           0       1.00      1.00      1.00      8606\n",
      "           1       1.00      1.00      1.00     61394\n",
      "\n",
      "   micro avg       1.00      1.00      1.00     70000\n",
      "   macro avg       1.00      1.00      1.00     70000\n",
      "weighted avg       1.00      1.00      1.00     70000\n",
      "\n"
     ]
    }
   ],
   "source": [
    "from sklearn.metrics import classification_report\n",
    "print (classification_report(reviews_score_train, pred))"
   ]
  },
  {
   "cell_type": "markdown",
   "metadata": {},
   "source": [
    "### Feature Extraction :"
   ]
  },
  {
   "cell_type": "code",
   "execution_count": 45,
   "metadata": {},
   "outputs": [
    {
     "name": "stdout",
     "output_type": "stream",
     "text": [
      "(1, 932590)\n",
      "932590\n"
     ]
    }
   ],
   "source": [
    "log_prob_reviews = model.coef_\n",
    "tfidf_features = tf_idf_vect.get_feature_names()\n",
    "\n",
    "print (log_prob_reviews.shape)\n",
    "print (len(tfidf_features))\n"
   ]
  },
  {
   "cell_type": "code",
   "execution_count": 46,
   "metadata": {},
   "outputs": [
    {
     "name": "stdout",
     "output_type": "stream",
     "text": [
      "(932590, 1)\n"
     ]
    }
   ],
   "source": [
    "feature_prob = pd.DataFrame(log_prob_reviews, columns = tfidf_features)\n",
    "feature_prob_transpose = feature_prob.T\n",
    "print (feature_prob_transpose.shape)\n",
    "\n"
   ]
  },
  {
   "cell_type": "code",
   "execution_count": 48,
   "metadata": {},
   "outputs": [
    {
     "name": "stdout",
     "output_type": "stream",
     "text": [
      "\n",
      "\n",
      "  25 Positive Features:-\n",
      " great              1.426797\n",
      "love               1.082677\n",
      "best               1.003508\n",
      "delici             0.811017\n",
      "good               0.767468\n",
      "excel              0.677390\n",
      "perfect            0.589614\n",
      "favorit            0.500192\n",
      "nice               0.479507\n",
      "wonder             0.453446\n",
      "find               0.427863\n",
      "tasti              0.390960\n",
      "high recommend     0.382519\n",
      "use                0.369808\n",
      "amaz               0.351143\n",
      "enjoy              0.336660\n",
      "yummi              0.323467\n",
      "thank              0.318649\n",
      "make               0.297289\n",
      "keep               0.293000\n",
      "littl              0.291101\n",
      "like               0.286507\n",
      "alway              0.270395\n",
      "help               0.260772\n",
      "wont disappoint    0.251568\n",
      "Name: 0, dtype: float64\n",
      "\n",
      "\n",
      "  25 Negative Features:-\n",
      " disappoint    -0.643591\n",
      "worst         -0.583556\n",
      "terribl       -0.400947\n",
      "wast money    -0.391403\n",
      "return        -0.358118\n",
      "horribl       -0.353592\n",
      "aw            -0.346940\n",
      "wont buy      -0.333425\n",
      "threw         -0.314287\n",
      "two star      -0.304244\n",
      "stale         -0.271839\n",
      "refund        -0.249517\n",
      "bland         -0.229187\n",
      "disgust       -0.222849\n",
      "unfortun      -0.218880\n",
      "tasteless     -0.211373\n",
      "wors          -0.205862\n",
      "sorri         -0.188697\n",
      "weak          -0.186413\n",
      "way sweet     -0.186137\n",
      "buyer bewar   -0.181601\n",
      "money         -0.175253\n",
      "gross         -0.172195\n",
      "nasti         -0.171392\n",
      "unpleas       -0.171246\n",
      "Name: 0, dtype: float64\n"
     ]
    }
   ],
   "source": [
    "print(\"\\n\\n  25 Positive Features:-\\n\",feature_prob_transpose[0].sort_values(ascending = False)[0:25])\n",
    "neg_prob = feature_prob_transpose[feature_prob_transpose[0] < 0]\n",
    "print(\"\\n\\n  25 Negative Features:-\\n\",neg_prob[0].sort_values(ascending = True )[0:25])\n"
   ]
  },
  {
   "cell_type": "code",
   "execution_count": 49,
   "metadata": {},
   "outputs": [
    {
     "name": "stderr",
     "output_type": "stream",
     "text": [
      "/anaconda3/envs/yolo/lib/python3.6/site-packages/sklearn/linear_model/logistic.py:1296: UserWarning: 'n_jobs' > 1 does not have any effect when 'solver' is set to 'liblinear'. Got 'n_jobs' = 4.\n",
      "  \" = {}.\".format(effective_n_jobs(self.n_jobs)))\n"
     ]
    },
    {
     "name": "stdout",
     "output_type": "stream",
     "text": [
      "\n",
      "The Test accuracy of the Logistic Regression for C = 1.000000 is 100.000000%\n",
      "\n",
      " Non-Zero weights  13345\n"
     ]
    }
   ],
   "source": [
    "model = LogisticRegression(C = 1 , penalty= 'l1' , class_weight = 'balanced' , n_jobs = -1)\n",
    "\n",
    "# fitting the model\n",
    "model.fit(reviews_std_test_tfidf , reviews_score_test)\n",
    "\n",
    "# predict the response\n",
    "pred = model.predict(reviews_std_test_tfidf)\n",
    "\n",
    "# evaluate accuracy\n",
    "acc = accuracy_score(reviews_score_test, pred)\n",
    "error = 1 - acc\n",
    "\n",
    "print('\\nThe Test accuracy of the Logistic Regression for C = %f is %f%%' % (1, acc*100))\n",
    "print (\"\\n Non-Zero weights \" , np.count_nonzero(model.coef_))"
   ]
  },
  {
   "cell_type": "code",
   "execution_count": null,
   "metadata": {},
   "outputs": [],
   "source": []
  },
  {
   "cell_type": "markdown",
   "metadata": {},
   "source": [
    "### Perbutation Test :"
   ]
  },
  {
   "cell_type": "code",
   "execution_count": 53,
   "metadata": {},
   "outputs": [],
   "source": [
    "from scipy.sparse import find\n",
    "from scipy.sparse import csr_matrix\n",
    "\n",
    "reviews_std_train_tfidf_collinear = reviews_std_train_tfidf\n",
    "\n",
    "epsilon = np.random.normal(loc=0.0, scale=0.001, size=(find(reviews_std_train_tfidf_collinear)[0].size)) \n",
    "# epsilon = np.random.uniform(low=-0.0001, high=0.0001, size=(find(reviews_std_train_bow_collinear)[0].size,))\n",
    "\n",
    "index_0 , index_1 , index_2 = find(reviews_std_train_tfidf_collinear)\n",
    "reviews_std_train_tfidf_collinear[index_0,index_1] = epsilon + reviews_std_train_tfidf_collinear[index_0,index_1]"
   ]
  },
  {
   "cell_type": "code",
   "execution_count": 54,
   "metadata": {},
   "outputs": [
    {
     "name": "stderr",
     "output_type": "stream",
     "text": [
      "/anaconda3/envs/yolo/lib/python3.6/site-packages/sklearn/linear_model/logistic.py:1296: UserWarning: 'n_jobs' > 1 does not have any effect when 'solver' is set to 'liblinear'. Got 'n_jobs' = 4.\n",
      "  \" = {}.\".format(effective_n_jobs(self.n_jobs)))\n"
     ]
    },
    {
     "name": "stdout",
     "output_type": "stream",
     "text": [
      "\n",
      "The accuracy of the Logistic Regression for C = 1.000000 is 99.998571%\n",
      "58528\n"
     ]
    }
   ],
   "source": [
    "\n",
    "model = LogisticRegression(C = 1 , penalty= 'l1' , class_weight = 'balanced' , n_jobs = -1)\n",
    "\n",
    "# fitting the model\n",
    "model.fit(reviews_std_train_tfidf_collinear , reviews_score_train)\n",
    "\n",
    "# predict the response\n",
    "pred = model.predict(reviews_std_train_tfidf_collinear)\n",
    "\n",
    "# evaluate accuracy\n",
    "acc = accuracy_score(reviews_score_train, pred) * 100\n",
    "print('\\nThe accuracy of the Logistic Regression for C = %f is %f%%' % (1.0, acc))\n",
    "\n",
    "weight_dash = model.coef_\n",
    "print (np.count_nonzero(weight_dash))"
   ]
  },
  {
   "cell_type": "code",
   "execution_count": 55,
   "metadata": {},
   "outputs": [],
   "source": [
    "\n",
    "weights_diff = (abs(weight - weight_dash)/weight) * 100\n"
   ]
  },
  {
   "cell_type": "code",
   "execution_count": 56,
   "metadata": {},
   "outputs": [
    {
     "name": "stdout",
     "output_type": "stream",
     "text": [
      "29865\n"
     ]
    }
   ],
   "source": [
    "print(weights_diff[np.where(weights_diff > 10)].size)"
   ]
  },
  {
   "cell_type": "markdown",
   "metadata": {},
   "source": [
    "There are 13 features passes 10% threshold and hence they are collinear"
   ]
  },
  {
   "cell_type": "markdown",
   "metadata": {},
   "source": [
    "### RandomSearchCV :"
   ]
  },
  {
   "cell_type": "code",
   "execution_count": 35,
   "metadata": {},
   "outputs": [
    {
     "name": "stdout",
     "output_type": "stream",
     "text": [
      "Fitting 5 folds for each of 10 candidates, totalling 50 fits\n"
     ]
    },
    {
     "name": "stderr",
     "output_type": "stream",
     "text": [
      "[Parallel(n_jobs=-1)]: Using backend LokyBackend with 4 concurrent workers.\n",
      "[Parallel(n_jobs=-1)]: Done  42 tasks      | elapsed:  3.3min\n",
      "[Parallel(n_jobs=-1)]: Done  50 out of  50 | elapsed:  4.1min finished\n"
     ]
    },
    {
     "name": "stdout",
     "output_type": "stream",
     "text": [
      "LogisticRegression(C=1, class_weight='balanced', dual=False,\n",
      "          fit_intercept=True, intercept_scaling=1, max_iter=100,\n",
      "          multi_class='warn', n_jobs=None, penalty='l1', random_state=None,\n",
      "          solver='warn', tol=0.0001, verbose=0, warm_start=False)\n",
      "0.9400218268048897\n"
     ]
    }
   ],
   "source": [
    "from sklearn.linear_model import LogisticRegression\n",
    "from sklearn.metrics import accuracy_score\n",
    "from sklearn.model_selection import RandomizedSearchCV , TimeSeriesSplit\n",
    "from sklearn.model_selection import cross_val_score\n",
    "    \n",
    "    \n",
    "param_grid = {'C': [10**-4, 10**-2, 10**0, 10**2, 10**4] , 'penalty' : ['l1' , 'l2'] }\n",
    "clf = LogisticRegression(class_weight = 'balanced' )\n",
    "\n",
    "#Using GridSearchCV\n",
    "model = RandomizedSearchCV(clf, param_grid, scoring = 'roc_auc', cv=5 , verbose=1 , n_jobs=-1)\n",
    "model.fit(reviews_std_train_tfidf, reviews_score_train)\n",
    "savefile(model,\"RandomSearch_tfidf_Logistic_Regression_roc_score\")\n",
    "\n",
    "print(model.best_estimator_)\n",
    "print(model.score(reviews_train_tfidf, reviews_score_train))  "
   ]
  },
  {
   "cell_type": "code",
   "execution_count": 36,
   "metadata": {},
   "outputs": [
    {
     "name": "stdout",
     "output_type": "stream",
     "text": [
      "0.500 (+/-0.000) for {'penalty': 'l1', 'C': 0.0001}\n",
      "0.888 (+/-0.007) for {'penalty': 'l2', 'C': 0.0001}\n",
      "0.932 (+/-0.006) for {'penalty': 'l1', 'C': 0.01}\n",
      "0.884 (+/-0.007) for {'penalty': 'l2', 'C': 0.01}\n",
      "0.933 (+/-0.005) for {'penalty': 'l1', 'C': 1}\n",
      "0.882 (+/-0.007) for {'penalty': 'l2', 'C': 1}\n",
      "0.928 (+/-0.006) for {'penalty': 'l1', 'C': 100}\n",
      "0.880 (+/-0.007) for {'penalty': 'l2', 'C': 100}\n",
      "0.870 (+/-0.010) for {'penalty': 'l1', 'C': 10000}\n",
      "0.880 (+/-0.007) for {'penalty': 'l2', 'C': 10000}\n"
     ]
    },
    {
     "data": {
      "image/png": "[encoded data removed]",
      "text/plain": [
       "<Figure size 432x288 with 1 Axes>"
      ]
     },
     "metadata": {
      "needs_background": "light"
     },
     "output_type": "display_data"
    }
   ],
   "source": [
    "gsv = openfile(\"RandomSearch_tfidf_Logistic_Regression_roc_score\")\n",
    "x1=[]\n",
    "y1=[]\n",
    "x2=[]\n",
    "y2=[]\n",
    "gsv.cv_results_\n",
    "\n",
    "means = gsv.cv_results_['mean_test_score']\n",
    "stds = gsv.cv_results_['std_test_score']\n",
    "for mean, std, params in zip(means, stds, gsv.cv_results_['params']):\n",
    "    print(\"%0.3f (+/-%0.03f) for %r\"\n",
    "          % (mean, std * 2, params))\n",
    "    if params['penalty'] == 'l1':\n",
    "        x1.append(params['C'])\n",
    "        y1.append(mean)\n",
    "    else:\n",
    "        x2.append(params['C'])\n",
    "        y2.append(mean)\n",
    "        \n",
    "# plt.xlim(-10,1010)\n",
    "# plt.ylim(0.5,1)\n",
    "plt.xlabel(\"C\",fontsize=15)\n",
    "plt.ylabel(\"Misclassification Error\")\n",
    "plt.title('Misclassification Error v/s C')\n",
    "plt.plot(x1,y1,'b',label=\"L1\")\n",
    "plt.plot(x2,y2,'r',label=\"L2\")\n",
    "plt.legend()\n",
    "plt.show()"
   ]
  },
  {
   "cell_type": "code",
   "execution_count": 58,
   "metadata": {},
   "outputs": [
    {
     "name": "stderr",
     "output_type": "stream",
     "text": [
      "/anaconda3/envs/yolo/lib/python3.6/site-packages/sklearn/linear_model/logistic.py:1296: UserWarning: 'n_jobs' > 1 does not have any effect when 'solver' is set to 'liblinear'. Got 'n_jobs' = 4.\n",
      "  \" = {}.\".format(effective_n_jobs(self.n_jobs)))\n"
     ]
    },
    {
     "name": "stdout",
     "output_type": "stream",
     "text": [
      "\n",
      "The Train accuracy of the Logistic Regression for C = 1.000000 is 98.687143%\n",
      "\n",
      " Non-Zero weights  28464\n"
     ]
    }
   ],
   "source": [
    "model = LogisticRegression(C = 0.01 , penalty= 'l1' , class_weight = 'balanced' , n_jobs = -1)\n",
    "\n",
    "# fitting the model\n",
    "model.fit(reviews_std_train_tfidf , reviews_score_train)\n",
    "\n",
    "# predict the response\n",
    "pred = model.predict(reviews_std_train_tfidf)\n",
    "\n",
    "# evaluate accuracy\n",
    "acc = accuracy_score(reviews_score_train, pred)\n",
    "error = 1 - acc\n",
    "\n",
    "print('\\nThe Train accuracy of the Logistic Regression for C = %f is %f%%' % (1, acc*100))\n",
    "print (\"\\n Non-Zero weights \" , np.count_nonzero(model.coef_))"
   ]
  },
  {
   "cell_type": "code",
   "execution_count": 59,
   "metadata": {},
   "outputs": [
    {
     "name": "stdout",
     "output_type": "stream",
     "text": [
      "[[ 8605     1]\n",
      " [  918 60476]]\n"
     ]
    },
    {
     "data": {
      "image/png": "[encoded data removed]",
      "text/plain": [
       "<Figure size 432x288 with 2 Axes>"
      ]
     },
     "metadata": {
      "needs_background": "light"
     },
     "output_type": "display_data"
    }
   ],
   "source": [
    "from sklearn.metrics import confusion_matrix\n",
    "conf_matrix = confusion_matrix(reviews_score_train, pred)\n",
    "print (conf_matrix)\n",
    "class_label = [\"negative\", \"positive\"]\n",
    "df_cm = pd.DataFrame(conf_matrix, index = class_label, columns = class_label)\n",
    "sns.heatmap(df_cm, annot = True, fmt = \"d\")\n",
    "plt.title(\"Confusiion Matrix\")\n",
    "plt.xlabel(\"Predicted Label\")\n",
    "plt.ylabel(\"True Label\")\n",
    "plt.show()"
   ]
  },
  {
   "cell_type": "code",
   "execution_count": 60,
   "metadata": {},
   "outputs": [
    {
     "name": "stdout",
     "output_type": "stream",
     "text": [
      "              precision    recall  f1-score   support\n",
      "\n",
      "           0       0.90      1.00      0.95      8606\n",
      "           1       1.00      0.99      0.99     61394\n",
      "\n",
      "   micro avg       0.99      0.99      0.99     70000\n",
      "   macro avg       0.95      0.99      0.97     70000\n",
      "weighted avg       0.99      0.99      0.99     70000\n",
      "\n"
     ]
    }
   ],
   "source": [
    "from sklearn.metrics import classification_report\n",
    "print (classification_report(reviews_score_train, pred))"
   ]
  },
  {
   "cell_type": "code",
   "execution_count": 61,
   "metadata": {},
   "outputs": [
    {
     "name": "stderr",
     "output_type": "stream",
     "text": [
      "/anaconda3/envs/yolo/lib/python3.6/site-packages/sklearn/linear_model/logistic.py:1296: UserWarning: 'n_jobs' > 1 does not have any effect when 'solver' is set to 'liblinear'. Got 'n_jobs' = 4.\n",
      "  \" = {}.\".format(effective_n_jobs(self.n_jobs)))\n"
     ]
    },
    {
     "name": "stdout",
     "output_type": "stream",
     "text": [
      "\n",
      "The Train accuracy of the Logistic Regression for C = 1.000000 is 97.850000%\n",
      "\n",
      " Non-Zero weights  6594\n"
     ]
    }
   ],
   "source": [
    "model = LogisticRegression(C = 0.01 , penalty= 'l1' , class_weight = 'balanced' , n_jobs = -1)\n",
    "\n",
    "# fitting the model\n",
    "model.fit(reviews_std_test_tfidf , reviews_score_test)\n",
    "\n",
    "# predict the response\n",
    "pred = model.predict(reviews_std_test_tfidf)\n",
    "\n",
    "# evaluate accuracy\n",
    "acc = accuracy_score(reviews_score_test, pred)\n",
    "error = 1 - acc\n",
    "\n",
    "print('\\nThe Train accuracy of the Logistic Regression for C = %f is %f%%' % (1, acc*100))\n",
    "print (\"\\n Non-Zero weights \" , np.count_nonzero(model.coef_))"
   ]
  },
  {
   "cell_type": "code",
   "execution_count": 62,
   "metadata": {},
   "outputs": [
    {
     "name": "stdout",
     "output_type": "stream",
     "text": [
      "[[ 3665     0]\n",
      " [  645 25690]]\n"
     ]
    },
    {
     "data": {
      "image/png": "[encoded data removed]",
      "text/plain": [
       "<Figure size 432x288 with 2 Axes>"
      ]
     },
     "metadata": {
      "needs_background": "light"
     },
     "output_type": "display_data"
    }
   ],
   "source": [
    "from sklearn.metrics import confusion_matrix\n",
    "conf_matrix = confusion_matrix(reviews_score_test, pred)\n",
    "print (conf_matrix)\n",
    "class_label = [\"negative\", \"positive\"]\n",
    "df_cm = pd.DataFrame(conf_matrix, index = class_label, columns = class_label)\n",
    "sns.heatmap(df_cm, annot = True, fmt = \"d\")\n",
    "plt.title(\"Confusiion Matrix\")\n",
    "plt.xlabel(\"Predicted Label\")\n",
    "plt.ylabel(\"True Label\")\n",
    "plt.show()"
   ]
  },
  {
   "cell_type": "code",
   "execution_count": 64,
   "metadata": {},
   "outputs": [
    {
     "name": "stdout",
     "output_type": "stream",
     "text": [
      "              precision    recall  f1-score   support\n",
      "\n",
      "           0       0.85      1.00      0.92      3665\n",
      "           1       1.00      0.98      0.99     26335\n",
      "\n",
      "   micro avg       0.98      0.98      0.98     30000\n",
      "   macro avg       0.93      0.99      0.95     30000\n",
      "weighted avg       0.98      0.98      0.98     30000\n",
      "\n"
     ]
    }
   ],
   "source": [
    "from sklearn.metrics import classification_report\n",
    "print (classification_report(reviews_score_test, pred))"
   ]
  },
  {
   "cell_type": "markdown",
   "metadata": {},
   "source": [
    "\n",
    "# Word2Vec :"
   ]
  },
  {
   "cell_type": "code",
   "execution_count": 9,
   "metadata": {},
   "outputs": [],
   "source": [
    "i=0\n",
    "list_of_sent =[]\n",
    "for sent in reviews_100k['CleanedText'].values:\n",
    "    list_of_sent.append(sent.split())"
   ]
  },
  {
   "cell_type": "code",
   "execution_count": 10,
   "metadata": {},
   "outputs": [],
   "source": [
    "w2v_model=Word2Vec(list_of_sent,min_count=5,size=300, workers=4)"
   ]
  },
  {
   "cell_type": "code",
   "execution_count": 11,
   "metadata": {},
   "outputs": [
    {
     "name": "stdout",
     "output_type": "stream",
     "text": [
      "number of words that occured minimum 5 times  12508\n",
      "sample words  ['witti', 'littl', 'book', 'make', 'son', 'laugh', 'loud', 'car', 'drive', 'along', 'alway', 'sing', 'refrain', 'hes', 'learn', 'whale', 'india', 'droop', 'love', 'new', 'word', 'introduc', 'silli', 'classic', 'will', 'bet', 'still', 'abl', 'memori', 'colleg', 'rememb', 'see', 'show', 'air', 'televis', 'year', 'ago', 'child', 'sister', 'later', 'bought', 'day', 'thirti', 'someth', 'use', 'seri', 'song', 'student', 'teach', 'preschool']\n"
     ]
    }
   ],
   "source": [
    "w2v_words = list(w2v_model.wv.vocab)\n",
    "print(\"number of words that occured minimum 5 times \",len(w2v_words))\n",
    "print(\"sample words \", w2v_words[0:50])"
   ]
  },
  {
   "cell_type": "markdown",
   "metadata": {},
   "source": [
    "# AvgWord2Vec :"
   ]
  },
  {
   "cell_type": "code",
   "execution_count": 46,
   "metadata": {},
   "outputs": [
    {
     "name": "stderr",
     "output_type": "stream",
     "text": [
      "100%|██████████| 100000/100000 [00:14<00:00, 7055.07it/s]\n"
     ]
    }
   ],
   "source": [
    "sent_vectors = [] #List to store all the avg w2vec's \n",
    "\n",
    "for sent in tqdm(reviews_100k['CleanedText']):\n",
    "    cnt = 0 #to count no of words in each reviews\n",
    "    sent_vec = np.zeros(300) #Initializing with zeroes\n",
    "#     print(\"sent:\",sent) \n",
    "#     sent = sent.decode(\"utf-8\") \n",
    "    for word in sent.split():\n",
    "        try:\n",
    "#             print(word)\n",
    "            wvec = w2v_model.wv[word] #Vector of each using w2v model\n",
    "#             print(\"wvec:\",wvec)\n",
    "            sent_vec += wvec #Adding the vectors\n",
    "#             print(\"sent_vec:\",sent_vec)\n",
    "            cnt += 1\n",
    "        except: \n",
    "            pass #When the word is not in the dictionary then do nothing  \n",
    "#     print(sent_vec)\n",
    "    sent_vec /= cnt \n",
    "    sent_vectors.append(sent_vec) \n",
    "sent_vectors = np.array(sent_vectors)\n",
    "savefile(sent_vectors , 'AvgW2V_Logistic_Regression_2')"
   ]
  },
  {
   "cell_type": "code",
   "execution_count": 37,
   "metadata": {},
   "outputs": [
    {
     "name": "stdout",
     "output_type": "stream",
     "text": [
      "(100000,)\n",
      "(100000, 300)\n"
     ]
    }
   ],
   "source": [
    "sent_vectors = openfile('AvgW2V_Logistic_Regression_2')\n",
    "# print (sent_vectors[0])\n",
    "sent_vectors = np.array(sent_vectors)\n",
    "print (reviews_100k_score.shape)\n",
    "print (sent_vectors.shape)"
   ]
  },
  {
   "cell_type": "code",
   "execution_count": 38,
   "metadata": {},
   "outputs": [],
   "source": [
    "# sent_vectors[0]"
   ]
  },
  {
   "cell_type": "code",
   "execution_count": 39,
   "metadata": {},
   "outputs": [
    {
     "name": "stdout",
     "output_type": "stream",
     "text": [
      "(70000, 12)\n",
      "(70000,)\n",
      "(30000, 12)\n",
      "(30000,)\n"
     ]
    }
   ],
   "source": [
    "from sklearn import model_selection\n",
    "from sklearn.preprocessing import StandardScaler\n",
    "reviews_std_w2v = StandardScaler(with_mean = False).fit_transform(sent_vectors)\n",
    "    \n",
    "reviews_train_w2v, reviews_test_w2v, reviews_score_train_w2v , reviews_score_test_w2v = model_selection.train_test_split(reviews_std_w2v, reviews_100k_score, test_size=0.3, random_state=0)\n",
    "print (reviews_train.shape)\n",
    "print (reviews_score_train.shape)\n",
    "print (reviews_test.shape)\n",
    "print (reviews_score_test.shape)\n"
   ]
  },
  {
   "cell_type": "code",
   "execution_count": 44,
   "metadata": {
    "scrolled": false
   },
   "outputs": [
    {
     "name": "stdout",
     "output_type": "stream",
     "text": [
      "Fitting 5 folds for each of 10 candidates, totalling 50 fits\n"
     ]
    },
    {
     "name": "stderr",
     "output_type": "stream",
     "text": [
      "[Parallel(n_jobs=-1)]: Using backend LokyBackend with 4 concurrent workers.\n",
      "[Parallel(n_jobs=-1)]: Done  42 tasks      | elapsed: 246.3min\n",
      "[Parallel(n_jobs=-1)]: Done  50 out of  50 | elapsed: 295.3min finished\n"
     ]
    },
    {
     "name": "stdout",
     "output_type": "stream",
     "text": [
      "LogisticRegression(C=10000, class_weight='balanced', dual=False,\n",
      "          fit_intercept=True, intercept_scaling=1, max_iter=100,\n",
      "          multi_class='warn', n_jobs=None, penalty='l1', random_state=None,\n",
      "          solver='warn', tol=0.0001, verbose=0, warm_start=False)\n",
      "0.9290953687875945\n"
     ]
    },
    {
     "name": "stderr",
     "output_type": "stream",
     "text": [
      "/anaconda3/envs/yolo/lib/python3.6/site-packages/sklearn/svm/base.py:922: ConvergenceWarning: Liblinear failed to converge, increase the number of iterations.\n",
      "  \"the number of iterations.\", ConvergenceWarning)\n"
     ]
    }
   ],
   "source": [
    "from sklearn.linear_model import LogisticRegression\n",
    "from sklearn.metrics import accuracy_score\n",
    "from sklearn.model_selection import GridSearchCV , TimeSeriesSplit\n",
    "from sklearn.model_selection import cross_val_score\n",
    "    \n",
    "    \n",
    "# tuned_parameters = [{'C': [1000,500,100,50,10,5,1,0.5,0.1,0.05,0.01,0.005,0.001,0.0005,0.0001]} , { 'penalty' : ['l1' , 'l2'] }]\n",
    "clf = LogisticRegression(class_weight = 'balanced' )\n",
    "param_grid = {'C': [10**-4, 10**-2, 10**0, 10**2, 10**4] , 'penalty' : ['l1' , 'l2'] }\n",
    "#Using GridSearchCV\n",
    "model = GridSearchCV(clf, param_grid, scoring = 'roc_auc', cv=5 , verbose=1 ,n_jobs=-1)\n",
    "model.fit(reviews_train_w2v, reviews_score_train_w2v)\n",
    "savefile(model,\"GridSearch_w2v_Logistic_Regression\")\n",
    "print(model.best_estimator_)\n",
    "print(model.score(reviews_train_w2v, reviews_score_train_w2v))    \n",
    "# weight = model.coef_\n",
    "    \n",
    " "
   ]
  },
  {
   "cell_type": "code",
   "execution_count": 9,
   "metadata": {},
   "outputs": [
    {
     "name": "stdout",
     "output_type": "stream",
     "text": [
      "0.633 (+/-0.219) for {'C': 0.0001, 'penalty': 'l1'}\n",
      "0.912 (+/-0.003) for {'C': 0.0001, 'penalty': 'l2'}\n",
      "0.918 (+/-0.002) for {'C': 0.01, 'penalty': 'l1'}\n",
      "0.921 (+/-0.002) for {'C': 0.01, 'penalty': 'l2'}\n",
      "0.923 (+/-0.002) for {'C': 1, 'penalty': 'l1'}\n",
      "0.923 (+/-0.002) for {'C': 1, 'penalty': 'l2'}\n",
      "0.923 (+/-0.002) for {'C': 100, 'penalty': 'l1'}\n",
      "0.923 (+/-0.002) for {'C': 100, 'penalty': 'l2'}\n",
      "0.924 (+/-0.002) for {'C': 10000, 'penalty': 'l1'}\n",
      "0.923 (+/-0.002) for {'C': 10000, 'penalty': 'l2'}\n"
     ]
    },
    {
     "data": {
      "image/png": "[encoded data removed]",
      "text/plain": [
       "<Figure size 432x288 with 1 Axes>"
      ]
     },
     "metadata": {
      "needs_background": "light"
     },
     "output_type": "display_data"
    }
   ],
   "source": [
    "gsv = openfile(\"GridSearch_w2v_Logistic_Regression\")\n",
    "x1=[]\n",
    "y1=[]\n",
    "x2=[]\n",
    "y2=[]\n",
    "gsv.cv_results_\n",
    "\n",
    "means = gsv.cv_results_['mean_test_score']\n",
    "stds = gsv.cv_results_['std_test_score']\n",
    "for mean, std, params in zip(means, stds, gsv.cv_results_['params']):\n",
    "    print(\"%0.3f (+/-%0.03f) for %r\"\n",
    "          % (mean, std * 2, params))\n",
    "    if params['penalty'] == 'l1':\n",
    "        x1.append(params['C'])\n",
    "        y1.append(mean)\n",
    "    else:\n",
    "        x2.append(params['C'])\n",
    "        y2.append(mean)\n",
    "        \n",
    "# plt.xlim(-10,1010)\n",
    "# plt.ylim(0.5,1)\n",
    "plt.xlabel(\"C\",fontsize=15)\n",
    "plt.ylabel(\"Misclassification Error\")\n",
    "plt.title('Misclassification Error v/s C')\n",
    "plt.plot(x1,y1,'b',label=\"L1\")\n",
    "plt.plot(x2,y2,'r',label=\"L2\")\n",
    "plt.legend()\n",
    "plt.show()"
   ]
  },
  {
   "cell_type": "code",
   "execution_count": 11,
   "metadata": {},
   "outputs": [
    {
     "name": "stderr",
     "output_type": "stream",
     "text": [
      "/anaconda3/envs/yolo/lib/python3.6/site-packages/sklearn/linear_model/logistic.py:1296: UserWarning: 'n_jobs' > 1 does not have any effect when 'solver' is set to 'liblinear'. Got 'n_jobs' = 4.\n",
      "  \" = {}.\".format(effective_n_jobs(self.n_jobs)))\n"
     ]
    },
    {
     "name": "stdout",
     "output_type": "stream",
     "text": [
      "\n",
      "The accuracy of the Logistic Regression for C = 10000.000000 is 85.001429%\n",
      "300\n"
     ]
    },
    {
     "name": "stderr",
     "output_type": "stream",
     "text": [
      "/anaconda3/envs/yolo/lib/python3.6/site-packages/sklearn/svm/base.py:922: ConvergenceWarning: Liblinear failed to converge, increase the number of iterations.\n",
      "  \"the number of iterations.\", ConvergenceWarning)\n"
     ]
    }
   ],
   "source": [
    "from sklearn.linear_model import LogisticRegression\n",
    "from sklearn.metrics import accuracy_score\n",
    "model = LogisticRegression(C = 10000 , penalty= 'l1' , class_weight = 'balanced' , n_jobs = -1)\n",
    "\n",
    "# fitting the model\n",
    "model.fit(reviews_train_w2v , reviews_score_train_w2v)\n",
    "\n",
    "# predict the response\n",
    "pred = model.predict(reviews_train_w2v)\n",
    "\n",
    "# evaluate accuracy\n",
    "acc = accuracy_score(reviews_score_train, pred) * 100\n",
    "print('\\nThe accuracy of the Logistic Regression for C = %f is %f%%' % (10000, acc))\n",
    "weight = model.coef_\n",
    "print (np.count_nonzero(model.coef_))"
   ]
  },
  {
   "cell_type": "code",
   "execution_count": 14,
   "metadata": {},
   "outputs": [
    {
     "name": "stdout",
     "output_type": "stream",
     "text": [
      "[[ 7463  1143]\n",
      " [ 9356 52038]]\n"
     ]
    },
    {
     "data": {
      "image/png": "[encoded data removed]",
      "text/plain": [
       "<Figure size 432x288 with 2 Axes>"
      ]
     },
     "metadata": {
      "needs_background": "light"
     },
     "output_type": "display_data"
    }
   ],
   "source": [
    "from sklearn.metrics import confusion_matrix\n",
    "conf_matrix = confusion_matrix(reviews_score_train_w2v, pred)\n",
    "print (conf_matrix)\n",
    "class_label = [\"negative\", \"positive\"]\n",
    "df_cm = pd.DataFrame(conf_matrix, index = class_label, columns = class_label)\n",
    "sns.heatmap(df_cm, annot = True, fmt = \"d\")\n",
    "plt.title(\"Confusiion Matrix\")\n",
    "plt.xlabel(\"Predicted Label\")\n",
    "plt.ylabel(\"True Label\")\n",
    "plt.show()"
   ]
  },
  {
   "cell_type": "code",
   "execution_count": 15,
   "metadata": {},
   "outputs": [
    {
     "name": "stdout",
     "output_type": "stream",
     "text": [
      "              precision    recall  f1-score   support\n",
      "\n",
      "           0       0.44      0.87      0.59      8606\n",
      "           1       0.98      0.85      0.91     61394\n",
      "\n",
      "   micro avg       0.85      0.85      0.85     70000\n",
      "   macro avg       0.71      0.86      0.75     70000\n",
      "weighted avg       0.91      0.85      0.87     70000\n",
      "\n"
     ]
    }
   ],
   "source": [
    "from sklearn.metrics import classification_report\n",
    "print (classification_report(reviews_score_train_w2v, pred))"
   ]
  },
  {
   "cell_type": "code",
   "execution_count": 16,
   "metadata": {},
   "outputs": [
    {
     "name": "stderr",
     "output_type": "stream",
     "text": [
      "/anaconda3/envs/yolo/lib/python3.6/site-packages/sklearn/linear_model/logistic.py:1296: UserWarning: 'n_jobs' > 1 does not have any effect when 'solver' is set to 'liblinear'. Got 'n_jobs' = 4.\n",
      "  \" = {}.\".format(effective_n_jobs(self.n_jobs)))\n"
     ]
    },
    {
     "name": "stdout",
     "output_type": "stream",
     "text": [
      "\n",
      "The accuracy of the Logistic Regression for C = 5.000000 is 84.950000%\n",
      "300\n"
     ]
    },
    {
     "name": "stderr",
     "output_type": "stream",
     "text": [
      "/anaconda3/envs/yolo/lib/python3.6/site-packages/sklearn/svm/base.py:922: ConvergenceWarning: Liblinear failed to converge, increase the number of iterations.\n",
      "  \"the number of iterations.\", ConvergenceWarning)\n"
     ]
    }
   ],
   "source": [
    "from sklearn.linear_model import LogisticRegression\n",
    "from sklearn.metrics import accuracy_score\n",
    "model = LogisticRegression(C = 10000, penalty= 'l1' , class_weight = 'balanced' , n_jobs = -1)\n",
    "\n",
    "# fitting the model\n",
    "model.fit(reviews_test_w2v , reviews_score_test_w2v)\n",
    "\n",
    "# predict the response\n",
    "pred = model.predict(reviews_test_w2v)\n",
    "\n",
    "# evaluate accuracy\n",
    "acc = accuracy_score(reviews_score_test_w2v, pred) * 100\n",
    "print('\\nThe accuracy of the Logistic Regression for C = %f is %f%%' % (5, acc))\n",
    "weight = model.coef_\n",
    "print (np.count_nonzero(model.coef_))"
   ]
  },
  {
   "cell_type": "code",
   "execution_count": 17,
   "metadata": {},
   "outputs": [
    {
     "name": "stdout",
     "output_type": "stream",
     "text": [
      "[[ 3186   479]\n",
      " [ 4036 22299]]\n"
     ]
    },
    {
     "data": {
      "image/png": "[encoded data removed]",
      "text/plain": [
       "<Figure size 432x288 with 2 Axes>"
      ]
     },
     "metadata": {
      "needs_background": "light"
     },
     "output_type": "display_data"
    }
   ],
   "source": [
    "from sklearn.metrics import confusion_matrix\n",
    "conf_matrix = confusion_matrix(reviews_score_test_w2v, pred)\n",
    "print (conf_matrix)\n",
    "class_label = [\"negative\", \"positive\"]\n",
    "df_cm = pd.DataFrame(conf_matrix, index = class_label, columns = class_label)\n",
    "sns.heatmap(df_cm, annot = True, fmt = \"d\")\n",
    "plt.title(\"Confusiion Matrix\")\n",
    "plt.xlabel(\"Predicted Label\")\n",
    "plt.ylabel(\"True Label\")\n",
    "plt.show()"
   ]
  },
  {
   "cell_type": "code",
   "execution_count": 18,
   "metadata": {},
   "outputs": [
    {
     "name": "stdout",
     "output_type": "stream",
     "text": [
      "              precision    recall  f1-score   support\n",
      "\n",
      "           0       0.44      0.87      0.59      3665\n",
      "           1       0.98      0.85      0.91     26335\n",
      "\n",
      "   micro avg       0.85      0.85      0.85     30000\n",
      "   macro avg       0.71      0.86      0.75     30000\n",
      "weighted avg       0.91      0.85      0.87     30000\n",
      "\n"
     ]
    }
   ],
   "source": [
    "from sklearn.metrics import classification_report\n",
    "print (classification_report(reviews_score_test_w2v, pred))"
   ]
  },
  {
   "cell_type": "markdown",
   "metadata": {},
   "source": [
    "### RandomSearchCV :"
   ]
  },
  {
   "cell_type": "code",
   "execution_count": 62,
   "metadata": {},
   "outputs": [
    {
     "name": "stdout",
     "output_type": "stream",
     "text": [
      "Fitting 5 folds for each of 10 candidates, totalling 50 fits\n"
     ]
    },
    {
     "name": "stderr",
     "output_type": "stream",
     "text": [
      "[Parallel(n_jobs=-1)]: Using backend LokyBackend with 4 concurrent workers.\n",
      "[Parallel(n_jobs=-1)]: Done  42 tasks      | elapsed: 231.8min\n",
      "[Parallel(n_jobs=-1)]: Done  50 out of  50 | elapsed: 259.2min finished\n"
     ]
    },
    {
     "name": "stdout",
     "output_type": "stream",
     "text": [
      "LogisticRegression(C=10000, class_weight='balanced', dual=False,\n",
      "          fit_intercept=True, intercept_scaling=1, max_iter=100,\n",
      "          multi_class='warn', n_jobs=None, penalty='l1', random_state=None,\n",
      "          solver='warn', tol=0.0001, verbose=0, warm_start=False)\n",
      "0.929097662692173\n"
     ]
    },
    {
     "name": "stderr",
     "output_type": "stream",
     "text": [
      "/anaconda3/envs/yolo/lib/python3.6/site-packages/sklearn/svm/base.py:922: ConvergenceWarning: Liblinear failed to converge, increase the number of iterations.\n",
      "  \"the number of iterations.\", ConvergenceWarning)\n"
     ]
    }
   ],
   "source": [
    "from sklearn.linear_model import LogisticRegression\n",
    "from sklearn.metrics import accuracy_score\n",
    "from sklearn.model_selection import RandomizedSearchCV , TimeSeriesSplit\n",
    "from sklearn.model_selection import cross_val_score\n",
    "    \n",
    "    \n",
    "param_grid = {'C': [10**-4, 10**-2, 10**0, 10**2, 10**4] , 'penalty' : ['l1' , 'l2'] }\n",
    "clf = LogisticRegression(class_weight = 'balanced' )\n",
    "\n",
    "#Using GridSearchCV\n",
    "model = RandomizedSearchCV(clf, param_grid, scoring = 'roc_auc', cv=5 , verbose=1 , n_jobs=-1)\n",
    "model.fit(reviews_train_w2v, reviews_score_train_w2v)\n",
    "savefile(model,\"RandomSearch_w2v_Logistic_Regression_roc_auc_score\")\n",
    "\n",
    "print(model.best_estimator_)\n",
    "print(model.score(reviews_train_w2v, reviews_score_train_w2v))  "
   ]
  },
  {
   "cell_type": "code",
   "execution_count": 19,
   "metadata": {},
   "outputs": [
    {
     "name": "stdout",
     "output_type": "stream",
     "text": [
      "0.633 (+/-0.219) for {'penalty': 'l1', 'C': 0.0001}\n",
      "0.912 (+/-0.003) for {'penalty': 'l2', 'C': 0.0001}\n",
      "0.918 (+/-0.002) for {'penalty': 'l1', 'C': 0.01}\n",
      "0.921 (+/-0.002) for {'penalty': 'l2', 'C': 0.01}\n",
      "0.923 (+/-0.002) for {'penalty': 'l1', 'C': 1}\n",
      "0.923 (+/-0.002) for {'penalty': 'l2', 'C': 1}\n",
      "0.923 (+/-0.002) for {'penalty': 'l1', 'C': 100}\n",
      "0.923 (+/-0.002) for {'penalty': 'l2', 'C': 100}\n",
      "0.923 (+/-0.002) for {'penalty': 'l1', 'C': 10000}\n",
      "0.923 (+/-0.002) for {'penalty': 'l2', 'C': 10000}\n"
     ]
    },
    {
     "data": {
      "image/png": "[encoded data removed]",
      "text/plain": [
       "<Figure size 432x288 with 1 Axes>"
      ]
     },
     "metadata": {
      "needs_background": "light"
     },
     "output_type": "display_data"
    }
   ],
   "source": [
    "gsv = openfile(\"RandomSearch_w2v_Logistic_Regression_roc_auc_score\")\n",
    "x1=[]\n",
    "y1=[]\n",
    "x2=[]\n",
    "y2=[]\n",
    "gsv.cv_results_\n",
    "\n",
    "means = gsv.cv_results_['mean_test_score']\n",
    "stds = gsv.cv_results_['std_test_score']\n",
    "for mean, std, params in zip(means, stds, gsv.cv_results_['params']):\n",
    "    print(\"%0.3f (+/-%0.03f) for %r\"\n",
    "          % (mean, std * 2, params))\n",
    "    if params['penalty'] == 'l1':\n",
    "        x1.append(params['C'])\n",
    "        y1.append(mean)\n",
    "    else:\n",
    "        x2.append(params['C'])\n",
    "        y2.append(mean)\n",
    "        \n",
    "# plt.xlim(-10,1010)\n",
    "# plt.ylim(0.5,1)\n",
    "plt.xlabel(\"C\",fontsize=15)\n",
    "plt.ylabel(\"Misclassification Error\")\n",
    "plt.title('Misclassification Error v/s C')\n",
    "plt.plot(x1,y1,'b',label=\"L1\")\n",
    "plt.plot(x2,y2,'r',label=\"L2\")\n",
    "plt.legend()\n",
    "plt.show()"
   ]
  },
  {
   "cell_type": "code",
   "execution_count": 13,
   "metadata": {},
   "outputs": [
    {
     "name": "stderr",
     "output_type": "stream",
     "text": [
      "/anaconda3/envs/yolo/lib/python3.6/site-packages/sklearn/linear_model/logistic.py:1296: UserWarning: 'n_jobs' > 1 does not have any effect when 'solver' is set to 'liblinear'. Got 'n_jobs' = 4.\n",
      "  \" = {}.\".format(effective_n_jobs(self.n_jobs)))\n"
     ]
    },
    {
     "name": "stdout",
     "output_type": "stream",
     "text": [
      "\n",
      "The accuracy of the Logistic Regression for C = 1000.000000 is 85.004286%\n",
      "300\n"
     ]
    },
    {
     "name": "stderr",
     "output_type": "stream",
     "text": [
      "/anaconda3/envs/yolo/lib/python3.6/site-packages/sklearn/svm/base.py:922: ConvergenceWarning: Liblinear failed to converge, increase the number of iterations.\n",
      "  \"the number of iterations.\", ConvergenceWarning)\n"
     ]
    }
   ],
   "source": [
    "from sklearn.linear_model import LogisticRegression\n",
    "from sklearn.metrics import accuracy_score\n",
    "model = LogisticRegression(C = 1000 , penalty= 'l1' , class_weight = 'balanced' , n_jobs = -1)\n",
    "\n",
    "# fitting the model\n",
    "model.fit(reviews_train_w2v , reviews_score_train_w2v)\n",
    "\n",
    "# predict the response\n",
    "pred = model.predict(reviews_train_w2v)\n",
    "\n",
    "# evaluate accuracy\n",
    "acc = accuracy_score(reviews_score_train, pred) * 100\n",
    "print('\\nThe accuracy of the Logistic Regression for C = %f is %f%%' % (1000, acc))\n",
    "weight = model.coef_\n",
    "print (np.count_nonzero(model.coef_))"
   ]
  },
  {
   "cell_type": "code",
   "execution_count": 40,
   "metadata": {},
   "outputs": [
    {
     "name": "stderr",
     "output_type": "stream",
     "text": [
      "/anaconda3/envs/yolo/lib/python3.6/site-packages/sklearn/linear_model/logistic.py:1296: UserWarning: 'n_jobs' > 1 does not have any effect when 'solver' is set to 'liblinear'. Got 'n_jobs' = 4.\n",
      "  \" = {}.\".format(effective_n_jobs(self.n_jobs)))\n"
     ]
    },
    {
     "name": "stdout",
     "output_type": "stream",
     "text": [
      "\n",
      "The accuracy of the Logistic Regression for C = 5.000000 is 84.966667%\n",
      "300\n"
     ]
    },
    {
     "name": "stderr",
     "output_type": "stream",
     "text": [
      "/anaconda3/envs/yolo/lib/python3.6/site-packages/sklearn/svm/base.py:922: ConvergenceWarning: Liblinear failed to converge, increase the number of iterations.\n",
      "  \"the number of iterations.\", ConvergenceWarning)\n"
     ]
    }
   ],
   "source": [
    "from sklearn.linear_model import LogisticRegression\n",
    "from sklearn.metrics import accuracy_score\n",
    "model = LogisticRegression(C = 10000, penalty= 'l1' , class_weight = 'balanced' , n_jobs = -1)\n",
    "\n",
    "# fitting the model\n",
    "model.fit(reviews_test_w2v , reviews_score_test_w2v)\n",
    "\n",
    "# predict the response\n",
    "pred = model.predict(reviews_test_w2v)\n",
    "\n",
    "# evaluate accuracy\n",
    "acc = accuracy_score(reviews_score_test_w2v, pred) * 100\n",
    "print('\\nThe accuracy of the Logistic Regression for C = %f is %f%%' % (5, acc))\n",
    "weight = model.coef_\n",
    "print (np.count_nonzero(model.coef_))"
   ]
  },
  {
   "cell_type": "code",
   "execution_count": 41,
   "metadata": {},
   "outputs": [
    {
     "name": "stdout",
     "output_type": "stream",
     "text": [
      "[[ 3189   476]\n",
      " [ 4034 22301]]\n"
     ]
    },
    {
     "data": {
      "image/png": "[encoded data removed]",
      "text/plain": [
       "<Figure size 432x288 with 2 Axes>"
      ]
     },
     "metadata": {
      "needs_background": "light"
     },
     "output_type": "display_data"
    }
   ],
   "source": [
    "from sklearn.metrics import confusion_matrix\n",
    "conf_matrix = confusion_matrix(reviews_score_test_w2v, pred)\n",
    "print (conf_matrix)\n",
    "class_label = [\"negative\", \"positive\"]\n",
    "df_cm = pd.DataFrame(conf_matrix, index = class_label, columns = class_label)\n",
    "sns.heatmap(df_cm, annot = True, fmt = \"d\")\n",
    "plt.title(\"Confusiion Matrix\")\n",
    "plt.xlabel(\"Predicted Label\")\n",
    "plt.ylabel(\"True Label\")\n",
    "plt.show()"
   ]
  },
  {
   "cell_type": "code",
   "execution_count": 42,
   "metadata": {},
   "outputs": [
    {
     "name": "stdout",
     "output_type": "stream",
     "text": [
      "              precision    recall  f1-score   support\n",
      "\n",
      "           0       0.44      0.87      0.59      3665\n",
      "           1       0.98      0.85      0.91     26335\n",
      "\n",
      "   micro avg       0.85      0.85      0.85     30000\n",
      "   macro avg       0.71      0.86      0.75     30000\n",
      "weighted avg       0.91      0.85      0.87     30000\n",
      "\n"
     ]
    }
   ],
   "source": [
    "from sklearn.metrics import classification_report\n",
    "print (classification_report(reviews_score_test_w2v, pred))"
   ]
  },
  {
   "cell_type": "markdown",
   "metadata": {},
   "source": [
    "# TF-IDF W2V :"
   ]
  },
  {
   "cell_type": "code",
   "execution_count": 12,
   "metadata": {},
   "outputs": [],
   "source": [
    "# S = [\"abc def pqr\", \"def def def abc\", \"pqr pqr def\"]\n",
    "model = TfidfVectorizer()\n",
    "tf_idf_matrix = model.fit_transform(reviews_train['CleanedText'].values)\n",
    "# print (reviews_train.shape)\n",
    "# we are converting a dictionary with word as a key, and the idf as a value\n",
    "dictionary = dict(zip(model.get_feature_names(), list(model.idf_)))\n",
    "# print (dictionary)"
   ]
  },
  {
   "cell_type": "code",
   "execution_count": 13,
   "metadata": {
    "scrolled": false
   },
   "outputs": [
    {
     "name": "stderr",
     "output_type": "stream",
     "text": [
      "100%|██████████| 70000/70000 [01:40<00:00, 699.81it/s]"
     ]
    },
    {
     "name": "stdout",
     "output_type": "stream",
     "text": [
      "<class 'list'>\n"
     ]
    },
    {
     "name": "stderr",
     "output_type": "stream",
     "text": [
      "\n"
     ]
    }
   ],
   "source": [
    "# TF-IDF weighted Word2Vec\n",
    "tfidf_feat = model.get_feature_names() # tfidf words/col-names\n",
    "# final_tf_idf is the sparse matrix with row= sentence, col=word and cell_val = tfidf\n",
    "\n",
    "tfidf_sent_vectors = []; # the tfidf-w2v for each sentence/review is stored in this list\n",
    "row=0;\n",
    "for sent in tqdm(reviews_train['CleanedText'].values): # for each review/sentence \n",
    "    sent_vec = np.zeros(300) # as word vectors are of zero length\n",
    "    weight_sum =0; # num of words with a valid vector in the sentence/review\n",
    "    for word in sent.split(' '): # for each word in a review/sentence\n",
    "        if word in w2v_words:\n",
    "            vec = w2v_model.wv[word]\n",
    "#             tf_idf = tf_idf_matrix[row, tfidf_feat.index(word)]\n",
    "            # to reduce the computation we are \n",
    "            # dictionary[word] = idf value of word in whole courpus\n",
    "            # sent.count(word) = tf valeus of word in this review\n",
    "            tf_idf = dictionary[word]*(sent.count(word)/len(sent))\n",
    "            sent_vec += (vec * tf_idf)\n",
    "            weight_sum += tf_idf\n",
    "    if weight_sum != 0:\n",
    "        sent_vec /= weight_sum\n",
    "    tfidf_sent_vectors.append(sent_vec)\n",
    "    row += 1\n",
    "    \n",
    "# print (tfidf_sent_vectors)\n",
    "print (type(tfidf_sent_vectors))"
   ]
  },
  {
   "cell_type": "code",
   "execution_count": 16,
   "metadata": {},
   "outputs": [
    {
     "name": "stdout",
     "output_type": "stream",
     "text": [
      "(70000, 300)\n"
     ]
    }
   ],
   "source": [
    "tfidf_sent_vectors = np.array(tfidf_sent_vectors)\n",
    "print (tfidf_sent_vectors.shape)\n",
    "# print (tfidf_sent_vectors[0])"
   ]
  },
  {
   "cell_type": "code",
   "execution_count": null,
   "metadata": {},
   "outputs": [],
   "source": []
  },
  {
   "cell_type": "code",
   "execution_count": 17,
   "metadata": {},
   "outputs": [],
   "source": [
    "savefile(tfidf_sent_vectors , 'tfidf_W2V_Logistic_Regression_2')"
   ]
  },
  {
   "cell_type": "code",
   "execution_count": 19,
   "metadata": {},
   "outputs": [],
   "source": [
    "\n",
    "from sklearn import preprocessing\n",
    "from sklearn.model_selection import train_test_split\n",
    "from sklearn.preprocessing import StandardScaler\n",
    "tfidf_sent_vectors = gsv = openfile(\"tfidf_W2V_Logistic_Regression_2\")\n",
    "\n",
    "tfidfw2v_vecs_norm =  StandardScaler(with_mean = False).fit_transform(tfidf_sent_vectors)\n",
    "\n",
    "#Not shuffling the data as we want it on time basis\n"
   ]
  },
  {
   "cell_type": "code",
   "execution_count": 20,
   "metadata": {},
   "outputs": [
    {
     "name": "stdout",
     "output_type": "stream",
     "text": [
      "Fitting 5 folds for each of 30 candidates, totalling 150 fits\n"
     ]
    },
    {
     "name": "stderr",
     "output_type": "stream",
     "text": [
      "[Parallel(n_jobs=-1)]: Using backend LokyBackend with 4 concurrent workers.\n",
      "[Parallel(n_jobs=-1)]: Done  42 tasks      | elapsed: 265.2min\n",
      "[Parallel(n_jobs=-1)]: Done 150 out of 150 | elapsed: 354.7min finished\n"
     ]
    },
    {
     "name": "stdout",
     "output_type": "stream",
     "text": [
      "Best HyperParameter:  {'C': 50, 'penalty': 'l2'}\n",
      "Best Accuracy: 90.94%\n"
     ]
    }
   ],
   "source": [
    "from sklearn.model_selection import GridSearchCV\n",
    "from sklearn.linear_model import LogisticRegression\n",
    "\n",
    "\n",
    "clf = LogisticRegression()\n",
    "#params we need to try on classifier\n",
    "param_grid = {'C':[1000,500,100,50,10,5,1,0.5,0.1,0.05,0.01,0.005,0.001,0.0005,0.0001],\n",
    "             'penalty':['l1','l2']} \n",
    "\n",
    "gsv = GridSearchCV(clf,param_grid,cv=5,verbose=1,n_jobs = -1)\n",
    "gsv.fit(tfidfw2v_vecs_norm,reviews_score_train)\n",
    "savefile(gsv,\"GridSearch_tfidf_w2v_logistic_regression\")\n",
    "print(\"Best HyperParameter: \",gsv.best_params_)\n",
    "print(\"Best Accuracy: %.2f%%\"%(gsv.best_score_*100))"
   ]
  },
  {
   "cell_type": "code",
   "execution_count": 23,
   "metadata": {},
   "outputs": [
    {
     "name": "stdout",
     "output_type": "stream",
     "text": [
      "0.909 (+/-0.006) for {'C': 1000, 'penalty': 'l1'}\n",
      "0.909 (+/-0.005) for {'C': 1000, 'penalty': 'l2'}\n",
      "0.909 (+/-0.006) for {'C': 500, 'penalty': 'l1'}\n",
      "0.909 (+/-0.005) for {'C': 500, 'penalty': 'l2'}\n",
      "0.909 (+/-0.006) for {'C': 100, 'penalty': 'l1'}\n",
      "0.909 (+/-0.006) for {'C': 100, 'penalty': 'l2'}\n",
      "0.909 (+/-0.006) for {'C': 50, 'penalty': 'l1'}\n",
      "0.909 (+/-0.006) for {'C': 50, 'penalty': 'l2'}\n",
      "0.909 (+/-0.006) for {'C': 10, 'penalty': 'l1'}\n",
      "0.909 (+/-0.006) for {'C': 10, 'penalty': 'l2'}\n",
      "0.909 (+/-0.006) for {'C': 5, 'penalty': 'l1'}\n",
      "0.909 (+/-0.006) for {'C': 5, 'penalty': 'l2'}\n",
      "0.909 (+/-0.006) for {'C': 1, 'penalty': 'l1'}\n",
      "0.909 (+/-0.006) for {'C': 1, 'penalty': 'l2'}\n",
      "0.909 (+/-0.005) for {'C': 0.5, 'penalty': 'l1'}\n",
      "0.909 (+/-0.006) for {'C': 0.5, 'penalty': 'l2'}\n",
      "0.907 (+/-0.005) for {'C': 0.1, 'penalty': 'l1'}\n",
      "0.908 (+/-0.005) for {'C': 0.1, 'penalty': 'l2'}\n",
      "0.906 (+/-0.006) for {'C': 0.05, 'penalty': 'l1'}\n",
      "0.908 (+/-0.005) for {'C': 0.05, 'penalty': 'l2'}\n",
      "0.903 (+/-0.006) for {'C': 0.01, 'penalty': 'l1'}\n",
      "0.907 (+/-0.005) for {'C': 0.01, 'penalty': 'l2'}\n",
      "0.900 (+/-0.006) for {'C': 0.005, 'penalty': 'l1'}\n",
      "0.906 (+/-0.006) for {'C': 0.005, 'penalty': 'l2'}\n",
      "0.887 (+/-0.003) for {'C': 0.001, 'penalty': 'l1'}\n",
      "0.903 (+/-0.006) for {'C': 0.001, 'penalty': 'l2'}\n",
      "0.880 (+/-0.001) for {'C': 0.0005, 'penalty': 'l1'}\n",
      "0.901 (+/-0.006) for {'C': 0.0005, 'penalty': 'l2'}\n",
      "0.873 (+/-0.001) for {'C': 0.0001, 'penalty': 'l1'}\n",
      "0.893 (+/-0.003) for {'C': 0.0001, 'penalty': 'l2'}\n"
     ]
    },
    {
     "data": {
      "image/png": "[encoded data removed]",
      "text/plain": [
       "<Figure size 432x288 with 1 Axes>"
      ]
     },
     "metadata": {
      "needs_background": "light"
     },
     "output_type": "display_data"
    }
   ],
   "source": [
    "gsv = openfile(\"GridSearch_tfidf_w2v_logistic_regression\")\n",
    "x1=[]\n",
    "y1=[]\n",
    "x2=[]\n",
    "y2=[]\n",
    "gsv.cv_results_\n",
    "\n",
    "means = gsv.cv_results_['mean_test_score']\n",
    "stds = gsv.cv_results_['std_test_score']\n",
    "for mean, std, params in zip(means, stds, gsv.cv_results_['params']):\n",
    "    print(\"%0.3f (+/-%0.03f) for %r\"\n",
    "          % (mean, std * 2, params))\n",
    "    if params['penalty'] == 'l1':\n",
    "        x1.append(params['C'])\n",
    "        y1.append(mean)\n",
    "    else:\n",
    "        x2.append(params['C'])\n",
    "        y2.append(mean)\n",
    "        \n",
    "# plt.xlim(-10,1010)\n",
    "# plt.ylim(0.5,1)\n",
    "plt.xlabel(\"C\",fontsize=15)\n",
    "plt.ylabel(\"Misclassification Error\")\n",
    "plt.title('Misclassification Error v/s C')\n",
    "plt.plot(x1,y1,'b',label=\"L1\")\n",
    "plt.plot(x2,y2,'r',label=\"L2\")\n",
    "plt.legend()\n",
    "plt.show()"
   ]
  },
  {
   "cell_type": "code",
   "execution_count": 24,
   "metadata": {},
   "outputs": [
    {
     "name": "stderr",
     "output_type": "stream",
     "text": [
      "/anaconda3/envs/yolo/lib/python3.6/site-packages/sklearn/linear_model/logistic.py:1296: UserWarning: 'n_jobs' > 1 does not have any effect when 'solver' is set to 'liblinear'. Got 'n_jobs' = 4.\n",
      "  \" = {}.\".format(effective_n_jobs(self.n_jobs)))\n"
     ]
    },
    {
     "name": "stdout",
     "output_type": "stream",
     "text": [
      "\n",
      "The accuracy of the Logistic Regression for C = 50.000000 is 82.828571%\n",
      "300\n"
     ]
    }
   ],
   "source": [
    "from sklearn.linear_model import LogisticRegression\n",
    "from sklearn.metrics import accuracy_score\n",
    "model = LogisticRegression(C = 50 , penalty= 'l2' , class_weight = 'balanced' , n_jobs = -1)\n",
    "\n",
    "# fitting the model\n",
    "model.fit(tfidfw2v_vecs_norm,reviews_score_train)\n",
    "\n",
    "# predict the response\n",
    "pred = model.predict(tfidfw2v_vecs_norm)\n",
    "\n",
    "# evaluate accuracy\n",
    "acc = accuracy_score(reviews_score_train, pred) * 100\n",
    "print('\\nThe accuracy of the Logistic Regression for C = %f is %f%%' % (50, acc))\n",
    "weight = model.coef_\n",
    "print (np.count_nonzero(model.coef_))"
   ]
  },
  {
   "cell_type": "code",
   "execution_count": 25,
   "metadata": {},
   "outputs": [
    {
     "name": "stdout",
     "output_type": "stream",
     "text": [
      "[[ 7263  1343]\n",
      " [10677 50717]]\n"
     ]
    },
    {
     "data": {
      "image/png": "[encoded data removed]",
      "text/plain": [
       "<Figure size 432x288 with 2 Axes>"
      ]
     },
     "metadata": {
      "needs_background": "light"
     },
     "output_type": "display_data"
    }
   ],
   "source": [
    "from sklearn.metrics import confusion_matrix\n",
    "conf_matrix = confusion_matrix(reviews_score_train, pred)\n",
    "print (conf_matrix)\n",
    "class_label = [\"negative\", \"positive\"]\n",
    "df_cm = pd.DataFrame(conf_matrix, index = class_label, columns = class_label)\n",
    "sns.heatmap(df_cm, annot = True, fmt = \"d\")\n",
    "plt.title(\"Confusiion Matrix\")\n",
    "plt.xlabel(\"Predicted Label\")\n",
    "plt.ylabel(\"True Label\")\n",
    "plt.show()"
   ]
  },
  {
   "cell_type": "code",
   "execution_count": 26,
   "metadata": {},
   "outputs": [
    {
     "name": "stdout",
     "output_type": "stream",
     "text": [
      "              precision    recall  f1-score   support\n",
      "\n",
      "           0       0.40      0.84      0.55      8606\n",
      "           1       0.97      0.83      0.89     61394\n",
      "\n",
      "   micro avg       0.83      0.83      0.83     70000\n",
      "   macro avg       0.69      0.84      0.72     70000\n",
      "weighted avg       0.90      0.83      0.85     70000\n",
      "\n"
     ]
    }
   ],
   "source": [
    "from sklearn.metrics import classification_report\n",
    "print (classification_report(reviews_score_train, pred))"
   ]
  },
  {
   "cell_type": "code",
   "execution_count": 21,
   "metadata": {},
   "outputs": [
    {
     "name": "stdout",
     "output_type": "stream",
     "text": [
      "Fitting 5 folds for each of 10 candidates, totalling 50 fits\n"
     ]
    },
    {
     "name": "stderr",
     "output_type": "stream",
     "text": [
      "[Parallel(n_jobs=-1)]: Using backend LokyBackend with 4 concurrent workers.\n",
      "[Parallel(n_jobs=-1)]: Done  42 tasks      | elapsed: 265.2min\n",
      "[Parallel(n_jobs=-1)]: Done  50 out of  50 | elapsed: 301.5min finished\n"
     ]
    },
    {
     "name": "stdout",
     "output_type": "stream",
     "text": [
      "LogisticRegression(C=10000, class_weight='balanced', dual=False,\n",
      "          fit_intercept=True, intercept_scaling=1, max_iter=100,\n",
      "          multi_class='warn', n_jobs=None, penalty='l1', random_state=None,\n",
      "          solver='warn', tol=0.0001, verbose=0, warm_start=False)\n"
     ]
    },
    {
     "name": "stderr",
     "output_type": "stream",
     "text": [
      "/anaconda3/envs/yolo/lib/python3.6/site-packages/sklearn/svm/base.py:922: ConvergenceWarning: Liblinear failed to converge, increase the number of iterations.\n",
      "  \"the number of iterations.\", ConvergenceWarning)\n"
     ]
    }
   ],
   "source": [
    "from sklearn.linear_model import LogisticRegression\n",
    "from sklearn.metrics import accuracy_score\n",
    "from sklearn.model_selection import RandomizedSearchCV , TimeSeriesSplit\n",
    "from sklearn.model_selection import cross_val_score\n",
    "    \n",
    "    \n",
    "param_grid = {'C': [10**-4, 10**-2, 10**0, 10**2, 10**4] , 'penalty' : ['l1' , 'l2'] }\n",
    "clf = LogisticRegression(class_weight = 'balanced' )\n",
    "\n",
    "#Using GridSearchCV\n",
    "model = RandomizedSearchCV(clf, param_grid, scoring = 'roc_auc', cv=5 , verbose=1 , n_jobs=-1)\n",
    "model.fit(tfidfw2v_vecs_norm, reviews_score_train)\n",
    "savefile(model,\"RandomSearch_tfidf_w2v_Logistic_Regression_roc_score\")\n",
    "\n",
    "print(model.best_estimator_)\n",
    "# print(model.score(reviews_train_tfidf, reviews_score_train))  "
   ]
  },
  {
   "cell_type": "code",
   "execution_count": 32,
   "metadata": {},
   "outputs": [
    {
     "data": {
      "text/plain": [
       "0.9048995114931067"
      ]
     },
     "execution_count": 32,
     "metadata": {},
     "output_type": "execute_result"
    }
   ],
   "source": [
    "model = openfile('RandomSearch_tfidf_w2v_Logistic_Regression_roc_score')\n",
    "model.best_score_"
   ]
  },
  {
   "cell_type": "code",
   "execution_count": 22,
   "metadata": {},
   "outputs": [
    {
     "name": "stdout",
     "output_type": "stream",
     "text": [
      "0.500 (+/-0.000) for {'penalty': 'l1', 'C': 0.0001}\n",
      "0.889 (+/-0.004) for {'penalty': 'l2', 'C': 0.0001}\n",
      "0.897 (+/-0.003) for {'penalty': 'l1', 'C': 0.01}\n",
      "0.901 (+/-0.002) for {'penalty': 'l2', 'C': 0.01}\n",
      "0.905 (+/-0.003) for {'penalty': 'l1', 'C': 1}\n",
      "0.905 (+/-0.003) for {'penalty': 'l2', 'C': 1}\n",
      "0.905 (+/-0.003) for {'penalty': 'l1', 'C': 100}\n",
      "0.905 (+/-0.004) for {'penalty': 'l2', 'C': 100}\n",
      "0.905 (+/-0.003) for {'penalty': 'l1', 'C': 10000}\n",
      "0.905 (+/-0.004) for {'penalty': 'l2', 'C': 10000}\n"
     ]
    },
    {
     "data": {
      "image/png": "[encoded data removed]",
      "text/plain": [
       "<Figure size 432x288 with 1 Axes>"
      ]
     },
     "metadata": {
      "needs_background": "light"
     },
     "output_type": "display_data"
    }
   ],
   "source": [
    "gsv = openfile(\"RandomSearch_tfidf_w2v_Logistic_Regression_roc_score\")\n",
    "x1=[]\n",
    "y1=[]\n",
    "x2=[]\n",
    "y2=[]\n",
    "gsv.cv_results_\n",
    "\n",
    "means = gsv.cv_results_['mean_test_score']\n",
    "stds = gsv.cv_results_['std_test_score']\n",
    "for mean, std, params in zip(means, stds, gsv.cv_results_['params']):\n",
    "    print(\"%0.3f (+/-%0.03f) for %r\"\n",
    "          % (mean, std * 2, params))\n",
    "    if params['penalty'] == 'l1':\n",
    "        x1.append(params['C'])\n",
    "        y1.append(mean)\n",
    "    else:\n",
    "        x2.append(params['C'])\n",
    "        y2.append(mean)\n",
    "        \n",
    "# plt.xlim(-10,1010)\n",
    "# plt.ylim(0.5,1)\n",
    "plt.xlabel(\"C\",fontsize=15)\n",
    "plt.ylabel(\"Misclassification Error\")\n",
    "plt.title('Misclassification Error v/s C')\n",
    "plt.plot(x1,y1,'b',label=\"L1\")\n",
    "plt.plot(x2,y2,'r',label=\"L2\")\n",
    "plt.legend()\n",
    "plt.show()"
   ]
  },
  {
   "cell_type": "code",
   "execution_count": 27,
   "metadata": {},
   "outputs": [
    {
     "name": "stderr",
     "output_type": "stream",
     "text": [
      "/anaconda3/envs/yolo/lib/python3.6/site-packages/sklearn/linear_model/logistic.py:1296: UserWarning: 'n_jobs' > 1 does not have any effect when 'solver' is set to 'liblinear'. Got 'n_jobs' = 4.\n",
      "  \" = {}.\".format(effective_n_jobs(self.n_jobs)))\n"
     ]
    },
    {
     "name": "stdout",
     "output_type": "stream",
     "text": [
      "\n",
      "The accuracy of the Logistic Regression for C = 10000.000000 is 82.825714%\n",
      "300\n"
     ]
    },
    {
     "name": "stderr",
     "output_type": "stream",
     "text": [
      "/anaconda3/envs/yolo/lib/python3.6/site-packages/sklearn/svm/base.py:922: ConvergenceWarning: Liblinear failed to converge, increase the number of iterations.\n",
      "  \"the number of iterations.\", ConvergenceWarning)\n"
     ]
    }
   ],
   "source": [
    "from sklearn.linear_model import LogisticRegression\n",
    "from sklearn.metrics import accuracy_score\n",
    "model = LogisticRegression(C = 10000 , penalty= 'l1' , class_weight = 'balanced' , n_jobs = -1)\n",
    "\n",
    "# fitting the model\n",
    "model.fit(tfidfw2v_vecs_norm,reviews_score_train)\n",
    "\n",
    "# predict the response\n",
    "pred = model.predict(tfidfw2v_vecs_norm)\n",
    "\n",
    "# evaluate accuracy\n",
    "acc = accuracy_score(reviews_score_train, pred) * 100\n",
    "print('\\nThe accuracy of the Logistic Regression for C = %f is %f%%' % (10000, acc))\n",
    "weight = model.coef_\n",
    "print (np.count_nonzero(model.coef_))"
   ]
  },
  {
   "cell_type": "code",
   "execution_count": 33,
   "metadata": {},
   "outputs": [
    {
     "name": "stdout",
     "output_type": "stream",
     "text": [
      "[[ 7251  1355]\n",
      " [10674 50720]]\n"
     ]
    },
    {
     "data": {
      "image/png": "[encoded data removed]",
      "text/plain": [
       "<Figure size 432x288 with 2 Axes>"
      ]
     },
     "metadata": {
      "needs_background": "light"
     },
     "output_type": "display_data"
    }
   ],
   "source": [
    "from sklearn.metrics import confusion_matrix\n",
    "pred = model.predict(tfidfw2v_vecs_norm)\n",
    "conf_matrix = confusion_matrix(reviews_score_train, pred)\n",
    "print (conf_matrix)\n",
    "class_label = [\"negative\", \"positive\"]\n",
    "df_cm = pd.DataFrame(conf_matrix, index = class_label, columns = class_label)\n",
    "sns.heatmap(df_cm, annot = True, fmt = \"d\")\n",
    "plt.title(\"Confusiion Matrix\")\n",
    "plt.xlabel(\"Predicted Label\")\n",
    "plt.ylabel(\"True Label\")\n",
    "plt.show()"
   ]
  },
  {
   "cell_type": "code",
   "execution_count": 34,
   "metadata": {},
   "outputs": [
    {
     "name": "stdout",
     "output_type": "stream",
     "text": [
      "              precision    recall  f1-score   support\n",
      "\n",
      "           0       0.40      0.84      0.55      8606\n",
      "           1       0.97      0.83      0.89     61394\n",
      "\n",
      "   micro avg       0.83      0.83      0.83     70000\n",
      "   macro avg       0.69      0.83      0.72     70000\n",
      "weighted avg       0.90      0.83      0.85     70000\n",
      "\n"
     ]
    }
   ],
   "source": [
    "from sklearn.metrics import classification_report\n",
    "print (classification_report(reviews_score_train, pred))"
   ]
  },
  {
   "cell_type": "markdown",
   "metadata": {},
   "source": [
    "# Conclusion :"
   ]
  },
  {
   "cell_type": "markdown",
   "metadata": {},
   "source": [
    "- Features are multi-collinear . \n",
    "- Tf-idf perform well as compare to other featurization . \n",
    "- Sparsity increases when we decrease the value of C (inversely proportional to Lambda) with L1 Regularization"
   ]
  },
  {
   "cell_type": "code",
   "execution_count": 46,
   "metadata": {},
   "outputs": [
    {
     "data": {
      "text/html": [
       "<div>\n",
       "<style scoped>\n",
       "    .dataframe tbody tr th:only-of-type {\n",
       "        vertical-align: middle;\n",
       "    }\n",
       "\n",
       "    .dataframe tbody tr th {\n",
       "        vertical-align: top;\n",
       "    }\n",
       "\n",
       "    .dataframe thead th {\n",
       "        text-align: right;\n",
       "    }\n",
       "</style>\n",
       "<table border=\"1\" class=\"dataframe\">\n",
       "  <thead>\n",
       "    <tr style=\"text-align: right;\">\n",
       "      <th></th>\n",
       "      <th>Model</th>\n",
       "      <th>CV</th>\n",
       "      <th>C</th>\n",
       "      <th>Penalty</th>\n",
       "      <th>AUC</th>\n",
       "      <th>F1</th>\n",
       "      <th>Accuracy</th>\n",
       "    </tr>\n",
       "  </thead>\n",
       "  <tbody>\n",
       "    <tr>\n",
       "      <th>0</th>\n",
       "      <td>Logistic Regression with Bow</td>\n",
       "      <td>GridSearchCV</td>\n",
       "      <td>0.01</td>\n",
       "      <td>l1</td>\n",
       "      <td>89</td>\n",
       "      <td>73</td>\n",
       "      <td>91.0</td>\n",
       "    </tr>\n",
       "    <tr>\n",
       "      <th>1</th>\n",
       "      <td>Logistic Regression with Bow</td>\n",
       "      <td>RandomSearchCV</td>\n",
       "      <td>0.01</td>\n",
       "      <td>l1</td>\n",
       "      <td>89</td>\n",
       "      <td>73</td>\n",
       "      <td>91.0</td>\n",
       "    </tr>\n",
       "    <tr>\n",
       "      <th>2</th>\n",
       "      <td>Logistic Regression with TFIDF</td>\n",
       "      <td>GridSearchCV</td>\n",
       "      <td>1.00</td>\n",
       "      <td>l1</td>\n",
       "      <td>94</td>\n",
       "      <td>92</td>\n",
       "      <td>97.8</td>\n",
       "    </tr>\n",
       "    <tr>\n",
       "      <th>3</th>\n",
       "      <td>Logistic Regression with TFIDF</td>\n",
       "      <td>RandomSearchCV</td>\n",
       "      <td>1.00</td>\n",
       "      <td>l1</td>\n",
       "      <td>94</td>\n",
       "      <td>92</td>\n",
       "      <td>97.8</td>\n",
       "    </tr>\n",
       "    <tr>\n",
       "      <th>4</th>\n",
       "      <td>Logistic Regression with AvgW2V</td>\n",
       "      <td>GridSearchCV</td>\n",
       "      <td>10000.00</td>\n",
       "      <td>l1</td>\n",
       "      <td>92</td>\n",
       "      <td>59</td>\n",
       "      <td>85.0</td>\n",
       "    </tr>\n",
       "    <tr>\n",
       "      <th>5</th>\n",
       "      <td>Logistic Regression with AvgW2V</td>\n",
       "      <td>RandomSearchCV</td>\n",
       "      <td>10000.00</td>\n",
       "      <td>l1</td>\n",
       "      <td>92</td>\n",
       "      <td>59</td>\n",
       "      <td>85.0</td>\n",
       "    </tr>\n",
       "    <tr>\n",
       "      <th>6</th>\n",
       "      <td>Logistic Regression with TFIDF-W2V</td>\n",
       "      <td>GridSearchCV</td>\n",
       "      <td>50.00</td>\n",
       "      <td>l2</td>\n",
       "      <td>90</td>\n",
       "      <td>55</td>\n",
       "      <td>82.0</td>\n",
       "    </tr>\n",
       "    <tr>\n",
       "      <th>7</th>\n",
       "      <td>Logistic Regression with TFIDF-W2V</td>\n",
       "      <td>RandomSearchCV</td>\n",
       "      <td>10000.00</td>\n",
       "      <td>l1</td>\n",
       "      <td>90</td>\n",
       "      <td>55</td>\n",
       "      <td>82.0</td>\n",
       "    </tr>\n",
       "  </tbody>\n",
       "</table>\n",
       "</div>"
      ],
      "text/plain": [
       "                                 Model              CV         C Penalty  AUC  \\\n",
       "0         Logistic Regression with Bow    GridSearchCV      0.01      l1   89   \n",
       "1         Logistic Regression with Bow  RandomSearchCV      0.01      l1   89   \n",
       "2       Logistic Regression with TFIDF    GridSearchCV      1.00      l1   94   \n",
       "3       Logistic Regression with TFIDF  RandomSearchCV      1.00      l1   94   \n",
       "4      Logistic Regression with AvgW2V    GridSearchCV  10000.00      l1   92   \n",
       "5      Logistic Regression with AvgW2V  RandomSearchCV  10000.00      l1   92   \n",
       "6   Logistic Regression with TFIDF-W2V    GridSearchCV     50.00      l2   90   \n",
       "7   Logistic Regression with TFIDF-W2V  RandomSearchCV  10000.00      l1   90   \n",
       "\n",
       "   F1  Accuracy  \n",
       "0  73      91.0  \n",
       "1  73      91.0  \n",
       "2  92      97.8  \n",
       "3  92      97.8  \n",
       "4  59      85.0  \n",
       "5  59      85.0  \n",
       "6  55      82.0  \n",
       "7  55      82.0  "
      ]
     },
     "execution_count": 46,
     "metadata": {},
     "output_type": "execute_result"
    }
   ],
   "source": [
    "models = pd.DataFrame({'Model': ['Logistic Regression with Bow','Logistic Regression with Bow', \"Logistic Regression with TFIDF\" ,\"Logistic Regression with TFIDF\" , \"Logistic Regression with AvgW2V\" ,\"Logistic Regression with AvgW2V\" , \" Logistic Regression with TFIDF-W2V\" ,  \" Logistic Regression with TFIDF-W2V\"], 'CV': [\"GridSearchCV\",\"RandomSearchCV\",\"GridSearchCV\",\"RandomSearchCV\",\"GridSearchCV\",\"RandomSearchCV\",\"GridSearchCV\",\"RandomSearchCV\"], 'C': [0.01,0.01,1,1,10000,10000,50,10000], 'Penalty': ['l1','l1','l1','l1','l1','l1','l2','l1'], 'AUC': [89,89,94,94,92,92,90,90], 'F1': [73,73,92,92,59,59,55,55] , 'Accuracy': [91,91,97.8,97.8,85,85,82,82]}, columns = [\"Model\", \"CV\", \"C\", \"Penalty\", \"AUC\",'F1','Accuracy'])\n",
    "models"
   ]
  },
  {
   "cell_type": "code",
   "execution_count": null,
   "metadata": {},
   "outputs": [],
   "source": []
  }
 ],
 "metadata": {
  "kernelspec": {
   "display_name": "Python 3",
   "language": "python",
   "name": "python3"
  },
  "language_info": {
   "codemirror_mode": {
    "name": "ipython",
    "version": 3
   },
   "file_extension": ".py",
   "mimetype": "text/x-python",
   "name": "python",
   "nbconvert_exporter": "python",
   "pygments_lexer": "ipython3",
   "version": "3.6.7"
  }
 },
 "nbformat": 4,
 "nbformat_minor": 2
}
