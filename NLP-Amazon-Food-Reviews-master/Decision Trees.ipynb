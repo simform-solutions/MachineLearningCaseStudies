{
 "cells": [
  {
   "cell_type": "markdown",
   "metadata": {
    "colab_type": "text",
    "id": "syeYHDR_iWM7"
   },
   "source": [
    "# [1]. Reading Data"
   ]
  },
  {
   "cell_type": "markdown",
   "metadata": {
    "colab_type": "text",
    "id": "D_eZrQC0iWM9"
   },
   "source": [
    "## [1.1] Loading the data\n",
    "\n",
    "The dataset is available in two forms\n",
    "1. .csv file\n",
    "2. SQLite Database\n",
    "\n",
    "In order to load the data, We have used the SQLITE dataset as it is easier to query the data and visualise the data efficiently.\n",
    "<br> \n",
    "\n",
    "Here as we only want to get the global sentiment of the recommendations (positive or negative), we will purposefully ignore all Scores equal to 3. If the score is above 3, then the recommendation wil be set to \"positive\". Otherwise, it will be set to \"negative\"."
   ]
  },
  {
   "cell_type": "code",
   "execution_count": 1,
   "metadata": {
    "colab": {},
    "colab_type": "code",
    "id": "53fLFqf8iWNA"
   },
   "outputs": [],
   "source": [
    "%matplotlib inline\n",
    "import warnings\n",
    "warnings.filterwarnings(\"ignore\")\n",
    "\n",
    "import sqlite3\n",
    "import pandas as pd\n",
    "import numpy as np\n",
    "import nltk\n",
    "import string\n",
    "import matplotlib.pyplot as plt\n",
    "import seaborn as sns\n",
    "from sklearn.feature_extraction.text import TfidfTransformer\n",
    "from sklearn.feature_extraction.text import TfidfVectorizer\n",
    "\n",
    "from sklearn.feature_extraction.text import CountVectorizer\n",
    "from sklearn.metrics import confusion_matrix\n",
    "from sklearn import metrics\n",
    "from sklearn.metrics import roc_curve, auc\n",
    "from nltk.stem.porter import PorterStemmer\n",
    "\n",
    "import re\n",
    "# Tutorial about Python regular expressions: https://pymotw.com/2/re/\n",
    "import string\n",
    "from nltk.corpus import stopwords\n",
    "from nltk.stem import PorterStemmer\n",
    "from nltk.stem.wordnet import WordNetLemmatizer\n",
    "\n",
    "from gensim.models import Word2Vec\n",
    "from gensim.models import KeyedVectors\n",
    "import pickle\n",
    "def savefile(obj,filename):\n",
    "    pickle.dump(obj,open(filename+\".p\",\"wb\"))\n",
    "def openfile(filename):\n",
    "    temp = pickle.load(open(filename+\".p\",\"rb\"))\n",
    "    return temp\n",
    "from tqdm import tqdm\n",
    "import os"
   ]
  },
  {
   "cell_type": "code",
   "execution_count": 0,
   "metadata": {
    "colab": {},
    "colab_type": "code",
    "id": "j3kshrC-iWNI",
    "outputId": "07826916-2c3f-4a0a-e928-ddbc6d567a11"
   },
   "outputs": [
    {
     "name": "stdout",
     "output_type": "stream",
     "text": [
      "Number of data points in our data (5000, 10)\n"
     ]
    },
    {
     "data": {
      "text/html": [
       "<div>\n",
       "<style scoped>\n",
       "    .dataframe tbody tr th:only-of-type {\n",
       "        vertical-align: middle;\n",
       "    }\n",
       "\n",
       "    .dataframe tbody tr th {\n",
       "        vertical-align: top;\n",
       "    }\n",
       "\n",
       "    .dataframe thead th {\n",
       "        text-align: right;\n",
       "    }\n",
       "</style>\n",
       "<table border=\"1\" class=\"dataframe\">\n",
       "  <thead>\n",
       "    <tr style=\"text-align: right;\">\n",
       "      <th></th>\n",
       "      <th>Id</th>\n",
       "      <th>ProductId</th>\n",
       "      <th>UserId</th>\n",
       "      <th>ProfileName</th>\n",
       "      <th>HelpfulnessNumerator</th>\n",
       "      <th>HelpfulnessDenominator</th>\n",
       "      <th>Score</th>\n",
       "      <th>Time</th>\n",
       "      <th>Summary</th>\n",
       "      <th>Text</th>\n",
       "    </tr>\n",
       "  </thead>\n",
       "  <tbody>\n",
       "    <tr>\n",
       "      <th>0</th>\n",
       "      <td>1</td>\n",
       "      <td>B001E4KFG0</td>\n",
       "      <td>A3SGXH7AUHU8GW</td>\n",
       "      <td>delmartian</td>\n",
       "      <td>1</td>\n",
       "      <td>1</td>\n",
       "      <td>1</td>\n",
       "      <td>1303862400</td>\n",
       "      <td>Good Quality Dog Food</td>\n",
       "      <td>I have bought several of the Vitality canned d...</td>\n",
       "    </tr>\n",
       "    <tr>\n",
       "      <th>1</th>\n",
       "      <td>2</td>\n",
       "      <td>B00813GRG4</td>\n",
       "      <td>A1D87F6ZCVE5NK</td>\n",
       "      <td>dll pa</td>\n",
       "      <td>0</td>\n",
       "      <td>0</td>\n",
       "      <td>0</td>\n",
       "      <td>1346976000</td>\n",
       "      <td>Not as Advertised</td>\n",
       "      <td>Product arrived labeled as Jumbo Salted Peanut...</td>\n",
       "    </tr>\n",
       "    <tr>\n",
       "      <th>2</th>\n",
       "      <td>3</td>\n",
       "      <td>B000LQOCH0</td>\n",
       "      <td>ABXLMWJIXXAIN</td>\n",
       "      <td>Natalia Corres \"Natalia Corres\"</td>\n",
       "      <td>1</td>\n",
       "      <td>1</td>\n",
       "      <td>1</td>\n",
       "      <td>1219017600</td>\n",
       "      <td>\"Delight\" says it all</td>\n",
       "      <td>This is a confection that has been around a fe...</td>\n",
       "    </tr>\n",
       "  </tbody>\n",
       "</table>\n",
       "</div>"
      ],
      "text/plain": [
       "   Id   ProductId          UserId                      ProfileName  \\\n",
       "0   1  B001E4KFG0  A3SGXH7AUHU8GW                       delmartian   \n",
       "1   2  B00813GRG4  A1D87F6ZCVE5NK                           dll pa   \n",
       "2   3  B000LQOCH0   ABXLMWJIXXAIN  Natalia Corres \"Natalia Corres\"   \n",
       "\n",
       "   HelpfulnessNumerator  HelpfulnessDenominator  Score        Time  \\\n",
       "0                     1                       1      1  1303862400   \n",
       "1                     0                       0      0  1346976000   \n",
       "2                     1                       1      1  1219017600   \n",
       "\n",
       "                 Summary                                               Text  \n",
       "0  Good Quality Dog Food  I have bought several of the Vitality canned d...  \n",
       "1      Not as Advertised  Product arrived labeled as Jumbo Salted Peanut...  \n",
       "2  \"Delight\" says it all  This is a confection that has been around a fe...  "
      ]
     },
     "execution_count": 2,
     "metadata": {
      "tags": []
     },
     "output_type": "execute_result"
    }
   ],
   "source": [
    "# using SQLite Table to read data.\n",
    "con = sqlite3.connect('database.sqlite') \n",
    "\n",
    "# filtering only positive and negative reviews i.e. \n",
    "# not taking into consideration those reviews with Score=3\n",
    "# SELECT * FROM Reviews WHERE Score != 3 LIMIT 500000, will give top 500000 data points\n",
    "# you can change the number to any other number based on your computing power\n",
    "\n",
    "# filtered_data = pd.read_sql_query(\"\"\" SELECT * FROM Reviews WHERE Score != 3 LIMIT 500000\"\"\", con) \n",
    "# for tsne assignment you can take 5k data points\n",
    "\n",
    "filtered_data = pd.read_sql_query(\"\"\" SELECT * FROM Reviews WHERE Score != 3 LIMIT 5000\"\"\", con) \n",
    "\n",
    "# Give reviews with Score>3 a positive rating(1), and reviews with a score<3 a negative rating(0).\n",
    "def partition(x):\n",
    "    if x < 3:\n",
    "        return 0\n",
    "    return 1\n",
    "\n",
    "#changing reviews with score less than 3 to be positive and vice-versa\n",
    "actualScore = filtered_data['Score']\n",
    "positiveNegative = actualScore.map(partition) \n",
    "filtered_data['Score'] = positiveNegative\n",
    "print(\"Number of data points in our data\", filtered_data.shape)\n",
    "filtered_data.head(3)"
   ]
  },
  {
   "cell_type": "code",
   "execution_count": 0,
   "metadata": {
    "colab": {},
    "colab_type": "code",
    "id": "-7Iy8yWfiWNR"
   },
   "outputs": [],
   "source": [
    "display = pd.read_sql_query(\"\"\"\n",
    "SELECT UserId, ProductId, ProfileName, Time, Score, Text, COUNT(*)\n",
    "FROM Reviews\n",
    "GROUP BY UserId\n",
    "HAVING COUNT(*)>1\n",
    "\"\"\", con)"
   ]
  },
  {
   "cell_type": "code",
   "execution_count": 0,
   "metadata": {
    "colab": {},
    "colab_type": "code",
    "id": "wuK6OYpOiWNV",
    "outputId": "5cb5082e-47b9-4d4b-cf90-fc6ffe0dceeb",
    "scrolled": true
   },
   "outputs": [
    {
     "name": "stdout",
     "output_type": "stream",
     "text": [
      "(80668, 7)\n"
     ]
    },
    {
     "data": {
      "text/html": [
       "<div>\n",
       "<style scoped>\n",
       "    .dataframe tbody tr th:only-of-type {\n",
       "        vertical-align: middle;\n",
       "    }\n",
       "\n",
       "    .dataframe tbody tr th {\n",
       "        vertical-align: top;\n",
       "    }\n",
       "\n",
       "    .dataframe thead th {\n",
       "        text-align: right;\n",
       "    }\n",
       "</style>\n",
       "<table border=\"1\" class=\"dataframe\">\n",
       "  <thead>\n",
       "    <tr style=\"text-align: right;\">\n",
       "      <th></th>\n",
       "      <th>UserId</th>\n",
       "      <th>ProductId</th>\n",
       "      <th>ProfileName</th>\n",
       "      <th>Time</th>\n",
       "      <th>Score</th>\n",
       "      <th>Text</th>\n",
       "      <th>COUNT(*)</th>\n",
       "    </tr>\n",
       "  </thead>\n",
       "  <tbody>\n",
       "    <tr>\n",
       "      <th>0</th>\n",
       "      <td>#oc-R115TNMSPFT9I7</td>\n",
       "      <td>B007Y59HVM</td>\n",
       "      <td>Breyton</td>\n",
       "      <td>1331510400</td>\n",
       "      <td>2</td>\n",
       "      <td>Overall its just OK when considering the price...</td>\n",
       "      <td>2</td>\n",
       "    </tr>\n",
       "    <tr>\n",
       "      <th>1</th>\n",
       "      <td>#oc-R11D9D7SHXIJB9</td>\n",
       "      <td>B005HG9ET0</td>\n",
       "      <td>Louis E. Emory \"hoppy\"</td>\n",
       "      <td>1342396800</td>\n",
       "      <td>5</td>\n",
       "      <td>My wife has recurring extreme muscle spasms, u...</td>\n",
       "      <td>3</td>\n",
       "    </tr>\n",
       "    <tr>\n",
       "      <th>2</th>\n",
       "      <td>#oc-R11DNU2NBKQ23Z</td>\n",
       "      <td>B007Y59HVM</td>\n",
       "      <td>Kim Cieszykowski</td>\n",
       "      <td>1348531200</td>\n",
       "      <td>1</td>\n",
       "      <td>This coffee is horrible and unfortunately not ...</td>\n",
       "      <td>2</td>\n",
       "    </tr>\n",
       "    <tr>\n",
       "      <th>3</th>\n",
       "      <td>#oc-R11O5J5ZVQE25C</td>\n",
       "      <td>B005HG9ET0</td>\n",
       "      <td>Penguin Chick</td>\n",
       "      <td>1346889600</td>\n",
       "      <td>5</td>\n",
       "      <td>This will be the bottle that you grab from the...</td>\n",
       "      <td>3</td>\n",
       "    </tr>\n",
       "    <tr>\n",
       "      <th>4</th>\n",
       "      <td>#oc-R12KPBODL2B5ZD</td>\n",
       "      <td>B007OSBE1U</td>\n",
       "      <td>Christopher P. Presta</td>\n",
       "      <td>1348617600</td>\n",
       "      <td>1</td>\n",
       "      <td>I didnt like this coffee. Instead of telling y...</td>\n",
       "      <td>2</td>\n",
       "    </tr>\n",
       "  </tbody>\n",
       "</table>\n",
       "</div>"
      ],
      "text/plain": [
       "               UserId   ProductId             ProfileName        Time  Score  \\\n",
       "0  #oc-R115TNMSPFT9I7  B007Y59HVM                 Breyton  1331510400      2   \n",
       "1  #oc-R11D9D7SHXIJB9  B005HG9ET0  Louis E. Emory \"hoppy\"  1342396800      5   \n",
       "2  #oc-R11DNU2NBKQ23Z  B007Y59HVM        Kim Cieszykowski  1348531200      1   \n",
       "3  #oc-R11O5J5ZVQE25C  B005HG9ET0           Penguin Chick  1346889600      5   \n",
       "4  #oc-R12KPBODL2B5ZD  B007OSBE1U   Christopher P. Presta  1348617600      1   \n",
       "\n",
       "                                                Text  COUNT(*)  \n",
       "0  Overall its just OK when considering the price...         2  \n",
       "1  My wife has recurring extreme muscle spasms, u...         3  \n",
       "2  This coffee is horrible and unfortunately not ...         2  \n",
       "3  This will be the bottle that you grab from the...         3  \n",
       "4  I didnt like this coffee. Instead of telling y...         2  "
      ]
     },
     "execution_count": 4,
     "metadata": {
      "tags": []
     },
     "output_type": "execute_result"
    }
   ],
   "source": [
    "print(display.shape)\n",
    "display.head()"
   ]
  },
  {
   "cell_type": "code",
   "execution_count": 0,
   "metadata": {
    "colab": {},
    "colab_type": "code",
    "id": "OMKVKkH7iWNZ",
    "outputId": "acc9d31a-27a1-48a1-d2f2-ce1f2e511793"
   },
   "outputs": [
    {
     "data": {
      "text/html": [
       "<div>\n",
       "<style scoped>\n",
       "    .dataframe tbody tr th:only-of-type {\n",
       "        vertical-align: middle;\n",
       "    }\n",
       "\n",
       "    .dataframe tbody tr th {\n",
       "        vertical-align: top;\n",
       "    }\n",
       "\n",
       "    .dataframe thead th {\n",
       "        text-align: right;\n",
       "    }\n",
       "</style>\n",
       "<table border=\"1\" class=\"dataframe\">\n",
       "  <thead>\n",
       "    <tr style=\"text-align: right;\">\n",
       "      <th></th>\n",
       "      <th>UserId</th>\n",
       "      <th>ProductId</th>\n",
       "      <th>ProfileName</th>\n",
       "      <th>Time</th>\n",
       "      <th>Score</th>\n",
       "      <th>Text</th>\n",
       "      <th>COUNT(*)</th>\n",
       "    </tr>\n",
       "  </thead>\n",
       "  <tbody>\n",
       "    <tr>\n",
       "      <th>80638</th>\n",
       "      <td>AZY10LLTJ71NX</td>\n",
       "      <td>B006P7E5ZI</td>\n",
       "      <td>undertheshrine \"undertheshrine\"</td>\n",
       "      <td>1334707200</td>\n",
       "      <td>5</td>\n",
       "      <td>I was recommended to try green tea extract to ...</td>\n",
       "      <td>5</td>\n",
       "    </tr>\n",
       "  </tbody>\n",
       "</table>\n",
       "</div>"
      ],
      "text/plain": [
       "              UserId   ProductId                      ProfileName        Time  \\\n",
       "80638  AZY10LLTJ71NX  B006P7E5ZI  undertheshrine \"undertheshrine\"  1334707200   \n",
       "\n",
       "       Score                                               Text  COUNT(*)  \n",
       "80638      5  I was recommended to try green tea extract to ...         5  "
      ]
     },
     "execution_count": 5,
     "metadata": {
      "tags": []
     },
     "output_type": "execute_result"
    }
   ],
   "source": [
    "display[display['UserId']=='AZY10LLTJ71NX']"
   ]
  },
  {
   "cell_type": "code",
   "execution_count": 0,
   "metadata": {
    "colab": {},
    "colab_type": "code",
    "id": "s37uqS_jiWNe",
    "outputId": "489f08d4-48a2-4e82-bfc1-4f982f35b2e4"
   },
   "outputs": [
    {
     "data": {
      "text/plain": [
       "393063"
      ]
     },
     "execution_count": 6,
     "metadata": {
      "tags": []
     },
     "output_type": "execute_result"
    }
   ],
   "source": [
    "display['COUNT(*)'].sum()"
   ]
  },
  {
   "cell_type": "markdown",
   "metadata": {
    "colab_type": "text",
    "id": "efnNNqNfiWNh"
   },
   "source": [
    "#  [2] Exploratory Data Analysis"
   ]
  },
  {
   "cell_type": "markdown",
   "metadata": {
    "colab_type": "text",
    "id": "Eq0hnbxhiWNi"
   },
   "source": [
    "## [2.1] Data Cleaning: Deduplication\n",
    "\n",
    "It is observed (as shown in the table below) that the reviews data had many duplicate entries. Hence it was necessary to remove duplicates in order to get unbiased results for the analysis of the data.  Following is an example:"
   ]
  },
  {
   "cell_type": "code",
   "execution_count": 0,
   "metadata": {
    "colab": {},
    "colab_type": "code",
    "id": "3CKLJ2FFiWNj",
    "outputId": "c995e0c8-7ef1-48a0-d7a9-b0cc50efaa83",
    "scrolled": false
   },
   "outputs": [
    {
     "data": {
      "text/html": [
       "<div>\n",
       "<style scoped>\n",
       "    .dataframe tbody tr th:only-of-type {\n",
       "        vertical-align: middle;\n",
       "    }\n",
       "\n",
       "    .dataframe tbody tr th {\n",
       "        vertical-align: top;\n",
       "    }\n",
       "\n",
       "    .dataframe thead th {\n",
       "        text-align: right;\n",
       "    }\n",
       "</style>\n",
       "<table border=\"1\" class=\"dataframe\">\n",
       "  <thead>\n",
       "    <tr style=\"text-align: right;\">\n",
       "      <th></th>\n",
       "      <th>Id</th>\n",
       "      <th>ProductId</th>\n",
       "      <th>UserId</th>\n",
       "      <th>ProfileName</th>\n",
       "      <th>HelpfulnessNumerator</th>\n",
       "      <th>HelpfulnessDenominator</th>\n",
       "      <th>Score</th>\n",
       "      <th>Time</th>\n",
       "      <th>Summary</th>\n",
       "      <th>Text</th>\n",
       "    </tr>\n",
       "  </thead>\n",
       "  <tbody>\n",
       "    <tr>\n",
       "      <th>0</th>\n",
       "      <td>78445</td>\n",
       "      <td>B000HDL1RQ</td>\n",
       "      <td>AR5J8UI46CURR</td>\n",
       "      <td>Geetha Krishnan</td>\n",
       "      <td>2</td>\n",
       "      <td>2</td>\n",
       "      <td>5</td>\n",
       "      <td>1199577600</td>\n",
       "      <td>LOACKER QUADRATINI VANILLA WAFERS</td>\n",
       "      <td>DELICIOUS WAFERS. I FIND THAT EUROPEAN WAFERS ...</td>\n",
       "    </tr>\n",
       "    <tr>\n",
       "      <th>1</th>\n",
       "      <td>138317</td>\n",
       "      <td>B000HDOPYC</td>\n",
       "      <td>AR5J8UI46CURR</td>\n",
       "      <td>Geetha Krishnan</td>\n",
       "      <td>2</td>\n",
       "      <td>2</td>\n",
       "      <td>5</td>\n",
       "      <td>1199577600</td>\n",
       "      <td>LOACKER QUADRATINI VANILLA WAFERS</td>\n",
       "      <td>DELICIOUS WAFERS. I FIND THAT EUROPEAN WAFERS ...</td>\n",
       "    </tr>\n",
       "    <tr>\n",
       "      <th>2</th>\n",
       "      <td>138277</td>\n",
       "      <td>B000HDOPYM</td>\n",
       "      <td>AR5J8UI46CURR</td>\n",
       "      <td>Geetha Krishnan</td>\n",
       "      <td>2</td>\n",
       "      <td>2</td>\n",
       "      <td>5</td>\n",
       "      <td>1199577600</td>\n",
       "      <td>LOACKER QUADRATINI VANILLA WAFERS</td>\n",
       "      <td>DELICIOUS WAFERS. I FIND THAT EUROPEAN WAFERS ...</td>\n",
       "    </tr>\n",
       "    <tr>\n",
       "      <th>3</th>\n",
       "      <td>73791</td>\n",
       "      <td>B000HDOPZG</td>\n",
       "      <td>AR5J8UI46CURR</td>\n",
       "      <td>Geetha Krishnan</td>\n",
       "      <td>2</td>\n",
       "      <td>2</td>\n",
       "      <td>5</td>\n",
       "      <td>1199577600</td>\n",
       "      <td>LOACKER QUADRATINI VANILLA WAFERS</td>\n",
       "      <td>DELICIOUS WAFERS. I FIND THAT EUROPEAN WAFERS ...</td>\n",
       "    </tr>\n",
       "    <tr>\n",
       "      <th>4</th>\n",
       "      <td>155049</td>\n",
       "      <td>B000PAQ75C</td>\n",
       "      <td>AR5J8UI46CURR</td>\n",
       "      <td>Geetha Krishnan</td>\n",
       "      <td>2</td>\n",
       "      <td>2</td>\n",
       "      <td>5</td>\n",
       "      <td>1199577600</td>\n",
       "      <td>LOACKER QUADRATINI VANILLA WAFERS</td>\n",
       "      <td>DELICIOUS WAFERS. I FIND THAT EUROPEAN WAFERS ...</td>\n",
       "    </tr>\n",
       "  </tbody>\n",
       "</table>\n",
       "</div>"
      ],
      "text/plain": [
       "       Id   ProductId         UserId      ProfileName  HelpfulnessNumerator  \\\n",
       "0   78445  B000HDL1RQ  AR5J8UI46CURR  Geetha Krishnan                     2   \n",
       "1  138317  B000HDOPYC  AR5J8UI46CURR  Geetha Krishnan                     2   \n",
       "2  138277  B000HDOPYM  AR5J8UI46CURR  Geetha Krishnan                     2   \n",
       "3   73791  B000HDOPZG  AR5J8UI46CURR  Geetha Krishnan                     2   \n",
       "4  155049  B000PAQ75C  AR5J8UI46CURR  Geetha Krishnan                     2   \n",
       "\n",
       "   HelpfulnessDenominator  Score        Time  \\\n",
       "0                       2      5  1199577600   \n",
       "1                       2      5  1199577600   \n",
       "2                       2      5  1199577600   \n",
       "3                       2      5  1199577600   \n",
       "4                       2      5  1199577600   \n",
       "\n",
       "                             Summary  \\\n",
       "0  LOACKER QUADRATINI VANILLA WAFERS   \n",
       "1  LOACKER QUADRATINI VANILLA WAFERS   \n",
       "2  LOACKER QUADRATINI VANILLA WAFERS   \n",
       "3  LOACKER QUADRATINI VANILLA WAFERS   \n",
       "4  LOACKER QUADRATINI VANILLA WAFERS   \n",
       "\n",
       "                                                Text  \n",
       "0  DELICIOUS WAFERS. I FIND THAT EUROPEAN WAFERS ...  \n",
       "1  DELICIOUS WAFERS. I FIND THAT EUROPEAN WAFERS ...  \n",
       "2  DELICIOUS WAFERS. I FIND THAT EUROPEAN WAFERS ...  \n",
       "3  DELICIOUS WAFERS. I FIND THAT EUROPEAN WAFERS ...  \n",
       "4  DELICIOUS WAFERS. I FIND THAT EUROPEAN WAFERS ...  "
      ]
     },
     "execution_count": 7,
     "metadata": {
      "tags": []
     },
     "output_type": "execute_result"
    }
   ],
   "source": [
    "display= pd.read_sql_query(\"\"\"\n",
    "SELECT *\n",
    "FROM Reviews\n",
    "WHERE Score != 3 AND UserId=\"AR5J8UI46CURR\"\n",
    "ORDER BY ProductID\n",
    "\"\"\", con)\n",
    "display.head()"
   ]
  },
  {
   "cell_type": "markdown",
   "metadata": {
    "colab_type": "text",
    "id": "GmHe67iviWNn"
   },
   "source": [
    "As it can be seen above that same user has multiple reviews with same values for HelpfulnessNumerator, HelpfulnessDenominator, Score, Time, Summary and Text and on doing analysis it was found that <br>\n",
    "<br> \n",
    "ProductId=B000HDOPZG was Loacker Quadratini Vanilla Wafer Cookies, 8.82-Ounce Packages (Pack of 8)<br>\n",
    "<br> \n",
    "ProductId=B000HDL1RQ was Loacker Quadratini Lemon Wafer Cookies, 8.82-Ounce Packages (Pack of 8) and so on<br>\n",
    "\n",
    "It was inferred after analysis that reviews with same parameters other than ProductId belonged to the same product just having different flavour or quantity. Hence in order to reduce redundancy it was decided to eliminate the rows having same parameters.<br>\n",
    "\n",
    "The method used for the same was that we first sort the data according to ProductId and then just keep the first similar product review and delelte the others. for eg. in the above just the review for ProductId=B000HDL1RQ remains. This method ensures that there is only one representative for each product and deduplication without sorting would lead to possibility of different representatives still existing for the same product."
   ]
  },
  {
   "cell_type": "code",
   "execution_count": 0,
   "metadata": {
    "colab": {},
    "colab_type": "code",
    "id": "wgmdXIJviWNn"
   },
   "outputs": [],
   "source": [
    "#Sorting data according to ProductId in ascending order\n",
    "sorted_data=filtered_data.sort_values('ProductId', axis=0, ascending=True, inplace=False, kind='quicksort', na_position='last')"
   ]
  },
  {
   "cell_type": "code",
   "execution_count": 0,
   "metadata": {
    "colab": {},
    "colab_type": "code",
    "id": "ComjQ0rHiWNp",
    "outputId": "1c155404-4bb7-4078-c46b-1a9a33ac0602"
   },
   "outputs": [
    {
     "data": {
      "text/plain": [
       "(4986, 10)"
      ]
     },
     "execution_count": 9,
     "metadata": {
      "tags": []
     },
     "output_type": "execute_result"
    }
   ],
   "source": [
    "#Deduplication of entries\n",
    "final=sorted_data.drop_duplicates(subset={\"UserId\",\"ProfileName\",\"Time\",\"Text\"}, keep='first', inplace=False)\n",
    "final.shape"
   ]
  },
  {
   "cell_type": "code",
   "execution_count": 0,
   "metadata": {
    "colab": {},
    "colab_type": "code",
    "id": "yFrWiU23iWNt",
    "outputId": "b9d26952-d8af-4fbb-eb3d-c6a28abcc029"
   },
   "outputs": [
    {
     "data": {
      "text/plain": [
       "99.72"
      ]
     },
     "execution_count": 10,
     "metadata": {
      "tags": []
     },
     "output_type": "execute_result"
    }
   ],
   "source": [
    "#Checking to see how much % of data still remains\n",
    "(final['Id'].size*1.0)/(filtered_data['Id'].size*1.0)*100"
   ]
  },
  {
   "cell_type": "markdown",
   "metadata": {
    "colab_type": "text",
    "id": "g4lvCHn6iWNw"
   },
   "source": [
    "<b>Observation:-</b> It was also seen that in two rows given below the value of HelpfulnessNumerator is greater than HelpfulnessDenominator which is not practically possible hence these two rows too are removed from calcualtions"
   ]
  },
  {
   "cell_type": "code",
   "execution_count": 0,
   "metadata": {
    "colab": {},
    "colab_type": "code",
    "id": "6ehzwEdgiWNw",
    "outputId": "60e18da4-784f-49d8-84b7-59823cfa3e85"
   },
   "outputs": [
    {
     "data": {
      "text/html": [
       "<div>\n",
       "<style scoped>\n",
       "    .dataframe tbody tr th:only-of-type {\n",
       "        vertical-align: middle;\n",
       "    }\n",
       "\n",
       "    .dataframe tbody tr th {\n",
       "        vertical-align: top;\n",
       "    }\n",
       "\n",
       "    .dataframe thead th {\n",
       "        text-align: right;\n",
       "    }\n",
       "</style>\n",
       "<table border=\"1\" class=\"dataframe\">\n",
       "  <thead>\n",
       "    <tr style=\"text-align: right;\">\n",
       "      <th></th>\n",
       "      <th>Id</th>\n",
       "      <th>ProductId</th>\n",
       "      <th>UserId</th>\n",
       "      <th>ProfileName</th>\n",
       "      <th>HelpfulnessNumerator</th>\n",
       "      <th>HelpfulnessDenominator</th>\n",
       "      <th>Score</th>\n",
       "      <th>Time</th>\n",
       "      <th>Summary</th>\n",
       "      <th>Text</th>\n",
       "    </tr>\n",
       "  </thead>\n",
       "  <tbody>\n",
       "    <tr>\n",
       "      <th>0</th>\n",
       "      <td>64422</td>\n",
       "      <td>B000MIDROQ</td>\n",
       "      <td>A161DK06JJMCYF</td>\n",
       "      <td>J. E. Stephens \"Jeanne\"</td>\n",
       "      <td>3</td>\n",
       "      <td>1</td>\n",
       "      <td>5</td>\n",
       "      <td>1224892800</td>\n",
       "      <td>Bought This for My Son at College</td>\n",
       "      <td>My son loves spaghetti so I didn't hesitate or...</td>\n",
       "    </tr>\n",
       "    <tr>\n",
       "      <th>1</th>\n",
       "      <td>44737</td>\n",
       "      <td>B001EQ55RW</td>\n",
       "      <td>A2V0I904FH7ABY</td>\n",
       "      <td>Ram</td>\n",
       "      <td>3</td>\n",
       "      <td>2</td>\n",
       "      <td>4</td>\n",
       "      <td>1212883200</td>\n",
       "      <td>Pure cocoa taste with crunchy almonds inside</td>\n",
       "      <td>It was almost a 'love at first bite' - the per...</td>\n",
       "    </tr>\n",
       "  </tbody>\n",
       "</table>\n",
       "</div>"
      ],
      "text/plain": [
       "      Id   ProductId          UserId              ProfileName  \\\n",
       "0  64422  B000MIDROQ  A161DK06JJMCYF  J. E. Stephens \"Jeanne\"   \n",
       "1  44737  B001EQ55RW  A2V0I904FH7ABY                      Ram   \n",
       "\n",
       "   HelpfulnessNumerator  HelpfulnessDenominator  Score        Time  \\\n",
       "0                     3                       1      5  1224892800   \n",
       "1                     3                       2      4  1212883200   \n",
       "\n",
       "                                        Summary  \\\n",
       "0             Bought This for My Son at College   \n",
       "1  Pure cocoa taste with crunchy almonds inside   \n",
       "\n",
       "                                                Text  \n",
       "0  My son loves spaghetti so I didn't hesitate or...  \n",
       "1  It was almost a 'love at first bite' - the per...  "
      ]
     },
     "execution_count": 11,
     "metadata": {
      "tags": []
     },
     "output_type": "execute_result"
    }
   ],
   "source": [
    "display= pd.read_sql_query(\"\"\"\n",
    "SELECT *\n",
    "FROM Reviews\n",
    "WHERE Score != 3 AND Id=44737 OR Id=64422\n",
    "ORDER BY ProductID\n",
    "\"\"\", con)\n",
    "\n",
    "display.head()"
   ]
  },
  {
   "cell_type": "code",
   "execution_count": 0,
   "metadata": {
    "colab": {},
    "colab_type": "code",
    "id": "EBa1d6gViWNz"
   },
   "outputs": [],
   "source": [
    "final=final[final.HelpfulnessNumerator<=final.HelpfulnessDenominator]"
   ]
  },
  {
   "cell_type": "code",
   "execution_count": 0,
   "metadata": {
    "colab": {},
    "colab_type": "code",
    "id": "KNQ01asjiWN1",
    "outputId": "0d2433fb-dd33-41cd-a18d-110d776f60b4"
   },
   "outputs": [
    {
     "name": "stdout",
     "output_type": "stream",
     "text": [
      "(4986, 10)\n"
     ]
    },
    {
     "data": {
      "text/plain": [
       "1    4178\n",
       "0     808\n",
       "Name: Score, dtype: int64"
      ]
     },
     "execution_count": 13,
     "metadata": {
      "tags": []
     },
     "output_type": "execute_result"
    }
   ],
   "source": [
    "#Before starting the next phase of preprocessing lets see the number of entries left\n",
    "print(final.shape)\n",
    "\n",
    "#How many positive and negative reviews are present in our dataset?\n",
    "final['Score'].value_counts()"
   ]
  },
  {
   "cell_type": "code",
   "execution_count": 2,
   "metadata": {},
   "outputs": [],
   "source": [
    "if os.path.isfile('final.sqlite'):\n",
    "    conn = sqlite3.connect('final.sqlite')\n",
    "    final = pd.read_sql_query(\"\"\" SELECT * FROM Reviews WHERE Score != 3 \"\"\", conn)\n",
    "    conn.close()\n",
    "else:\n",
    "    print(\"Please the above cell\")"
   ]
  },
  {
   "cell_type": "code",
   "execution_count": 3,
   "metadata": {},
   "outputs": [
    {
     "name": "stdout",
     "output_type": "stream",
     "text": [
      "(364171, 12)\n",
      "(364171,)\n"
     ]
    },
    {
     "data": {
      "text/html": [
       "<div>\n",
       "<style scoped>\n",
       "    .dataframe tbody tr th:only-of-type {\n",
       "        vertical-align: middle;\n",
       "    }\n",
       "\n",
       "    .dataframe tbody tr th {\n",
       "        vertical-align: top;\n",
       "    }\n",
       "\n",
       "    .dataframe thead th {\n",
       "        text-align: right;\n",
       "    }\n",
       "</style>\n",
       "<table border=\"1\" class=\"dataframe\">\n",
       "  <thead>\n",
       "    <tr style=\"text-align: right;\">\n",
       "      <th></th>\n",
       "      <th>index</th>\n",
       "      <th>Id</th>\n",
       "      <th>ProductId</th>\n",
       "      <th>UserId</th>\n",
       "      <th>ProfileName</th>\n",
       "      <th>HelpfulnessNumerator</th>\n",
       "      <th>HelpfulnessDenominator</th>\n",
       "      <th>Score</th>\n",
       "      <th>Time</th>\n",
       "      <th>Summary</th>\n",
       "      <th>Text</th>\n",
       "      <th>CleanedText</th>\n",
       "    </tr>\n",
       "  </thead>\n",
       "  <tbody>\n",
       "    <tr>\n",
       "      <th>0</th>\n",
       "      <td>138706</td>\n",
       "      <td>150524</td>\n",
       "      <td>0006641040</td>\n",
       "      <td>ACITT7DI6IDDL</td>\n",
       "      <td>shari zychinski</td>\n",
       "      <td>0</td>\n",
       "      <td>0</td>\n",
       "      <td>1</td>\n",
       "      <td>1999-10-08</td>\n",
       "      <td>EVERY book is educational</td>\n",
       "      <td>this witty little book makes my son laugh at l...</td>\n",
       "      <td>witti littl book make son laugh loud recit car...</td>\n",
       "    </tr>\n",
       "    <tr>\n",
       "      <th>30</th>\n",
       "      <td>138683</td>\n",
       "      <td>150501</td>\n",
       "      <td>0006641040</td>\n",
       "      <td>AJ46FKXOVC7NR</td>\n",
       "      <td>Nicholas A Mesiano</td>\n",
       "      <td>2</td>\n",
       "      <td>2</td>\n",
       "      <td>1</td>\n",
       "      <td>1999-10-25</td>\n",
       "      <td>This whole series is great way to spend time w...</td>\n",
       "      <td>I can remember seeing the show when it aired o...</td>\n",
       "      <td>rememb see show air televis year ago child sis...</td>\n",
       "    </tr>\n",
       "    <tr>\n",
       "      <th>424</th>\n",
       "      <td>417839</td>\n",
       "      <td>451856</td>\n",
       "      <td>B00004CXX9</td>\n",
       "      <td>AIUWLEQ1ADEG5</td>\n",
       "      <td>Elizabeth Medina</td>\n",
       "      <td>0</td>\n",
       "      <td>0</td>\n",
       "      <td>1</td>\n",
       "      <td>1999-12-02</td>\n",
       "      <td>Entertainingl Funny!</td>\n",
       "      <td>Beetlejuice is a well written movie ..... ever...</td>\n",
       "      <td>beetlejuic well written movi everyth excel act...</td>\n",
       "    </tr>\n",
       "    <tr>\n",
       "      <th>330</th>\n",
       "      <td>346055</td>\n",
       "      <td>374359</td>\n",
       "      <td>B00004CI84</td>\n",
       "      <td>A344SMIA5JECGM</td>\n",
       "      <td>Vincent P. Ross</td>\n",
       "      <td>1</td>\n",
       "      <td>2</td>\n",
       "      <td>1</td>\n",
       "      <td>1999-12-06</td>\n",
       "      <td>A modern day fairy tale</td>\n",
       "      <td>A twist of rumplestiskin captured on film, sta...</td>\n",
       "      <td>twist rumplestiskin captur film star michael k...</td>\n",
       "    </tr>\n",
       "    <tr>\n",
       "      <th>423</th>\n",
       "      <td>417838</td>\n",
       "      <td>451855</td>\n",
       "      <td>B00004CXX9</td>\n",
       "      <td>AJH6LUC1UT1ON</td>\n",
       "      <td>The Phantom of the Opera</td>\n",
       "      <td>0</td>\n",
       "      <td>0</td>\n",
       "      <td>1</td>\n",
       "      <td>2000-01-03</td>\n",
       "      <td>FANTASTIC!</td>\n",
       "      <td>Beetlejuice is an excellent and funny movie. K...</td>\n",
       "      <td>beetlejuic excel funni movi keaton hilari wack...</td>\n",
       "    </tr>\n",
       "  </tbody>\n",
       "</table>\n",
       "</div>"
      ],
      "text/plain": [
       "      index      Id   ProductId          UserId               ProfileName  \\\n",
       "0    138706  150524  0006641040   ACITT7DI6IDDL           shari zychinski   \n",
       "30   138683  150501  0006641040   AJ46FKXOVC7NR        Nicholas A Mesiano   \n",
       "424  417839  451856  B00004CXX9   AIUWLEQ1ADEG5          Elizabeth Medina   \n",
       "330  346055  374359  B00004CI84  A344SMIA5JECGM           Vincent P. Ross   \n",
       "423  417838  451855  B00004CXX9   AJH6LUC1UT1ON  The Phantom of the Opera   \n",
       "\n",
       "     HelpfulnessNumerator  HelpfulnessDenominator  Score       Time  \\\n",
       "0                       0                       0      1 1999-10-08   \n",
       "30                      2                       2      1 1999-10-25   \n",
       "424                     0                       0      1 1999-12-02   \n",
       "330                     1                       2      1 1999-12-06   \n",
       "423                     0                       0      1 2000-01-03   \n",
       "\n",
       "                                               Summary  \\\n",
       "0                            EVERY book is educational   \n",
       "30   This whole series is great way to spend time w...   \n",
       "424                               Entertainingl Funny!   \n",
       "330                            A modern day fairy tale   \n",
       "423                                         FANTASTIC!   \n",
       "\n",
       "                                                  Text  \\\n",
       "0    this witty little book makes my son laugh at l...   \n",
       "30   I can remember seeing the show when it aired o...   \n",
       "424  Beetlejuice is a well written movie ..... ever...   \n",
       "330  A twist of rumplestiskin captured on film, sta...   \n",
       "423  Beetlejuice is an excellent and funny movie. K...   \n",
       "\n",
       "                                           CleanedText  \n",
       "0    witti littl book make son laugh loud recit car...  \n",
       "30   rememb see show air televis year ago child sis...  \n",
       "424  beetlejuic well written movi everyth excel act...  \n",
       "330  twist rumplestiskin captur film star michael k...  \n",
       "423  beetlejuic excel funni movi keaton hilari wack...  "
      ]
     },
     "execution_count": 3,
     "metadata": {},
     "output_type": "execute_result"
    }
   ],
   "source": [
    "\n",
    "\n",
    "final[\"Time\"] = pd.to_datetime(final[\"Time\"] , unit = \"s\")\n",
    "reviews_timesorted = final.sort_values(by = \"Time\")\n",
    "print (reviews_timesorted.shape)\n",
    "reviews_timesorted_score = reviews_timesorted[\"Score\"]\n",
    "print (reviews_timesorted_score.shape)\n",
    "reviews_timesorted.head(5)"
   ]
  },
  {
   "cell_type": "code",
   "execution_count": 4,
   "metadata": {},
   "outputs": [
    {
     "name": "stdout",
     "output_type": "stream",
     "text": [
      "(100000, 12)\n",
      "(100000,)\n"
     ]
    },
    {
     "data": {
      "text/html": [
       "<div>\n",
       "<style scoped>\n",
       "    .dataframe tbody tr th:only-of-type {\n",
       "        vertical-align: middle;\n",
       "    }\n",
       "\n",
       "    .dataframe tbody tr th {\n",
       "        vertical-align: top;\n",
       "    }\n",
       "\n",
       "    .dataframe thead th {\n",
       "        text-align: right;\n",
       "    }\n",
       "</style>\n",
       "<table border=\"1\" class=\"dataframe\">\n",
       "  <thead>\n",
       "    <tr style=\"text-align: right;\">\n",
       "      <th></th>\n",
       "      <th>index</th>\n",
       "      <th>Id</th>\n",
       "      <th>ProductId</th>\n",
       "      <th>UserId</th>\n",
       "      <th>ProfileName</th>\n",
       "      <th>HelpfulnessNumerator</th>\n",
       "      <th>HelpfulnessDenominator</th>\n",
       "      <th>Score</th>\n",
       "      <th>Time</th>\n",
       "      <th>Summary</th>\n",
       "      <th>Text</th>\n",
       "      <th>CleanedText</th>\n",
       "    </tr>\n",
       "  </thead>\n",
       "  <tbody>\n",
       "    <tr>\n",
       "      <th>0</th>\n",
       "      <td>138706</td>\n",
       "      <td>150524</td>\n",
       "      <td>0006641040</td>\n",
       "      <td>ACITT7DI6IDDL</td>\n",
       "      <td>shari zychinski</td>\n",
       "      <td>0</td>\n",
       "      <td>0</td>\n",
       "      <td>1</td>\n",
       "      <td>1999-10-08</td>\n",
       "      <td>EVERY book is educational</td>\n",
       "      <td>this witty little book makes my son laugh at l...</td>\n",
       "      <td>witti littl book make son laugh loud recit car...</td>\n",
       "    </tr>\n",
       "    <tr>\n",
       "      <th>30</th>\n",
       "      <td>138683</td>\n",
       "      <td>150501</td>\n",
       "      <td>0006641040</td>\n",
       "      <td>AJ46FKXOVC7NR</td>\n",
       "      <td>Nicholas A Mesiano</td>\n",
       "      <td>2</td>\n",
       "      <td>2</td>\n",
       "      <td>1</td>\n",
       "      <td>1999-10-25</td>\n",
       "      <td>This whole series is great way to spend time w...</td>\n",
       "      <td>I can remember seeing the show when it aired o...</td>\n",
       "      <td>rememb see show air televis year ago child sis...</td>\n",
       "    </tr>\n",
       "    <tr>\n",
       "      <th>424</th>\n",
       "      <td>417839</td>\n",
       "      <td>451856</td>\n",
       "      <td>B00004CXX9</td>\n",
       "      <td>AIUWLEQ1ADEG5</td>\n",
       "      <td>Elizabeth Medina</td>\n",
       "      <td>0</td>\n",
       "      <td>0</td>\n",
       "      <td>1</td>\n",
       "      <td>1999-12-02</td>\n",
       "      <td>Entertainingl Funny!</td>\n",
       "      <td>Beetlejuice is a well written movie ..... ever...</td>\n",
       "      <td>beetlejuic well written movi everyth excel act...</td>\n",
       "    </tr>\n",
       "    <tr>\n",
       "      <th>330</th>\n",
       "      <td>346055</td>\n",
       "      <td>374359</td>\n",
       "      <td>B00004CI84</td>\n",
       "      <td>A344SMIA5JECGM</td>\n",
       "      <td>Vincent P. Ross</td>\n",
       "      <td>1</td>\n",
       "      <td>2</td>\n",
       "      <td>1</td>\n",
       "      <td>1999-12-06</td>\n",
       "      <td>A modern day fairy tale</td>\n",
       "      <td>A twist of rumplestiskin captured on film, sta...</td>\n",
       "      <td>twist rumplestiskin captur film star michael k...</td>\n",
       "    </tr>\n",
       "    <tr>\n",
       "      <th>423</th>\n",
       "      <td>417838</td>\n",
       "      <td>451855</td>\n",
       "      <td>B00004CXX9</td>\n",
       "      <td>AJH6LUC1UT1ON</td>\n",
       "      <td>The Phantom of the Opera</td>\n",
       "      <td>0</td>\n",
       "      <td>0</td>\n",
       "      <td>1</td>\n",
       "      <td>2000-01-03</td>\n",
       "      <td>FANTASTIC!</td>\n",
       "      <td>Beetlejuice is an excellent and funny movie. K...</td>\n",
       "      <td>beetlejuic excel funni movi keaton hilari wack...</td>\n",
       "    </tr>\n",
       "  </tbody>\n",
       "</table>\n",
       "</div>"
      ],
      "text/plain": [
       "      index      Id   ProductId          UserId               ProfileName  \\\n",
       "0    138706  150524  0006641040   ACITT7DI6IDDL           shari zychinski   \n",
       "30   138683  150501  0006641040   AJ46FKXOVC7NR        Nicholas A Mesiano   \n",
       "424  417839  451856  B00004CXX9   AIUWLEQ1ADEG5          Elizabeth Medina   \n",
       "330  346055  374359  B00004CI84  A344SMIA5JECGM           Vincent P. Ross   \n",
       "423  417838  451855  B00004CXX9   AJH6LUC1UT1ON  The Phantom of the Opera   \n",
       "\n",
       "     HelpfulnessNumerator  HelpfulnessDenominator  Score       Time  \\\n",
       "0                       0                       0      1 1999-10-08   \n",
       "30                      2                       2      1 1999-10-25   \n",
       "424                     0                       0      1 1999-12-02   \n",
       "330                     1                       2      1 1999-12-06   \n",
       "423                     0                       0      1 2000-01-03   \n",
       "\n",
       "                                               Summary  \\\n",
       "0                            EVERY book is educational   \n",
       "30   This whole series is great way to spend time w...   \n",
       "424                               Entertainingl Funny!   \n",
       "330                            A modern day fairy tale   \n",
       "423                                         FANTASTIC!   \n",
       "\n",
       "                                                  Text  \\\n",
       "0    this witty little book makes my son laugh at l...   \n",
       "30   I can remember seeing the show when it aired o...   \n",
       "424  Beetlejuice is a well written movie ..... ever...   \n",
       "330  A twist of rumplestiskin captured on film, sta...   \n",
       "423  Beetlejuice is an excellent and funny movie. K...   \n",
       "\n",
       "                                           CleanedText  \n",
       "0    witti littl book make son laugh loud recit car...  \n",
       "30   rememb see show air televis year ago child sis...  \n",
       "424  beetlejuic well written movi everyth excel act...  \n",
       "330  twist rumplestiskin captur film star michael k...  \n",
       "423  beetlejuic excel funni movi keaton hilari wack...  "
      ]
     },
     "execution_count": 4,
     "metadata": {},
     "output_type": "execute_result"
    }
   ],
   "source": [
    "\n",
    "reviews_100k = reviews_timesorted.head(100000)\n",
    "print (reviews_100k.shape)\n",
    "\n",
    "\n",
    "reviews_100k_score = reviews_100k[\"Score\"]\n",
    "print (reviews_100k_score.shape)\n",
    "\n",
    "reviews_100k.head()\n",
    "\n"
   ]
  },
  {
   "cell_type": "code",
   "execution_count": 38,
   "metadata": {},
   "outputs": [
    {
     "name": "stdout",
     "output_type": "stream",
     "text": [
      "(70000, 12)\n",
      "(70000,)\n",
      "(30000, 12)\n",
      "(30000,)\n"
     ]
    }
   ],
   "source": [
    "from sklearn import model_selection\n",
    "\n",
    "reviews_train, reviews_test, reviews_score_train , reviews_score_test = model_selection.train_test_split(reviews_100k, reviews_100k_score, test_size=0.3, random_state=0)\n",
    "print (reviews_train.shape)\n",
    "print (reviews_score_train.shape)\n",
    "print (reviews_test.shape)\n",
    "print (reviews_score_test.shape)"
   ]
  },
  {
   "cell_type": "markdown",
   "metadata": {
    "colab_type": "text",
    "id": "92IZ5ea0iWN4"
   },
   "source": [
    "#  [3] Preprocessing"
   ]
  },
  {
   "cell_type": "markdown",
   "metadata": {
    "colab_type": "text",
    "id": "NTwQITJKiWN5"
   },
   "source": [
    "## [3.1].  Preprocessing Review Text\n",
    "\n",
    "Now that we have finished deduplication our data requires some preprocessing before we go on further with analysis and making the prediction model.\n",
    "\n",
    "Hence in the Preprocessing phase we do the following in the order below:-\n",
    "\n",
    "1. Begin by removing the html tags\n",
    "2. Remove any punctuations or limited set of special characters like , or . or # etc.\n",
    "3. Check if the word is made up of english letters and is not alpha-numeric\n",
    "4. Check to see if the length of the word is greater than 2 (as it was researched that there is no adjective in 2-letters)\n",
    "5. Convert the word to lowercase\n",
    "6. Remove Stopwords\n",
    "7. Finally Snowball Stemming the word (it was obsereved to be better than Porter Stemming)<br>\n",
    "\n",
    "After which we collect the words used to describe positive and negative reviews"
   ]
  },
  {
   "cell_type": "code",
   "execution_count": 0,
   "metadata": {
    "colab": {},
    "colab_type": "code",
    "id": "kTCxT5aWiWN5",
    "outputId": "64588cda-64b3-47f0-8d01-941e1cc85cc5"
   },
   "outputs": [
    {
     "name": "stdout",
     "output_type": "stream",
     "text": [
      "Why is this $[...] when the same product is available for $[...] here?<br />http://www.amazon.com/VICTOR-FLY-MAGNET-BAIT-REFILL/dp/B00004RBDY<br /><br />The Victor M380 and M502 traps are unreal, of course -- total fly genocide. Pretty stinky, but only right nearby.\n",
      "==================================================\n",
      "I recently tried this flavor/brand and was surprised at how delicious these chips are.  The best thing was that there were a lot of \"brown\" chips in the bsg (my favorite), so I bought some more through amazon and shared with family and friends.  I am a little disappointed that there are not, so far, very many brown chips in these bags, but the flavor is still very good.  I like them better than the yogurt and green onion flavor because they do not seem to be as salty, and the onion flavor is better.  If you haven't eaten Kettle chips before, I recommend that you try a bag before buying bulk.  They are thicker and crunchier than Lays but just as fresh out of the bag.\n",
      "==================================================\n",
      "Wow.  So far, two two-star reviews.  One obviously had no idea what they were ordering; the other wants crispy cookies.  Hey, I'm sorry; but these reviews do nobody any good beyond reminding us to look  before ordering.<br /><br />These are chocolate-oatmeal cookies.  If you don't like that combination, don't order this type of cookie.  I find the combo quite nice, really.  The oatmeal sort of \"calms\" the rich chocolate flavor and gives the cookie sort of a coconut-type consistency.  Now let's also remember that tastes differ; so, I've given my opinion.<br /><br />Then, these are soft, chewy cookies -- as advertised.  They are not \"crispy\" cookies, or the blurb would say \"crispy,\" rather than \"chewy.\"  I happen to like raw cookie dough; however, I don't see where these taste like raw cookie dough.  Both are soft, however, so is this the confusion?  And, yes, they stick together.  Soft cookies tend to do that.  They aren't individually wrapped, which would add to the cost.  Oh yeah, chocolate chip cookies tend to be somewhat sweet.<br /><br />So, if you want something hard and crisp, I suggest Nabiso's Ginger Snaps.  If you want a cookie that's soft, chewy and tastes like a combination of chocolate and oatmeal, give these a try.  I'm here to place my second order.\n",
      "==================================================\n",
      "love to order my coffee on amazon.  easy and shows up quickly.<br />This k cup is great coffee.  dcaf is very good as well\n",
      "==================================================\n"
     ]
    }
   ],
   "source": [
    "# printing some random reviews\n",
    "sent_0 = final['Text'].values[0]\n",
    "print(sent_0)\n",
    "print(\"=\"*50)\n",
    "\n",
    "sent_1000 = final['Text'].values[1000]\n",
    "print(sent_1000)\n",
    "print(\"=\"*50)\n",
    "\n",
    "sent_1500 = final['Text'].values[1500]\n",
    "print(sent_1500)\n",
    "print(\"=\"*50)\n",
    "\n",
    "sent_4900 = final['Text'].values[4900]\n",
    "print(sent_4900)\n",
    "print(\"=\"*50)"
   ]
  },
  {
   "cell_type": "code",
   "execution_count": 0,
   "metadata": {
    "colab": {},
    "colab_type": "code",
    "id": "iX3VndCPiWN8",
    "outputId": "7f8cad02-65a6-4530-e7e1-bb6775877737"
   },
   "outputs": [
    {
     "name": "stdout",
     "output_type": "stream",
     "text": [
      "Why is this $[...] when the same product is available for $[...] here?<br /> /><br />The Victor M380 and M502 traps are unreal, of course -- total fly genocide. Pretty stinky, but only right nearby.\n"
     ]
    }
   ],
   "source": [
    "# remove urls from text python: https://stackoverflow.com/a/40823105/4084039\n",
    "sent_0 = re.sub(r\"http\\S+\", \"\", sent_0)\n",
    "sent_1000 = re.sub(r\"http\\S+\", \"\", sent_1000)\n",
    "sent_150 = re.sub(r\"http\\S+\", \"\", sent_1500)\n",
    "sent_4900 = re.sub(r\"http\\S+\", \"\", sent_4900)\n",
    "\n",
    "print(sent_0)"
   ]
  },
  {
   "cell_type": "code",
   "execution_count": 0,
   "metadata": {
    "colab": {},
    "colab_type": "code",
    "id": "DyO7iqEriWN_",
    "outputId": "2a010a1c-574d-409f-d725-c726a25d3e70"
   },
   "outputs": [
    {
     "name": "stdout",
     "output_type": "stream",
     "text": [
      "Why is this $[...] when the same product is available for $[...] here? />The Victor M380 and M502 traps are unreal, of course -- total fly genocide. Pretty stinky, but only right nearby.\n",
      "==================================================\n",
      "I recently tried this flavor/brand and was surprised at how delicious these chips are.  The best thing was that there were a lot of \"brown\" chips in the bsg (my favorite), so I bought some more through amazon and shared with family and friends.  I am a little disappointed that there are not, so far, very many brown chips in these bags, but the flavor is still very good.  I like them better than the yogurt and green onion flavor because they do not seem to be as salty, and the onion flavor is better.  If you haven't eaten Kettle chips before, I recommend that you try a bag before buying bulk.  They are thicker and crunchier than Lays but just as fresh out of the bag.\n",
      "==================================================\n",
      "Wow.  So far, two two-star reviews.  One obviously had no idea what they were ordering; the other wants crispy cookies.  Hey, I'm sorry; but these reviews do nobody any good beyond reminding us to look  before ordering.These are chocolate-oatmeal cookies.  If you don't like that combination, don't order this type of cookie.  I find the combo quite nice, really.  The oatmeal sort of \"calms\" the rich chocolate flavor and gives the cookie sort of a coconut-type consistency.  Now let's also remember that tastes differ; so, I've given my opinion.Then, these are soft, chewy cookies -- as advertised.  They are not \"crispy\" cookies, or the blurb would say \"crispy,\" rather than \"chewy.\"  I happen to like raw cookie dough; however, I don't see where these taste like raw cookie dough.  Both are soft, however, so is this the confusion?  And, yes, they stick together.  Soft cookies tend to do that.  They aren't individually wrapped, which would add to the cost.  Oh yeah, chocolate chip cookies tend to be somewhat sweet.So, if you want something hard and crisp, I suggest Nabiso's Ginger Snaps.  If you want a cookie that's soft, chewy and tastes like a combination of chocolate and oatmeal, give these a try.  I'm here to place my second order.\n",
      "==================================================\n",
      "love to order my coffee on amazon.  easy and shows up quickly.This k cup is great coffee.  dcaf is very good as well\n"
     ]
    }
   ],
   "source": [
    "# https://stackoverflow.com/questions/16206380/python-beautifulsoup-how-to-remove-all-tags-from-an-element\n",
    "from bs4 import BeautifulSoup\n",
    "\n",
    "soup = BeautifulSoup(sent_0, 'lxml')\n",
    "text = soup.get_text()\n",
    "print(text)\n",
    "print(\"=\"*50)\n",
    "\n",
    "soup = BeautifulSoup(sent_1000, 'lxml')\n",
    "text = soup.get_text()\n",
    "print(text)\n",
    "print(\"=\"*50)\n",
    "\n",
    "soup = BeautifulSoup(sent_1500, 'lxml')\n",
    "text = soup.get_text()\n",
    "print(text)\n",
    "print(\"=\"*50)\n",
    "\n",
    "soup = BeautifulSoup(sent_4900, 'lxml')\n",
    "text = soup.get_text()\n",
    "print(text)"
   ]
  },
  {
   "cell_type": "code",
   "execution_count": 0,
   "metadata": {
    "colab": {},
    "colab_type": "code",
    "id": "qzIaKh8niWOC"
   },
   "outputs": [],
   "source": [
    "# https://stackoverflow.com/a/47091490/4084039\n",
    "import re\n",
    "\n",
    "def decontracted(phrase):\n",
    "    # specific\n",
    "    phrase = re.sub(r\"won't\", \"will not\", phrase)\n",
    "    phrase = re.sub(r\"can\\'t\", \"can not\", phrase)\n",
    "\n",
    "    # general\n",
    "    phrase = re.sub(r\"n\\'t\", \" not\", phrase)\n",
    "    phrase = re.sub(r\"\\'re\", \" are\", phrase)\n",
    "    phrase = re.sub(r\"\\'s\", \" is\", phrase)\n",
    "    phrase = re.sub(r\"\\'d\", \" would\", phrase)\n",
    "    phrase = re.sub(r\"\\'ll\", \" will\", phrase)\n",
    "    phrase = re.sub(r\"\\'t\", \" not\", phrase)\n",
    "    phrase = re.sub(r\"\\'ve\", \" have\", phrase)\n",
    "    phrase = re.sub(r\"\\'m\", \" am\", phrase)\n",
    "    return phrase"
   ]
  },
  {
   "cell_type": "code",
   "execution_count": 0,
   "metadata": {
    "colab": {},
    "colab_type": "code",
    "id": "Esa29-JwiWOD",
    "outputId": "be726596-752d-489b-d311-f4180ac83ac4"
   },
   "outputs": [
    {
     "name": "stdout",
     "output_type": "stream",
     "text": [
      "Wow.  So far, two two-star reviews.  One obviously had no idea what they were ordering; the other wants crispy cookies.  Hey, I am sorry; but these reviews do nobody any good beyond reminding us to look  before ordering.<br /><br />These are chocolate-oatmeal cookies.  If you do not like that combination, do not order this type of cookie.  I find the combo quite nice, really.  The oatmeal sort of \"calms\" the rich chocolate flavor and gives the cookie sort of a coconut-type consistency.  Now let is also remember that tastes differ; so, I have given my opinion.<br /><br />Then, these are soft, chewy cookies -- as advertised.  They are not \"crispy\" cookies, or the blurb would say \"crispy,\" rather than \"chewy.\"  I happen to like raw cookie dough; however, I do not see where these taste like raw cookie dough.  Both are soft, however, so is this the confusion?  And, yes, they stick together.  Soft cookies tend to do that.  They are not individually wrapped, which would add to the cost.  Oh yeah, chocolate chip cookies tend to be somewhat sweet.<br /><br />So, if you want something hard and crisp, I suggest Nabiso is Ginger Snaps.  If you want a cookie that is soft, chewy and tastes like a combination of chocolate and oatmeal, give these a try.  I am here to place my second order.\n",
      "==================================================\n"
     ]
    }
   ],
   "source": [
    "sent_1500 = decontracted(sent_1500)\n",
    "print(sent_1500)\n",
    "print(\"=\"*50)"
   ]
  },
  {
   "cell_type": "code",
   "execution_count": 0,
   "metadata": {
    "colab": {},
    "colab_type": "code",
    "id": "qf0c7-nXiWOG",
    "outputId": "6104976d-bda8-4de1-9d91-808f3661d53b"
   },
   "outputs": [
    {
     "name": "stdout",
     "output_type": "stream",
     "text": [
      "Why is this $[...] when the same product is available for $[...] here?<br /> /><br />The Victor  and  traps are unreal, of course -- total fly genocide. Pretty stinky, but only right nearby.\n"
     ]
    }
   ],
   "source": [
    "#remove words with numbers python: https://stackoverflow.com/a/18082370/4084039\n",
    "sent_0 = re.sub(\"\\S*\\d\\S*\", \"\", sent_0).strip()\n",
    "print(sent_0)"
   ]
  },
  {
   "cell_type": "code",
   "execution_count": 0,
   "metadata": {
    "colab": {},
    "colab_type": "code",
    "id": "1Z5VK6wxiWOI",
    "outputId": "d3405347-aa6a-4df5-c3d9-2c11441c2385"
   },
   "outputs": [
    {
     "name": "stdout",
     "output_type": "stream",
     "text": [
      "Wow So far two two star reviews One obviously had no idea what they were ordering the other wants crispy cookies Hey I am sorry but these reviews do nobody any good beyond reminding us to look before ordering br br These are chocolate oatmeal cookies If you do not like that combination do not order this type of cookie I find the combo quite nice really The oatmeal sort of calms the rich chocolate flavor and gives the cookie sort of a coconut type consistency Now let is also remember that tastes differ so I have given my opinion br br Then these are soft chewy cookies as advertised They are not crispy cookies or the blurb would say crispy rather than chewy I happen to like raw cookie dough however I do not see where these taste like raw cookie dough Both are soft however so is this the confusion And yes they stick together Soft cookies tend to do that They are not individually wrapped which would add to the cost Oh yeah chocolate chip cookies tend to be somewhat sweet br br So if you want something hard and crisp I suggest Nabiso is Ginger Snaps If you want a cookie that is soft chewy and tastes like a combination of chocolate and oatmeal give these a try I am here to place my second order \n"
     ]
    }
   ],
   "source": [
    "#remove spacial character: https://stackoverflow.com/a/5843547/4084039\n",
    "sent_1500 = re.sub('[^A-Za-z0-9]+', ' ', sent_1500)\n",
    "print(sent_1500)"
   ]
  },
  {
   "cell_type": "code",
   "execution_count": 0,
   "metadata": {
    "colab": {},
    "colab_type": "code",
    "id": "MfzZtIP1iWOL"
   },
   "outputs": [],
   "source": [
    "# https://gist.github.com/sebleier/554280\n",
    "# we are removing the words from the stop words list: 'no', 'nor', 'not'\n",
    "# <br /><br /> ==> after the above steps, we are getting \"br br\"\n",
    "# we are including them into stop words list\n",
    "# instead of <br /> if we have <br/> these tags would have revmoved in the 1st step\n",
    "\n",
    "stopwords= set(['br', 'the', 'i', 'me', 'my', 'myself', 'we', 'our', 'ours', 'ourselves', 'you', \"you're\", \"you've\",\\\n",
    "            \"you'll\", \"you'd\", 'your', 'yours', 'yourself', 'yourselves', 'he', 'him', 'his', 'himself', \\\n",
    "            'she', \"she's\", 'her', 'hers', 'herself', 'it', \"it's\", 'its', 'itself', 'they', 'them', 'their',\\\n",
    "            'theirs', 'themselves', 'what', 'which', 'who', 'whom', 'this', 'that', \"that'll\", 'these', 'those', \\\n",
    "            'am', 'is', 'are', 'was', 'were', 'be', 'been', 'being', 'have', 'has', 'had', 'having', 'do', 'does', \\\n",
    "            'did', 'doing', 'a', 'an', 'the', 'and', 'but', 'if', 'or', 'because', 'as', 'until', 'while', 'of', \\\n",
    "            'at', 'by', 'for', 'with', 'about', 'against', 'between', 'into', 'through', 'during', 'before', 'after',\\\n",
    "            'above', 'below', 'to', 'from', 'up', 'down', 'in', 'out', 'on', 'off', 'over', 'under', 'again', 'further',\\\n",
    "            'then', 'once', 'here', 'there', 'when', 'where', 'why', 'how', 'all', 'any', 'both', 'each', 'few', 'more',\\\n",
    "            'most', 'other', 'some', 'such', 'only', 'own', 'same', 'so', 'than', 'too', 'very', \\\n",
    "            's', 't', 'can', 'will', 'just', 'don', \"don't\", 'should', \"should've\", 'now', 'd', 'll', 'm', 'o', 're', \\\n",
    "            've', 'y', 'ain', 'aren', \"aren't\", 'couldn', \"couldn't\", 'didn', \"didn't\", 'doesn', \"doesn't\", 'hadn',\\\n",
    "            \"hadn't\", 'hasn', \"hasn't\", 'haven', \"haven't\", 'isn', \"isn't\", 'ma', 'mightn', \"mightn't\", 'mustn',\\\n",
    "            \"mustn't\", 'needn', \"needn't\", 'shan', \"shan't\", 'shouldn', \"shouldn't\", 'wasn', \"wasn't\", 'weren', \"weren't\", \\\n",
    "            'won', \"won't\", 'wouldn', \"wouldn't\"])"
   ]
  },
  {
   "cell_type": "code",
   "execution_count": 0,
   "metadata": {
    "colab": {},
    "colab_type": "code",
    "id": "g1C43tjNiWOM",
    "outputId": "a997afc9-894c-4a56-d538-dadea8a21e6d"
   },
   "outputs": [
    {
     "name": "stderr",
     "output_type": "stream",
     "text": [
      "100%|████████████████████████████████████████████████████████████████████████████| 4986/4986 [00:01<00:00, 3137.37it/s]\n"
     ]
    }
   ],
   "source": [
    "# Combining all the above stundents \n",
    "from tqdm import tqdm\n",
    "preprocessed_reviews = []\n",
    "# tqdm is for printing the status bar\n",
    "for sentance in tqdm(final['Text'].values):\n",
    "    sentance = re.sub(r\"http\\S+\", \"\", sentance)\n",
    "    sentance = BeautifulSoup(sentance, 'lxml').get_text()\n",
    "    sentance = decontracted(sentance)\n",
    "    sentance = re.sub(\"\\S*\\d\\S*\", \"\", sentance).strip()\n",
    "    sentance = re.sub('[^A-Za-z]+', ' ', sentance)\n",
    "    # https://gist.github.com/sebleier/554280\n",
    "    sentance = ' '.join(e.lower() for e in sentance.split() if e.lower() not in stopwords)\n",
    "    preprocessed_reviews.append(sentance.strip())"
   ]
  },
  {
   "cell_type": "code",
   "execution_count": 0,
   "metadata": {
    "colab": {},
    "colab_type": "code",
    "id": "MWDrCFxViWOP",
    "outputId": "5618c9c3-a86a-42a4-e9c4-d24d93fd5a7a"
   },
   "outputs": [
    {
     "data": {
      "text/plain": [
       "'wow far two two star reviews one obviously no idea ordering wants crispy cookies hey sorry reviews nobody good beyond reminding us look ordering chocolate oatmeal cookies not like combination not order type cookie find combo quite nice really oatmeal sort calms rich chocolate flavor gives cookie sort coconut type consistency let also remember tastes differ given opinion soft chewy cookies advertised not crispy cookies blurb would say crispy rather chewy happen like raw cookie dough however not see taste like raw cookie dough soft however confusion yes stick together soft cookies tend not individually wrapped would add cost oh yeah chocolate chip cookies tend somewhat sweet want something hard crisp suggest nabiso ginger snaps want cookie soft chewy tastes like combination chocolate oatmeal give try place second order'"
      ]
     },
     "execution_count": 23,
     "metadata": {
      "tags": []
     },
     "output_type": "execute_result"
    }
   ],
   "source": [
    "preprocessed_reviews[1500]"
   ]
  },
  {
   "cell_type": "markdown",
   "metadata": {
    "colab_type": "text",
    "id": "fEu8sShciWOS"
   },
   "source": [
    "<h2><font color='red'>[3.2] Preprocessing Review Summary</font></h2>"
   ]
  },
  {
   "cell_type": "code",
   "execution_count": 0,
   "metadata": {
    "colab": {},
    "colab_type": "code",
    "id": "XP1URIERiWOU"
   },
   "outputs": [],
   "source": [
    "## Similartly you can do preprocessing for review summary also."
   ]
  },
  {
   "cell_type": "markdown",
   "metadata": {
    "colab_type": "text",
    "id": "p2lyiwJ_iWOW"
   },
   "source": [
    "# [4] Featurization"
   ]
  },
  {
   "cell_type": "markdown",
   "metadata": {
    "colab_type": "text",
    "id": "T_LFck8iiWOX"
   },
   "source": [
    "## [4.1] BAG OF WORDS"
   ]
  },
  {
   "cell_type": "code",
   "execution_count": null,
   "metadata": {},
   "outputs": [],
   "source": []
  },
  {
   "cell_type": "code",
   "execution_count": 0,
   "metadata": {
    "colab": {},
    "colab_type": "code",
    "id": "OVHZ9f8biWOX",
    "outputId": "b121f6f4-e30a-4184-b083-a77cdab3ca19"
   },
   "outputs": [
    {
     "name": "stdout",
     "output_type": "stream",
     "text": [
      "some feature names  ['aa', 'aahhhs', 'aback', 'abandon', 'abates', 'abbott', 'abby', 'abdominal', 'abiding', 'ability']\n",
      "==================================================\n",
      "the type of count vectorizer  <class 'scipy.sparse.csr.csr_matrix'>\n",
      "the shape of out text BOW vectorizer  (4986, 12997)\n",
      "the number of unique words  12997\n"
     ]
    }
   ],
   "source": [
    "#BoW\n",
    "count_vect = CountVectorizer() #in scikit-learn\n",
    "count_vect.fit(preprocessed_reviews)\n",
    "print(\"some feature names \", count_vect.get_feature_names()[:10])\n",
    "print('='*50)\n",
    "\n",
    "final_counts = count_vect.transform(preprocessed_reviews)\n",
    "print(\"the type of count vectorizer \",type(final_counts))\n",
    "print(\"the shape of out text BOW vectorizer \",final_counts.get_shape())\n",
    "print(\"the number of unique words \", final_counts.get_shape()[1])"
   ]
  },
  {
   "cell_type": "markdown",
   "metadata": {
    "colab_type": "text",
    "id": "mjfrB76yiWOa"
   },
   "source": [
    "## [4.2] Bi-Grams and n-Grams."
   ]
  },
  {
   "cell_type": "code",
   "execution_count": 0,
   "metadata": {
    "colab": {},
    "colab_type": "code",
    "id": "mzOdOY6MiWOb",
    "outputId": "5ca07a6a-fb12-4deb-b0f4-21cdb42ccb7a"
   },
   "outputs": [
    {
     "name": "stdout",
     "output_type": "stream",
     "text": [
      "the type of count vectorizer  <class 'scipy.sparse.csr.csr_matrix'>\n",
      "the shape of out text BOW vectorizer  (4986, 3144)\n",
      "the number of unique words including both unigrams and bigrams  3144\n"
     ]
    }
   ],
   "source": [
    "#bi-gram, tri-gram and n-gram\n",
    "\n",
    "#removing stop words like \"not\" should be avoided before building n-grams\n",
    "# count_vect = CountVectorizer(ngram_range=(1,2))\n",
    "# please do read the CountVectorizer documentation http://scikit-learn.org/stable/modules/generated/sklearn.feature_extraction.text.CountVectorizer.html\n",
    "\n",
    "# you can choose these numebrs min_df=10, max_features=5000, of your choice\n",
    "count_vect = CountVectorizer(ngram_range=(1,2), min_df=10, max_features=5000)\n",
    "final_bigram_counts = count_vect.fit_transform(preprocessed_reviews)\n",
    "print(\"the type of count vectorizer \",type(final_bigram_counts))\n",
    "print(\"the shape of out text BOW vectorizer \",final_bigram_counts.get_shape())\n",
    "print(\"the number of unique words including both unigrams and bigrams \", final_bigram_counts.get_shape()[1])"
   ]
  },
  {
   "cell_type": "markdown",
   "metadata": {
    "colab_type": "text",
    "id": "0tcbbZxSiWOd"
   },
   "source": [
    "## [4.3] TF-IDF"
   ]
  },
  {
   "cell_type": "code",
   "execution_count": 0,
   "metadata": {
    "colab": {},
    "colab_type": "code",
    "id": "mQ3EDEsoiWOd",
    "outputId": "b305ed29-861d-40e9-c1df-b12c4e6492a8"
   },
   "outputs": [
    {
     "name": "stdout",
     "output_type": "stream",
     "text": [
      "some sample features(unique words in the corpus) ['ability', 'able', 'able find', 'able get', 'absolute', 'absolutely', 'absolutely delicious', 'absolutely love', 'absolutely no', 'according']\n",
      "==================================================\n",
      "the type of count vectorizer  <class 'scipy.sparse.csr.csr_matrix'>\n",
      "the shape of out text TFIDF vectorizer  (4986, 3144)\n",
      "the number of unique words including both unigrams and bigrams  3144\n"
     ]
    }
   ],
   "source": [
    "tf_idf_vect = TfidfVectorizer(ngram_range=(1,2), min_df=10)\n",
    "tf_idf_vect.fit(preprocessed_reviews)\n",
    "print(\"some sample features(unique words in the corpus)\",tf_idf_vect.get_feature_names()[0:10])\n",
    "print('='*50)\n",
    "\n",
    "final_tf_idf = tf_idf_vect.transform(preprocessed_reviews)\n",
    "print(\"the type of count vectorizer \",type(final_tf_idf))\n",
    "print(\"the shape of out text TFIDF vectorizer \",final_tf_idf.get_shape())\n",
    "print(\"the number of unique words including both unigrams and bigrams \", final_tf_idf.get_shape()[1])"
   ]
  },
  {
   "cell_type": "markdown",
   "metadata": {
    "colab_type": "text",
    "id": "u566lt93iWOf"
   },
   "source": [
    "## [4.4] Word2Vec"
   ]
  },
  {
   "cell_type": "code",
   "execution_count": 0,
   "metadata": {
    "colab": {},
    "colab_type": "code",
    "id": "pxlbMwFjiWOg"
   },
   "outputs": [],
   "source": [
    "# Train your own Word2Vec model using your own text corpus\n",
    "i=0\n",
    "list_of_sentance=[]\n",
    "for sentance in preprocessed_reviews:\n",
    "    list_of_sentance.append(sentance.split())"
   ]
  },
  {
   "cell_type": "code",
   "execution_count": 0,
   "metadata": {
    "colab": {},
    "colab_type": "code",
    "id": "NOd5wp0yiWOh",
    "outputId": "ae28439d-438c-4d88-ed12-db5f3317218f",
    "scrolled": true
   },
   "outputs": [
    {
     "name": "stdout",
     "output_type": "stream",
     "text": [
      "[('snack', 0.9951335191726685), ('calorie', 0.9946465492248535), ('wonderful', 0.9946032166481018), ('excellent', 0.9944332838058472), ('especially', 0.9941144585609436), ('baked', 0.9940600395202637), ('salted', 0.994047224521637), ('alternative', 0.9937226176261902), ('tasty', 0.9936816692352295), ('healthy', 0.9936649799346924)]\n",
      "==================================================\n",
      "[('varieties', 0.9994194507598877), ('become', 0.9992934465408325), ('popcorn', 0.9992750883102417), ('de', 0.9992610216140747), ('miss', 0.9992451071739197), ('melitta', 0.999218761920929), ('choice', 0.9992102384567261), ('american', 0.9991837739944458), ('beef', 0.9991780519485474), ('finish', 0.9991567134857178)]\n"
     ]
    }
   ],
   "source": [
    "# Using Google News Word2Vectors\n",
    "\n",
    "# in this project we are using a pretrained model by google\n",
    "# its 3.3G file, once you load this into your memory \n",
    "# it occupies ~9Gb, so please do this step only if you have >12G of ram\n",
    "# we will provide a pickle file wich contains a dict , \n",
    "# and it contains all our courpus words as keys and  model[word] as values\n",
    "# To use this code-snippet, download \"GoogleNews-vectors-negative300.bin\" \n",
    "# from https://drive.google.com/file/d/0B7XkCwpI5KDYNlNUTTlSS21pQmM/edit\n",
    "# it's 1.9GB in size.\n",
    "\n",
    "\n",
    "# http://kavita-ganesan.com/gensim-word2vec-tutorial-starter-code/#.W17SRFAzZPY\n",
    "# you can comment this whole cell\n",
    "# or change these varible according to your need\n",
    "\n",
    "is_your_ram_gt_16g=False\n",
    "want_to_use_google_w2v = False\n",
    "want_to_train_w2v = True\n",
    "\n",
    "if want_to_train_w2v:\n",
    "    # min_count = 5 considers only words that occured atleast 5 times\n",
    "    w2v_model=Word2Vec(list_of_sentance,min_count=5,size=50, workers=4)\n",
    "    print(w2v_model.wv.most_similar('great'))\n",
    "    print('='*50)\n",
    "    print(w2v_model.wv.most_similar('worst'))\n",
    "    \n",
    "elif want_to_use_google_w2v and is_your_ram_gt_16g:\n",
    "    if os.path.isfile('GoogleNews-vectors-negative300.bin'):\n",
    "        w2v_model=KeyedVectors.load_word2vec_format('GoogleNews-vectors-negative300.bin', binary=True)\n",
    "        print(w2v_model.wv.most_similar('great'))\n",
    "        print(w2v_model.wv.most_similar('worst'))\n",
    "    else:\n",
    "        print(\"you don't have gogole's word2vec file, keep want_to_train_w2v = True, to train your own w2v \")"
   ]
  },
  {
   "cell_type": "code",
   "execution_count": 0,
   "metadata": {
    "colab": {},
    "colab_type": "code",
    "id": "teE01Qk2iWOj",
    "outputId": "f063436c-8b62-49d3-e093-723395e66ccd"
   },
   "outputs": [
    {
     "name": "stdout",
     "output_type": "stream",
     "text": [
      "number of words that occured minimum 5 times  3817\n",
      "sample words  ['product', 'available', 'course', 'total', 'pretty', 'stinky', 'right', 'nearby', 'used', 'ca', 'not', 'beat', 'great', 'received', 'shipment', 'could', 'hardly', 'wait', 'try', 'love', 'call', 'instead', 'removed', 'easily', 'daughter', 'designed', 'printed', 'use', 'car', 'windows', 'beautifully', 'shop', 'program', 'going', 'lot', 'fun', 'everywhere', 'like', 'tv', 'computer', 'really', 'good', 'idea', 'final', 'outstanding', 'window', 'everybody', 'asks', 'bought', 'made']\n"
     ]
    }
   ],
   "source": [
    "w2v_words = list(w2v_model.wv.vocab)\n",
    "print(\"number of words that occured minimum 5 times \",len(w2v_words))\n",
    "print(\"sample words \", w2v_words[0:50])"
   ]
  },
  {
   "cell_type": "markdown",
   "metadata": {
    "colab_type": "text",
    "id": "mUNnof40iWOl"
   },
   "source": [
    "## [4.4.1] Converting text into vectors using Avg W2V, TFIDF-W2V"
   ]
  },
  {
   "cell_type": "markdown",
   "metadata": {
    "colab_type": "text",
    "id": "heHLB_FCiWOm"
   },
   "source": [
    "#### [4.4.1.1] Avg W2v"
   ]
  },
  {
   "cell_type": "code",
   "execution_count": 0,
   "metadata": {
    "colab": {},
    "colab_type": "code",
    "id": "iCYoNRANiWOm",
    "outputId": "96ebb104-44d7-4b7d-aa45-62614bbfcf44"
   },
   "outputs": [
    {
     "name": "stderr",
     "output_type": "stream",
     "text": [
      "100%|████████████████████████████████████████████████████████████████████████████| 4986/4986 [00:03<00:00, 1330.47it/s]\n"
     ]
    },
    {
     "name": "stdout",
     "output_type": "stream",
     "text": [
      "4986\n",
      "50\n"
     ]
    }
   ],
   "source": [
    "# average Word2Vec\n",
    "# compute average word2vec for each review.\n",
    "sent_vectors = []; # the avg-w2v for each sentence/review is stored in this list\n",
    "for sent in tqdm(list_of_sentance): # for each review/sentence\n",
    "    sent_vec = np.zeros(50) # as word vectors are of zero length 50, you might need to change this to 300 if you use google's w2v\n",
    "    cnt_words =0; # num of words with a valid vector in the sentence/review\n",
    "    for word in sent: # for each word in a review/sentence\n",
    "        if word in w2v_words:\n",
    "            vec = w2v_model.wv[word]\n",
    "            sent_vec += vec\n",
    "            cnt_words += 1\n",
    "    if cnt_words != 0:\n",
    "        sent_vec /= cnt_words\n",
    "    sent_vectors.append(sent_vec)\n",
    "print(len(sent_vectors))\n",
    "print(len(sent_vectors[0]))"
   ]
  },
  {
   "cell_type": "markdown",
   "metadata": {
    "colab_type": "text",
    "id": "ylTn3LgiiWOo"
   },
   "source": [
    "#### [4.4.1.2] TFIDF weighted W2v"
   ]
  },
  {
   "cell_type": "code",
   "execution_count": 0,
   "metadata": {
    "colab": {},
    "colab_type": "code",
    "id": "XBxf_qKSiWOo"
   },
   "outputs": [],
   "source": [
    "# S = [\"abc def pqr\", \"def def def abc\", \"pqr pqr def\"]\n",
    "model = TfidfVectorizer()\n",
    "tf_idf_matrix = model.fit_transform(preprocessed_reviews)\n",
    "# we are converting a dictionary with word as a key, and the idf as a value\n",
    "dictionary = dict(zip(model.get_feature_names(), list(model.idf_)))"
   ]
  },
  {
   "cell_type": "code",
   "execution_count": 0,
   "metadata": {
    "colab": {},
    "colab_type": "code",
    "id": "5FHQMSyUiWOp",
    "outputId": "6b5b71be-e3f7-4933-cd74-f78fb703132d",
    "scrolled": true
   },
   "outputs": [
    {
     "name": "stderr",
     "output_type": "stream",
     "text": [
      "100%|█████████████████████████████████████████████████████████████████████████████| 4986/4986 [00:20<00:00, 245.63it/s]\n"
     ]
    }
   ],
   "source": [
    "# TF-IDF weighted Word2Vec\n",
    "tfidf_feat = model.get_feature_names() # tfidf words/col-names\n",
    "# final_tf_idf is the sparse matrix with row= sentence, col=word and cell_val = tfidf\n",
    "\n",
    "tfidf_sent_vectors = []; # the tfidf-w2v for each sentence/review is stored in this list\n",
    "row=0;\n",
    "for sent in tqdm(list_of_sentance): # for each review/sentence \n",
    "    sent_vec = np.zeros(50) # as word vectors are of zero length\n",
    "    weight_sum =0; # num of words with a valid vector in the sentence/review\n",
    "    for word in sent: # for each word in a review/sentence\n",
    "        if word in w2v_words and word in tfidf_feat:\n",
    "            vec = w2v_model.wv[word]\n",
    "#             tf_idf = tf_idf_matrix[row, tfidf_feat.index(word)]\n",
    "            # to reduce the computation we are \n",
    "            # dictionary[word] = idf value of word in whole courpus\n",
    "            # sent.count(word) = tf valeus of word in this review\n",
    "            tf_idf = dictionary[word]*(sent.count(word)/len(sent))\n",
    "            sent_vec += (vec * tf_idf)\n",
    "            weight_sum += tf_idf\n",
    "    if weight_sum != 0:\n",
    "        sent_vec /= weight_sum\n",
    "    tfidf_sent_vectors.append(sent_vec)\n",
    "    row += 1"
   ]
  },
  {
   "cell_type": "markdown",
   "metadata": {
    "colab_type": "text",
    "id": "ayLYlocviWOs"
   },
   "source": [
    "# Applying Decision Trees"
   ]
  },
  {
   "cell_type": "markdown",
   "metadata": {
    "colab_type": "text",
    "id": "fvKQwJMWiWOt"
   },
   "source": [
    "## [5.1] Applying Decision Trees on BOW,<font color='red'> SET 1</font>"
   ]
  },
  {
   "cell_type": "code",
   "execution_count": 6,
   "metadata": {
    "colab": {},
    "colab_type": "code",
    "id": "vnSi4W-iiWOt"
   },
   "outputs": [
    {
     "name": "stdout",
     "output_type": "stream",
     "text": [
      "the type of count vectorizer  <class 'scipy.sparse.csr.csr_matrix'>\n",
      "(70000, 31572)\n",
      "(30000, 31572)\n"
     ]
    }
   ],
   "source": [
    "count_vect = CountVectorizer() #in scikit-learn\n",
    "reviews_train_bow = count_vect.fit_transform(reviews_train['CleanedText'].values)\n",
    "# reviews_cv_bow = count_vect.transform(reviews_cv['CleanedText'].values)\n",
    "reviews_test_bow = count_vect.transform(reviews_test['CleanedText'].values)\n",
    "\n",
    "print(\"the type of count vectorizer \",type(reviews_train_bow))\n",
    "print (reviews_train_bow.shape)\n",
    "# print (reviews_cv_bow.shape)\n",
    "print (reviews_test_bow.shape)"
   ]
  },
  {
   "cell_type": "code",
   "execution_count": 11,
   "metadata": {},
   "outputs": [
    {
     "name": "stdout",
     "output_type": "stream",
     "text": [
      "Fitting 5 folds for each of 28 candidates, totalling 140 fits\n"
     ]
    },
    {
     "name": "stderr",
     "output_type": "stream",
     "text": [
      "[Parallel(n_jobs=-2)]: Using backend LokyBackend with 3 concurrent workers.\n",
      "[Parallel(n_jobs=-2)]: Done  44 tasks      | elapsed:   37.3s\n",
      "[Parallel(n_jobs=-2)]: Done 140 out of 140 | elapsed: 11.4min finished\n"
     ]
    },
    {
     "name": "stdout",
     "output_type": "stream",
     "text": [
      "DecisionTreeClassifier(class_weight='balanced', criterion='gini',\n",
      "            max_depth=50, max_features=None, max_leaf_nodes=None,\n",
      "            min_impurity_decrease=0.0, min_impurity_split=None,\n",
      "            min_samples_leaf=1, min_samples_split=500,\n",
      "            min_weight_fraction_leaf=0.0, presort=False, random_state=None,\n",
      "            splitter='best')\n",
      "0.9047793585169283\n"
     ]
    }
   ],
   "source": [
    "from sklearn.tree import DecisionTreeClassifier\n",
    "from sklearn.metrics import accuracy_score\n",
    "from sklearn.model_selection import GridSearchCV , TimeSeriesSplit\n",
    "from sklearn.model_selection import cross_val_score\n",
    "    \n",
    "    \n",
    "clf = DecisionTreeClassifier(  class_weight = 'balanced' )\n",
    "param_grid = {'max_depth': [1, 5, 10, 50, 100, 500, 1000], 'min_samples_split' : [5, 10, 100, 500] }\n",
    "#Using GridSearchCV\n",
    "model = GridSearchCV(clf, param_grid, scoring = 'roc_auc', cv=5 , verbose=1 , n_jobs=-2)\n",
    "model.fit(reviews_train_bow, reviews_score_train)\n",
    "savefile(model,\"GridSearch_BoW_Linear_SVM\")\n",
    "print(model.best_estimator_)\n",
    "print(model.score(reviews_train_bow, reviews_score_train))    \n",
    "# weight = model.coef_\n",
    "    \n",
    " "
   ]
  },
  {
   "cell_type": "code",
   "execution_count": 101,
   "metadata": {},
   "outputs": [
    {
     "name": "stdout",
     "output_type": "stream",
     "text": [
      "{'max_depth': 50, 'min_samples_split': 500}\n"
     ]
    },
    {
     "data": {
      "text/plain": [
       "<matplotlib.axes._subplots.AxesSubplot at 0x1a432525c0>"
      ]
     },
     "execution_count": 101,
     "metadata": {},
     "output_type": "execute_result"
    },
    {
     "data": {
      "image/png": "[encoded data removed]",
      "text/plain": [
       "<Figure size 432x288 with 2 Axes>"
      ]
     },
     "metadata": {
      "needs_background": "light"
     },
     "output_type": "display_data"
    }
   ],
   "source": [
    "gsv = openfile('GridSearch_BoW_Linear_SVM')\n",
    "print (gsv.best_params_)\n",
    "pvt = pd.pivot_table(pd.DataFrame(gsv.cv_results_),values='mean_test_score', index='param_max_depth', columns='param_min_samples_split')\n",
    "sns.heatmap(pvt)"
   ]
  },
  {
   "cell_type": "code",
   "execution_count": 21,
   "metadata": {},
   "outputs": [
    {
     "data": {
      "image/png": "[encoded data removed]",
      "text/plain": [
       "<Figure size 432x288 with 1 Axes>"
      ]
     },
     "metadata": {
      "needs_background": "light"
     },
     "output_type": "display_data"
    }
   ],
   "source": [
    "gsv = openfile('GridSearch_BoW_Linear_SVM')\n",
    "\n",
    "x1=[]\n",
    "y1=[]\n",
    "x2=[]\n",
    "y2=[]\n",
    "gsv.cv_results_\n",
    "means = gsv.cv_results_['mean_test_score']\n",
    "means_train = gsv.cv_results_['mean_train_score']\n",
    "stds = gsv.cv_results_['std_test_score']\n",
    "for mean, mean_train ,  std, params in zip(means, means_train,stds, gsv.cv_results_['params']):\n",
    "\n",
    "    if params['min_samples_split'] == 500:\n",
    "        x1.append(params['max_depth'])\n",
    "        y1.append(mean)\n",
    "        x2.append(params['max_depth'])\n",
    "        y2.append(mean_train)\n",
    "\n",
    "        \n",
    "\n",
    "plt.xlabel(\"Max Depth\",fontsize=15)\n",
    "plt.ylabel(\"AUC\")\n",
    "plt.title('AUC v/s Max Depth')\n",
    "\n",
    "plt.plot(x1,y1,'b',label=\"Test\")\n",
    "plt.plot(x2,y2,'r',label=\"Train\")\n",
    "plt.legend()\n",
    "plt.show()"
   ]
  },
  {
   "cell_type": "code",
   "execution_count": 81,
   "metadata": {},
   "outputs": [
    {
     "name": "stdout",
     "output_type": "stream",
     "text": [
      "\n",
      "The accuracy of the Decision Tree for max_depth = 50.000000 is 77.347143%\n"
     ]
    }
   ],
   "source": [
    "from sklearn.tree import DecisionTreeClassifier\n",
    "from sklearn.metrics import accuracy_score\n",
    "model = DecisionTreeClassifier(class_weight = 'balanced' , max_depth=50 , min_samples_split=500)\n",
    "\n",
    "# fitting the model\n",
    "model.fit(reviews_train_bow , reviews_score_train)\n",
    "\n",
    "# predict the response\n",
    "pred = model.predict(reviews_train_bow)\n",
    "\n",
    "# evaluate accuracy\n",
    "acc = accuracy_score(reviews_score_train, pred) * 100\n",
    "print('\\nThe accuracy of the Decision Tree for max_depth = %f is %f%%' % (50, acc))"
   ]
  },
  {
   "cell_type": "code",
   "execution_count": 90,
   "metadata": {},
   "outputs": [
    {
     "name": "stdout",
     "output_type": "stream",
     "text": [
      "AUC: 0.905\n"
     ]
    },
    {
     "data": {
      "image/png": "[encoded data removed]",
      "text/plain": [
       "<Figure size 432x288 with 1 Axes>"
      ]
     },
     "metadata": {
      "needs_background": "light"
     },
     "output_type": "display_data"
    }
   ],
   "source": [
    "from sklearn import metrics\n",
    "from sklearn.metrics import roc_auc_score\n",
    "from sklearn.metrics import roc_curve\n",
    "from matplotlib import pyplot\n",
    "\n",
    "#Getting AUC value from calibrated model . \n",
    "probs = model.predict_proba(reviews_train_bow)\n",
    "probs = probs[:, 1]\n",
    "auc = roc_auc_score(reviews_score_train, probs)\n",
    "print('AUC: %.3f' % auc)\n",
    "# calculate roc curve\n",
    "fpr, tpr, thresholds = roc_curve(reviews_score_train, probs)\n",
    "# plot no skill\n",
    "pyplot.plot([0, 1], [0, 1], linestyle='--')\n",
    "# plot the roc curve for the model\n",
    "pyplot.plot(fpr, tpr, marker='.')\n",
    "# show the plot\n",
    "pyplot.show()"
   ]
  },
  {
   "cell_type": "code",
   "execution_count": 91,
   "metadata": {},
   "outputs": [
    {
     "name": "stdout",
     "output_type": "stream",
     "text": [
      "[[ 7680   926]\n",
      " [14931 46463]]\n"
     ]
    },
    {
     "data": {
      "image/png": "[encoded data removed]",
      "text/plain": [
       "<Figure size 432x288 with 2 Axes>"
      ]
     },
     "metadata": {
      "needs_background": "light"
     },
     "output_type": "display_data"
    }
   ],
   "source": [
    "from sklearn.metrics import confusion_matrix\n",
    "conf_matrix = confusion_matrix(reviews_score_train, pred)\n",
    "print (conf_matrix)\n",
    "class_label = [\"negative\", \"positive\"]\n",
    "df_cm = pd.DataFrame(conf_matrix, index = class_label, columns = class_label)\n",
    "sns.heatmap(df_cm, annot = True, fmt = \"d\")\n",
    "plt.title(\"Confusiion Matrix\")\n",
    "plt.xlabel(\"Predicted Label\")\n",
    "plt.ylabel(\"True Label\")\n",
    "plt.show()"
   ]
  },
  {
   "cell_type": "code",
   "execution_count": 92,
   "metadata": {},
   "outputs": [
    {
     "name": "stdout",
     "output_type": "stream",
     "text": [
      "              precision    recall  f1-score   support\n",
      "\n",
      "           0       0.34      0.89      0.49      8606\n",
      "           1       0.98      0.76      0.85     61394\n",
      "\n",
      "   micro avg       0.77      0.77      0.77     70000\n",
      "   macro avg       0.66      0.82      0.67     70000\n",
      "weighted avg       0.90      0.77      0.81     70000\n",
      "\n"
     ]
    }
   ],
   "source": [
    "from sklearn.metrics import classification_report\n",
    "print (classification_report(reviews_score_train, pred))"
   ]
  },
  {
   "cell_type": "code",
   "execution_count": 102,
   "metadata": {},
   "outputs": [
    {
     "name": "stdout",
     "output_type": "stream",
     "text": [
      "\n",
      "The accuracy of the Decision Tree for max_depth = 50.000000 is 74.060000%\n"
     ]
    }
   ],
   "source": [
    "from sklearn.tree import DecisionTreeClassifier\n",
    "from sklearn.metrics import accuracy_score\n",
    "model = DecisionTreeClassifier(class_weight = 'balanced' , max_depth=50 , min_samples_split=500)\n",
    "\n",
    "# fitting the model\n",
    "model.fit(reviews_test_bow , reviews_score_test)\n",
    "\n",
    "# predict the response\n",
    "pred = model.predict(reviews_test_bow)\n",
    "\n",
    "# evaluate accuracy\n",
    "acc = accuracy_score(reviews_score_test, pred) * 100\n",
    "print('\\nThe accuracy of the Decision Tree for max_depth = %f is %f%%' % (50, acc))"
   ]
  },
  {
   "cell_type": "code",
   "execution_count": 103,
   "metadata": {},
   "outputs": [
    {
     "name": "stdout",
     "output_type": "stream",
     "text": [
      "AUC: 0.895\n"
     ]
    },
    {
     "data": {
      "image/png": "[encoded data removed]",
      "text/plain": [
       "<Figure size 432x288 with 1 Axes>"
      ]
     },
     "metadata": {
      "needs_background": "light"
     },
     "output_type": "display_data"
    }
   ],
   "source": [
    "from sklearn import metrics\n",
    "from sklearn.metrics import roc_auc_score\n",
    "from sklearn.metrics import roc_curve\n",
    "from matplotlib import pyplot\n",
    "\n",
    "#Getting AUC value from calibrated model . \n",
    "probs = model.predict_proba(reviews_test_bow)\n",
    "probs = probs[:, 1]\n",
    "auc = roc_auc_score(reviews_score_test, probs)\n",
    "print('AUC: %.3f' % auc)\n",
    "# calculate roc curve\n",
    "fpr, tpr, thresholds = roc_curve(reviews_score_test, probs)\n",
    "# plot no skill\n",
    "pyplot.plot([0, 1], [0, 1], linestyle='--')\n",
    "# plot the roc curve for the model\n",
    "pyplot.plot(fpr, tpr, marker='.')\n",
    "# show the plot\n",
    "pyplot.show()"
   ]
  },
  {
   "cell_type": "code",
   "execution_count": 104,
   "metadata": {},
   "outputs": [
    {
     "name": "stdout",
     "output_type": "stream",
     "text": [
      "[[ 3291   374]\n",
      " [ 7408 18927]]\n"
     ]
    },
    {
     "data": {
      "image/png": "[encoded data removed]",
      "text/plain": [
       "<Figure size 432x288 with 2 Axes>"
      ]
     },
     "metadata": {
      "needs_background": "light"
     },
     "output_type": "display_data"
    }
   ],
   "source": [
    "from sklearn.metrics import confusion_matrix\n",
    "conf_matrix = confusion_matrix(reviews_score_test, pred)\n",
    "print (conf_matrix)\n",
    "class_label = [\"negative\", \"positive\"]\n",
    "df_cm = pd.DataFrame(conf_matrix, index = class_label, columns = class_label)\n",
    "sns.heatmap(df_cm, annot = True, fmt = \"d\")\n",
    "plt.title(\"Confusiion Matrix\")\n",
    "plt.xlabel(\"Predicted Label\")\n",
    "plt.ylabel(\"True Label\")\n",
    "plt.show()"
   ]
  },
  {
   "cell_type": "code",
   "execution_count": 106,
   "metadata": {},
   "outputs": [
    {
     "name": "stdout",
     "output_type": "stream",
     "text": [
      "              precision    recall  f1-score   support\n",
      "\n",
      "           0       0.31      0.90      0.46      3665\n",
      "           1       0.98      0.72      0.83     26335\n",
      "\n",
      "   micro avg       0.74      0.74      0.74     30000\n",
      "   macro avg       0.64      0.81      0.64     30000\n",
      "weighted avg       0.90      0.74      0.78     30000\n",
      "\n"
     ]
    }
   ],
   "source": [
    "from sklearn.metrics import classification_report\n",
    "print (classification_report(reviews_score_test, pred))"
   ]
  },
  {
   "cell_type": "markdown",
   "metadata": {
    "colab_type": "text",
    "id": "jm4vkPwMiWOu"
   },
   "source": [
    "### [5.1.1] Top 20 important features from<font color='red'> SET 1</font>"
   ]
  },
  {
   "cell_type": "code",
   "execution_count": 46,
   "metadata": {
    "colab": {},
    "colab_type": "code",
    "id": "puCcjOAkiWOv"
   },
   "outputs": [
    {
     "name": "stdout",
     "output_type": "stream",
     "text": [
      "(1, 31572)\n",
      "31572\n"
     ]
    }
   ],
   "source": [
    "log_prob_reviews = np.array([model.feature_importances_])\n",
    "tfidf_features = count_vect.get_feature_names()\n",
    "\n",
    "print (log_prob_reviews.shape)\n",
    "print (len(tfidf_features))"
   ]
  },
  {
   "cell_type": "code",
   "execution_count": 47,
   "metadata": {},
   "outputs": [],
   "source": [
    "feature_prob = pd.DataFrame(log_prob_reviews,columns=tfidf_features)\n",
    "feature_prob_transpose = feature_prob.T\n"
   ]
  },
  {
   "cell_type": "code",
   "execution_count": 48,
   "metadata": {},
   "outputs": [
    {
     "name": "stdout",
     "output_type": "stream",
     "text": [
      "\n",
      "\n",
      "  Top 20 Features:-\n",
      " great         0.107553\n",
      "best          0.066661\n",
      "disappoint    0.057750\n",
      "love          0.050787\n",
      "delici        0.042942\n",
      "bad           0.027673\n",
      "excel         0.022287\n",
      "favorit       0.020447\n",
      "good          0.019906\n",
      "perfect       0.017578\n",
      "tast          0.016095\n",
      "money         0.014736\n",
      "nice          0.013701\n",
      "product       0.012293\n",
      "terribl       0.011459\n",
      "would         0.010767\n",
      "worst         0.010637\n",
      "wonder        0.010317\n",
      "thought       0.009928\n",
      "howev         0.009848\n",
      "Name: 0, dtype: float64\n"
     ]
    }
   ],
   "source": [
    "print(\"\\n\\n  Top 20 Features:-\\n\",feature_prob_transpose[0].sort_values(ascending = False)[0:20])\n"
   ]
  },
  {
   "cell_type": "markdown",
   "metadata": {
    "colab_type": "text",
    "id": "7JyitDTTiWOx"
   },
   "source": [
    "### [5.1.2] Graphviz visualization of Decision Tree on BOW,<font color='red'> SET 1</font>"
   ]
  },
  {
   "cell_type": "code",
   "execution_count": 53,
   "metadata": {
    "colab": {},
    "colab_type": "code",
    "id": "-jxU7zrAiWOy"
   },
   "outputs": [
    {
     "data": {
      "text/plain": [
       "'test_bow.pdf'"
      ]
     },
     "execution_count": 53,
     "metadata": {},
     "output_type": "execute_result"
    }
   ],
   "source": [
    "import graphviz \n",
    "from sklearn import tree\n",
    "dot_data = tree.export_graphviz(model , out_file=None , feature_names=count_vect.get_feature_names()   ,  max_depth=3) \n",
    "graph = graphviz.Source(dot_data) \n",
    "graph.render('test_bow') "
   ]
  },
  {
   "cell_type": "code",
   "execution_count": 54,
   "metadata": {},
   "outputs": [
    {
     "data": {
      "image/svg+xml": [
       "<?xml version=\"1.0\" encoding=\"UTF-8\" standalone=\"no\"?>\n",
       "<!DOCTYPE svg PUBLIC \"-//W3C//DTD SVG 1.1//EN\"\n",
       " \"http://www.w3.org/Graphics/SVG/1.1/DTD/svg11.dtd\">\n",
       "<!-- Generated by graphviz version 2.38.0 (20140413.2041)\n",
       " -->\n",
       "<!-- Title: Tree Pages: 1 -->\n",
       "<svg width=\"1174pt\" height=\"444pt\"\n",
       " viewBox=\"0.00 0.00 1173.54 444.00\" xmlns=\"http://www.w3.org/2000/svg\" xmlns:xlink=\"http://www.w3.org/1999/xlink\">\n",
       "<g id=\"graph0\" class=\"graph\" transform=\"scale(1 1) rotate(0) translate(4 440)\">\n",
       "<title>Tree</title>\n",
       "<polygon fill=\"white\" stroke=\"none\" points=\"-4,4 -4,-440 1169.54,-440 1169.54,4 -4,4\"/>\n",
       "<!-- 0 -->\n",
       "<g id=\"node1\" class=\"node\"><title>0</title>\n",
       "<polygon fill=\"none\" stroke=\"black\" points=\"827.306,-436 659.231,-436 659.231,-372 827.306,-372 827.306,-436\"/>\n",
       "<text text-anchor=\"middle\" x=\"743.269\" y=\"-420.8\" font-family=\"Times,serif\" font-size=\"14.00\">great &lt;= 0.5</text>\n",
       "<text text-anchor=\"middle\" x=\"743.269\" y=\"-406.8\" font-family=\"Times,serif\" font-size=\"14.00\">gini = 0.5</text>\n",
       "<text text-anchor=\"middle\" x=\"743.269\" y=\"-392.8\" font-family=\"Times,serif\" font-size=\"14.00\">samples = 70000</text>\n",
       "<text text-anchor=\"middle\" x=\"743.269\" y=\"-378.8\" font-family=\"Times,serif\" font-size=\"14.00\">value = [35000.0, 35000.0]</text>\n",
       "</g>\n",
       "<!-- 1 -->\n",
       "<g id=\"node2\" class=\"node\"><title>1</title>\n",
       "<polygon fill=\"none\" stroke=\"black\" points=\"694.806,-336 505.731,-336 505.731,-272 694.806,-272 694.806,-336\"/>\n",
       "<text text-anchor=\"middle\" x=\"600.269\" y=\"-320.8\" font-family=\"Times,serif\" font-size=\"14.00\">best &lt;= 0.5</text>\n",
       "<text text-anchor=\"middle\" x=\"600.269\" y=\"-306.8\" font-family=\"Times,serif\" font-size=\"14.00\">gini = 0.494</text>\n",
       "<text text-anchor=\"middle\" x=\"600.269\" y=\"-292.8\" font-family=\"Times,serif\" font-size=\"14.00\">samples = 52327</text>\n",
       "<text text-anchor=\"middle\" x=\"600.269\" y=\"-278.8\" font-family=\"Times,serif\" font-size=\"14.00\">value = [31758.657, 25379.19]</text>\n",
       "</g>\n",
       "<!-- 0&#45;&gt;1 -->\n",
       "<g id=\"edge1\" class=\"edge\"><title>0&#45;&gt;1</title>\n",
       "<path fill=\"none\" stroke=\"black\" d=\"M698.022,-371.992C684.069,-362.429 668.566,-351.805 654.094,-341.887\"/>\n",
       "<polygon fill=\"black\" stroke=\"black\" points=\"655.939,-338.908 645.711,-336.142 651.981,-344.683 655.939,-338.908\"/>\n",
       "<text text-anchor=\"middle\" x=\"650.3\" y=\"-356.518\" font-family=\"Times,serif\" font-size=\"14.00\">True</text>\n",
       "</g>\n",
       "<!-- 1286 -->\n",
       "<g id=\"node15\" class=\"node\"><title>1286</title>\n",
       "<polygon fill=\"none\" stroke=\"black\" points=\"974.806,-336 799.731,-336 799.731,-272 974.806,-272 974.806,-336\"/>\n",
       "<text text-anchor=\"middle\" x=\"887.269\" y=\"-320.8\" font-family=\"Times,serif\" font-size=\"14.00\">disappoint &lt;= 0.5</text>\n",
       "<text text-anchor=\"middle\" x=\"887.269\" y=\"-306.8\" font-family=\"Times,serif\" font-size=\"14.00\">gini = 0.377</text>\n",
       "<text text-anchor=\"middle\" x=\"887.269\" y=\"-292.8\" font-family=\"Times,serif\" font-size=\"14.00\">samples = 17673</text>\n",
       "<text text-anchor=\"middle\" x=\"887.269\" y=\"-278.8\" font-family=\"Times,serif\" font-size=\"14.00\">value = [3241.343, 9620.81]</text>\n",
       "</g>\n",
       "<!-- 0&#45;&gt;1286 -->\n",
       "<g id=\"edge14\" class=\"edge\"><title>0&#45;&gt;1286</title>\n",
       "<path fill=\"none\" stroke=\"black\" d=\"M788.831,-371.992C802.882,-362.429 818.494,-351.805 833.067,-341.887\"/>\n",
       "<polygon fill=\"black\" stroke=\"black\" points=\"835.21,-344.662 841.508,-336.142 831.272,-338.875 835.21,-344.662\"/>\n",
       "<text text-anchor=\"middle\" x=\"836.84\" y=\"-356.503\" font-family=\"Times,serif\" font-size=\"14.00\">False</text>\n",
       "</g>\n",
       "<!-- 2 -->\n",
       "<g id=\"node3\" class=\"node\"><title>2</title>\n",
       "<polygon fill=\"none\" stroke=\"black\" points=\"404.306,-236 208.231,-236 208.231,-172 404.306,-172 404.306,-236\"/>\n",
       "<text text-anchor=\"middle\" x=\"306.269\" y=\"-220.8\" font-family=\"Times,serif\" font-size=\"14.00\">love &lt;= 0.5</text>\n",
       "<text text-anchor=\"middle\" x=\"306.269\" y=\"-206.8\" font-family=\"Times,serif\" font-size=\"14.00\">gini = 0.484</text>\n",
       "<text text-anchor=\"middle\" x=\"306.269\" y=\"-192.8\" font-family=\"Times,serif\" font-size=\"14.00\">samples = 45039</text>\n",
       "<text text-anchor=\"middle\" x=\"306.269\" y=\"-178.8\" font-family=\"Times,serif\" font-size=\"14.00\">value = [30558.912, 21392.563]</text>\n",
       "</g>\n",
       "<!-- 1&#45;&gt;2 -->\n",
       "<g id=\"edge2\" class=\"edge\"><title>1&#45;&gt;2</title>\n",
       "<path fill=\"none\" stroke=\"black\" d=\"M507.245,-271.992C476.068,-261.6 441.129,-249.953 409.236,-239.322\"/>\n",
       "<polygon fill=\"black\" stroke=\"black\" points=\"410.037,-235.9 399.443,-236.058 407.823,-242.541 410.037,-235.9\"/>\n",
       "</g>\n",
       "<!-- 1165 -->\n",
       "<g id=\"node10\" class=\"node\"><title>1165</title>\n",
       "<polygon fill=\"none\" stroke=\"black\" points=\"691.293,-236 509.244,-236 509.244,-172 691.293,-172 691.293,-236\"/>\n",
       "<text text-anchor=\"middle\" x=\"600.269\" y=\"-220.8\" font-family=\"Times,serif\" font-size=\"14.00\">disappoint &lt;= 0.5</text>\n",
       "<text text-anchor=\"middle\" x=\"600.269\" y=\"-206.8\" font-family=\"Times,serif\" font-size=\"14.00\">gini = 0.356</text>\n",
       "<text text-anchor=\"middle\" x=\"600.269\" y=\"-192.8\" font-family=\"Times,serif\" font-size=\"14.00\">samples = 7288</text>\n",
       "<text text-anchor=\"middle\" x=\"600.269\" y=\"-178.8\" font-family=\"Times,serif\" font-size=\"14.00\">value = [1199.744, 3986.627]</text>\n",
       "</g>\n",
       "<!-- 1&#45;&gt;1165 -->\n",
       "<g id=\"edge9\" class=\"edge\"><title>1&#45;&gt;1165</title>\n",
       "<path fill=\"none\" stroke=\"black\" d=\"M600.269,-271.992C600.269,-263.859 600.269,-254.959 600.269,-246.378\"/>\n",
       "<polygon fill=\"black\" stroke=\"black\" points=\"603.769,-246.142 600.269,-236.142 596.769,-246.142 603.769,-246.142\"/>\n",
       "</g>\n",
       "<!-- 3 -->\n",
       "<g id=\"node4\" class=\"node\"><title>3</title>\n",
       "<polygon fill=\"none\" stroke=\"black\" points=\"196.306,-136 0.230901,-136 0.230901,-72 196.306,-72 196.306,-136\"/>\n",
       "<text text-anchor=\"middle\" x=\"98.2686\" y=\"-120.8\" font-family=\"Times,serif\" font-size=\"14.00\">delici &lt;= 0.5</text>\n",
       "<text text-anchor=\"middle\" x=\"98.2686\" y=\"-106.8\" font-family=\"Times,serif\" font-size=\"14.00\">gini = 0.465</text>\n",
       "<text text-anchor=\"middle\" x=\"98.2686\" y=\"-92.8\" font-family=\"Times,serif\" font-size=\"14.00\">samples = 34012</text>\n",
       "<text text-anchor=\"middle\" x=\"98.2686\" y=\"-78.8\" font-family=\"Times,serif\" font-size=\"14.00\">value = [26882.408, 15621.559]</text>\n",
       "</g>\n",
       "<!-- 2&#45;&gt;3 -->\n",
       "<g id=\"edge3\" class=\"edge\"><title>2&#45;&gt;3</title>\n",
       "<path fill=\"none\" stroke=\"black\" d=\"M240.456,-171.992C219.211,-161.983 195.498,-150.81 173.619,-140.501\"/>\n",
       "<polygon fill=\"black\" stroke=\"black\" points=\"174.905,-137.239 164.367,-136.142 171.921,-143.571 174.905,-137.239\"/>\n",
       "</g>\n",
       "<!-- 926 -->\n",
       "<g id=\"node7\" class=\"node\"><title>926</title>\n",
       "<polygon fill=\"none\" stroke=\"black\" points=\"397.306,-136 215.231,-136 215.231,-72 397.306,-72 397.306,-136\"/>\n",
       "<text text-anchor=\"middle\" x=\"306.269\" y=\"-120.8\" font-family=\"Times,serif\" font-size=\"14.00\">disappoint &lt;= 0.5</text>\n",
       "<text text-anchor=\"middle\" x=\"306.269\" y=\"-106.8\" font-family=\"Times,serif\" font-size=\"14.00\">gini = 0.475</text>\n",
       "<text text-anchor=\"middle\" x=\"306.269\" y=\"-92.8\" font-family=\"Times,serif\" font-size=\"14.00\">samples = 11027</text>\n",
       "<text text-anchor=\"middle\" x=\"306.269\" y=\"-78.8\" font-family=\"Times,serif\" font-size=\"14.00\">value = [3676.505, 5771.004]</text>\n",
       "</g>\n",
       "<!-- 2&#45;&gt;926 -->\n",
       "<g id=\"edge6\" class=\"edge\"><title>2&#45;&gt;926</title>\n",
       "<path fill=\"none\" stroke=\"black\" d=\"M306.269,-171.992C306.269,-163.859 306.269,-154.959 306.269,-146.378\"/>\n",
       "<polygon fill=\"black\" stroke=\"black\" points=\"309.769,-146.142 306.269,-136.142 302.769,-146.142 309.769,-146.142\"/>\n",
       "</g>\n",
       "<!-- 4 -->\n",
       "<g id=\"node5\" class=\"node\"><title>4</title>\n",
       "<polygon fill=\"none\" stroke=\"black\" points=\"109.269,-36 55.2686,-36 55.2686,-0 109.269,-0 109.269,-36\"/>\n",
       "<text text-anchor=\"middle\" x=\"82.2686\" y=\"-13.8\" font-family=\"Times,serif\" font-size=\"14.00\">(...)</text>\n",
       "</g>\n",
       "<!-- 3&#45;&gt;4 -->\n",
       "<g id=\"edge4\" class=\"edge\"><title>3&#45;&gt;4</title>\n",
       "<path fill=\"none\" stroke=\"black\" d=\"M92.3107,-71.7215C90.7292,-63.4186 89.0336,-54.5167 87.4944,-46.4357\"/>\n",
       "<polygon fill=\"black\" stroke=\"black\" points=\"90.8932,-45.5733 85.5838,-36.4049 84.0168,-46.8832 90.8932,-45.5733\"/>\n",
       "</g>\n",
       "<!-- 865 -->\n",
       "<g id=\"node6\" class=\"node\"><title>865</title>\n",
       "<polygon fill=\"none\" stroke=\"black\" points=\"181.269,-36 127.269,-36 127.269,-0 181.269,-0 181.269,-36\"/>\n",
       "<text text-anchor=\"middle\" x=\"154.269\" y=\"-13.8\" font-family=\"Times,serif\" font-size=\"14.00\">(...)</text>\n",
       "</g>\n",
       "<!-- 3&#45;&gt;865 -->\n",
       "<g id=\"edge5\" class=\"edge\"><title>3&#45;&gt;865</title>\n",
       "<path fill=\"none\" stroke=\"black\" d=\"M119.121,-71.7215C125.029,-62.8589 131.393,-53.3137 137.06,-44.813\"/>\n",
       "<polygon fill=\"black\" stroke=\"black\" points=\"140.03,-46.6668 142.665,-36.4049 134.206,-42.7839 140.03,-46.6668\"/>\n",
       "</g>\n",
       "<!-- 927 -->\n",
       "<g id=\"node8\" class=\"node\"><title>927</title>\n",
       "<polygon fill=\"none\" stroke=\"black\" points=\"277.269,-36 223.269,-36 223.269,-0 277.269,-0 277.269,-36\"/>\n",
       "<text text-anchor=\"middle\" x=\"250.269\" y=\"-13.8\" font-family=\"Times,serif\" font-size=\"14.00\">(...)</text>\n",
       "</g>\n",
       "<!-- 926&#45;&gt;927 -->\n",
       "<g id=\"edge7\" class=\"edge\"><title>926&#45;&gt;927</title>\n",
       "<path fill=\"none\" stroke=\"black\" d=\"M285.416,-71.7215C279.508,-62.8589 273.144,-53.3137 267.477,-44.813\"/>\n",
       "<polygon fill=\"black\" stroke=\"black\" points=\"270.331,-42.7839 261.872,-36.4049 264.507,-46.6668 270.331,-42.7839\"/>\n",
       "</g>\n",
       "<!-- 1164 -->\n",
       "<g id=\"node9\" class=\"node\"><title>1164</title>\n",
       "<polygon fill=\"none\" stroke=\"black\" points=\"349.269,-36 295.269,-36 295.269,-0 349.269,-0 349.269,-36\"/>\n",
       "<text text-anchor=\"middle\" x=\"322.269\" y=\"-13.8\" font-family=\"Times,serif\" font-size=\"14.00\">(...)</text>\n",
       "</g>\n",
       "<!-- 926&#45;&gt;1164 -->\n",
       "<g id=\"edge8\" class=\"edge\"><title>926&#45;&gt;1164</title>\n",
       "<path fill=\"none\" stroke=\"black\" d=\"M312.226,-71.7215C313.808,-63.4186 315.503,-54.5167 317.043,-46.4357\"/>\n",
       "<polygon fill=\"black\" stroke=\"black\" points=\"320.52,-46.8832 318.953,-36.4049 313.644,-45.5733 320.52,-46.8832\"/>\n",
       "</g>\n",
       "<!-- 1166 -->\n",
       "<g id=\"node11\" class=\"node\"><title>1166</title>\n",
       "<polygon fill=\"none\" stroke=\"black\" points=\"598.306,-136 416.231,-136 416.231,-72 598.306,-72 598.306,-136\"/>\n",
       "<text text-anchor=\"middle\" x=\"507.269\" y=\"-120.8\" font-family=\"Times,serif\" font-size=\"14.00\">worst &lt;= 0.5</text>\n",
       "<text text-anchor=\"middle\" x=\"507.269\" y=\"-106.8\" font-family=\"Times,serif\" font-size=\"14.00\">gini = 0.335</text>\n",
       "<text text-anchor=\"middle\" x=\"507.269\" y=\"-92.8\" font-family=\"Times,serif\" font-size=\"14.00\">samples = 7084</text>\n",
       "<text text-anchor=\"middle\" x=\"507.269\" y=\"-78.8\" font-family=\"Times,serif\" font-size=\"14.00\">value = [1049.268, 3891.423]</text>\n",
       "</g>\n",
       "<!-- 1165&#45;&gt;1166 -->\n",
       "<g id=\"edge10\" class=\"edge\"><title>1165&#45;&gt;1166</title>\n",
       "<path fill=\"none\" stroke=\"black\" d=\"M570.843,-171.992C562.277,-162.966 552.813,-152.993 543.863,-143.562\"/>\n",
       "<polygon fill=\"black\" stroke=\"black\" points=\"546.245,-140.987 536.822,-136.142 541.167,-145.805 546.245,-140.987\"/>\n",
       "</g>\n",
       "<!-- 1285 -->\n",
       "<g id=\"node14\" class=\"node\"><title>1285</title>\n",
       "<polygon fill=\"none\" stroke=\"black\" points=\"777.806,-129 616.731,-129 616.731,-79 777.806,-79 777.806,-129\"/>\n",
       "<text text-anchor=\"middle\" x=\"697.269\" y=\"-113.8\" font-family=\"Times,serif\" font-size=\"14.00\">gini = 0.475</text>\n",
       "<text text-anchor=\"middle\" x=\"697.269\" y=\"-99.8\" font-family=\"Times,serif\" font-size=\"14.00\">samples = 204</text>\n",
       "<text text-anchor=\"middle\" x=\"697.269\" y=\"-85.8\" font-family=\"Times,serif\" font-size=\"14.00\">value = [150.476, 95.205]</text>\n",
       "</g>\n",
       "<!-- 1165&#45;&gt;1285 -->\n",
       "<g id=\"edge13\" class=\"edge\"><title>1165&#45;&gt;1285</title>\n",
       "<path fill=\"none\" stroke=\"black\" d=\"M630.96,-171.992C642.16,-160.676 654.832,-147.874 666.076,-136.514\"/>\n",
       "<polygon fill=\"black\" stroke=\"black\" points=\"668.682,-138.857 673.229,-129.288 663.706,-133.933 668.682,-138.857\"/>\n",
       "</g>\n",
       "<!-- 1167 -->\n",
       "<g id=\"node12\" class=\"node\"><title>1167</title>\n",
       "<polygon fill=\"none\" stroke=\"black\" points=\"498.269,-36 444.269,-36 444.269,-0 498.269,-0 498.269,-36\"/>\n",
       "<text text-anchor=\"middle\" x=\"471.269\" y=\"-13.8\" font-family=\"Times,serif\" font-size=\"14.00\">(...)</text>\n",
       "</g>\n",
       "<!-- 1166&#45;&gt;1167 -->\n",
       "<g id=\"edge11\" class=\"edge\"><title>1166&#45;&gt;1167</title>\n",
       "<path fill=\"none\" stroke=\"black\" d=\"M493.863,-71.7215C490.185,-63.1388 486.232,-53.9159 482.678,-45.6214\"/>\n",
       "<polygon fill=\"black\" stroke=\"black\" points=\"485.884,-44.2176 478.728,-36.4049 479.45,-46.9751 485.884,-44.2176\"/>\n",
       "</g>\n",
       "<!-- 1284 -->\n",
       "<g id=\"node13\" class=\"node\"><title>1284</title>\n",
       "<polygon fill=\"none\" stroke=\"black\" points=\"570.269,-36 516.269,-36 516.269,-0 570.269,-0 570.269,-36\"/>\n",
       "<text text-anchor=\"middle\" x=\"543.269\" y=\"-13.8\" font-family=\"Times,serif\" font-size=\"14.00\">(...)</text>\n",
       "</g>\n",
       "<!-- 1166&#45;&gt;1284 -->\n",
       "<g id=\"edge12\" class=\"edge\"><title>1166&#45;&gt;1284</title>\n",
       "<path fill=\"none\" stroke=\"black\" d=\"M520.674,-71.7215C524.352,-63.1388 528.305,-53.9159 531.859,-45.6214\"/>\n",
       "<polygon fill=\"black\" stroke=\"black\" points=\"535.087,-46.9751 535.809,-36.4049 528.653,-44.2176 535.087,-46.9751\"/>\n",
       "</g>\n",
       "<!-- 1287 -->\n",
       "<g id=\"node16\" class=\"node\"><title>1287</title>\n",
       "<polygon fill=\"none\" stroke=\"black\" points=\"978.306,-236 796.231,-236 796.231,-172 978.306,-172 978.306,-236\"/>\n",
       "<text text-anchor=\"middle\" x=\"887.269\" y=\"-220.8\" font-family=\"Times,serif\" font-size=\"14.00\">bad &lt;= 0.5</text>\n",
       "<text text-anchor=\"middle\" x=\"887.269\" y=\"-206.8\" font-family=\"Times,serif\" font-size=\"14.00\">gini = 0.355</text>\n",
       "<text text-anchor=\"middle\" x=\"887.269\" y=\"-192.8\" font-family=\"Times,serif\" font-size=\"14.00\">samples = 17288</text>\n",
       "<text text-anchor=\"middle\" x=\"887.269\" y=\"-178.8\" font-family=\"Times,serif\" font-size=\"14.00\">value = [2842.784, 9457.195]</text>\n",
       "</g>\n",
       "<!-- 1286&#45;&gt;1287 -->\n",
       "<g id=\"edge15\" class=\"edge\"><title>1286&#45;&gt;1287</title>\n",
       "<path fill=\"none\" stroke=\"black\" d=\"M887.269,-271.992C887.269,-263.859 887.269,-254.959 887.269,-246.378\"/>\n",
       "<polygon fill=\"black\" stroke=\"black\" points=\"890.769,-246.142 887.269,-236.142 883.769,-246.142 890.769,-246.142\"/>\n",
       "</g>\n",
       "<!-- 1474 -->\n",
       "<g id=\"node23\" class=\"node\"><title>1474</title>\n",
       "<polygon fill=\"none\" stroke=\"black\" points=\"1165.31,-229 997.231,-229 997.231,-179 1165.31,-179 1165.31,-229\"/>\n",
       "<text text-anchor=\"middle\" x=\"1081.27\" y=\"-213.8\" font-family=\"Times,serif\" font-size=\"14.00\">gini = 0.413</text>\n",
       "<text text-anchor=\"middle\" x=\"1081.27\" y=\"-199.8\" font-family=\"Times,serif\" font-size=\"14.00\">samples = 385</text>\n",
       "<text text-anchor=\"middle\" x=\"1081.27\" y=\"-185.8\" font-family=\"Times,serif\" font-size=\"14.00\">value = [398.559, 163.615]</text>\n",
       "</g>\n",
       "<!-- 1286&#45;&gt;1474 -->\n",
       "<g id=\"edge22\" class=\"edge\"><title>1286&#45;&gt;1474</title>\n",
       "<path fill=\"none\" stroke=\"black\" d=\"M948.651,-271.992C972.857,-259.765 1000.5,-245.801 1024.26,-233.798\"/>\n",
       "<polygon fill=\"black\" stroke=\"black\" points=\"1026.15,-236.763 1033.5,-229.13 1023,-230.515 1026.15,-236.763\"/>\n",
       "</g>\n",
       "<!-- 1288 -->\n",
       "<g id=\"node17\" class=\"node\"><title>1288</title>\n",
       "<polygon fill=\"none\" stroke=\"black\" points=\"978.306,-136 796.231,-136 796.231,-72 978.306,-72 978.306,-136\"/>\n",
       "<text text-anchor=\"middle\" x=\"887.269\" y=\"-120.8\" font-family=\"Times,serif\" font-size=\"14.00\">terribl &lt;= 0.5</text>\n",
       "<text text-anchor=\"middle\" x=\"887.269\" y=\"-106.8\" font-family=\"Times,serif\" font-size=\"14.00\">gini = 0.332</text>\n",
       "<text text-anchor=\"middle\" x=\"887.269\" y=\"-92.8\" font-family=\"Times,serif\" font-size=\"14.00\">samples = 16712</text>\n",
       "<text text-anchor=\"middle\" x=\"887.269\" y=\"-78.8\" font-family=\"Times,serif\" font-size=\"14.00\">value = [2444.225, 9184.692]</text>\n",
       "</g>\n",
       "<!-- 1287&#45;&gt;1288 -->\n",
       "<g id=\"edge16\" class=\"edge\"><title>1287&#45;&gt;1288</title>\n",
       "<path fill=\"none\" stroke=\"black\" d=\"M887.269,-171.992C887.269,-163.859 887.269,-154.959 887.269,-146.378\"/>\n",
       "<polygon fill=\"black\" stroke=\"black\" points=\"890.769,-146.142 887.269,-136.142 883.769,-146.142 890.769,-146.142\"/>\n",
       "</g>\n",
       "<!-- 1467 -->\n",
       "<g id=\"node20\" class=\"node\"><title>1467</title>\n",
       "<polygon fill=\"none\" stroke=\"black\" points=\"1165.31,-136 997.231,-136 997.231,-72 1165.31,-72 1165.31,-136\"/>\n",
       "<text text-anchor=\"middle\" x=\"1081.27\" y=\"-120.8\" font-family=\"Times,serif\" font-size=\"14.00\">bottl &lt;= 0.5</text>\n",
       "<text text-anchor=\"middle\" x=\"1081.27\" y=\"-106.8\" font-family=\"Times,serif\" font-size=\"14.00\">gini = 0.482</text>\n",
       "<text text-anchor=\"middle\" x=\"1081.27\" y=\"-92.8\" font-family=\"Times,serif\" font-size=\"14.00\">samples = 576</text>\n",
       "<text text-anchor=\"middle\" x=\"1081.27\" y=\"-78.8\" font-family=\"Times,serif\" font-size=\"14.00\">value = [398.559, 272.502]</text>\n",
       "</g>\n",
       "<!-- 1287&#45;&gt;1467 -->\n",
       "<g id=\"edge19\" class=\"edge\"><title>1287&#45;&gt;1467</title>\n",
       "<path fill=\"none\" stroke=\"black\" d=\"M948.651,-171.992C968.289,-162.072 990.189,-151.009 1010.44,-140.778\"/>\n",
       "<polygon fill=\"black\" stroke=\"black\" points=\"1012.27,-143.775 1019.62,-136.142 1009.12,-137.527 1012.27,-143.775\"/>\n",
       "</g>\n",
       "<!-- 1289 -->\n",
       "<g id=\"node18\" class=\"node\"><title>1289</title>\n",
       "<polygon fill=\"none\" stroke=\"black\" points=\"878.269,-36 824.269,-36 824.269,-0 878.269,-0 878.269,-36\"/>\n",
       "<text text-anchor=\"middle\" x=\"851.269\" y=\"-13.8\" font-family=\"Times,serif\" font-size=\"14.00\">(...)</text>\n",
       "</g>\n",
       "<!-- 1288&#45;&gt;1289 -->\n",
       "<g id=\"edge17\" class=\"edge\"><title>1288&#45;&gt;1289</title>\n",
       "<path fill=\"none\" stroke=\"black\" d=\"M873.863,-71.7215C870.185,-63.1388 866.232,-53.9159 862.678,-45.6214\"/>\n",
       "<polygon fill=\"black\" stroke=\"black\" points=\"865.884,-44.2176 858.728,-36.4049 859.45,-46.9751 865.884,-44.2176\"/>\n",
       "</g>\n",
       "<!-- 1466 -->\n",
       "<g id=\"node19\" class=\"node\"><title>1466</title>\n",
       "<polygon fill=\"none\" stroke=\"black\" points=\"950.269,-36 896.269,-36 896.269,-0 950.269,-0 950.269,-36\"/>\n",
       "<text text-anchor=\"middle\" x=\"923.269\" y=\"-13.8\" font-family=\"Times,serif\" font-size=\"14.00\">(...)</text>\n",
       "</g>\n",
       "<!-- 1288&#45;&gt;1466 -->\n",
       "<g id=\"edge18\" class=\"edge\"><title>1288&#45;&gt;1466</title>\n",
       "<path fill=\"none\" stroke=\"black\" d=\"M900.674,-71.7215C904.352,-63.1388 908.305,-53.9159 911.859,-45.6214\"/>\n",
       "<polygon fill=\"black\" stroke=\"black\" points=\"915.087,-46.9751 915.809,-36.4049 908.653,-44.2176 915.087,-46.9751\"/>\n",
       "</g>\n",
       "<!-- 1468 -->\n",
       "<g id=\"node21\" class=\"node\"><title>1468</title>\n",
       "<polygon fill=\"none\" stroke=\"black\" points=\"1072.27,-36 1018.27,-36 1018.27,-0 1072.27,-0 1072.27,-36\"/>\n",
       "<text text-anchor=\"middle\" x=\"1045.27\" y=\"-13.8\" font-family=\"Times,serif\" font-size=\"14.00\">(...)</text>\n",
       "</g>\n",
       "<!-- 1467&#45;&gt;1468 -->\n",
       "<g id=\"edge20\" class=\"edge\"><title>1467&#45;&gt;1468</title>\n",
       "<path fill=\"none\" stroke=\"black\" d=\"M1067.86,-71.7215C1064.19,-63.1388 1060.23,-53.9159 1056.68,-45.6214\"/>\n",
       "<polygon fill=\"black\" stroke=\"black\" points=\"1059.88,-44.2176 1052.73,-36.4049 1053.45,-46.9751 1059.88,-44.2176\"/>\n",
       "</g>\n",
       "<!-- 1473 -->\n",
       "<g id=\"node22\" class=\"node\"><title>1473</title>\n",
       "<polygon fill=\"none\" stroke=\"black\" points=\"1144.27,-36 1090.27,-36 1090.27,-0 1144.27,-0 1144.27,-36\"/>\n",
       "<text text-anchor=\"middle\" x=\"1117.27\" y=\"-13.8\" font-family=\"Times,serif\" font-size=\"14.00\">(...)</text>\n",
       "</g>\n",
       "<!-- 1467&#45;&gt;1473 -->\n",
       "<g id=\"edge21\" class=\"edge\"><title>1467&#45;&gt;1473</title>\n",
       "<path fill=\"none\" stroke=\"black\" d=\"M1094.67,-71.7215C1098.35,-63.1388 1102.3,-53.9159 1105.86,-45.6214\"/>\n",
       "<polygon fill=\"black\" stroke=\"black\" points=\"1109.09,-46.9751 1109.81,-36.4049 1102.65,-44.2176 1109.09,-46.9751\"/>\n",
       "</g>\n",
       "</g>\n",
       "</svg>\n"
      ],
      "text/plain": [
       "<graphviz.files.Source at 0x1a2c700358>"
      ]
     },
     "execution_count": 54,
     "metadata": {},
     "output_type": "execute_result"
    }
   ],
   "source": [
    "import graphviz \n",
    "from sklearn import tree\n",
    "dot_data = tree.export_graphviz(model , out_file=None , feature_names=count_vect.get_feature_names() ,   max_depth=3) \n",
    "graph = graphviz.Source(dot_data)\n",
    "graph"
   ]
  },
  {
   "cell_type": "markdown",
   "metadata": {
    "colab_type": "text",
    "id": "5przjMTbiWOz"
   },
   "source": [
    "## [5.2] Applying Decision Trees on TFIDF,<font color='red'> SET 2</font>"
   ]
  },
  {
   "cell_type": "code",
   "execution_count": 47,
   "metadata": {
    "colab": {},
    "colab_type": "code",
    "id": "Bm3mfI7miWOz"
   },
   "outputs": [],
   "source": [
    "from sklearn.feature_extraction.text import TfidfTransformer\n",
    "from sklearn.feature_extraction.text import TfidfVectorizer\n",
    "tf_idf_vect = TfidfVectorizer(ngram_range=(1,2))\n",
    "reviews_train_tfidf = tf_idf_vect.fit_transform(reviews_train['CleanedText'].values)\n",
    "\n",
    "reviews_test_tfidf = tf_idf_vect.transform(reviews_test['CleanedText'].values)"
   ]
  },
  {
   "cell_type": "code",
   "execution_count": null,
   "metadata": {},
   "outputs": [],
   "source": [
    "from sklearn.tree import DecisionTreeClassifier\n",
    "from sklearn.metrics import accuracy_score\n",
    "from sklearn.model_selection import GridSearchCV \n",
    "from sklearn.model_selection import cross_val_score\n",
    "    \n",
    "    \n",
    "clf = DecisionTreeClassifier(  class_weight = 'balanced' )\n",
    "param_grid = {'max_depth': [1, 5, 10, 50, 100, 500, 1000], 'min_samples_split' : [5, 10, 100, 500] }\n",
    "#Using GridSearchCV\n",
    "model = GridSearchCV(clf, param_grid, scoring = 'roc_auc', cv=5 , verbose=1 , n_jobs=-1)\n",
    "model.fit(reviews_train_tfidf, reviews_score_train)\n",
    "savefile(model,\"GridSearch_tfidf_Decision_Tree\")\n",
    "print(model.best_estimator_)\n",
    "print(model.score(reviews_train_tfidf, reviews_score_train))    \n",
    "# weight = model.coef_\n",
    "    \n",
    " "
   ]
  },
  {
   "cell_type": "code",
   "execution_count": 107,
   "metadata": {},
   "outputs": [
    {
     "name": "stdout",
     "output_type": "stream",
     "text": [
      "{'max_depth': 50, 'min_samples_split': 500}\n"
     ]
    },
    {
     "data": {
      "text/plain": [
       "<matplotlib.axes._subplots.AxesSubplot at 0x1a4353c1d0>"
      ]
     },
     "execution_count": 107,
     "metadata": {},
     "output_type": "execute_result"
    },
    {
     "data": {
      "image/png": "[encoded data removed]",
      "text/plain": [
       "<Figure size 432x288 with 2 Axes>"
      ]
     },
     "metadata": {
      "needs_background": "light"
     },
     "output_type": "display_data"
    }
   ],
   "source": [
    "gsv = openfile('GridSearch_tfidf_Decision_Tree')\n",
    "print (gsv.best_params_)\n",
    "pvt = pd.pivot_table(pd.DataFrame(gsv.cv_results_),values='mean_test_score', index='param_max_depth', columns='param_min_samples_split')\n",
    "sns.heatmap(pvt)"
   ]
  },
  {
   "cell_type": "code",
   "execution_count": 22,
   "metadata": {},
   "outputs": [
    {
     "data": {
      "image/png": "[encoded data removed]",
      "text/plain": [
       "<Figure size 432x288 with 1 Axes>"
      ]
     },
     "metadata": {
      "needs_background": "light"
     },
     "output_type": "display_data"
    }
   ],
   "source": [
    "gsv = openfile('GridSearch_tfidf_Decision_Tree')\n",
    "\n",
    "x1=[]\n",
    "y1=[]\n",
    "x2=[]\n",
    "y2=[]\n",
    "gsv.cv_results_\n",
    "means = gsv.cv_results_['mean_test_score']\n",
    "means_train = gsv.cv_results_['mean_train_score']\n",
    "stds = gsv.cv_results_['std_test_score']\n",
    "for mean, mean_train ,  std, params in zip(means, means_train,stds, gsv.cv_results_['params']):\n",
    "\n",
    "    if params['min_samples_split'] == 500:\n",
    "        x1.append(params['max_depth'])\n",
    "        y1.append(mean)\n",
    "        x2.append(params['max_depth'])\n",
    "        y2.append(mean_train)\n",
    "\n",
    "        \n",
    "\n",
    "plt.xlabel(\"Max Depth\",fontsize=15)\n",
    "plt.ylabel(\"AUC\")\n",
    "plt.title('AUC v/s Max Depth')\n",
    "\n",
    "plt.plot(x1,y1,'b',label=\"Test\")\n",
    "plt.plot(x2,y2,'r',label=\"Train\")\n",
    "plt.legend()\n",
    "plt.show()"
   ]
  },
  {
   "cell_type": "code",
   "execution_count": 108,
   "metadata": {},
   "outputs": [
    {
     "name": "stdout",
     "output_type": "stream",
     "text": [
      "{'max_depth': 50, 'min_samples_split': 500}\n",
      "\n",
      "The accuracy of the Decision Tree for max_depth = 50.000000 is 80.604286%\n"
     ]
    }
   ],
   "source": [
    "from sklearn.tree import DecisionTreeClassifier\n",
    "from sklearn.metrics import accuracy_score\n",
    "model = DecisionTreeClassifier(class_weight = 'balanced' , max_depth=50 , min_samples_split=500)\n",
    "gsv = openfile('GridSearch_tfidf_Decision_Tree')\n",
    "print (gsv.best_params_)\n",
    "# fitting the model\n",
    "model.fit(reviews_train_tfidf , reviews_score_train)\n",
    "\n",
    "# predict the response\n",
    "pred = model.predict(reviews_train_tfidf)\n",
    "\n",
    "# evaluate accuracy\n",
    "acc = accuracy_score(reviews_score_train, pred) * 100\n",
    "print('\\nThe accuracy of the Decision Tree for max_depth = %f is %f%%' % (50, acc))"
   ]
  },
  {
   "cell_type": "code",
   "execution_count": 110,
   "metadata": {},
   "outputs": [
    {
     "name": "stdout",
     "output_type": "stream",
     "text": [
      "AUC: 0.925\n"
     ]
    },
    {
     "data": {
      "image/png": "[encoded data removed]",
      "text/plain": [
       "<Figure size 432x288 with 1 Axes>"
      ]
     },
     "metadata": {
      "needs_background": "light"
     },
     "output_type": "display_data"
    }
   ],
   "source": [
    "from sklearn import metrics\n",
    "from sklearn.metrics import roc_auc_score\n",
    "from sklearn.metrics import roc_curve\n",
    "from matplotlib import pyplot\n",
    "\n",
    "#Getting AUC value from calibrated model . \n",
    "probs = model.predict_proba(reviews_train_tfidf)\n",
    "probs = probs[:, 1]\n",
    "auc = roc_auc_score(reviews_score_train, probs)\n",
    "print('AUC: %.3f' % auc)\n",
    "# calculate roc curve\n",
    "fpr, tpr, thresholds = roc_curve(reviews_score_train, probs)\n",
    "# plot no skill\n",
    "pyplot.plot([0, 1], [0, 1], linestyle='--')\n",
    "# plot the roc curve for the model\n",
    "pyplot.plot(fpr, tpr, marker='.')\n",
    "# show the plot\n",
    "pyplot.show()"
   ]
  },
  {
   "cell_type": "code",
   "execution_count": 111,
   "metadata": {},
   "outputs": [
    {
     "name": "stdout",
     "output_type": "stream",
     "text": [
      "[[ 7878   728]\n",
      " [12849 48545]]\n"
     ]
    },
    {
     "data": {
      "image/png": "[encoded data removed]",
      "text/plain": [
       "<Figure size 432x288 with 2 Axes>"
      ]
     },
     "metadata": {
      "needs_background": "light"
     },
     "output_type": "display_data"
    }
   ],
   "source": [
    "from sklearn.metrics import confusion_matrix\n",
    "conf_matrix = confusion_matrix(reviews_score_train, pred)\n",
    "print (conf_matrix)\n",
    "class_label = [\"negative\", \"positive\"]\n",
    "df_cm = pd.DataFrame(conf_matrix, index = class_label, columns = class_label)\n",
    "sns.heatmap(df_cm, annot = True, fmt = \"d\")\n",
    "plt.title(\"Confusiion Matrix\")\n",
    "plt.xlabel(\"Predicted Label\")\n",
    "plt.ylabel(\"True Label\")\n",
    "plt.show()"
   ]
  },
  {
   "cell_type": "code",
   "execution_count": 112,
   "metadata": {},
   "outputs": [
    {
     "name": "stdout",
     "output_type": "stream",
     "text": [
      "              precision    recall  f1-score   support\n",
      "\n",
      "           0       0.38      0.92      0.54      8606\n",
      "           1       0.99      0.79      0.88     61394\n",
      "\n",
      "   micro avg       0.81      0.81      0.81     70000\n",
      "   macro avg       0.68      0.85      0.71     70000\n",
      "weighted avg       0.91      0.81      0.84     70000\n",
      "\n"
     ]
    }
   ],
   "source": [
    "from sklearn.metrics import classification_report\n",
    "print (classification_report(reviews_score_train, pred))"
   ]
  },
  {
   "cell_type": "code",
   "execution_count": 113,
   "metadata": {},
   "outputs": [
    {
     "name": "stdout",
     "output_type": "stream",
     "text": [
      "{'max_depth': 50, 'min_samples_split': 500}\n",
      "\n",
      "The accuracy of the Decision Tree for max_depth = 50.000000 is 80.310000%\n"
     ]
    }
   ],
   "source": [
    "from sklearn.tree import DecisionTreeClassifier\n",
    "from sklearn.metrics import accuracy_score\n",
    "model = DecisionTreeClassifier(class_weight = 'balanced' , max_depth=50 , min_samples_split=500)\n",
    "gsv = openfile('GridSearch_tfidf_Decision_Tree')\n",
    "print (gsv.best_params_)\n",
    "# fitting the model\n",
    "model.fit(reviews_test_tfidf , reviews_score_test)\n",
    "\n",
    "# predict the response\n",
    "pred = model.predict(reviews_test_tfidf)\n",
    "\n",
    "# evaluate accuracy\n",
    "acc = accuracy_score(reviews_score_test, pred) * 100\n",
    "print('\\nThe accuracy of the Decision Tree for max_depth = %f is %f%%' % (50, acc))"
   ]
  },
  {
   "cell_type": "code",
   "execution_count": 114,
   "metadata": {},
   "outputs": [
    {
     "name": "stdout",
     "output_type": "stream",
     "text": [
      "AUC: 0.918\n"
     ]
    },
    {
     "data": {
      "image/png": "[encoded data removed]",
      "text/plain": [
       "<Figure size 432x288 with 1 Axes>"
      ]
     },
     "metadata": {
      "needs_background": "light"
     },
     "output_type": "display_data"
    }
   ],
   "source": [
    "from sklearn import metrics\n",
    "from sklearn.metrics import roc_auc_score\n",
    "from sklearn.metrics import roc_curve\n",
    "from matplotlib import pyplot\n",
    "\n",
    "#Getting AUC value from calibrated model . \n",
    "probs = model.predict_proba(reviews_test_tfidf)\n",
    "probs = probs[:, 1]\n",
    "auc = roc_auc_score(reviews_score_test, probs)\n",
    "print('AUC: %.3f' % auc)\n",
    "# calculate roc curve\n",
    "fpr, tpr, thresholds = roc_curve(reviews_score_test, probs)\n",
    "# plot no skill\n",
    "pyplot.plot([0, 1], [0, 1], linestyle='--')\n",
    "# plot the roc curve for the model\n",
    "pyplot.plot(fpr, tpr, marker='.')\n",
    "# show the plot\n",
    "pyplot.show()"
   ]
  },
  {
   "cell_type": "code",
   "execution_count": 115,
   "metadata": {},
   "outputs": [
    {
     "name": "stdout",
     "output_type": "stream",
     "text": [
      "[[ 3277   388]\n",
      " [ 5519 20816]]\n"
     ]
    },
    {
     "data": {
      "image/png": "[encoded data removed]",
      "text/plain": [
       "<Figure size 432x288 with 2 Axes>"
      ]
     },
     "metadata": {
      "needs_background": "light"
     },
     "output_type": "display_data"
    }
   ],
   "source": [
    "from sklearn.metrics import confusion_matrix\n",
    "conf_matrix = confusion_matrix(reviews_score_test, pred)\n",
    "print (conf_matrix)\n",
    "class_label = [\"negative\", \"positive\"]\n",
    "df_cm = pd.DataFrame(conf_matrix, index = class_label, columns = class_label)\n",
    "sns.heatmap(df_cm, annot = True, fmt = \"d\")\n",
    "plt.title(\"Confusiion Matrix\")\n",
    "plt.xlabel(\"Predicted Label\")\n",
    "plt.ylabel(\"True Label\")\n",
    "plt.show()"
   ]
  },
  {
   "cell_type": "code",
   "execution_count": 116,
   "metadata": {},
   "outputs": [
    {
     "name": "stdout",
     "output_type": "stream",
     "text": [
      "              precision    recall  f1-score   support\n",
      "\n",
      "           0       0.37      0.89      0.53      3665\n",
      "           1       0.98      0.79      0.88     26335\n",
      "\n",
      "   micro avg       0.80      0.80      0.80     30000\n",
      "   macro avg       0.68      0.84      0.70     30000\n",
      "weighted avg       0.91      0.80      0.83     30000\n",
      "\n"
     ]
    }
   ],
   "source": [
    "from sklearn.metrics import classification_report\n",
    "print (classification_report(reviews_score_test, pred))"
   ]
  },
  {
   "cell_type": "markdown",
   "metadata": {
    "colab_type": "text",
    "id": "PIKUCldjiWO0"
   },
   "source": [
    "### [5.2.1] Top 20 important features from<font color='red'> SET 2</font>"
   ]
  },
  {
   "cell_type": "code",
   "execution_count": 31,
   "metadata": {
    "colab": {},
    "colab_type": "code",
    "id": "p2P0iHQciWO1"
   },
   "outputs": [
    {
     "name": "stdout",
     "output_type": "stream",
     "text": [
      "(1, 932590)\n",
      "932590\n"
     ]
    }
   ],
   "source": [
    "log_prob_reviews = np.array([model.feature_importances_])\n",
    "tfidf_features = tf_idf_vect.get_feature_names()\n",
    "\n",
    "print (log_prob_reviews.shape)\n",
    "print (len(tfidf_features))"
   ]
  },
  {
   "cell_type": "code",
   "execution_count": 39,
   "metadata": {},
   "outputs": [],
   "source": [
    "feature_prob = pd.DataFrame(log_prob_reviews,columns=tfidf_features)\n",
    "feature_prob_transpose = feature_prob.T\n"
   ]
  },
  {
   "cell_type": "code",
   "execution_count": 42,
   "metadata": {},
   "outputs": [
    {
     "name": "stdout",
     "output_type": "stream",
     "text": [
      "\n",
      "\n",
      "  Top 20 Features:-\n",
      " great             0.104704\n",
      "best              0.064226\n",
      "love              0.053861\n",
      "disappoint        0.047356\n",
      "delici            0.041879\n",
      "good              0.022206\n",
      "favorit           0.022137\n",
      "excel             0.022029\n",
      "perfect           0.019383\n",
      "high recommend    0.015099\n",
      "nice              0.015061\n",
      "bad               0.014978\n",
      "tast              0.012372\n",
      "thought           0.010979\n",
      "find              0.010425\n",
      "money             0.009744\n",
      "tasti             0.009175\n",
      "wonder            0.009158\n",
      "terribl           0.008619\n",
      "enjoy             0.008184\n",
      "Name: 0, dtype: float64\n"
     ]
    }
   ],
   "source": [
    "print(\"\\n\\n  Top 20 Features:-\\n\",feature_prob_transpose[0].sort_values(ascending = False)[0:20])\n"
   ]
  },
  {
   "cell_type": "markdown",
   "metadata": {
    "colab_type": "text",
    "id": "RTZB9ipUiWO3"
   },
   "source": [
    "### [5.2.2] Graphviz visualization of Decision Tree on TFIDF,<font color='red'> SET 2</font>"
   ]
  },
  {
   "cell_type": "code",
   "execution_count": 48,
   "metadata": {},
   "outputs": [
    {
     "data": {
      "text/plain": [
       "'test_tfidf.pdf'"
      ]
     },
     "execution_count": 48,
     "metadata": {},
     "output_type": "execute_result"
    }
   ],
   "source": [
    "import graphviz \n",
    "from sklearn import tree\n",
    "dot_data = tree.export_graphviz(model , out_file=None , feature_names=tf_idf_vect.get_feature_names() ,  max_depth=3) \n",
    "graph = graphviz.Source(dot_data) \n",
    "graph.render('test_tfidf') "
   ]
  },
  {
   "cell_type": "code",
   "execution_count": 50,
   "metadata": {
    "colab": {},
    "colab_type": "code",
    "id": "DMbZoPoTiWO4"
   },
   "outputs": [
    {
     "data": {
      "image/svg+xml": [
       "<?xml version=\"1.0\" encoding=\"UTF-8\" standalone=\"no\"?>\n",
       "<!DOCTYPE svg PUBLIC \"-//W3C//DTD SVG 1.1//EN\"\n",
       " \"http://www.w3.org/Graphics/SVG/1.1/DTD/svg11.dtd\">\n",
       "<!-- Generated by graphviz version 2.38.0 (20140413.2041)\n",
       " -->\n",
       "<!-- Title: Tree Pages: 1 -->\n",
       "<svg width=\"1173pt\" height=\"444pt\"\n",
       " viewBox=\"0.00 0.00 1173.04 444.00\" xmlns=\"http://www.w3.org/2000/svg\" xmlns:xlink=\"http://www.w3.org/1999/xlink\">\n",
       "<g id=\"graph0\" class=\"graph\" transform=\"scale(1 1) rotate(0) translate(4 440)\">\n",
       "<title>Tree</title>\n",
       "<polygon fill=\"white\" stroke=\"none\" points=\"-4,4 -4,-440 1169.04,-440 1169.04,4 -4,4\"/>\n",
       "<!-- 0 -->\n",
       "<g id=\"node1\" class=\"node\"><title>0</title>\n",
       "<polygon fill=\"none\" stroke=\"black\" points=\"823.806,-436 655.731,-436 655.731,-372 823.806,-372 823.806,-436\"/>\n",
       "<text text-anchor=\"middle\" x=\"739.769\" y=\"-420.8\" font-family=\"Times,serif\" font-size=\"14.00\">great &lt;= 0.022</text>\n",
       "<text text-anchor=\"middle\" x=\"739.769\" y=\"-406.8\" font-family=\"Times,serif\" font-size=\"14.00\">gini = 0.5</text>\n",
       "<text text-anchor=\"middle\" x=\"739.769\" y=\"-392.8\" font-family=\"Times,serif\" font-size=\"14.00\">samples = 70000</text>\n",
       "<text text-anchor=\"middle\" x=\"739.769\" y=\"-378.8\" font-family=\"Times,serif\" font-size=\"14.00\">value = [35000.0, 35000.0]</text>\n",
       "</g>\n",
       "<!-- 1 -->\n",
       "<g id=\"node2\" class=\"node\"><title>1</title>\n",
       "<polygon fill=\"none\" stroke=\"black\" points=\"690.806,-336 494.731,-336 494.731,-272 690.806,-272 690.806,-336\"/>\n",
       "<text text-anchor=\"middle\" x=\"592.769\" y=\"-320.8\" font-family=\"Times,serif\" font-size=\"14.00\">best &lt;= 0.016</text>\n",
       "<text text-anchor=\"middle\" x=\"592.769\" y=\"-306.8\" font-family=\"Times,serif\" font-size=\"14.00\">gini = 0.494</text>\n",
       "<text text-anchor=\"middle\" x=\"592.769\" y=\"-292.8\" font-family=\"Times,serif\" font-size=\"14.00\">samples = 53621</text>\n",
       "<text text-anchor=\"middle\" x=\"592.769\" y=\"-278.8\" font-family=\"Times,serif\" font-size=\"14.00\">value = [32328.027, 26037.072]</text>\n",
       "</g>\n",
       "<!-- 0&#45;&gt;1 -->\n",
       "<g id=\"edge1\" class=\"edge\"><title>0&#45;&gt;1</title>\n",
       "<path fill=\"none\" stroke=\"black\" d=\"M693.257,-371.992C678.913,-362.429 662.976,-351.805 648.099,-341.887\"/>\n",
       "<polygon fill=\"black\" stroke=\"black\" points=\"649.744,-338.777 639.482,-336.142 645.861,-344.602 649.744,-338.777\"/>\n",
       "<text text-anchor=\"middle\" x=\"644.385\" y=\"-356.457\" font-family=\"Times,serif\" font-size=\"14.00\">True</text>\n",
       "</g>\n",
       "<!-- 1350 -->\n",
       "<g id=\"node17\" class=\"node\"><title>1350</title>\n",
       "<polygon fill=\"none\" stroke=\"black\" points=\"977.806,-336 795.731,-336 795.731,-272 977.806,-272 977.806,-336\"/>\n",
       "<text text-anchor=\"middle\" x=\"886.769\" y=\"-320.8\" font-family=\"Times,serif\" font-size=\"14.00\">disappoint &lt;= 0.044</text>\n",
       "<text text-anchor=\"middle\" x=\"886.769\" y=\"-306.8\" font-family=\"Times,serif\" font-size=\"14.00\">gini = 0.354</text>\n",
       "<text text-anchor=\"middle\" x=\"886.769\" y=\"-292.8\" font-family=\"Times,serif\" font-size=\"14.00\">samples = 16379</text>\n",
       "<text text-anchor=\"middle\" x=\"886.769\" y=\"-278.8\" font-family=\"Times,serif\" font-size=\"14.00\">value = [2671.973, 8962.928]</text>\n",
       "</g>\n",
       "<!-- 0&#45;&gt;1350 -->\n",
       "<g id=\"edge16\" class=\"edge\"><title>0&#45;&gt;1350</title>\n",
       "<path fill=\"none\" stroke=\"black\" d=\"M786.28,-371.992C800.624,-362.429 816.561,-351.805 831.438,-341.887\"/>\n",
       "<polygon fill=\"black\" stroke=\"black\" points=\"833.676,-344.602 840.055,-336.142 829.793,-338.777 833.676,-344.602\"/>\n",
       "<text text-anchor=\"middle\" x=\"835.152\" y=\"-356.457\" font-family=\"Times,serif\" font-size=\"14.00\">False</text>\n",
       "</g>\n",
       "<!-- 2 -->\n",
       "<g id=\"node3\" class=\"node\"><title>2</title>\n",
       "<polygon fill=\"none\" stroke=\"black\" points=\"396.806,-236 200.731,-236 200.731,-172 396.806,-172 396.806,-236\"/>\n",
       "<text text-anchor=\"middle\" x=\"298.769\" y=\"-220.8\" font-family=\"Times,serif\" font-size=\"14.00\">love &lt;= 0.033</text>\n",
       "<text text-anchor=\"middle\" x=\"298.769\" y=\"-206.8\" font-family=\"Times,serif\" font-size=\"14.00\">gini = 0.485</text>\n",
       "<text text-anchor=\"middle\" x=\"298.769\" y=\"-192.8\" font-family=\"Times,serif\" font-size=\"14.00\">samples = 46134</text>\n",
       "<text text-anchor=\"middle\" x=\"298.769\" y=\"-178.8\" font-family=\"Times,serif\" font-size=\"14.00\">value = [31099.814, 21940.988]</text>\n",
       "</g>\n",
       "<!-- 1&#45;&gt;2 -->\n",
       "<g id=\"edge2\" class=\"edge\"><title>1&#45;&gt;2</title>\n",
       "<path fill=\"none\" stroke=\"black\" d=\"M499.745,-271.992C468.568,-261.6 433.629,-249.953 401.736,-239.322\"/>\n",
       "<polygon fill=\"black\" stroke=\"black\" points=\"402.537,-235.9 391.943,-236.058 400.323,-242.541 402.537,-235.9\"/>\n",
       "</g>\n",
       "<!-- 1167 -->\n",
       "<g id=\"node10\" class=\"node\"><title>1167</title>\n",
       "<polygon fill=\"none\" stroke=\"black\" points=\"683.806,-236 501.731,-236 501.731,-172 683.806,-172 683.806,-236\"/>\n",
       "<text text-anchor=\"middle\" x=\"592.769\" y=\"-220.8\" font-family=\"Times,serif\" font-size=\"14.00\">best &lt;= 0.053</text>\n",
       "<text text-anchor=\"middle\" x=\"592.769\" y=\"-206.8\" font-family=\"Times,serif\" font-size=\"14.00\">gini = 0.355</text>\n",
       "<text text-anchor=\"middle\" x=\"592.769\" y=\"-192.8\" font-family=\"Times,serif\" font-size=\"14.00\">samples = 7487</text>\n",
       "<text text-anchor=\"middle\" x=\"592.769\" y=\"-178.8\" font-family=\"Times,serif\" font-size=\"14.00\">value = [1228.213, 4096.084]</text>\n",
       "</g>\n",
       "<!-- 1&#45;&gt;1167 -->\n",
       "<g id=\"edge9\" class=\"edge\"><title>1&#45;&gt;1167</title>\n",
       "<path fill=\"none\" stroke=\"black\" d=\"M592.769,-271.992C592.769,-263.859 592.769,-254.959 592.769,-246.378\"/>\n",
       "<polygon fill=\"black\" stroke=\"black\" points=\"596.269,-246.142 592.769,-236.142 589.269,-246.142 596.269,-246.142\"/>\n",
       "</g>\n",
       "<!-- 3 -->\n",
       "<g id=\"node4\" class=\"node\"><title>3</title>\n",
       "<polygon fill=\"none\" stroke=\"black\" points=\"189.306,-136 0.230881,-136 0.230881,-72 189.306,-72 189.306,-136\"/>\n",
       "<text text-anchor=\"middle\" x=\"94.7686\" y=\"-120.8\" font-family=\"Times,serif\" font-size=\"14.00\">delici &lt;= 0.012</text>\n",
       "<text text-anchor=\"middle\" x=\"94.7686\" y=\"-106.8\" font-family=\"Times,serif\" font-size=\"14.00\">gini = 0.469</text>\n",
       "<text text-anchor=\"middle\" x=\"94.7686\" y=\"-92.8\" font-family=\"Times,serif\" font-size=\"14.00\">samples = 37443</text>\n",
       "<text text-anchor=\"middle\" x=\"94.7686\" y=\"-78.8\" font-family=\"Times,serif\" font-size=\"14.00\">value = [28814.199, 17306.74]</text>\n",
       "</g>\n",
       "<!-- 2&#45;&gt;3 -->\n",
       "<g id=\"edge3\" class=\"edge\"><title>2&#45;&gt;3</title>\n",
       "<path fill=\"none\" stroke=\"black\" d=\"M234.222,-171.992C213.385,-161.983 190.128,-150.81 168.67,-140.501\"/>\n",
       "<polygon fill=\"black\" stroke=\"black\" points=\"170.125,-137.318 159.596,-136.142 167.094,-143.628 170.125,-137.318\"/>\n",
       "</g>\n",
       "<!-- 930 -->\n",
       "<g id=\"node7\" class=\"node\"><title>930</title>\n",
       "<polygon fill=\"none\" stroke=\"black\" points=\"389.806,-136 207.731,-136 207.731,-72 389.806,-72 389.806,-136\"/>\n",
       "<text text-anchor=\"middle\" x=\"298.769\" y=\"-120.8\" font-family=\"Times,serif\" font-size=\"14.00\">disappoint &lt;= 0.04</text>\n",
       "<text text-anchor=\"middle\" x=\"298.769\" y=\"-106.8\" font-family=\"Times,serif\" font-size=\"14.00\">gini = 0.442</text>\n",
       "<text text-anchor=\"middle\" x=\"298.769\" y=\"-92.8\" font-family=\"Times,serif\" font-size=\"14.00\">samples = 8691</text>\n",
       "<text text-anchor=\"middle\" x=\"298.769\" y=\"-78.8\" font-family=\"Times,serif\" font-size=\"14.00\">value = [2285.615, 4634.248]</text>\n",
       "</g>\n",
       "<!-- 2&#45;&gt;930 -->\n",
       "<g id=\"edge6\" class=\"edge\"><title>2&#45;&gt;930</title>\n",
       "<path fill=\"none\" stroke=\"black\" d=\"M298.769,-171.992C298.769,-163.859 298.769,-154.959 298.769,-146.378\"/>\n",
       "<polygon fill=\"black\" stroke=\"black\" points=\"302.269,-146.142 298.769,-136.142 295.269,-146.142 302.269,-146.142\"/>\n",
       "</g>\n",
       "<!-- 4 -->\n",
       "<g id=\"node5\" class=\"node\"><title>4</title>\n",
       "<polygon fill=\"none\" stroke=\"black\" points=\"105.769,-36 51.7686,-36 51.7686,-0 105.769,-0 105.769,-36\"/>\n",
       "<text text-anchor=\"middle\" x=\"78.7686\" y=\"-13.8\" font-family=\"Times,serif\" font-size=\"14.00\">(...)</text>\n",
       "</g>\n",
       "<!-- 3&#45;&gt;4 -->\n",
       "<g id=\"edge4\" class=\"edge\"><title>3&#45;&gt;4</title>\n",
       "<path fill=\"none\" stroke=\"black\" d=\"M88.8107,-71.7215C87.2292,-63.4186 85.5336,-54.5167 83.9944,-46.4357\"/>\n",
       "<polygon fill=\"black\" stroke=\"black\" points=\"87.3932,-45.5733 82.0838,-36.4049 80.5168,-46.8832 87.3932,-45.5733\"/>\n",
       "</g>\n",
       "<!-- 855 -->\n",
       "<g id=\"node6\" class=\"node\"><title>855</title>\n",
       "<polygon fill=\"none\" stroke=\"black\" points=\"177.769,-36 123.769,-36 123.769,-0 177.769,-0 177.769,-36\"/>\n",
       "<text text-anchor=\"middle\" x=\"150.769\" y=\"-13.8\" font-family=\"Times,serif\" font-size=\"14.00\">(...)</text>\n",
       "</g>\n",
       "<!-- 3&#45;&gt;855 -->\n",
       "<g id=\"edge5\" class=\"edge\"><title>3&#45;&gt;855</title>\n",
       "<path fill=\"none\" stroke=\"black\" d=\"M115.621,-71.7215C121.529,-62.8589 127.893,-53.3137 133.56,-44.813\"/>\n",
       "<polygon fill=\"black\" stroke=\"black\" points=\"136.53,-46.6668 139.165,-36.4049 130.706,-42.7839 136.53,-46.6668\"/>\n",
       "</g>\n",
       "<!-- 931 -->\n",
       "<g id=\"node8\" class=\"node\"><title>931</title>\n",
       "<polygon fill=\"none\" stroke=\"black\" points=\"269.769,-36 215.769,-36 215.769,-0 269.769,-0 269.769,-36\"/>\n",
       "<text text-anchor=\"middle\" x=\"242.769\" y=\"-13.8\" font-family=\"Times,serif\" font-size=\"14.00\">(...)</text>\n",
       "</g>\n",
       "<!-- 930&#45;&gt;931 -->\n",
       "<g id=\"edge7\" class=\"edge\"><title>930&#45;&gt;931</title>\n",
       "<path fill=\"none\" stroke=\"black\" d=\"M277.916,-71.7215C272.008,-62.8589 265.644,-53.3137 259.977,-44.813\"/>\n",
       "<polygon fill=\"black\" stroke=\"black\" points=\"262.831,-42.7839 254.372,-36.4049 257.007,-46.6668 262.831,-42.7839\"/>\n",
       "</g>\n",
       "<!-- 1166 -->\n",
       "<g id=\"node9\" class=\"node\"><title>1166</title>\n",
       "<polygon fill=\"none\" stroke=\"black\" points=\"341.769,-36 287.769,-36 287.769,-0 341.769,-0 341.769,-36\"/>\n",
       "<text text-anchor=\"middle\" x=\"314.769\" y=\"-13.8\" font-family=\"Times,serif\" font-size=\"14.00\">(...)</text>\n",
       "</g>\n",
       "<!-- 930&#45;&gt;1166 -->\n",
       "<g id=\"edge8\" class=\"edge\"><title>930&#45;&gt;1166</title>\n",
       "<path fill=\"none\" stroke=\"black\" d=\"M304.726,-71.7215C306.308,-63.4186 308.003,-54.5167 309.543,-46.4357\"/>\n",
       "<polygon fill=\"black\" stroke=\"black\" points=\"313.02,-46.8832 311.453,-36.4049 306.144,-45.5733 313.02,-46.8832\"/>\n",
       "</g>\n",
       "<!-- 1168 -->\n",
       "<g id=\"node11\" class=\"node\"><title>1168</title>\n",
       "<polygon fill=\"none\" stroke=\"black\" points=\"583.306,-136 408.231,-136 408.231,-72 583.306,-72 583.306,-136\"/>\n",
       "<text text-anchor=\"middle\" x=\"495.769\" y=\"-120.8\" font-family=\"Times,serif\" font-size=\"14.00\">worst &lt;= 0.026</text>\n",
       "<text text-anchor=\"middle\" x=\"495.769\" y=\"-106.8\" font-family=\"Times,serif\" font-size=\"14.00\">gini = 0.43</text>\n",
       "<text text-anchor=\"middle\" x=\"495.769\" y=\"-92.8\" font-family=\"Times,serif\" font-size=\"14.00\">samples = 3760</text>\n",
       "<text text-anchor=\"middle\" x=\"495.769\" y=\"-78.8\" font-family=\"Times,serif\" font-size=\"14.00\">value = [915.059, 2015.262]</text>\n",
       "</g>\n",
       "<!-- 1167&#45;&gt;1168 -->\n",
       "<g id=\"edge10\" class=\"edge\"><title>1167&#45;&gt;1168</title>\n",
       "<path fill=\"none\" stroke=\"black\" d=\"M562.077,-171.992C553.054,-162.876 543.077,-152.796 533.66,-143.282\"/>\n",
       "<polygon fill=\"black\" stroke=\"black\" points=\"536.116,-140.788 526.593,-136.142 531.14,-145.712 536.116,-140.788\"/>\n",
       "</g>\n",
       "<!-- 1269 -->\n",
       "<g id=\"node14\" class=\"node\"><title>1269</title>\n",
       "<polygon fill=\"none\" stroke=\"black\" points=\"777.306,-136 602.231,-136 602.231,-72 777.306,-72 777.306,-136\"/>\n",
       "<text text-anchor=\"middle\" x=\"689.769\" y=\"-120.8\" font-family=\"Times,serif\" font-size=\"14.00\">earth best &lt;= 0.111</text>\n",
       "<text text-anchor=\"middle\" x=\"689.769\" y=\"-106.8\" font-family=\"Times,serif\" font-size=\"14.00\">gini = 0.227</text>\n",
       "<text text-anchor=\"middle\" x=\"689.769\" y=\"-92.8\" font-family=\"Times,serif\" font-size=\"14.00\">samples = 3727</text>\n",
       "<text text-anchor=\"middle\" x=\"689.769\" y=\"-78.8\" font-family=\"Times,serif\" font-size=\"14.00\">value = [313.154, 2080.822]</text>\n",
       "</g>\n",
       "<!-- 1167&#45;&gt;1269 -->\n",
       "<g id=\"edge13\" class=\"edge\"><title>1167&#45;&gt;1269</title>\n",
       "<path fill=\"none\" stroke=\"black\" d=\"M623.46,-171.992C632.483,-162.876 642.461,-152.796 651.877,-143.282\"/>\n",
       "<polygon fill=\"black\" stroke=\"black\" points=\"654.397,-145.712 658.944,-136.142 649.422,-140.788 654.397,-145.712\"/>\n",
       "</g>\n",
       "<!-- 1169 -->\n",
       "<g id=\"node12\" class=\"node\"><title>1169</title>\n",
       "<polygon fill=\"none\" stroke=\"black\" points=\"475.769,-36 421.769,-36 421.769,-0 475.769,-0 475.769,-36\"/>\n",
       "<text text-anchor=\"middle\" x=\"448.769\" y=\"-13.8\" font-family=\"Times,serif\" font-size=\"14.00\">(...)</text>\n",
       "</g>\n",
       "<!-- 1168&#45;&gt;1169 -->\n",
       "<g id=\"edge11\" class=\"edge\"><title>1168&#45;&gt;1169</title>\n",
       "<path fill=\"none\" stroke=\"black\" d=\"M478.267,-71.7215C473.413,-63.0455 468.193,-53.7153 463.513,-45.3513\"/>\n",
       "<polygon fill=\"black\" stroke=\"black\" points=\"466.444,-43.4227 458.507,-36.4049 460.336,-46.8407 466.444,-43.4227\"/>\n",
       "</g>\n",
       "<!-- 1268 -->\n",
       "<g id=\"node13\" class=\"node\"><title>1268</title>\n",
       "<polygon fill=\"none\" stroke=\"black\" points=\"547.769,-36 493.769,-36 493.769,-0 547.769,-0 547.769,-36\"/>\n",
       "<text text-anchor=\"middle\" x=\"520.769\" y=\"-13.8\" font-family=\"Times,serif\" font-size=\"14.00\">(...)</text>\n",
       "</g>\n",
       "<!-- 1168&#45;&gt;1268 -->\n",
       "<g id=\"edge12\" class=\"edge\"><title>1168&#45;&gt;1268</title>\n",
       "<path fill=\"none\" stroke=\"black\" d=\"M505.078,-71.7215C507.576,-63.3253 510.258,-54.3166 512.684,-46.1636\"/>\n",
       "<polygon fill=\"black\" stroke=\"black\" points=\"516.091,-46.9878 515.589,-36.4049 509.381,-44.991 516.091,-46.9878\"/>\n",
       "</g>\n",
       "<!-- 1270 -->\n",
       "<g id=\"node15\" class=\"node\"><title>1270</title>\n",
       "<polygon fill=\"none\" stroke=\"black\" points=\"680.769,-36 626.769,-36 626.769,-0 680.769,-0 680.769,-36\"/>\n",
       "<text text-anchor=\"middle\" x=\"653.769\" y=\"-13.8\" font-family=\"Times,serif\" font-size=\"14.00\">(...)</text>\n",
       "</g>\n",
       "<!-- 1269&#45;&gt;1270 -->\n",
       "<g id=\"edge14\" class=\"edge\"><title>1269&#45;&gt;1270</title>\n",
       "<path fill=\"none\" stroke=\"black\" d=\"M676.363,-71.7215C672.685,-63.1388 668.732,-53.9159 665.178,-45.6214\"/>\n",
       "<polygon fill=\"black\" stroke=\"black\" points=\"668.384,-44.2176 661.228,-36.4049 661.95,-46.9751 668.384,-44.2176\"/>\n",
       "</g>\n",
       "<!-- 1349 -->\n",
       "<g id=\"node16\" class=\"node\"><title>1349</title>\n",
       "<polygon fill=\"none\" stroke=\"black\" points=\"752.769,-36 698.769,-36 698.769,-0 752.769,-0 752.769,-36\"/>\n",
       "<text text-anchor=\"middle\" x=\"725.769\" y=\"-13.8\" font-family=\"Times,serif\" font-size=\"14.00\">(...)</text>\n",
       "</g>\n",
       "<!-- 1269&#45;&gt;1349 -->\n",
       "<g id=\"edge15\" class=\"edge\"><title>1269&#45;&gt;1349</title>\n",
       "<path fill=\"none\" stroke=\"black\" d=\"M703.174,-71.7215C706.852,-63.1388 710.805,-53.9159 714.359,-45.6214\"/>\n",
       "<polygon fill=\"black\" stroke=\"black\" points=\"717.587,-46.9751 718.309,-36.4049 711.153,-44.2176 717.587,-46.9751\"/>\n",
       "</g>\n",
       "<!-- 1351 -->\n",
       "<g id=\"node18\" class=\"node\"><title>1351</title>\n",
       "<polygon fill=\"none\" stroke=\"black\" points=\"974.306,-236 799.231,-236 799.231,-172 974.306,-172 974.306,-236\"/>\n",
       "<text text-anchor=\"middle\" x=\"886.769\" y=\"-220.8\" font-family=\"Times,serif\" font-size=\"14.00\">thought &lt;= 0.026</text>\n",
       "<text text-anchor=\"middle\" x=\"886.769\" y=\"-206.8\" font-family=\"Times,serif\" font-size=\"14.00\">gini = 0.334</text>\n",
       "<text text-anchor=\"middle\" x=\"886.769\" y=\"-192.8\" font-family=\"Times,serif\" font-size=\"14.00\">samples = 16107</text>\n",
       "<text text-anchor=\"middle\" x=\"886.769\" y=\"-178.8\" font-family=\"Times,serif\" font-size=\"14.00\">value = [2375.087, 8849.48]</text>\n",
       "</g>\n",
       "<!-- 1350&#45;&gt;1351 -->\n",
       "<g id=\"edge17\" class=\"edge\"><title>1350&#45;&gt;1351</title>\n",
       "<path fill=\"none\" stroke=\"black\" d=\"M886.769,-271.992C886.769,-263.859 886.769,-254.959 886.769,-246.378\"/>\n",
       "<polygon fill=\"black\" stroke=\"black\" points=\"890.269,-246.142 886.769,-236.142 883.269,-246.142 890.269,-246.142\"/>\n",
       "</g>\n",
       "<!-- 1538 -->\n",
       "<g id=\"node23\" class=\"node\"><title>1538</title>\n",
       "<polygon fill=\"none\" stroke=\"black\" points=\"1160.79,-229 992.744,-229 992.744,-179 1160.79,-179 1160.79,-229\"/>\n",
       "<text text-anchor=\"middle\" x=\"1076.77\" y=\"-213.8\" font-family=\"Times,serif\" font-size=\"14.00\">gini = 0.4</text>\n",
       "<text text-anchor=\"middle\" x=\"1076.77\" y=\"-199.8\" font-family=\"Times,serif\" font-size=\"14.00\">samples = 272</text>\n",
       "<text text-anchor=\"middle\" x=\"1076.77\" y=\"-185.8\" font-family=\"Times,serif\" font-size=\"14.00\">value = [296.886, 113.448]</text>\n",
       "</g>\n",
       "<!-- 1350&#45;&gt;1538 -->\n",
       "<g id=\"edge22\" class=\"edge\"><title>1350&#45;&gt;1538</title>\n",
       "<path fill=\"none\" stroke=\"black\" d=\"M946.886,-271.992C970.592,-259.765 997.665,-245.801 1020.94,-233.798\"/>\n",
       "<polygon fill=\"black\" stroke=\"black\" points=\"1022.7,-236.825 1029.99,-229.13 1019.49,-230.604 1022.7,-236.825\"/>\n",
       "</g>\n",
       "<!-- 1352 -->\n",
       "<g id=\"node19\" class=\"node\"><title>1352</title>\n",
       "<polygon fill=\"none\" stroke=\"black\" points=\"977.806,-136 795.731,-136 795.731,-72 977.806,-72 977.806,-136\"/>\n",
       "<text text-anchor=\"middle\" x=\"886.769\" y=\"-120.8\" font-family=\"Times,serif\" font-size=\"14.00\">terribl &lt;= 0.058</text>\n",
       "<text text-anchor=\"middle\" x=\"886.769\" y=\"-106.8\" font-family=\"Times,serif\" font-size=\"14.00\">gini = 0.313</text>\n",
       "<text text-anchor=\"middle\" x=\"886.769\" y=\"-92.8\" font-family=\"Times,serif\" font-size=\"14.00\">samples = 15658</text>\n",
       "<text text-anchor=\"middle\" x=\"886.769\" y=\"-78.8\" font-family=\"Times,serif\" font-size=\"14.00\">value = [2078.201, 8635.127]</text>\n",
       "</g>\n",
       "<!-- 1351&#45;&gt;1352 -->\n",
       "<g id=\"edge18\" class=\"edge\"><title>1351&#45;&gt;1352</title>\n",
       "<path fill=\"none\" stroke=\"black\" d=\"M886.769,-171.992C886.769,-163.859 886.769,-154.959 886.769,-146.378\"/>\n",
       "<polygon fill=\"black\" stroke=\"black\" points=\"890.269,-146.142 886.769,-136.142 883.269,-146.142 890.269,-146.142\"/>\n",
       "</g>\n",
       "<!-- 1537 -->\n",
       "<g id=\"node22\" class=\"node\"><title>1537</title>\n",
       "<polygon fill=\"none\" stroke=\"black\" points=\"1164.81,-129 996.731,-129 996.731,-79 1164.81,-79 1164.81,-129\"/>\n",
       "<text text-anchor=\"middle\" x=\"1080.77\" y=\"-113.8\" font-family=\"Times,serif\" font-size=\"14.00\">gini = 0.487</text>\n",
       "<text text-anchor=\"middle\" x=\"1080.77\" y=\"-99.8\" font-family=\"Times,serif\" font-size=\"14.00\">samples = 449</text>\n",
       "<text text-anchor=\"middle\" x=\"1080.77\" y=\"-85.8\" font-family=\"Times,serif\" font-size=\"14.00\">value = [296.886, 214.353]</text>\n",
       "</g>\n",
       "<!-- 1351&#45;&gt;1537 -->\n",
       "<g id=\"edge21\" class=\"edge\"><title>1351&#45;&gt;1537</title>\n",
       "<path fill=\"none\" stroke=\"black\" d=\"M948.151,-171.992C972.357,-159.765 999.999,-145.801 1023.76,-133.798\"/>\n",
       "<polygon fill=\"black\" stroke=\"black\" points=\"1025.65,-136.763 1033,-129.13 1022.5,-130.515 1025.65,-136.763\"/>\n",
       "</g>\n",
       "<!-- 1353 -->\n",
       "<g id=\"node20\" class=\"node\"><title>1353</title>\n",
       "<polygon fill=\"none\" stroke=\"black\" points=\"877.769,-36 823.769,-36 823.769,-0 877.769,-0 877.769,-36\"/>\n",
       "<text text-anchor=\"middle\" x=\"850.769\" y=\"-13.8\" font-family=\"Times,serif\" font-size=\"14.00\">(...)</text>\n",
       "</g>\n",
       "<!-- 1352&#45;&gt;1353 -->\n",
       "<g id=\"edge19\" class=\"edge\"><title>1352&#45;&gt;1353</title>\n",
       "<path fill=\"none\" stroke=\"black\" d=\"M873.363,-71.7215C869.685,-63.1388 865.732,-53.9159 862.178,-45.6214\"/>\n",
       "<polygon fill=\"black\" stroke=\"black\" points=\"865.384,-44.2176 858.228,-36.4049 858.95,-46.9751 865.384,-44.2176\"/>\n",
       "</g>\n",
       "<!-- 1536 -->\n",
       "<g id=\"node21\" class=\"node\"><title>1536</title>\n",
       "<polygon fill=\"none\" stroke=\"black\" points=\"949.769,-36 895.769,-36 895.769,-0 949.769,-0 949.769,-36\"/>\n",
       "<text text-anchor=\"middle\" x=\"922.769\" y=\"-13.8\" font-family=\"Times,serif\" font-size=\"14.00\">(...)</text>\n",
       "</g>\n",
       "<!-- 1352&#45;&gt;1536 -->\n",
       "<g id=\"edge20\" class=\"edge\"><title>1352&#45;&gt;1536</title>\n",
       "<path fill=\"none\" stroke=\"black\" d=\"M900.174,-71.7215C903.852,-63.1388 907.805,-53.9159 911.359,-45.6214\"/>\n",
       "<polygon fill=\"black\" stroke=\"black\" points=\"914.587,-46.9751 915.309,-36.4049 908.153,-44.2176 914.587,-46.9751\"/>\n",
       "</g>\n",
       "</g>\n",
       "</svg>\n"
      ],
      "text/plain": [
       "<graphviz.files.Source at 0x1a2c700908>"
      ]
     },
     "execution_count": 50,
     "metadata": {},
     "output_type": "execute_result"
    }
   ],
   "source": [
    "import graphviz \n",
    "from sklearn import tree\n",
    "dot_data = tree.export_graphviz(model , out_file=None , feature_names=tf_idf_vect.get_feature_names() ,  max_depth=3) \n",
    "graph = graphviz.Source(dot_data)\n",
    "graph"
   ]
  },
  {
   "cell_type": "markdown",
   "metadata": {
    "colab_type": "text",
    "id": "NVhl_V6MiWO5"
   },
   "source": [
    "## [5.3] Applying Decision Trees on AVG W2V,<font color='red'> SET 3</font>"
   ]
  },
  {
   "cell_type": "code",
   "execution_count": 55,
   "metadata": {
    "colab": {},
    "colab_type": "code",
    "id": "uYDXnzMmiWO5"
   },
   "outputs": [],
   "source": [
    "i=0\n",
    "list_of_sent =[]\n",
    "for sent in reviews_100k['CleanedText'].values:\n",
    "    list_of_sent.append(sent.split())"
   ]
  },
  {
   "cell_type": "code",
   "execution_count": 56,
   "metadata": {},
   "outputs": [],
   "source": [
    "w2v_model=Word2Vec(list_of_sent,min_count=5,size=300, workers=4)"
   ]
  },
  {
   "cell_type": "code",
   "execution_count": 57,
   "metadata": {},
   "outputs": [
    {
     "name": "stdout",
     "output_type": "stream",
     "text": [
      "number of words that occured minimum 5 times  12508\n",
      "sample words  ['witti', 'littl', 'book', 'make', 'son', 'laugh', 'loud', 'car', 'drive', 'along', 'alway', 'sing', 'refrain', 'hes', 'learn', 'whale', 'india', 'droop', 'love', 'new', 'word', 'introduc', 'silli', 'classic', 'will', 'bet', 'still', 'abl', 'memori', 'colleg', 'rememb', 'see', 'show', 'air', 'televis', 'year', 'ago', 'child', 'sister', 'later', 'bought', 'day', 'thirti', 'someth', 'use', 'seri', 'song', 'student', 'teach', 'preschool']\n"
     ]
    }
   ],
   "source": [
    "w2v_words = list(w2v_model.wv.vocab)\n",
    "print(\"number of words that occured minimum 5 times \",len(w2v_words))\n",
    "print(\"sample words \", w2v_words[0:50])"
   ]
  },
  {
   "cell_type": "code",
   "execution_count": 63,
   "metadata": {},
   "outputs": [
    {
     "name": "stderr",
     "output_type": "stream",
     "text": [
      "100%|██████████| 100000/100000 [00:17<00:00, 5871.19it/s]\n"
     ]
    }
   ],
   "source": [
    "sent_vectors = [] #List to store all the avg w2vec's \n",
    "\n",
    "for sent in tqdm(reviews_100k['CleanedText']):\n",
    "    cnt = 0 #to count no of words in each reviews\n",
    "    sent_vec = np.zeros(300) #Initializing with zeroes\n",
    "#     print(\"sent:\",sent) \n",
    "#     sent = sent.decode(\"utf-8\") \n",
    "    for word in sent.split():\n",
    "        try:\n",
    "#             print(word)\n",
    "            wvec = w2v_model.wv[word] #Vector of each using w2v model\n",
    "#             print(\"wvec:\",wvec)\n",
    "            sent_vec += wvec #Adding the vectors\n",
    "#             print(\"sent_vec:\",sent_vec)\n",
    "            cnt += 1\n",
    "        except: \n",
    "            pass #When the word is not in the dictionary then do nothing  \n",
    "#     print(sent_vec)\n",
    "    sent_vec /= cnt \n",
    "    sent_vectors.append(sent_vec) \n",
    "sent_vectors = np.array(sent_vectors)\n",
    "savefile(sent_vectors , 'AvgW2V_Decision_Tree_2')"
   ]
  },
  {
   "cell_type": "code",
   "execution_count": 64,
   "metadata": {},
   "outputs": [
    {
     "name": "stdout",
     "output_type": "stream",
     "text": [
      "(100000,)\n",
      "(100000, 300)\n"
     ]
    }
   ],
   "source": [
    "sent_vectors = openfile('AvgW2V_Decision_Tree_2')\n",
    "# print (sent_vectors[0])\n",
    "sent_vectors = np.array(sent_vectors)\n",
    "print (reviews_100k_score.shape)\n",
    "print (sent_vectors.shape)"
   ]
  },
  {
   "cell_type": "code",
   "execution_count": 65,
   "metadata": {},
   "outputs": [
    {
     "name": "stdout",
     "output_type": "stream",
     "text": [
      "(70000, 12)\n",
      "(70000,)\n",
      "(30000, 12)\n",
      "(30000,)\n"
     ]
    }
   ],
   "source": [
    "from sklearn import model_selection\n",
    "from sklearn.preprocessing import StandardScaler\n",
    "# reviews_std_w2v = StandardScaler(with_mean = False).fit_transform(sent_vectors)\n",
    "    \n",
    "reviews_train_w2v, reviews_test_w2v, reviews_score_train_w2v , reviews_score_test_w2v = model_selection.train_test_split(sent_vectors, reviews_100k_score, test_size=0.3, random_state=0)\n",
    "print (reviews_train.shape)\n",
    "print (reviews_score_train.shape)\n",
    "print (reviews_test.shape)\n",
    "print (reviews_score_test.shape)\n"
   ]
  },
  {
   "cell_type": "code",
   "execution_count": 67,
   "metadata": {},
   "outputs": [
    {
     "name": "stdout",
     "output_type": "stream",
     "text": [
      "Fitting 5 folds for each of 28 candidates, totalling 140 fits\n"
     ]
    },
    {
     "name": "stderr",
     "output_type": "stream",
     "text": [
      "[Parallel(n_jobs=-1)]: Using backend LokyBackend with 4 concurrent workers.\n",
      "[Parallel(n_jobs=-1)]: Done  42 tasks      | elapsed:  2.3min\n",
      "[Parallel(n_jobs=-1)]: Done 140 out of 140 | elapsed: 16.2min finished\n"
     ]
    },
    {
     "name": "stdout",
     "output_type": "stream",
     "text": [
      "DecisionTreeClassifier(class_weight='balanced', criterion='gini',\n",
      "            max_depth=10, max_features=None, max_leaf_nodes=None,\n",
      "            min_impurity_decrease=0.0, min_impurity_split=None,\n",
      "            min_samples_leaf=1, min_samples_split=500,\n",
      "            min_weight_fraction_leaf=0.0, presort=False, random_state=None,\n",
      "            splitter='best')\n",
      "0.8794749687353297\n"
     ]
    }
   ],
   "source": [
    "from sklearn.tree import DecisionTreeClassifier\n",
    "from sklearn.metrics import accuracy_score\n",
    "from sklearn.model_selection import GridSearchCV \n",
    "from sklearn.model_selection import cross_val_score\n",
    "    \n",
    "    \n",
    "clf = DecisionTreeClassifier(  class_weight = 'balanced' )\n",
    "param_grid = {'max_depth': [1, 5, 10, 50, 100, 500, 1000], 'min_samples_split' : [5, 10, 100, 500] }\n",
    "#Using GridSearchCV\n",
    "model = GridSearchCV(clf, param_grid, scoring = 'roc_auc', cv=5 , verbose=1 ,n_jobs=-1)\n",
    "model.fit(reviews_train_w2v, reviews_score_train_w2v)\n",
    "savefile(model,\"GridSearch_Avg_W2V_Decision_Tree\")\n",
    "print(model.best_estimator_)\n",
    "print(model.score(reviews_train_w2v, reviews_score_train_w2v))    \n",
    "# weight = model.coef_\n",
    "    \n",
    " "
   ]
  },
  {
   "cell_type": "code",
   "execution_count": 121,
   "metadata": {},
   "outputs": [
    {
     "name": "stdout",
     "output_type": "stream",
     "text": [
      "{'max_depth': 10, 'min_samples_split': 500}\n"
     ]
    },
    {
     "data": {
      "text/plain": [
       "<matplotlib.axes._subplots.AxesSubplot at 0x1a42e117f0>"
      ]
     },
     "execution_count": 121,
     "metadata": {},
     "output_type": "execute_result"
    },
    {
     "data": {
      "image/png": "[encoded data removed]",
      "text/plain": [
       "<Figure size 432x288 with 2 Axes>"
      ]
     },
     "metadata": {
      "needs_background": "light"
     },
     "output_type": "display_data"
    }
   ],
   "source": [
    "gsv = openfile('GridSearch_Avg_W2V_Decision_Tree')\n",
    "print (gsv.best_params_)\n",
    "pvt = pd.pivot_table(pd.DataFrame(gsv.cv_results_),values='mean_test_score', index='param_max_depth', columns='param_min_samples_split')\n",
    "sns.heatmap(pvt)"
   ]
  },
  {
   "cell_type": "code",
   "execution_count": 23,
   "metadata": {},
   "outputs": [
    {
     "data": {
      "image/png": "[encoded data removed]",
      "text/plain": [
       "<Figure size 432x288 with 1 Axes>"
      ]
     },
     "metadata": {
      "needs_background": "light"
     },
     "output_type": "display_data"
    }
   ],
   "source": [
    "gsv = openfile('GridSearch_Avg_W2V_Decision_Tree')\n",
    "\n",
    "x1=[]\n",
    "y1=[]\n",
    "x2=[]\n",
    "y2=[]\n",
    "gsv.cv_results_\n",
    "means = gsv.cv_results_['mean_test_score']\n",
    "means_train = gsv.cv_results_['mean_train_score']\n",
    "stds = gsv.cv_results_['std_test_score']\n",
    "for mean, mean_train ,  std, params in zip(means, means_train,stds, gsv.cv_results_['params']):\n",
    "\n",
    "    if params['min_samples_split'] == 500:\n",
    "        x1.append(params['max_depth'])\n",
    "        y1.append(mean)\n",
    "        x2.append(params['max_depth'])\n",
    "        y2.append(mean_train)\n",
    "\n",
    "        \n",
    "\n",
    "plt.xlabel(\"Max Depth\",fontsize=15)\n",
    "plt.ylabel(\"AUC\")\n",
    "plt.title('AUC v/s Max Depth')\n",
    "\n",
    "plt.plot(x1,y1,'b',label=\"Test\")\n",
    "plt.plot(x2,y2,'r',label=\"Train\")\n",
    "plt.legend()\n",
    "plt.show()"
   ]
  },
  {
   "cell_type": "code",
   "execution_count": 122,
   "metadata": {},
   "outputs": [
    {
     "name": "stdout",
     "output_type": "stream",
     "text": [
      "\n",
      "The accuracy of the Decision Tree for max_depth = 10.000000 is 77.102857%\n"
     ]
    }
   ],
   "source": [
    "from sklearn.tree import DecisionTreeClassifier\n",
    "from sklearn.metrics import accuracy_score\n",
    "\n",
    "gsv = openfile('GridSearch_Avg_W2V_Decision_Tree')\n",
    "max_depth_best = gsv.best_params_['max_depth']\n",
    "min_samples_split_best = gsv.best_params_['min_samples_split']\n",
    "model = DecisionTreeClassifier(class_weight = 'balanced' , max_depth=max_depth_best , min_samples_split=min_samples_split_best)\n",
    "\n",
    "# fitting the model\n",
    "model.fit(reviews_train_w2v , reviews_score_train_w2v)\n",
    "\n",
    "# predict the response\n",
    "pred = model.predict(reviews_train_w2v)\n",
    "savefile(model,'AVG_W2V_Decision_Tree_Model_Train')\n",
    "# evaluate accuracy\n",
    "acc = accuracy_score(reviews_score_train_w2v, pred) * 100\n",
    "print('\\nThe accuracy of the Decision Tree for max_depth = %f is %f%%' % (max_depth_best, acc))"
   ]
  },
  {
   "cell_type": "code",
   "execution_count": 123,
   "metadata": {},
   "outputs": [
    {
     "name": "stdout",
     "output_type": "stream",
     "text": [
      "AUC: 0.806\n"
     ]
    },
    {
     "data": {
      "image/png": "[encoded data removed]",
      "text/plain": [
       "<Figure size 432x288 with 1 Axes>"
      ]
     },
     "metadata": {
      "needs_background": "light"
     },
     "output_type": "display_data"
    }
   ],
   "source": [
    "from sklearn import metrics\n",
    "from sklearn.metrics import roc_auc_score\n",
    "from sklearn.metrics import roc_curve\n",
    "from matplotlib import pyplot\n",
    "model = openfile('AVG_W2V_Decision_Tree_Model_Test')\n",
    "#Getting AUC value from calibrated model . \n",
    "probs = model.predict_proba(reviews_train_w2v)\n",
    "probs = probs[:, 1]\n",
    "auc = roc_auc_score(reviews_score_train_w2v, probs)\n",
    "print('AUC: %.3f' % auc)\n",
    "# calculate roc curve\n",
    "fpr, tpr, thresholds = roc_curve(reviews_score_train_w2v, probs)\n",
    "# plot no skill\n",
    "pyplot.plot([0, 1], [0, 1], linestyle='--')\n",
    "# plot the roc curve for the model\n",
    "pyplot.plot(fpr, tpr, marker='.')\n",
    "# show the plot\n",
    "pyplot.show()"
   ]
  },
  {
   "cell_type": "code",
   "execution_count": 124,
   "metadata": {},
   "outputs": [
    {
     "name": "stdout",
     "output_type": "stream",
     "text": [
      "[[ 7145  1461]\n",
      " [14567 46827]]\n"
     ]
    },
    {
     "data": {
      "image/png": "[encoded data removed]",
      "text/plain": [
       "<Figure size 432x288 with 2 Axes>"
      ]
     },
     "metadata": {
      "needs_background": "light"
     },
     "output_type": "display_data"
    }
   ],
   "source": [
    "from sklearn.metrics import confusion_matrix\n",
    "conf_matrix = confusion_matrix(reviews_score_train_w2v, pred)\n",
    "print (conf_matrix)\n",
    "class_label = [\"negative\", \"positive\"]\n",
    "df_cm = pd.DataFrame(conf_matrix, index = class_label, columns = class_label)\n",
    "sns.heatmap(df_cm, annot = True, fmt = \"d\")\n",
    "plt.title(\"Confusiion Matrix\")\n",
    "plt.xlabel(\"Predicted Label\")\n",
    "plt.ylabel(\"True Label\")\n",
    "plt.show()"
   ]
  },
  {
   "cell_type": "code",
   "execution_count": 125,
   "metadata": {},
   "outputs": [
    {
     "name": "stdout",
     "output_type": "stream",
     "text": [
      "              precision    recall  f1-score   support\n",
      "\n",
      "           0       0.33      0.83      0.47      8606\n",
      "           1       0.97      0.76      0.85     61394\n",
      "\n",
      "   micro avg       0.77      0.77      0.77     70000\n",
      "   macro avg       0.65      0.80      0.66     70000\n",
      "weighted avg       0.89      0.77      0.81     70000\n",
      "\n"
     ]
    }
   ],
   "source": [
    "from sklearn.metrics import classification_report\n",
    "print (classification_report(reviews_score_train_w2v, pred))"
   ]
  },
  {
   "cell_type": "code",
   "execution_count": 126,
   "metadata": {},
   "outputs": [
    {
     "name": "stdout",
     "output_type": "stream",
     "text": [
      "\n",
      "The accuracy of the Decision Tree for max_depth = 10.000000 is 75.696667%\n"
     ]
    }
   ],
   "source": [
    "from sklearn.tree import DecisionTreeClassifier\n",
    "from sklearn.metrics import accuracy_score\n",
    "\n",
    "gsv = openfile('GridSearch_Avg_W2V_Decision_Tree')\n",
    "max_depth_best = gsv.best_params_['max_depth']\n",
    "min_samples_split_best = gsv.best_params_['min_samples_split']\n",
    "model = DecisionTreeClassifier(class_weight = 'balanced' , max_depth=max_depth_best , min_samples_split=min_samples_split_best)\n",
    "\n",
    "# fitting the model\n",
    "model.fit(reviews_test_w2v , reviews_score_test_w2v)\n",
    "\n",
    "# predict the response\n",
    "pred = model.predict(reviews_test_w2v)\n",
    "savefile(model,'AVG_W2V_Decision_Tree_Model_Test')\n",
    "# evaluate accuracy\n",
    "acc = accuracy_score(reviews_score_test_w2v, pred) * 100\n",
    "print('\\nThe accuracy of the Decision Tree for max_depth = %f is %f%%' % (max_depth_best, acc))"
   ]
  },
  {
   "cell_type": "code",
   "execution_count": 127,
   "metadata": {},
   "outputs": [
    {
     "name": "stdout",
     "output_type": "stream",
     "text": [
      "AUC: 0.874\n"
     ]
    },
    {
     "data": {
      "image/png": "[encoded data removed]",
      "text/plain": [
       "<Figure size 432x288 with 1 Axes>"
      ]
     },
     "metadata": {
      "needs_background": "light"
     },
     "output_type": "display_data"
    }
   ],
   "source": [
    "from sklearn import metrics\n",
    "from sklearn.metrics import roc_auc_score\n",
    "from sklearn.metrics import roc_curve\n",
    "from matplotlib import pyplot\n",
    "model = openfile('AVG_W2V_Decision_Tree_Model_Test')\n",
    "#Getting AUC value from calibrated model . \n",
    "probs = model.predict_proba(reviews_test_w2v)\n",
    "probs = probs[:, 1]\n",
    "auc = roc_auc_score(reviews_score_test_w2v, probs)\n",
    "print('AUC: %.3f' % auc)\n",
    "# calculate roc curve\n",
    "fpr, tpr, thresholds = roc_curve(reviews_score_test_w2v, probs)\n",
    "# plot no skill\n",
    "pyplot.plot([0, 1], [0, 1], linestyle='--')\n",
    "# plot the roc curve for the model\n",
    "pyplot.plot(fpr, tpr, marker='.')\n",
    "# show the plot\n",
    "pyplot.show()"
   ]
  },
  {
   "cell_type": "code",
   "execution_count": 128,
   "metadata": {},
   "outputs": [
    {
     "name": "stdout",
     "output_type": "stream",
     "text": [
      "[[ 3049   616]\n",
      " [ 6675 19660]]\n"
     ]
    },
    {
     "data": {
      "image/png": "[encoded data removed]",
      "text/plain": [
       "<Figure size 432x288 with 2 Axes>"
      ]
     },
     "metadata": {
      "needs_background": "light"
     },
     "output_type": "display_data"
    }
   ],
   "source": [
    "from sklearn.metrics import confusion_matrix\n",
    "conf_matrix = confusion_matrix(reviews_score_test_w2v, pred)\n",
    "print (conf_matrix)\n",
    "class_label = [\"negative\", \"positive\"]\n",
    "df_cm = pd.DataFrame(conf_matrix, index = class_label, columns = class_label)\n",
    "sns.heatmap(df_cm, annot = True, fmt = \"d\")\n",
    "plt.title(\"Confusiion Matrix\")\n",
    "plt.xlabel(\"Predicted Label\")\n",
    "plt.ylabel(\"True Label\")\n",
    "plt.show()"
   ]
  },
  {
   "cell_type": "code",
   "execution_count": 130,
   "metadata": {},
   "outputs": [
    {
     "name": "stdout",
     "output_type": "stream",
     "text": [
      "              precision    recall  f1-score   support\n",
      "\n",
      "           0       0.31      0.83      0.46      3665\n",
      "           1       0.97      0.75      0.84     26335\n",
      "\n",
      "   micro avg       0.76      0.76      0.76     30000\n",
      "   macro avg       0.64      0.79      0.65     30000\n",
      "weighted avg       0.89      0.76      0.80     30000\n",
      "\n"
     ]
    }
   ],
   "source": [
    "from sklearn.metrics import classification_report\n",
    "print (classification_report(reviews_score_test_w2v, pred))"
   ]
  },
  {
   "cell_type": "markdown",
   "metadata": {
    "colab_type": "text",
    "id": "PnwVzXytiWO7"
   },
   "source": [
    "## [5.4] Applying Decision Trees on TFIDF W2V,<font color='red'> SET 4</font>"
   ]
  },
  {
   "cell_type": "code",
   "execution_count": 74,
   "metadata": {
    "colab": {},
    "colab_type": "code",
    "id": "YqODkVCgiWO7"
   },
   "outputs": [],
   "source": [
    "# S = [\"abc def pqr\", \"def def def abc\", \"pqr pqr def\"]\n",
    "model = TfidfVectorizer()\n",
    "tf_idf_matrix = model.fit_transform(reviews_train['CleanedText'].values)\n",
    "# print (reviews_train.shape)\n",
    "# we are converting a dictionary with word as a key, and the idf as a value\n",
    "dictionary = dict(zip(model.get_feature_names(), list(model.idf_)))\n",
    "# print (dictionary)"
   ]
  },
  {
   "cell_type": "code",
   "execution_count": 75,
   "metadata": {},
   "outputs": [
    {
     "name": "stderr",
     "output_type": "stream",
     "text": [
      "100%|██████████| 70000/70000 [01:48<00:00, 644.66it/s]"
     ]
    },
    {
     "name": "stdout",
     "output_type": "stream",
     "text": [
      "<class 'list'>\n"
     ]
    },
    {
     "name": "stderr",
     "output_type": "stream",
     "text": [
      "\n"
     ]
    }
   ],
   "source": [
    "# TF-IDF weighted Word2Vec\n",
    "tfidf_feat = model.get_feature_names() # tfidf words/col-names\n",
    "# final_tf_idf is the sparse matrix with row= sentence, col=word and cell_val = tfidf\n",
    "\n",
    "tfidf_sent_vectors = []; # the tfidf-w2v for each sentence/review is stored in this list\n",
    "row=0;\n",
    "for sent in tqdm(reviews_train['CleanedText'].values): # for each review/sentence \n",
    "    sent_vec = np.zeros(300) # as word vectors are of zero length\n",
    "    weight_sum =0; # num of words with a valid vector in the sentence/review\n",
    "    for word in sent.split(' '): # for each word in a review/sentence\n",
    "        if word in w2v_words:\n",
    "            vec = w2v_model.wv[word]\n",
    "#             tf_idf = tf_idf_matrix[row, tfidf_feat.index(word)]\n",
    "            # to reduce the computation we are \n",
    "            # dictionary[word] = idf value of word in whole courpus\n",
    "            # sent.count(word) = tf valeus of word in this review\n",
    "            tf_idf = dictionary[word]*(sent.count(word)/len(sent))\n",
    "            sent_vec += (vec * tf_idf)\n",
    "            weight_sum += tf_idf\n",
    "    if weight_sum != 0:\n",
    "        sent_vec /= weight_sum\n",
    "    tfidf_sent_vectors.append(sent_vec)\n",
    "    row += 1\n",
    "    \n",
    "# print (tfidf_sent_vectors)\n",
    "print (type(tfidf_sent_vectors))"
   ]
  },
  {
   "cell_type": "code",
   "execution_count": 76,
   "metadata": {},
   "outputs": [
    {
     "name": "stdout",
     "output_type": "stream",
     "text": [
      "(70000, 300)\n"
     ]
    }
   ],
   "source": [
    "tfidf_sent_vectors = np.array(tfidf_sent_vectors)\n",
    "print (tfidf_sent_vectors.shape)\n",
    "# print (tfidf_sent_vectors[0])"
   ]
  },
  {
   "cell_type": "code",
   "execution_count": 77,
   "metadata": {},
   "outputs": [],
   "source": [
    "savefile(tfidf_sent_vectors , 'tfidf_W2V_Decision_Tree_2')"
   ]
  },
  {
   "cell_type": "code",
   "execution_count": 78,
   "metadata": {},
   "outputs": [],
   "source": [
    "\n",
    "from sklearn import preprocessing\n",
    "from sklearn.model_selection import train_test_split\n",
    "\n",
    "tfidf_sent_vectors = gsv = openfile(\"tfidf_W2V_Decision_Tree_2\")\n",
    "\n",
    "tfidfw2v_vecs_norm =  tfidf_sent_vectors\n",
    "\n",
    "#Not shuffling the data as we want it on time basis\n"
   ]
  },
  {
   "cell_type": "code",
   "execution_count": 79,
   "metadata": {},
   "outputs": [
    {
     "name": "stdout",
     "output_type": "stream",
     "text": [
      "Fitting 5 folds for each of 28 candidates, totalling 140 fits\n"
     ]
    },
    {
     "name": "stderr",
     "output_type": "stream",
     "text": [
      "[Parallel(n_jobs=-2)]: Using backend LokyBackend with 3 concurrent workers.\n",
      "[Parallel(n_jobs=-2)]: Done  44 tasks      | elapsed:  2.4min\n",
      "[Parallel(n_jobs=-2)]: Done 140 out of 140 | elapsed: 18.0min finished\n"
     ]
    },
    {
     "name": "stdout",
     "output_type": "stream",
     "text": [
      "DecisionTreeClassifier(class_weight='balanced', criterion='gini',\n",
      "            max_depth=10, max_features=None, max_leaf_nodes=None,\n",
      "            min_impurity_decrease=0.0, min_impurity_split=None,\n",
      "            min_samples_leaf=1, min_samples_split=500,\n",
      "            min_weight_fraction_leaf=0.0, presort=False, random_state=None,\n",
      "            splitter='best')\n",
      "0.8581664036385838\n"
     ]
    }
   ],
   "source": [
    "from sklearn.tree import DecisionTreeClassifier\n",
    "from sklearn.metrics import accuracy_score\n",
    "from sklearn.model_selection import GridSearchCV \n",
    "from sklearn.model_selection import cross_val_score\n",
    "    \n",
    "    \n",
    "clf = DecisionTreeClassifier(  class_weight = 'balanced' )\n",
    "param_grid = {'max_depth': [1, 5, 10, 50, 100, 500, 1000], 'min_samples_split' : [5, 10, 100, 500] }\n",
    "#Using GridSearchCV\n",
    "model = GridSearchCV(clf, param_grid, scoring = 'roc_auc', cv=5 , verbose=1 ,n_jobs=-2)\n",
    "model.fit(tfidfw2v_vecs_norm, reviews_score_train)\n",
    "savefile(model,\"GridSearch_tfidf_w2v_Decision_Tree\")\n",
    "print(model.best_estimator_)\n",
    "print(model.score(tfidfw2v_vecs_norm, reviews_score_train))    \n",
    "# weight = model.coef_\n",
    "    \n",
    " "
   ]
  },
  {
   "cell_type": "code",
   "execution_count": 131,
   "metadata": {},
   "outputs": [
    {
     "name": "stdout",
     "output_type": "stream",
     "text": [
      "{'max_depth': 10, 'min_samples_split': 500}\n"
     ]
    },
    {
     "data": {
      "text/plain": [
       "<matplotlib.axes._subplots.AxesSubplot at 0x1a43ce0588>"
      ]
     },
     "execution_count": 131,
     "metadata": {},
     "output_type": "execute_result"
    },
    {
     "data": {
      "image/png": "[encoded data removed]",
      "text/plain": [
       "<Figure size 432x288 with 2 Axes>"
      ]
     },
     "metadata": {
      "needs_background": "light"
     },
     "output_type": "display_data"
    }
   ],
   "source": [
    "gsv = openfile('GridSearch_tfidf_w2v_Decision_Tree')\n",
    "print (gsv.best_params_)\n",
    "pvt = pd.pivot_table(pd.DataFrame(gsv.cv_results_),values='mean_test_score', index='param_max_depth', columns='param_min_samples_split')\n",
    "sns.heatmap(pvt)"
   ]
  },
  {
   "cell_type": "code",
   "execution_count": 24,
   "metadata": {},
   "outputs": [
    {
     "data": {
      "image/png": "[encoded data removed]",
      "text/plain": [
       "<Figure size 432x288 with 1 Axes>"
      ]
     },
     "metadata": {
      "needs_background": "light"
     },
     "output_type": "display_data"
    }
   ],
   "source": [
    "gsv = openfile('GridSearch_tfidf_w2v_Decision_Tree')\n",
    "\n",
    "x1=[]\n",
    "y1=[]\n",
    "x2=[]\n",
    "y2=[]\n",
    "gsv.cv_results_\n",
    "means = gsv.cv_results_['mean_test_score']\n",
    "means_train = gsv.cv_results_['mean_train_score']\n",
    "stds = gsv.cv_results_['std_test_score']\n",
    "for mean, mean_train ,  std, params in zip(means, means_train,stds, gsv.cv_results_['params']):\n",
    "\n",
    "    if params['min_samples_split'] == 500:\n",
    "        x1.append(params['max_depth'])\n",
    "        y1.append(mean)\n",
    "        x2.append(params['max_depth'])\n",
    "        y2.append(mean_train)\n",
    "\n",
    "        \n",
    "\n",
    "plt.xlabel(\"Max Depth\",fontsize=15)\n",
    "plt.ylabel(\"AUC\")\n",
    "plt.title('AUC v/s Max Depth')\n",
    "\n",
    "plt.plot(x1,y1,'b',label=\"Test\")\n",
    "plt.plot(x2,y2,'r',label=\"Train\")\n",
    "plt.legend()\n",
    "plt.show()"
   ]
  },
  {
   "cell_type": "code",
   "execution_count": 132,
   "metadata": {},
   "outputs": [
    {
     "name": "stdout",
     "output_type": "stream",
     "text": [
      "\n",
      "The accuracy of the Decision Tree for max_depth = 10.000000 is 74.211429%\n"
     ]
    }
   ],
   "source": [
    "\n",
    "from sklearn.metrics import accuracy_score\n",
    "gsv = openfile(\"GridSearch_tfidf_w2v_Decision_Tree\")\n",
    "\n",
    "\n",
    "max_depth_best = gsv.best_params_['max_depth']\n",
    "min_samples_split_best = gsv.best_params_['min_samples_split']\n",
    "model = DecisionTreeClassifier(class_weight = 'balanced' , max_depth=max_depth_best , min_samples_split=min_samples_split_best)\n",
    "# fitting the model\n",
    "model.fit(tfidfw2v_vecs_norm , reviews_score_train)\n",
    "\n",
    "# predict the response\n",
    "pred = model.predict(tfidfw2v_vecs_norm)\n",
    "savefile(model,'AVGW2V_TFIDF_DECISION_TREE_TRAIN')\n",
    "# evaluate accuracy\n",
    "acc = accuracy_score(reviews_score_train, pred) * 100\n",
    "print('\\nThe accuracy of the Decision Tree for max_depth = %f is %f%%' % (max_depth_best, acc))"
   ]
  },
  {
   "cell_type": "code",
   "execution_count": 133,
   "metadata": {},
   "outputs": [
    {
     "name": "stdout",
     "output_type": "stream",
     "text": [
      "AUC: 0.757\n"
     ]
    },
    {
     "data": {
      "image/png": "[encoded data removed]",
      "text/plain": [
       "<Figure size 432x288 with 1 Axes>"
      ]
     },
     "metadata": {
      "needs_background": "light"
     },
     "output_type": "display_data"
    }
   ],
   "source": [
    "from sklearn import metrics\n",
    "from sklearn.metrics import roc_auc_score\n",
    "from sklearn.metrics import roc_curve\n",
    "from matplotlib import pyplot\n",
    "model = openfile('AVG_W2V_Decision_Tree_Model_Test')\n",
    "#Getting AUC value from calibrated model . \n",
    "probs = model.predict_proba(tfidfw2v_vecs_norm)\n",
    "probs = probs[:, 1]\n",
    "auc = roc_auc_score(reviews_score_train, probs)\n",
    "print('AUC: %.3f' % auc)\n",
    "# calculate roc curve\n",
    "fpr, tpr, thresholds = roc_curve(reviews_score_train, probs)\n",
    "# plot no skill\n",
    "pyplot.plot([0, 1], [0, 1], linestyle='--')\n",
    "# plot the roc curve for the model\n",
    "pyplot.plot(fpr, tpr, marker='.')\n",
    "# show the plot\n",
    "pyplot.show()"
   ]
  },
  {
   "cell_type": "code",
   "execution_count": 134,
   "metadata": {},
   "outputs": [
    {
     "name": "stdout",
     "output_type": "stream",
     "text": [
      "[[ 7035  1571]\n",
      " [16481 44913]]\n"
     ]
    },
    {
     "data": {
      "image/png": "[encoded data removed]",
      "text/plain": [
       "<Figure size 432x288 with 2 Axes>"
      ]
     },
     "metadata": {
      "needs_background": "light"
     },
     "output_type": "display_data"
    }
   ],
   "source": [
    "from sklearn.metrics import confusion_matrix\n",
    "conf_matrix = confusion_matrix(reviews_score_train, pred)\n",
    "print (conf_matrix)\n",
    "class_label = [\"negative\", \"positive\"]\n",
    "df_cm = pd.DataFrame(conf_matrix, index = class_label, columns = class_label)\n",
    "sns.heatmap(df_cm, annot = True, fmt = \"d\")\n",
    "plt.title(\"Confusiion Matrix\")\n",
    "plt.xlabel(\"Predicted Label\")\n",
    "plt.ylabel(\"True Label\")\n",
    "plt.show()"
   ]
  },
  {
   "cell_type": "code",
   "execution_count": 135,
   "metadata": {},
   "outputs": [
    {
     "name": "stdout",
     "output_type": "stream",
     "text": [
      "              precision    recall  f1-score   support\n",
      "\n",
      "           0       0.30      0.82      0.44      8606\n",
      "           1       0.97      0.73      0.83     61394\n",
      "\n",
      "   micro avg       0.74      0.74      0.74     70000\n",
      "   macro avg       0.63      0.77      0.64     70000\n",
      "weighted avg       0.88      0.74      0.78     70000\n",
      "\n"
     ]
    }
   ],
   "source": [
    "from sklearn.metrics import classification_report\n",
    "print (classification_report(reviews_score_train, pred))"
   ]
  },
  {
   "cell_type": "markdown",
   "metadata": {
    "colab_type": "text",
    "id": "Em-rF6u2iWO8"
   },
   "source": [
    "# [6] Conclusions"
   ]
  },
  {
   "cell_type": "markdown",
   "metadata": {
    "colab": {},
    "colab_type": "code",
    "id": "3Hnu2QziiWO9"
   },
   "source": [
    "### Performance Table :"
   ]
  },
  {
   "cell_type": "code",
   "execution_count": 137,
   "metadata": {},
   "outputs": [
    {
     "data": {
      "text/html": [
       "<div>\n",
       "<style scoped>\n",
       "    .dataframe tbody tr th:only-of-type {\n",
       "        vertical-align: middle;\n",
       "    }\n",
       "\n",
       "    .dataframe tbody tr th {\n",
       "        vertical-align: top;\n",
       "    }\n",
       "\n",
       "    .dataframe thead th {\n",
       "        text-align: right;\n",
       "    }\n",
       "</style>\n",
       "<table border=\"1\" class=\"dataframe\">\n",
       "  <thead>\n",
       "    <tr style=\"text-align: right;\">\n",
       "      <th></th>\n",
       "      <th>Model</th>\n",
       "      <th>Max_Depth</th>\n",
       "      <th>Min_samples_split</th>\n",
       "      <th>AUC</th>\n",
       "      <th>Accuracy</th>\n",
       "    </tr>\n",
       "  </thead>\n",
       "  <tbody>\n",
       "    <tr>\n",
       "      <th>0</th>\n",
       "      <td>Bow</td>\n",
       "      <td>50</td>\n",
       "      <td>500</td>\n",
       "      <td>0.895</td>\n",
       "      <td>74.00</td>\n",
       "    </tr>\n",
       "    <tr>\n",
       "      <th>1</th>\n",
       "      <td>TFIDF</td>\n",
       "      <td>50</td>\n",
       "      <td>500</td>\n",
       "      <td>0.918</td>\n",
       "      <td>80.30</td>\n",
       "    </tr>\n",
       "    <tr>\n",
       "      <th>2</th>\n",
       "      <td>AVG W2V</td>\n",
       "      <td>10</td>\n",
       "      <td>500</td>\n",
       "      <td>0.874</td>\n",
       "      <td>75.69</td>\n",
       "    </tr>\n",
       "    <tr>\n",
       "      <th>3</th>\n",
       "      <td>TFIDF-W2V</td>\n",
       "      <td>10</td>\n",
       "      <td>500</td>\n",
       "      <td>0.750</td>\n",
       "      <td>74.21</td>\n",
       "    </tr>\n",
       "  </tbody>\n",
       "</table>\n",
       "</div>"
      ],
      "text/plain": [
       "       Model  Max_Depth  Min_samples_split    AUC  Accuracy\n",
       "0        Bow         50                500  0.895     74.00\n",
       "1      TFIDF         50                500  0.918     80.30\n",
       "2    AVG W2V         10                500  0.874     75.69\n",
       "3  TFIDF-W2V         10                500  0.750     74.21"
      ]
     },
     "execution_count": 137,
     "metadata": {},
     "output_type": "execute_result"
    }
   ],
   "source": [
    "models = pd.DataFrame({'Model': ['Bow', \"TFIDF\" ,\"AVG W2V\" ,  \"TFIDF-W2V\" ], 'Max_Depth': [50,50,10,10], 'Min_samples_split':[500,500,500,500] ,  'AUC': [0.895,0.918,0.874,0.75], 'Accuracy': [74,80.3,75.69,74.21]}, columns = [\"Model\", \"Max_Depth\",\"Min_samples_split\", \"AUC\", 'Accuracy'])\n",
    "models"
   ]
  },
  {
   "cell_type": "markdown",
   "metadata": {},
   "source": [
    " - TFIDF Gives the best AUC Score and Accuracy .\n",
    " - Used Graphviz to plot a Graph with features and gini values . \n",
    " - We can improve the AUC and Accuracy by using Random Forests ."
   ]
  }
 ],
 "metadata": {
  "colab": {
   "collapsed_sections": [
    "NTwQITJKiWN5",
    "T_LFck8iiWOX",
    "mjfrB76yiWOa",
    "0tcbbZxSiWOd",
    "u566lt93iWOf",
    "mUNnof40iWOl",
    "heHLB_FCiWOm",
    "ylTn3LgiiWOo",
    "NVhl_V6MiWO5",
    "PnwVzXytiWO7"
   ],
   "name": "08 Amazon Fine Food Reviews Analysis_Decision Trees.ipynb",
   "provenance": [],
   "version": "0.3.2"
  },
  "kernelspec": {
   "display_name": "Python 3",
   "language": "python",
   "name": "python3"
  },
  "language_info": {
   "codemirror_mode": {
    "name": "ipython",
    "version": 3
   },
   "file_extension": ".py",
   "mimetype": "text/x-python",
   "name": "python",
   "nbconvert_exporter": "python",
   "pygments_lexer": "ipython3",
   "version": "3.6.7"
  }
 },
 "nbformat": 4,
 "nbformat_minor": 1
}
