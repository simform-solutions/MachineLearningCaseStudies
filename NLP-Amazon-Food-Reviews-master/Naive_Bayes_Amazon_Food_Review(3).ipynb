{
 "cells": [
  {
   "cell_type": "code",
   "execution_count": 1,
   "metadata": {},
   "outputs": [],
   "source": [
    "%matplotlib inline\n",
    "import warnings\n",
    "warnings.filterwarnings(\"ignore\")\n",
    "\n",
    "import sqlite3\n",
    "import pandas as pd\n",
    "import numpy as np\n",
    "import nltk\n",
    "import string\n",
    "import matplotlib.pyplot as plt\n",
    "import seaborn as sns\n",
    "from sklearn.feature_extraction.text import TfidfTransformer\n",
    "from sklearn.feature_extraction.text import TfidfVectorizer\n",
    "\n",
    "from sklearn.feature_extraction.text import CountVectorizer\n",
    "from sklearn.metrics import confusion_matrix\n",
    "from sklearn import metrics\n",
    "from sklearn.metrics import roc_curve, auc\n",
    "from nltk.stem.porter import PorterStemmer\n",
    "\n",
    "import re\n",
    "# Tutorial about Python regular expressions: https://pymotw.com/2/re/\n",
    "import string\n",
    "from nltk.corpus import stopwords\n",
    "from nltk.stem import PorterStemmer\n",
    "from nltk.stem.wordnet import WordNetLemmatizer\n",
    "\n",
    "from gensim.models import Word2Vec\n",
    "from gensim.models import KeyedVectors\n",
    "import pickle\n",
    "\n",
    "from tqdm import tqdm\n",
    "import os"
   ]
  },
  {
   "cell_type": "code",
   "execution_count": 2,
   "metadata": {},
   "outputs": [],
   "source": [
    "if os.path.isfile('final.sqlite'):\n",
    "    conn = sqlite3.connect('final.sqlite')\n",
    "    final = pd.read_sql_query(\"\"\" SELECT * FROM Reviews WHERE Score != 3 \"\"\", conn)\n",
    "    conn.close()\n",
    "else:\n",
    "    print(\"Please the above cell\")"
   ]
  },
  {
   "cell_type": "code",
   "execution_count": 3,
   "metadata": {},
   "outputs": [
    {
     "name": "stdout",
     "output_type": "stream",
     "text": [
      "(364171, 12)\n"
     ]
    },
    {
     "data": {
      "text/html": [
       "<div>\n",
       "<style scoped>\n",
       "    .dataframe tbody tr th:only-of-type {\n",
       "        vertical-align: middle;\n",
       "    }\n",
       "\n",
       "    .dataframe tbody tr th {\n",
       "        vertical-align: top;\n",
       "    }\n",
       "\n",
       "    .dataframe thead th {\n",
       "        text-align: right;\n",
       "    }\n",
       "</style>\n",
       "<table border=\"1\" class=\"dataframe\">\n",
       "  <thead>\n",
       "    <tr style=\"text-align: right;\">\n",
       "      <th></th>\n",
       "      <th>index</th>\n",
       "      <th>Id</th>\n",
       "      <th>ProductId</th>\n",
       "      <th>UserId</th>\n",
       "      <th>ProfileName</th>\n",
       "      <th>HelpfulnessNumerator</th>\n",
       "      <th>HelpfulnessDenominator</th>\n",
       "      <th>Score</th>\n",
       "      <th>Time</th>\n",
       "      <th>Summary</th>\n",
       "      <th>Text</th>\n",
       "      <th>CleanedText</th>\n",
       "    </tr>\n",
       "  </thead>\n",
       "  <tbody>\n",
       "    <tr>\n",
       "      <th>0</th>\n",
       "      <td>138706</td>\n",
       "      <td>150524</td>\n",
       "      <td>0006641040</td>\n",
       "      <td>ACITT7DI6IDDL</td>\n",
       "      <td>shari zychinski</td>\n",
       "      <td>0</td>\n",
       "      <td>0</td>\n",
       "      <td>1</td>\n",
       "      <td>939340800</td>\n",
       "      <td>EVERY book is educational</td>\n",
       "      <td>this witty little book makes my son laugh at l...</td>\n",
       "      <td>witti littl book make son laugh loud recit car...</td>\n",
       "    </tr>\n",
       "    <tr>\n",
       "      <th>1</th>\n",
       "      <td>138688</td>\n",
       "      <td>150506</td>\n",
       "      <td>0006641040</td>\n",
       "      <td>A2IW4PEEKO2R0U</td>\n",
       "      <td>Tracy</td>\n",
       "      <td>1</td>\n",
       "      <td>1</td>\n",
       "      <td>1</td>\n",
       "      <td>1194739200</td>\n",
       "      <td>Love the book, miss the hard cover version</td>\n",
       "      <td>I grew up reading these Sendak books, and watc...</td>\n",
       "      <td>grew read sendak book watch realli rosi movi i...</td>\n",
       "    </tr>\n",
       "    <tr>\n",
       "      <th>2</th>\n",
       "      <td>138689</td>\n",
       "      <td>150507</td>\n",
       "      <td>0006641040</td>\n",
       "      <td>A1S4A3IQ2MU7V4</td>\n",
       "      <td>sally sue \"sally sue\"</td>\n",
       "      <td>1</td>\n",
       "      <td>1</td>\n",
       "      <td>1</td>\n",
       "      <td>1191456000</td>\n",
       "      <td>chicken soup with rice months</td>\n",
       "      <td>This is a fun way for children to learn their ...</td>\n",
       "      <td>fun way children learn month year learn poem t...</td>\n",
       "    </tr>\n",
       "    <tr>\n",
       "      <th>3</th>\n",
       "      <td>138690</td>\n",
       "      <td>150508</td>\n",
       "      <td>0006641040</td>\n",
       "      <td>AZGXZ2UUK6X</td>\n",
       "      <td>Catherine Hallberg \"(Kate)\"</td>\n",
       "      <td>1</td>\n",
       "      <td>1</td>\n",
       "      <td>1</td>\n",
       "      <td>1076025600</td>\n",
       "      <td>a good swingy rhythm for reading aloud</td>\n",
       "      <td>This is a great little book to read aloud- it ...</td>\n",
       "      <td>great littl book read nice rhythm well good re...</td>\n",
       "    </tr>\n",
       "    <tr>\n",
       "      <th>4</th>\n",
       "      <td>138691</td>\n",
       "      <td>150509</td>\n",
       "      <td>0006641040</td>\n",
       "      <td>A3CMRKGE0P909G</td>\n",
       "      <td>Teresa</td>\n",
       "      <td>3</td>\n",
       "      <td>4</td>\n",
       "      <td>1</td>\n",
       "      <td>1018396800</td>\n",
       "      <td>A great way to learn the months</td>\n",
       "      <td>This is a book of poetry about the months of t...</td>\n",
       "      <td>book poetri month year goe month cute littl po...</td>\n",
       "    </tr>\n",
       "  </tbody>\n",
       "</table>\n",
       "</div>"
      ],
      "text/plain": [
       "    index      Id   ProductId          UserId                  ProfileName  \\\n",
       "0  138706  150524  0006641040   ACITT7DI6IDDL              shari zychinski   \n",
       "1  138688  150506  0006641040  A2IW4PEEKO2R0U                        Tracy   \n",
       "2  138689  150507  0006641040  A1S4A3IQ2MU7V4        sally sue \"sally sue\"   \n",
       "3  138690  150508  0006641040     AZGXZ2UUK6X  Catherine Hallberg \"(Kate)\"   \n",
       "4  138691  150509  0006641040  A3CMRKGE0P909G                       Teresa   \n",
       "\n",
       "   HelpfulnessNumerator  HelpfulnessDenominator  Score        Time  \\\n",
       "0                     0                       0      1   939340800   \n",
       "1                     1                       1      1  1194739200   \n",
       "2                     1                       1      1  1191456000   \n",
       "3                     1                       1      1  1076025600   \n",
       "4                     3                       4      1  1018396800   \n",
       "\n",
       "                                      Summary  \\\n",
       "0                   EVERY book is educational   \n",
       "1  Love the book, miss the hard cover version   \n",
       "2               chicken soup with rice months   \n",
       "3      a good swingy rhythm for reading aloud   \n",
       "4             A great way to learn the months   \n",
       "\n",
       "                                                Text  \\\n",
       "0  this witty little book makes my son laugh at l...   \n",
       "1  I grew up reading these Sendak books, and watc...   \n",
       "2  This is a fun way for children to learn their ...   \n",
       "3  This is a great little book to read aloud- it ...   \n",
       "4  This is a book of poetry about the months of t...   \n",
       "\n",
       "                                         CleanedText  \n",
       "0  witti littl book make son laugh loud recit car...  \n",
       "1  grew read sendak book watch realli rosi movi i...  \n",
       "2  fun way children learn month year learn poem t...  \n",
       "3  great littl book read nice rhythm well good re...  \n",
       "4  book poetri month year goe month cute littl po...  "
      ]
     },
     "execution_count": 3,
     "metadata": {},
     "output_type": "execute_result"
    }
   ],
   "source": [
    "print (final.shape)\n",
    "final.head(5)"
   ]
  },
  {
   "cell_type": "markdown",
   "metadata": {},
   "source": [
    "Now  taking 50k +ve and 50k -ve reviews and concating them based on time :"
   ]
  },
  {
   "cell_type": "code",
   "execution_count": 4,
   "metadata": {},
   "outputs": [
    {
     "name": "stdout",
     "output_type": "stream",
     "text": [
      "(364171, 12)\n",
      "(364171,)\n"
     ]
    },
    {
     "data": {
      "text/html": [
       "<div>\n",
       "<style scoped>\n",
       "    .dataframe tbody tr th:only-of-type {\n",
       "        vertical-align: middle;\n",
       "    }\n",
       "\n",
       "    .dataframe tbody tr th {\n",
       "        vertical-align: top;\n",
       "    }\n",
       "\n",
       "    .dataframe thead th {\n",
       "        text-align: right;\n",
       "    }\n",
       "</style>\n",
       "<table border=\"1\" class=\"dataframe\">\n",
       "  <thead>\n",
       "    <tr style=\"text-align: right;\">\n",
       "      <th></th>\n",
       "      <th>index</th>\n",
       "      <th>Id</th>\n",
       "      <th>ProductId</th>\n",
       "      <th>UserId</th>\n",
       "      <th>ProfileName</th>\n",
       "      <th>HelpfulnessNumerator</th>\n",
       "      <th>HelpfulnessDenominator</th>\n",
       "      <th>Score</th>\n",
       "      <th>Time</th>\n",
       "      <th>Summary</th>\n",
       "      <th>Text</th>\n",
       "      <th>CleanedText</th>\n",
       "    </tr>\n",
       "  </thead>\n",
       "  <tbody>\n",
       "    <tr>\n",
       "      <th>0</th>\n",
       "      <td>138706</td>\n",
       "      <td>150524</td>\n",
       "      <td>0006641040</td>\n",
       "      <td>ACITT7DI6IDDL</td>\n",
       "      <td>shari zychinski</td>\n",
       "      <td>0</td>\n",
       "      <td>0</td>\n",
       "      <td>1</td>\n",
       "      <td>1999-10-08</td>\n",
       "      <td>EVERY book is educational</td>\n",
       "      <td>this witty little book makes my son laugh at l...</td>\n",
       "      <td>witti littl book make son laugh loud recit car...</td>\n",
       "    </tr>\n",
       "    <tr>\n",
       "      <th>30</th>\n",
       "      <td>138683</td>\n",
       "      <td>150501</td>\n",
       "      <td>0006641040</td>\n",
       "      <td>AJ46FKXOVC7NR</td>\n",
       "      <td>Nicholas A Mesiano</td>\n",
       "      <td>2</td>\n",
       "      <td>2</td>\n",
       "      <td>1</td>\n",
       "      <td>1999-10-25</td>\n",
       "      <td>This whole series is great way to spend time w...</td>\n",
       "      <td>I can remember seeing the show when it aired o...</td>\n",
       "      <td>rememb see show air televis year ago child sis...</td>\n",
       "    </tr>\n",
       "    <tr>\n",
       "      <th>424</th>\n",
       "      <td>417839</td>\n",
       "      <td>451856</td>\n",
       "      <td>B00004CXX9</td>\n",
       "      <td>AIUWLEQ1ADEG5</td>\n",
       "      <td>Elizabeth Medina</td>\n",
       "      <td>0</td>\n",
       "      <td>0</td>\n",
       "      <td>1</td>\n",
       "      <td>1999-12-02</td>\n",
       "      <td>Entertainingl Funny!</td>\n",
       "      <td>Beetlejuice is a well written movie ..... ever...</td>\n",
       "      <td>beetlejuic well written movi everyth excel act...</td>\n",
       "    </tr>\n",
       "    <tr>\n",
       "      <th>330</th>\n",
       "      <td>346055</td>\n",
       "      <td>374359</td>\n",
       "      <td>B00004CI84</td>\n",
       "      <td>A344SMIA5JECGM</td>\n",
       "      <td>Vincent P. Ross</td>\n",
       "      <td>1</td>\n",
       "      <td>2</td>\n",
       "      <td>1</td>\n",
       "      <td>1999-12-06</td>\n",
       "      <td>A modern day fairy tale</td>\n",
       "      <td>A twist of rumplestiskin captured on film, sta...</td>\n",
       "      <td>twist rumplestiskin captur film star michael k...</td>\n",
       "    </tr>\n",
       "    <tr>\n",
       "      <th>423</th>\n",
       "      <td>417838</td>\n",
       "      <td>451855</td>\n",
       "      <td>B00004CXX9</td>\n",
       "      <td>AJH6LUC1UT1ON</td>\n",
       "      <td>The Phantom of the Opera</td>\n",
       "      <td>0</td>\n",
       "      <td>0</td>\n",
       "      <td>1</td>\n",
       "      <td>2000-01-03</td>\n",
       "      <td>FANTASTIC!</td>\n",
       "      <td>Beetlejuice is an excellent and funny movie. K...</td>\n",
       "      <td>beetlejuic excel funni movi keaton hilari wack...</td>\n",
       "    </tr>\n",
       "  </tbody>\n",
       "</table>\n",
       "</div>"
      ],
      "text/plain": [
       "      index      Id   ProductId          UserId               ProfileName  \\\n",
       "0    138706  150524  0006641040   ACITT7DI6IDDL           shari zychinski   \n",
       "30   138683  150501  0006641040   AJ46FKXOVC7NR        Nicholas A Mesiano   \n",
       "424  417839  451856  B00004CXX9   AIUWLEQ1ADEG5          Elizabeth Medina   \n",
       "330  346055  374359  B00004CI84  A344SMIA5JECGM           Vincent P. Ross   \n",
       "423  417838  451855  B00004CXX9   AJH6LUC1UT1ON  The Phantom of the Opera   \n",
       "\n",
       "     HelpfulnessNumerator  HelpfulnessDenominator  Score       Time  \\\n",
       "0                       0                       0      1 1999-10-08   \n",
       "30                      2                       2      1 1999-10-25   \n",
       "424                     0                       0      1 1999-12-02   \n",
       "330                     1                       2      1 1999-12-06   \n",
       "423                     0                       0      1 2000-01-03   \n",
       "\n",
       "                                               Summary  \\\n",
       "0                            EVERY book is educational   \n",
       "30   This whole series is great way to spend time w...   \n",
       "424                               Entertainingl Funny!   \n",
       "330                            A modern day fairy tale   \n",
       "423                                         FANTASTIC!   \n",
       "\n",
       "                                                  Text  \\\n",
       "0    this witty little book makes my son laugh at l...   \n",
       "30   I can remember seeing the show when it aired o...   \n",
       "424  Beetlejuice is a well written movie ..... ever...   \n",
       "330  A twist of rumplestiskin captured on film, sta...   \n",
       "423  Beetlejuice is an excellent and funny movie. K...   \n",
       "\n",
       "                                           CleanedText  \n",
       "0    witti littl book make son laugh loud recit car...  \n",
       "30   rememb see show air televis year ago child sis...  \n",
       "424  beetlejuic well written movi everyth excel act...  \n",
       "330  twist rumplestiskin captur film star michael k...  \n",
       "423  beetlejuic excel funni movi keaton hilari wack...  "
      ]
     },
     "execution_count": 4,
     "metadata": {},
     "output_type": "execute_result"
    }
   ],
   "source": [
    "# positive_reviews = final[final[\"Score\"] == 1].sample(50000)\n",
    "# print (positive_reviews.shape)\n",
    "\n",
    "\n",
    "# negative_reviews = final[final[\"Score\"] == 0].sample(50000)\n",
    "# print (negative_reviews.shape)\n",
    "\n",
    "# reviews_100k = pd.concat([positive_reviews,negative_reviews])\n",
    "# print (reviews_100k.shape)\n",
    "# reviews_100k = final.head(100000)\n",
    "\n",
    "# reviews_100k[\"Time\"] = pd.to_datetime(reviews_100k[\"Time\"] , unit = \"s\")\n",
    "# reviews_100k.head(5)\n",
    "\n",
    "\n",
    "final[\"Time\"] = pd.to_datetime(final[\"Time\"] , unit = \"s\")\n",
    "reviews_timesorted = final.sort_values(by = \"Time\")\n",
    "print (reviews_timesorted.shape)\n",
    "reviews_timesorted_score = reviews_timesorted[\"Score\"]\n",
    "print (reviews_timesorted_score.shape)\n",
    "reviews_timesorted.head(5)"
   ]
  },
  {
   "cell_type": "code",
   "execution_count": 5,
   "metadata": {},
   "outputs": [
    {
     "name": "stdout",
     "output_type": "stream",
     "text": [
      "(100000, 12)\n",
      "(100000,)\n"
     ]
    },
    {
     "data": {
      "text/html": [
       "<div>\n",
       "<style scoped>\n",
       "    .dataframe tbody tr th:only-of-type {\n",
       "        vertical-align: middle;\n",
       "    }\n",
       "\n",
       "    .dataframe tbody tr th {\n",
       "        vertical-align: top;\n",
       "    }\n",
       "\n",
       "    .dataframe thead th {\n",
       "        text-align: right;\n",
       "    }\n",
       "</style>\n",
       "<table border=\"1\" class=\"dataframe\">\n",
       "  <thead>\n",
       "    <tr style=\"text-align: right;\">\n",
       "      <th></th>\n",
       "      <th>index</th>\n",
       "      <th>Id</th>\n",
       "      <th>ProductId</th>\n",
       "      <th>UserId</th>\n",
       "      <th>ProfileName</th>\n",
       "      <th>HelpfulnessNumerator</th>\n",
       "      <th>HelpfulnessDenominator</th>\n",
       "      <th>Score</th>\n",
       "      <th>Time</th>\n",
       "      <th>Summary</th>\n",
       "      <th>Text</th>\n",
       "      <th>CleanedText</th>\n",
       "    </tr>\n",
       "  </thead>\n",
       "  <tbody>\n",
       "    <tr>\n",
       "      <th>0</th>\n",
       "      <td>138706</td>\n",
       "      <td>150524</td>\n",
       "      <td>0006641040</td>\n",
       "      <td>ACITT7DI6IDDL</td>\n",
       "      <td>shari zychinski</td>\n",
       "      <td>0</td>\n",
       "      <td>0</td>\n",
       "      <td>1</td>\n",
       "      <td>1999-10-08</td>\n",
       "      <td>EVERY book is educational</td>\n",
       "      <td>this witty little book makes my son laugh at l...</td>\n",
       "      <td>witti littl book make son laugh loud recit car...</td>\n",
       "    </tr>\n",
       "    <tr>\n",
       "      <th>30</th>\n",
       "      <td>138683</td>\n",
       "      <td>150501</td>\n",
       "      <td>0006641040</td>\n",
       "      <td>AJ46FKXOVC7NR</td>\n",
       "      <td>Nicholas A Mesiano</td>\n",
       "      <td>2</td>\n",
       "      <td>2</td>\n",
       "      <td>1</td>\n",
       "      <td>1999-10-25</td>\n",
       "      <td>This whole series is great way to spend time w...</td>\n",
       "      <td>I can remember seeing the show when it aired o...</td>\n",
       "      <td>rememb see show air televis year ago child sis...</td>\n",
       "    </tr>\n",
       "    <tr>\n",
       "      <th>424</th>\n",
       "      <td>417839</td>\n",
       "      <td>451856</td>\n",
       "      <td>B00004CXX9</td>\n",
       "      <td>AIUWLEQ1ADEG5</td>\n",
       "      <td>Elizabeth Medina</td>\n",
       "      <td>0</td>\n",
       "      <td>0</td>\n",
       "      <td>1</td>\n",
       "      <td>1999-12-02</td>\n",
       "      <td>Entertainingl Funny!</td>\n",
       "      <td>Beetlejuice is a well written movie ..... ever...</td>\n",
       "      <td>beetlejuic well written movi everyth excel act...</td>\n",
       "    </tr>\n",
       "    <tr>\n",
       "      <th>330</th>\n",
       "      <td>346055</td>\n",
       "      <td>374359</td>\n",
       "      <td>B00004CI84</td>\n",
       "      <td>A344SMIA5JECGM</td>\n",
       "      <td>Vincent P. Ross</td>\n",
       "      <td>1</td>\n",
       "      <td>2</td>\n",
       "      <td>1</td>\n",
       "      <td>1999-12-06</td>\n",
       "      <td>A modern day fairy tale</td>\n",
       "      <td>A twist of rumplestiskin captured on film, sta...</td>\n",
       "      <td>twist rumplestiskin captur film star michael k...</td>\n",
       "    </tr>\n",
       "    <tr>\n",
       "      <th>423</th>\n",
       "      <td>417838</td>\n",
       "      <td>451855</td>\n",
       "      <td>B00004CXX9</td>\n",
       "      <td>AJH6LUC1UT1ON</td>\n",
       "      <td>The Phantom of the Opera</td>\n",
       "      <td>0</td>\n",
       "      <td>0</td>\n",
       "      <td>1</td>\n",
       "      <td>2000-01-03</td>\n",
       "      <td>FANTASTIC!</td>\n",
       "      <td>Beetlejuice is an excellent and funny movie. K...</td>\n",
       "      <td>beetlejuic excel funni movi keaton hilari wack...</td>\n",
       "    </tr>\n",
       "  </tbody>\n",
       "</table>\n",
       "</div>"
      ],
      "text/plain": [
       "      index      Id   ProductId          UserId               ProfileName  \\\n",
       "0    138706  150524  0006641040   ACITT7DI6IDDL           shari zychinski   \n",
       "30   138683  150501  0006641040   AJ46FKXOVC7NR        Nicholas A Mesiano   \n",
       "424  417839  451856  B00004CXX9   AIUWLEQ1ADEG5          Elizabeth Medina   \n",
       "330  346055  374359  B00004CI84  A344SMIA5JECGM           Vincent P. Ross   \n",
       "423  417838  451855  B00004CXX9   AJH6LUC1UT1ON  The Phantom of the Opera   \n",
       "\n",
       "     HelpfulnessNumerator  HelpfulnessDenominator  Score       Time  \\\n",
       "0                       0                       0      1 1999-10-08   \n",
       "30                      2                       2      1 1999-10-25   \n",
       "424                     0                       0      1 1999-12-02   \n",
       "330                     1                       2      1 1999-12-06   \n",
       "423                     0                       0      1 2000-01-03   \n",
       "\n",
       "                                               Summary  \\\n",
       "0                            EVERY book is educational   \n",
       "30   This whole series is great way to spend time w...   \n",
       "424                               Entertainingl Funny!   \n",
       "330                            A modern day fairy tale   \n",
       "423                                         FANTASTIC!   \n",
       "\n",
       "                                                  Text  \\\n",
       "0    this witty little book makes my son laugh at l...   \n",
       "30   I can remember seeing the show when it aired o...   \n",
       "424  Beetlejuice is a well written movie ..... ever...   \n",
       "330  A twist of rumplestiskin captured on film, sta...   \n",
       "423  Beetlejuice is an excellent and funny movie. K...   \n",
       "\n",
       "                                           CleanedText  \n",
       "0    witti littl book make son laugh loud recit car...  \n",
       "30   rememb see show air televis year ago child sis...  \n",
       "424  beetlejuic well written movi everyth excel act...  \n",
       "330  twist rumplestiskin captur film star michael k...  \n",
       "423  beetlejuic excel funni movi keaton hilari wack...  "
      ]
     },
     "execution_count": 5,
     "metadata": {},
     "output_type": "execute_result"
    }
   ],
   "source": [
    "# #Time-Based Sorting \n",
    "# reviews_100k = reviews_100k.sort_values(by=\"Time\")\n",
    "# reviews_100k_score = reviews_100k[\"Score\"]\n",
    "# print (reviews_100k_score.shape)\n",
    "# reviews_100k.head(5)\n",
    "\n",
    "reviews_100k = reviews_timesorted.head(100000)\n",
    "print (reviews_100k.shape)\n",
    "\n",
    "\n",
    "reviews_100k_score = reviews_100k[\"Score\"]\n",
    "print (reviews_100k_score.shape)\n",
    "\n",
    "reviews_100k.head()"
   ]
  },
  {
   "cell_type": "code",
   "execution_count": 6,
   "metadata": {},
   "outputs": [
    {
     "name": "stdout",
     "output_type": "stream",
     "text": [
      "No of +ve reviews 87729\n",
      "No of -ve reviews 12271\n"
     ]
    }
   ],
   "source": [
    "pos_reviews = reviews_100k[reviews_100k[\"Score\"] == 1]\n",
    "print (\"No of +ve reviews\" , len(pos_reviews))\n",
    "neg_reviews = reviews_100k[reviews_100k[\"Score\"] == 0]\n",
    "print (\"No of -ve reviews\" , len(neg_reviews))\n"
   ]
  },
  {
   "cell_type": "code",
   "execution_count": 7,
   "metadata": {},
   "outputs": [
    {
     "name": "stdout",
     "output_type": "stream",
     "text": [
      "(70000, 12)\n",
      "(70000,)\n",
      "(30000, 12)\n",
      "(30000,)\n"
     ]
    }
   ],
   "source": [
    "from sklearn import model_selection\n",
    "\n",
    "reviews_train, reviews_test, reviews_score_train , reviews_score_test = model_selection.train_test_split(reviews_100k, reviews_100k_score, test_size=0.3, random_state=0)\n",
    "print (reviews_train.shape)\n",
    "print (reviews_score_train.shape)\n",
    "print (reviews_test.shape)\n",
    "print (reviews_score_test.shape)"
   ]
  },
  {
   "cell_type": "code",
   "execution_count": 8,
   "metadata": {},
   "outputs": [
    {
     "name": "stdout",
     "output_type": "stream",
     "text": [
      "(49000, 12)\n",
      "(49000,)\n",
      "(21000, 12)\n",
      "(21000,)\n"
     ]
    }
   ],
   "source": [
    "reviews_train, reviews_cv, reviews_score_train, reviews_score_cv = model_selection.train_test_split(reviews_train, reviews_score_train, test_size=0.3, random_state=0)\n",
    "print (reviews_train.shape)\n",
    "print (reviews_score_train.shape)\n",
    "print (reviews_cv.shape)\n",
    "print (reviews_score_cv.shape)"
   ]
  },
  {
   "cell_type": "markdown",
   "metadata": {},
   "source": [
    "# Bag Of Words"
   ]
  },
  {
   "cell_type": "code",
   "execution_count": 9,
   "metadata": {},
   "outputs": [
    {
     "name": "stdout",
     "output_type": "stream",
     "text": [
      "the type of count vectorizer  <class 'scipy.sparse.csr.csr_matrix'>\n",
      "(49000, 26884)\n",
      "(21000, 26884)\n",
      "(30000, 26884)\n"
     ]
    }
   ],
   "source": [
    "count_vect = CountVectorizer() #in scikit-learn\n",
    "reviews_train_bow = count_vect.fit_transform(reviews_train['CleanedText'].values)\n",
    "reviews_cv_bow = count_vect.transform(reviews_cv['CleanedText'].values)\n",
    "reviews_test_bow = count_vect.transform(reviews_test['CleanedText'].values)\n",
    "\n",
    "print(\"the type of count vectorizer \",type(reviews_train_bow))\n",
    "print (reviews_train_bow.shape)\n",
    "print (reviews_cv_bow.shape)\n",
    "print (reviews_test_bow.shape)"
   ]
  },
  {
   "cell_type": "code",
   "execution_count": 64,
   "metadata": {},
   "outputs": [
    {
     "name": "stdout",
     "output_type": "stream",
     "text": [
      "\n",
      "The optimal alpha is 1.000000.\n"
     ]
    }
   ],
   "source": [
    "from sklearn.naive_bayes import MultinomialNB\n",
    "from sklearn.metrics import f1_score\n",
    "from sklearn.model_selection import GridSearchCV , TimeSeriesSplit\n",
    "from sklearn.model_selection import cross_val_score\n",
    "\n",
    "alpha_values = [1000,500,100,50,10,5,1,0.5,0.1,0.05,0.01,0.005,0.001,0.0005,0.0001]\n",
    "\n",
    "\n",
    "# empty list that will hold cv scores\n",
    "# cv_scores = []\n",
    "\n",
    "# # perform 10-fold cross validation\n",
    "# for alpha_value in alpha_values:\n",
    "    \n",
    "#     nb = MultinomialNB(alpha=alpha_value)\n",
    "#     scores = cross_val_score(nb, reviews_train_bow, reviews_score_train, cv=10, scoring='accuracy')\n",
    "#     cv_scores.append(scores.mean())\n",
    "#     print('\\nCV accuracy for alpha = %f is %f%%' % (alpha_value, scores.mean()*100))\n",
    "# print (cv_scores)\n",
    "# # changing to misclassification error\n",
    "# MSE = [1 - x for x in cv_scores]\n",
    "\n",
    "# # determining best k\n",
    "# optimal_alpha = alpha_values[MSE.index(min(MSE))]\n",
    "# print('\\nThe optimal alpha is %f.' % optimal_alpha)\n",
    "\n",
    "# # plot misclassification error vs k \n",
    "# plt.plot(alpha_values, MSE)\n",
    "\n",
    "# for xy in zip(alpha_values, np.round(MSE,3)):\n",
    "#     plt.annotate('(%s, %s)' % xy, xy=xy, textcoords='data')\n",
    "\n",
    "# plt.xlabel('Alpha value')\n",
    "# plt.ylabel('Misclassification Error')\n",
    "# plt.show()\n",
    "\n",
    "# print(\"the misclassification error for each alpha value is : \", np.round(MSE,3))\n",
    "\n",
    "\n",
    "cv_scores = []\n",
    "\n",
    "for i in alpha_values:\n",
    "    # instantiate learning model (k = 30)\n",
    "    nb = MultinomialNB(alpha=i)\n",
    "\n",
    "    # fitting the model on crossvalidation train\n",
    "    nb.fit(reviews_train_bow, reviews_score_train)\n",
    "\n",
    "    # predict the response on the crossvalidation train\n",
    "    pred = nb.predict(reviews_cv_bow)\n",
    "\n",
    "    # evaluate CV accuracy\n",
    "    f1 = f1_score(reviews_score_cv, pred) \n",
    "    \n",
    "    cv_scores.append(f1)\n",
    "#     print('\\nCV accuracy for k = %d is %d%%' % (i, acc))\n",
    "\n",
    "MSE = [1 - x for x in cv_scores]\n",
    "optimal_alpha = alpha_values[MSE.index(min(MSE))]\n",
    "print('\\nThe optimal alpha is %f.' % optimal_alpha)"
   ]
  },
  {
   "cell_type": "code",
   "execution_count": 65,
   "metadata": {},
   "outputs": [
    {
     "name": "stdout",
     "output_type": "stream",
     "text": [
      "[0.06580049229832263, 0.06580049229832263, 0.06580049229832263, 0.06582753895345894, 0.06449315904582686, 0.05904703224481411, 0.0505039702697645, 0.050995865200118895, 0.0517063642775758, 0.05216071138101175, 0.052930363321799234, 0.053399238311319985, 0.053965173324707516, 0.05434665517612847, 0.05505796282847841]\n",
      "[1000, 500, 100, 50, 10, 5, 1, 0.5, 0.1, 0.05, 0.01, 0.005, 0.001, 0.0005, 0.0001]\n"
     ]
    },
    {
     "data": {
      "image/png": "[encoded data removed]",
      "text/plain": [
       "<Figure size 432x288 with 1 Axes>"
      ]
     },
     "metadata": {
      "needs_background": "light"
     },
     "output_type": "display_data"
    }
   ],
   "source": [
    "plt.xlim(-10,1010)\n",
    "plt.ylim(0.040,0.07)\n",
    "print (MSE)\n",
    "print (alpha_values)\n",
    "plt.xlabel(\"Alpha\",fontsize=15)\n",
    "plt.ylabel(\"Misclassification Error\")\n",
    "plt.title('Misclassification Error v/s Alpha')\n",
    "plt.plot(alpha_values,MSE,'b',label=\"L1\")\n",
    "plt.legend()\n",
    "plt.show()"
   ]
  },
  {
   "cell_type": "code",
   "execution_count": 66,
   "metadata": {},
   "outputs": [
    {
     "name": "stdout",
     "output_type": "stream",
     "text": [
      "\n",
      "The accuracy of the naive bayes for alpha = 1.000000 is 92.720408%\n"
     ]
    }
   ],
   "source": [
    "nb = MultinomialNB(alpha = optimal_alpha)\n",
    "\n",
    "# fitting the model\n",
    "nb.fit(reviews_train_bow , reviews_score_train)\n",
    "\n",
    "# predict the response\n",
    "pred = nb.predict(reviews_train_bow)\n",
    "\n",
    "# evaluate accuracy\n",
    "acc = accuracy_score(reviews_score_train, pred) * 100\n",
    "print('\\nThe accuracy of the naive bayes for alpha = %f is %f%%' % (optimal_alpha, acc))"
   ]
  },
  {
   "cell_type": "code",
   "execution_count": 13,
   "metadata": {},
   "outputs": [],
   "source": [
    "# # Reference link\n",
    "# # https://stackoverflow.com/questions/50526898/how-to-get-feature-importance-in-naive-bayes\n",
    "# neg_class_prob_sorted = nb.feature_log_prob_[0, :].argsort()\n",
    "# pos_class_prob_sorted = nb.feature_log_prob_[1, :].argsort()\n",
    "\n",
    "# print(np.take(count_vect.get_feature_names(), neg_class_prob_sorted[:10]))\n",
    "# print(np.take(count_vect.get_feature_names(), pos_class_prob_sorted[:10]))"
   ]
  },
  {
   "cell_type": "code",
   "execution_count": 67,
   "metadata": {},
   "outputs": [
    {
     "name": "stdout",
     "output_type": "stream",
     "text": [
      "26884\n",
      "(2, 26884)\n"
     ]
    }
   ],
   "source": [
    "log_prob_reviews = nb.feature_log_prob_\n",
    "bow_features = count_vect.get_feature_names()\n",
    "print (len(bow_features))\n",
    "print (log_prob_reviews.shape)"
   ]
  },
  {
   "cell_type": "code",
   "execution_count": 68,
   "metadata": {},
   "outputs": [
    {
     "name": "stdout",
     "output_type": "stream",
     "text": [
      "(26884, 2)\n"
     ]
    }
   ],
   "source": [
    "feature_prob = pd.DataFrame(log_prob_reviews, columns = bow_features)\n",
    "feature_prob_transpose = feature_prob.T\n",
    "print (feature_prob_transpose.shape)\n",
    "# feature_prob_transpose.head()\n",
    "\n"
   ]
  },
  {
   "cell_type": "markdown",
   "metadata": {},
   "source": [
    "### Feature-extraction :"
   ]
  },
  {
   "cell_type": "code",
   "execution_count": 69,
   "metadata": {},
   "outputs": [
    {
     "name": "stdout",
     "output_type": "stream",
     "text": [
      "\n",
      "\n",
      "  25 Positive Features:-\n",
      " like      -4.469416\n",
      "tast      -4.514218\n",
      "good      -4.647096\n",
      "flavor    -4.673237\n",
      "great     -4.691812\n",
      "tea       -4.708345\n",
      "love      -4.730319\n",
      "use       -4.757726\n",
      "one       -4.804626\n",
      "product   -4.862906\n",
      "tri       -4.929346\n",
      "make      -5.020305\n",
      "get       -5.144885\n",
      "coffe     -5.200496\n",
      "best      -5.383024\n",
      "time      -5.397491\n",
      "eat       -5.401703\n",
      "food      -5.403675\n",
      "buy       -5.424618\n",
      "amazon    -5.425482\n",
      "find      -5.440873\n",
      "realli    -5.458291\n",
      "would     -5.481488\n",
      "also      -5.498859\n",
      "dont      -5.572025\n",
      "Name: 1, dtype: float64\n",
      "\n",
      "\n",
      " 25 Negative Features:-\n",
      " tast      -4.328971\n",
      "like      -4.408149\n",
      "product   -4.476942\n",
      "one       -4.803368\n",
      "flavor    -4.898075\n",
      "tri       -4.995936\n",
      "would     -4.999313\n",
      "good      -5.098180\n",
      "use       -5.165752\n",
      "tea       -5.192744\n",
      "buy       -5.233937\n",
      "order     -5.256280\n",
      "get       -5.284367\n",
      "coffe     -5.378629\n",
      "food      -5.410431\n",
      "dont      -5.422407\n",
      "box       -5.429315\n",
      "even      -5.499299\n",
      "amazon    -5.511454\n",
      "make      -5.549810\n",
      "eat       -5.573550\n",
      "much      -5.588679\n",
      "time      -5.660288\n",
      "realli    -5.662474\n",
      "bag       -5.666860\n",
      "Name: 0, dtype: float64\n"
     ]
    }
   ],
   "source": [
    "print(\"\\n\\n  25 Positive Features:-\\n\",feature_prob_transpose[1].sort_values(ascending = False)[0:25])\n",
    "print(\"\\n\\n 25 Negative Features:-\\n\",feature_prob_transpose[0].sort_values(ascending = False)[0:25])"
   ]
  },
  {
   "cell_type": "code",
   "execution_count": 70,
   "metadata": {},
   "outputs": [],
   "source": [
    "from sklearn.metrics import confusion_matrix\n",
    "conf_matrix = confusion_matrix(reviews_score_train, pred)"
   ]
  },
  {
   "cell_type": "code",
   "execution_count": 71,
   "metadata": {},
   "outputs": [
    {
     "data": {
      "image/png": "[encoded data removed]",
      "text/plain": [
       "<Figure size 432x288 with 2 Axes>"
      ]
     },
     "metadata": {
      "needs_background": "light"
     },
     "output_type": "display_data"
    }
   ],
   "source": [
    "class_label = [\"negative\", \"positive\"]\n",
    "df_cm = pd.DataFrame(conf_matrix, index = class_label, columns = class_label)\n",
    "sns.heatmap(df_cm, annot = True, fmt = \"d\")\n",
    "plt.title(\"Confusiion Matrix\")\n",
    "plt.xlabel(\"Predicted Label\")\n",
    "plt.ylabel(\"True Label\")\n",
    "plt.show()"
   ]
  },
  {
   "cell_type": "code",
   "execution_count": 72,
   "metadata": {},
   "outputs": [
    {
     "name": "stdout",
     "output_type": "stream",
     "text": [
      "\n",
      "****Test accuracy for alpha = 1 is 91.213333%\n"
     ]
    }
   ],
   "source": [
    "\n",
    "pred = nb.predict(reviews_test_bow)\n",
    "acc = accuracy_score(reviews_score_test, pred, normalize=True) * float(100)\n",
    "print('\\n****Test accuracy for alpha = 1 is %f%%' % (acc))"
   ]
  },
  {
   "cell_type": "code",
   "execution_count": 73,
   "metadata": {},
   "outputs": [],
   "source": [
    "from sklearn.metrics import confusion_matrix\n",
    "conf_matrix = confusion_matrix(reviews_score_test, pred)"
   ]
  },
  {
   "cell_type": "code",
   "execution_count": 74,
   "metadata": {},
   "outputs": [
    {
     "data": {
      "image/png": "[encoded data removed]",
      "text/plain": [
       "<Figure size 432x288 with 2 Axes>"
      ]
     },
     "metadata": {
      "needs_background": "light"
     },
     "output_type": "display_data"
    }
   ],
   "source": [
    "class_label = [\"negative\", \"positive\"]\n",
    "df_cm = pd.DataFrame(conf_matrix, index = class_label, columns = class_label)\n",
    "sns.heatmap(df_cm, annot = True, fmt = \"d\")\n",
    "plt.title(\"Confusiion Matrix\")\n",
    "plt.xlabel(\"Predicted Label\")\n",
    "plt.ylabel(\"True Label\")\n",
    "plt.show()"
   ]
  },
  {
   "cell_type": "code",
   "execution_count": 75,
   "metadata": {},
   "outputs": [
    {
     "name": "stdout",
     "output_type": "stream",
     "text": [
      "confusion matrix  [[ 1946  1719]\n",
      " [  917 25418]]\n",
      "Precision on test set: 0.937\n",
      "Recall on test set: 0.965\n",
      "F1_score on test set: 0.951\n",
      "              precision    recall  f1-score   support\n",
      "\n",
      "           0       0.68      0.53      0.60      3665\n",
      "           1       0.94      0.97      0.95     26335\n",
      "\n",
      "   micro avg       0.91      0.91      0.91     30000\n",
      "   macro avg       0.81      0.75      0.77     30000\n",
      "weighted avg       0.91      0.91      0.91     30000\n",
      "\n"
     ]
    }
   ],
   "source": [
    "from sklearn.metrics import precision_score\n",
    "from sklearn.metrics import recall_score\n",
    "from sklearn.metrics import f1_score\n",
    "from sklearn.metrics import classification_report\n",
    "print (\"confusion matrix \", conf_matrix)\n",
    "print(\"Precision on test set: %0.3f\"%(precision_score(reviews_score_test, pred)))\n",
    "print(\"Recall on test set: %0.3f\"%(recall_score(reviews_score_test, pred)))\n",
    "print(\"F1_score on test set: %0.3f\"%(f1_score(reviews_score_test, pred)))\n",
    "print (classification_report(reviews_score_test, pred))\n"
   ]
  },
  {
   "cell_type": "markdown",
   "metadata": {},
   "source": [
    "Taking reviews from zomato and testing if the models predicts correctly or not  :"
   ]
  },
  {
   "cell_type": "code",
   "execution_count": 76,
   "metadata": {},
   "outputs": [
    {
     "name": "stdout",
     "output_type": "stream",
     "text": [
      "[1]\n"
     ]
    }
   ],
   "source": [
    "\n",
    "# test_string = ['Never Ever Going To Order Food From Burger King Waste Of Money']\n",
    "# test_string = ['goood service']\n",
    "# test_string = [' Food was great.']\n",
    "# test_string = ['Not criticising but i dont know whats too crazy about this place']\n",
    "# test_string = ['A good place to go out with friends and have some amazing burgers, the staff is friendly and the service is quick.']\n",
    "# test_string = ['The Whopper had some taste of Nacho chips and I loved them with the burger.']\n",
    "test_string = ['stink']\n",
    "# test_string = [\"The most delicious grilled chicken with porcini mushroom sauce I've had!! This took my satisfaction upto the highest notches!\"]\n",
    "\n",
    "a = count_vect.transform(test_string)\n",
    "print (nb.predict(a))"
   ]
  },
  {
   "cell_type": "markdown",
   "metadata": {},
   "source": [
    "Observation:\n",
    "- Model works well with unseen data . \n",
    "- Accuracy of 91% on unseen data . \n",
    "- Model is more baised towards positive points as we can conclude from confusion matrix . "
   ]
  },
  {
   "cell_type": "markdown",
   "metadata": {},
   "source": [
    "# TF-IDF :"
   ]
  },
  {
   "cell_type": "code",
   "execution_count": 52,
   "metadata": {},
   "outputs": [],
   "source": [
    "from sklearn.feature_extraction.text import TfidfTransformer\n",
    "from sklearn.feature_extraction.text import TfidfVectorizer\n",
    "tf_idf_vect = TfidfVectorizer(ngram_range=(1,2))\n",
    "reviews_train_tfidf = tf_idf_vect.fit_transform(reviews_train['CleanedText'].values)\n",
    "reviews_cv_tfidf = tf_idf_vect.transform(reviews_cv['CleanedText'].values)\n",
    "reviews_test_tfidf = tf_idf_vect.transform(reviews_test['CleanedText'].values)"
   ]
  },
  {
   "cell_type": "code",
   "execution_count": 77,
   "metadata": {},
   "outputs": [
    {
     "name": "stdout",
     "output_type": "stream",
     "text": [
      "\n",
      "The optimal alpha is 0.010000.\n"
     ]
    }
   ],
   "source": [
    "from sklearn.naive_bayes import MultinomialNB\n",
    "from sklearn.metrics import accuracy_score\n",
    "from sklearn.model_selection import GridSearchCV , TimeSeriesSplit\n",
    "from sklearn.model_selection import cross_val_score\n",
    "\n",
    "alpha_values = [1000,500,100,50,10,5,1,0.5,0.1,0.05,0.01,0.005,0.001,0.0005,0.0001]\n",
    "\n",
    "\n",
    "# empty list that will hold cv scores\n",
    "# cv_scores = []\n",
    "\n",
    "# # perform 10-fold cross validation\n",
    "# for alpha_value in alpha_values:\n",
    "    \n",
    "#     nb = MultinomialNB(alpha=alpha_value)\n",
    "#     scores = cross_val_score(nb, reviews_train_tfidf, reviews_score_train, cv=10, scoring='accuracy')\n",
    "#     cv_scores.append(scores.mean())\n",
    "#     print('\\nCV accuracy for alpha = %f is %f%%' % (alpha_value, scores.mean()*100))\n",
    "# print (cv_scores)\n",
    "# # changing to misclassification error\n",
    "# MSE = [1 - x for x in cv_scores]\n",
    "\n",
    "# # determining best k\n",
    "# optimal_alpha = alpha_values[MSE.index(min(MSE))]\n",
    "# print('\\nThe optimal alpha is %f.' % optimal_alpha)\n",
    "\n",
    "# # plot misclassification error vs k \n",
    "# plt.plot(alpha_values, MSE)\n",
    "\n",
    "# for xy in zip(alpha_values, np.round(MSE,3)):\n",
    "#     plt.annotate('(%s, %s)' % xy, xy=xy, textcoords='data')\n",
    "\n",
    "# plt.xlabel('Alpha value')\n",
    "# plt.ylabel('Misclassification Error')\n",
    "# plt.show()\n",
    "\n",
    "# print(\"the misclassification error for each alpha value is : \", np.round(MSE,3))\n",
    "\n",
    "\n",
    "cv_scores = []\n",
    "\n",
    "for i in alpha_values:\n",
    "    # instantiate learning model (k = 30)\n",
    "    nb = MultinomialNB(alpha=i)\n",
    "\n",
    "    # fitting the model on crossvalidation train\n",
    "    nb.fit(reviews_train_tfidf, reviews_score_train)\n",
    "\n",
    "    # predict the response on the crossvalidation train\n",
    "    pred = nb.predict(reviews_cv_tfidf)\n",
    "\n",
    "    # evaluate CV accuracy\n",
    "    f1 = f1_score(reviews_score_cv, pred) \n",
    "    \n",
    "    cv_scores.append(f1)\n",
    "#     print('\\nCV accuracy for k = %d is %d%%' % (i, acc))\n",
    "\n",
    "MSE = [1 - x for x in cv_scores]\n",
    "optimal_alpha = alpha_values[MSE.index(min(MSE))]\n",
    "print('\\nThe optimal alpha is %f.' % optimal_alpha)\n"
   ]
  },
  {
   "cell_type": "code",
   "execution_count": 79,
   "metadata": {},
   "outputs": [
    {
     "name": "stdout",
     "output_type": "stream",
     "text": [
      "[0.06580049229832263, 0.06580049229832263, 0.06580049229832263, 0.06580049229832263, 0.06580049229832263, 0.06580049229832263, 0.06580049229832263, 0.06580049229832263, 0.06295344041951989, 0.05757498077416057, 0.05206769835929825, 0.052884739713982665, 0.05575595176749448, 0.05693190296107642, 0.05831899540330243]\n",
      "[1000, 500, 100, 50, 10, 5, 1, 0.5, 0.1, 0.05, 0.01, 0.005, 0.001, 0.0005, 0.0001]\n"
     ]
    },
    {
     "data": {
      "image/png": "[encoded data removed]",
      "text/plain": [
       "<Figure size 432x288 with 1 Axes>"
      ]
     },
     "metadata": {
      "needs_background": "light"
     },
     "output_type": "display_data"
    }
   ],
   "source": [
    "plt.xlim(-20,1010)\n",
    "plt.ylim(0.040,0.07)\n",
    "print (MSE)\n",
    "print (alpha_values)\n",
    "plt.xlabel(\"Alpha\",fontsize=15)\n",
    "plt.ylabel(\"Misclassification Error\")\n",
    "plt.title('Misclassification Error v/s Alpha')\n",
    "plt.plot(alpha_values,MSE,'b',label=\"L1\")\n",
    "plt.legend()\n",
    "plt.show()"
   ]
  },
  {
   "cell_type": "code",
   "execution_count": 80,
   "metadata": {},
   "outputs": [
    {
     "name": "stdout",
     "output_type": "stream",
     "text": [
      "\n",
      "The accuracy of the naive bayes for alpha = 0.010000 is 99.924490%\n"
     ]
    }
   ],
   "source": [
    "nb = MultinomialNB(alpha = optimal_alpha)\n",
    "\n",
    "# fitting the model\n",
    "nb.fit(reviews_train_tfidf , reviews_score_train)\n",
    "\n",
    "# predict the response\n",
    "pred = nb.predict(reviews_train_tfidf)\n",
    "\n",
    "# evaluate accuracy\n",
    "acc = accuracy_score(reviews_score_train, pred) * 100\n",
    "print('\\nThe accuracy of the naive bayes for alpha = %f is %f%%' % (optimal_alpha, acc))"
   ]
  },
  {
   "cell_type": "code",
   "execution_count": 81,
   "metadata": {},
   "outputs": [
    {
     "name": "stdout",
     "output_type": "stream",
     "text": [
      "727815\n",
      "(2, 727815)\n"
     ]
    }
   ],
   "source": [
    "log_prob_reviews = nb.feature_log_prob_\n",
    "bow_features = tf_idf_vect.get_feature_names()\n",
    "print (len(bow_features))\n",
    "print (log_prob_reviews.shape)"
   ]
  },
  {
   "cell_type": "code",
   "execution_count": 82,
   "metadata": {},
   "outputs": [
    {
     "name": "stdout",
     "output_type": "stream",
     "text": [
      "\n",
      "\n",
      "  25 Positive Features:-\n",
      " like      -4.469416\n",
      "tast      -4.514218\n",
      "good      -4.647096\n",
      "flavor    -4.673237\n",
      "great     -4.691812\n",
      "tea       -4.708345\n",
      "love      -4.730319\n",
      "use       -4.757726\n",
      "one       -4.804626\n",
      "product   -4.862906\n",
      "tri       -4.929346\n",
      "make      -5.020305\n",
      "get       -5.144885\n",
      "coffe     -5.200496\n",
      "best      -5.383024\n",
      "time      -5.397491\n",
      "eat       -5.401703\n",
      "food      -5.403675\n",
      "buy       -5.424618\n",
      "amazon    -5.425482\n",
      "find      -5.440873\n",
      "realli    -5.458291\n",
      "would     -5.481488\n",
      "also      -5.498859\n",
      "dont      -5.572025\n",
      "Name: 1, dtype: float64\n",
      "\n",
      "\n",
      " 25 Negative Features:-\n",
      " tast      -4.328971\n",
      "like      -4.408149\n",
      "product   -4.476942\n",
      "one       -4.803368\n",
      "flavor    -4.898075\n",
      "tri       -4.995936\n",
      "would     -4.999313\n",
      "good      -5.098180\n",
      "use       -5.165752\n",
      "tea       -5.192744\n",
      "buy       -5.233937\n",
      "order     -5.256280\n",
      "get       -5.284367\n",
      "coffe     -5.378629\n",
      "food      -5.410431\n",
      "dont      -5.422407\n",
      "box       -5.429315\n",
      "even      -5.499299\n",
      "amazon    -5.511454\n",
      "make      -5.549810\n",
      "eat       -5.573550\n",
      "much      -5.588679\n",
      "time      -5.660288\n",
      "realli    -5.662474\n",
      "bag       -5.666860\n",
      "Name: 0, dtype: float64\n"
     ]
    }
   ],
   "source": [
    "print(\"\\n\\n  25 Positive Features:-\\n\",feature_prob_transpose[1].sort_values(ascending = False)[0:25])\n",
    "print(\"\\n\\n 25 Negative Features:-\\n\",feature_prob_transpose[0].sort_values(ascending = False)[0:25])"
   ]
  },
  {
   "cell_type": "code",
   "execution_count": 83,
   "metadata": {},
   "outputs": [
    {
     "name": "stdout",
     "output_type": "stream",
     "text": [
      "[[ 5985    28]\n",
      " [    9 42978]]\n"
     ]
    }
   ],
   "source": [
    "from sklearn.metrics import confusion_matrix\n",
    "conf_matrix = confusion_matrix(reviews_score_train, pred)\n",
    "print (conf_matrix)"
   ]
  },
  {
   "cell_type": "code",
   "execution_count": 84,
   "metadata": {},
   "outputs": [
    {
     "data": {
      "image/png": "[encoded data removed]",
      "text/plain": [
       "<Figure size 432x288 with 2 Axes>"
      ]
     },
     "metadata": {
      "needs_background": "light"
     },
     "output_type": "display_data"
    }
   ],
   "source": [
    "class_label = [\"negative\", \"positive\"]\n",
    "df_cm = pd.DataFrame(conf_matrix, index = class_label, columns = class_label)\n",
    "sns.heatmap(df_cm, annot = True, fmt = \"d\")\n",
    "plt.title(\"Confusiion Matrix\")\n",
    "plt.xlabel(\"Predicted Label\")\n",
    "plt.ylabel(\"True Label\")\n",
    "plt.show()"
   ]
  },
  {
   "cell_type": "code",
   "execution_count": 85,
   "metadata": {},
   "outputs": [
    {
     "name": "stdout",
     "output_type": "stream",
     "text": [
      "\n",
      "****Test accuracy for alpha = 0.01 is 90.460000%\n"
     ]
    }
   ],
   "source": [
    "pred = nb.predict(reviews_test_tfidf)\n",
    "acc = accuracy_score(reviews_score_test, pred, normalize=True) * float(100)\n",
    "print('\\n****Test accuracy for alpha = 0.01 is %f%%' % (acc))"
   ]
  },
  {
   "cell_type": "code",
   "execution_count": 86,
   "metadata": {},
   "outputs": [
    {
     "name": "stdout",
     "output_type": "stream",
     "text": [
      "[[  967  2698]\n",
      " [  164 26171]]\n"
     ]
    }
   ],
   "source": [
    "from sklearn.metrics import confusion_matrix\n",
    "conf_matrix = confusion_matrix(reviews_score_test, pred)\n",
    "print (conf_matrix)"
   ]
  },
  {
   "cell_type": "code",
   "execution_count": 87,
   "metadata": {},
   "outputs": [
    {
     "data": {
      "image/png": "[encoded data removed]",
      "text/plain": [
       "<Figure size 432x288 with 2 Axes>"
      ]
     },
     "metadata": {
      "needs_background": "light"
     },
     "output_type": "display_data"
    }
   ],
   "source": [
    "class_label = [\"negative\", \"positive\"]\n",
    "df_cm = pd.DataFrame(conf_matrix, index = class_label, columns = class_label)\n",
    "sns.heatmap(df_cm, annot = True, fmt = \"d\")\n",
    "plt.title(\"Confusiion Matrix\")\n",
    "plt.xlabel(\"Predicted Label\")\n",
    "plt.ylabel(\"True Label\")\n",
    "plt.show()"
   ]
  },
  {
   "cell_type": "code",
   "execution_count": 88,
   "metadata": {},
   "outputs": [
    {
     "name": "stdout",
     "output_type": "stream",
     "text": [
      "confusion matrix  [[  967  2698]\n",
      " [  164 26171]]\n",
      "Precision on test set: 0.907\n",
      "Recall on test set: 0.994\n",
      "F1_score on test set: 0.948\n",
      "              precision    recall  f1-score   support\n",
      "\n",
      "           0       0.85      0.26      0.40      3665\n",
      "           1       0.91      0.99      0.95     26335\n",
      "\n",
      "   micro avg       0.90      0.90      0.90     30000\n",
      "   macro avg       0.88      0.63      0.68     30000\n",
      "weighted avg       0.90      0.90      0.88     30000\n",
      "\n"
     ]
    }
   ],
   "source": [
    "from sklearn.metrics import precision_score\n",
    "from sklearn.metrics import recall_score\n",
    "from sklearn.metrics import f1_score\n",
    "from sklearn.metrics import classification_report\n",
    "print (\"confusion matrix \", conf_matrix)\n",
    "print(\"Precision on test set: %0.3f\"%(precision_score(reviews_score_test, pred)))\n",
    "print(\"Recall on test set: %0.3f\"%(recall_score(reviews_score_test, pred)))\n",
    "print(\"F1_score on test set: %0.3f\"%(f1_score(reviews_score_test, pred)))\n",
    "print (classification_report(reviews_score_test, pred))"
   ]
  },
  {
   "cell_type": "markdown",
   "metadata": {},
   "source": [
    "Observation :\n",
    "\n",
    "- Model is more baised towards positive points as we can conclude from confusion matrix . \n",
    "- Accuracy of 90% on unseen dataset . \n",
    "\n",
    "Conclusion :\n",
    " - Need more data with negative points so that model can be trained properly . \n",
    " - We can use Naive Bayes for text classification like spam filtering etc .\n",
    " - Tf-idf classifies better than BoW . \n",
    " - We can't apply Naive Bayes on W2V as it trys to find relationship of the features . And NB can be applied on independent features ."
   ]
  },
  {
   "cell_type": "code",
   "execution_count": 89,
   "metadata": {},
   "outputs": [
    {
     "data": {
      "text/html": [
       "<div>\n",
       "<style scoped>\n",
       "    .dataframe tbody tr th:only-of-type {\n",
       "        vertical-align: middle;\n",
       "    }\n",
       "\n",
       "    .dataframe tbody tr th {\n",
       "        vertical-align: top;\n",
       "    }\n",
       "\n",
       "    .dataframe thead th {\n",
       "        text-align: right;\n",
       "    }\n",
       "</style>\n",
       "<table border=\"1\" class=\"dataframe\">\n",
       "  <thead>\n",
       "    <tr style=\"text-align: right;\">\n",
       "      <th></th>\n",
       "      <th>Model</th>\n",
       "      <th>Alpha</th>\n",
       "      <th>Train Error</th>\n",
       "      <th>Test Error</th>\n",
       "      <th>Accuracy</th>\n",
       "    </tr>\n",
       "  </thead>\n",
       "  <tbody>\n",
       "    <tr>\n",
       "      <th>0</th>\n",
       "      <td>Naive Bayes with Bow</td>\n",
       "      <td>1.00</td>\n",
       "      <td>0.0728</td>\n",
       "      <td>0.0870</td>\n",
       "      <td>91.2</td>\n",
       "    </tr>\n",
       "    <tr>\n",
       "      <th>1</th>\n",
       "      <td>Naive Bayes with TFIDF</td>\n",
       "      <td>0.01</td>\n",
       "      <td>0.0008</td>\n",
       "      <td>0.0954</td>\n",
       "      <td>90.4</td>\n",
       "    </tr>\n",
       "  </tbody>\n",
       "</table>\n",
       "</div>"
      ],
      "text/plain": [
       "                    Model  Alpha  Train Error  Test Error  Accuracy\n",
       "0    Naive Bayes with Bow   1.00       0.0728      0.0870      91.2\n",
       "1  Naive Bayes with TFIDF   0.01       0.0008      0.0954      90.4"
      ]
     },
     "execution_count": 89,
     "metadata": {},
     "output_type": "execute_result"
    }
   ],
   "source": [
    "models = pd.DataFrame({'Model': ['Naive Bayes with Bow', \"Naive Bayes with TFIDF\"], 'Alpha': [1, 0.01], 'Train Error': [0.0728,0.0008], 'Test Error': [0.087, 0.0954], 'Accuracy': [91.2, 90.4]}, columns = [\"Model\", \"Alpha\", \"Train Error\", \"Test Error\", \"Accuracy\"])\n",
    "models.sort_values(by='Accuracy', ascending=False)"
   ]
  },
  {
   "cell_type": "code",
   "execution_count": null,
   "metadata": {},
   "outputs": [],
   "source": []
  }
 ],
 "metadata": {
  "kernelspec": {
   "display_name": "Python 3",
   "language": "python",
   "name": "python3"
  },
  "language_info": {
   "codemirror_mode": {
    "name": "ipython",
    "version": 3
   },
   "file_extension": ".py",
   "mimetype": "text/x-python",
   "name": "python",
   "nbconvert_exporter": "python",
   "pygments_lexer": "ipython3",
   "version": "3.6.7"
  }
 },
 "nbformat": 4,
 "nbformat_minor": 2
}
